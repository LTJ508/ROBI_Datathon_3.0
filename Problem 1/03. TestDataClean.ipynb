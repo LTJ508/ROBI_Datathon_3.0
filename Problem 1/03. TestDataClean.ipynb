{
 "cells": [
  {
   "cell_type": "code",
   "execution_count": 1,
   "id": "818c29b3-867f-42e6-9a09-9bf05527fd2f",
   "metadata": {},
   "outputs": [],
   "source": [
    "import pandas as pd"
   ]
  },
  {
   "cell_type": "code",
   "execution_count": 2,
   "id": "35b57709-7764-4925-ac52-394f53a844a0",
   "metadata": {},
   "outputs": [],
   "source": [
    "test_df = pd.read_csv('Datasets/test_df.csv')\n",
    "train_df = pd.read_csv('Datasets/train_df.csv')"
   ]
  },
  {
   "cell_type": "code",
   "execution_count": 3,
   "id": "123b8685-5eb6-4c49-b8c2-3d878d41dc0c",
   "metadata": {},
   "outputs": [
    {
     "data": {
      "text/plain": [
       "1867906"
      ]
     },
     "execution_count": 3,
     "metadata": {},
     "output_type": "execute_result"
    }
   ],
   "source": [
    "len(train_df)"
   ]
  },
  {
   "cell_type": "code",
   "execution_count": 4,
   "id": "bec8088c-731c-42be-adb0-9fdab5608968",
   "metadata": {},
   "outputs": [
    {
     "data": {
      "text/plain": [
       "587817"
      ]
     },
     "execution_count": 4,
     "metadata": {},
     "output_type": "execute_result"
    }
   ],
   "source": [
    "len(test_df)"
   ]
  },
  {
   "cell_type": "code",
   "execution_count": 5,
   "id": "82440cf9-d7d8-4594-8329-60546c0e02f2",
   "metadata": {},
   "outputs": [
    {
     "data": {
      "text/plain": [
       "1048936"
      ]
     },
     "execution_count": 5,
     "metadata": {},
     "output_type": "execute_result"
    }
   ],
   "source": [
    "train_df['MAGIC_KEY'].nunique()"
   ]
  },
  {
   "cell_type": "code",
   "execution_count": 6,
   "id": "49a849b7-07ea-483b-a2c2-632f334b1318",
   "metadata": {},
   "outputs": [
    {
     "data": {
      "text/plain": [
       "558654"
      ]
     },
     "execution_count": 6,
     "metadata": {},
     "output_type": "execute_result"
    }
   ],
   "source": [
    "test_df['MAGIC_KEY'].nunique()"
   ]
  },
  {
   "cell_type": "code",
   "execution_count": 8,
   "id": "51268ad4-de52-4746-8dff-d058eb3f22d9",
   "metadata": {},
   "outputs": [],
   "source": [
    "new_train_df = train_df.groupby('MAGIC_KEY')['PURCHASE'].apply(lambda x: 1 if (x == 'Y').any() else 0).reset_index()"
   ]
  },
  {
   "cell_type": "code",
   "execution_count": 9,
   "id": "d85a336b-45cd-426f-bd8d-f5083d6e79c1",
   "metadata": {},
   "outputs": [],
   "source": [
    "new_test_df = test_df.groupby('MAGIC_KEY')['PURCHASE'].apply(lambda x: 1 if (x == 'Y').any() else 0).reset_index()"
   ]
  },
  {
   "cell_type": "code",
   "execution_count": 10,
   "id": "9df946d8-da87-4d4b-bf99-076ea415414a",
   "metadata": {},
   "outputs": [
    {
     "data": {
      "text/plain": [
       "1048936"
      ]
     },
     "execution_count": 10,
     "metadata": {},
     "output_type": "execute_result"
    }
   ],
   "source": [
    "len(new_train_df)"
   ]
  },
  {
   "cell_type": "code",
   "execution_count": 11,
   "id": "3192aff0-e1a7-4c8c-80c7-88d581acb4fd",
   "metadata": {},
   "outputs": [
    {
     "data": {
      "text/plain": [
       "558654"
      ]
     },
     "execution_count": 11,
     "metadata": {},
     "output_type": "execute_result"
    }
   ],
   "source": [
    "len(new_test_df)"
   ]
  },
  {
   "cell_type": "code",
   "execution_count": 13,
   "id": "05a71e0f-23a8-46fb-9799-85aa1d16b753",
   "metadata": {},
   "outputs": [],
   "source": [
    "merged_df = pd.merge(new_test_df, new_train_df, on='MAGIC_KEY', how='inner')"
   ]
  },
  {
   "cell_type": "code",
   "execution_count": 14,
   "id": "3914b579-b0be-45fe-b870-62fff2d8492c",
   "metadata": {},
   "outputs": [
    {
     "data": {
      "text/plain": [
       "333503"
      ]
     },
     "execution_count": 14,
     "metadata": {},
     "output_type": "execute_result"
    }
   ],
   "source": [
    "len(merged_df)"
   ]
  },
  {
   "cell_type": "code",
   "execution_count": 15,
   "id": "6236880f-8f92-4714-8be5-54aaea216fd6",
   "metadata": {},
   "outputs": [
    {
     "data": {
      "text/html": [
       "<div>\n",
       "<style scoped>\n",
       "    .dataframe tbody tr th:only-of-type {\n",
       "        vertical-align: middle;\n",
       "    }\n",
       "\n",
       "    .dataframe tbody tr th {\n",
       "        vertical-align: top;\n",
       "    }\n",
       "\n",
       "    .dataframe thead th {\n",
       "        text-align: right;\n",
       "    }\n",
       "</style>\n",
       "<table border=\"1\" class=\"dataframe\">\n",
       "  <thead>\n",
       "    <tr style=\"text-align: right;\">\n",
       "      <th></th>\n",
       "      <th>MAGIC_KEY</th>\n",
       "      <th>PURCHASE_x</th>\n",
       "      <th>PURCHASE_y</th>\n",
       "    </tr>\n",
       "  </thead>\n",
       "  <tbody>\n",
       "    <tr>\n",
       "      <th>0</th>\n",
       "      <td>249670911D8</td>\n",
       "      <td>1</td>\n",
       "      <td>1</td>\n",
       "    </tr>\n",
       "    <tr>\n",
       "      <th>1</th>\n",
       "      <td>2497E36D1BF</td>\n",
       "      <td>1</td>\n",
       "      <td>1</td>\n",
       "    </tr>\n",
       "    <tr>\n",
       "      <th>2</th>\n",
       "      <td>2498CA210F2</td>\n",
       "      <td>1</td>\n",
       "      <td>1</td>\n",
       "    </tr>\n",
       "    <tr>\n",
       "      <th>3</th>\n",
       "      <td>249BD4201E6</td>\n",
       "      <td>1</td>\n",
       "      <td>1</td>\n",
       "    </tr>\n",
       "    <tr>\n",
       "      <th>4</th>\n",
       "      <td>249C911B64A</td>\n",
       "      <td>0</td>\n",
       "      <td>1</td>\n",
       "    </tr>\n",
       "    <tr>\n",
       "      <th>...</th>\n",
       "      <td>...</td>\n",
       "      <td>...</td>\n",
       "      <td>...</td>\n",
       "    </tr>\n",
       "    <tr>\n",
       "      <th>333498</th>\n",
       "      <td>2E6EA6209A6</td>\n",
       "      <td>1</td>\n",
       "      <td>1</td>\n",
       "    </tr>\n",
       "    <tr>\n",
       "      <th>333499</th>\n",
       "      <td>2E6EC555AF6</td>\n",
       "      <td>1</td>\n",
       "      <td>1</td>\n",
       "    </tr>\n",
       "    <tr>\n",
       "      <th>333500</th>\n",
       "      <td>2E6F53ECC13</td>\n",
       "      <td>0</td>\n",
       "      <td>0</td>\n",
       "    </tr>\n",
       "    <tr>\n",
       "      <th>333501</th>\n",
       "      <td>2E6F72C6F1C</td>\n",
       "      <td>1</td>\n",
       "      <td>0</td>\n",
       "    </tr>\n",
       "    <tr>\n",
       "      <th>333502</th>\n",
       "      <td>2E6FB0EBB32</td>\n",
       "      <td>1</td>\n",
       "      <td>1</td>\n",
       "    </tr>\n",
       "  </tbody>\n",
       "</table>\n",
       "<p>333503 rows × 3 columns</p>\n",
       "</div>"
      ],
      "text/plain": [
       "          MAGIC_KEY  PURCHASE_x  PURCHASE_y\n",
       "0       249670911D8           1           1\n",
       "1       2497E36D1BF           1           1\n",
       "2       2498CA210F2           1           1\n",
       "3       249BD4201E6           1           1\n",
       "4       249C911B64A           0           1\n",
       "...             ...         ...         ...\n",
       "333498  2E6EA6209A6           1           1\n",
       "333499  2E6EC555AF6           1           1\n",
       "333500  2E6F53ECC13           0           0\n",
       "333501  2E6F72C6F1C           1           0\n",
       "333502  2E6FB0EBB32           1           1\n",
       "\n",
       "[333503 rows x 3 columns]"
      ]
     },
     "execution_count": 15,
     "metadata": {},
     "output_type": "execute_result"
    }
   ],
   "source": [
    "merged_df"
   ]
  },
  {
   "cell_type": "code",
   "execution_count": 20,
   "id": "061b0371-ccd9-4711-b3bf-2ed04a3dd0c1",
   "metadata": {},
   "outputs": [
    {
     "data": {
      "text/html": [
       "<div>\n",
       "<style scoped>\n",
       "    .dataframe tbody tr th:only-of-type {\n",
       "        vertical-align: middle;\n",
       "    }\n",
       "\n",
       "    .dataframe tbody tr th {\n",
       "        vertical-align: top;\n",
       "    }\n",
       "\n",
       "    .dataframe thead th {\n",
       "        text-align: right;\n",
       "    }\n",
       "</style>\n",
       "<table border=\"1\" class=\"dataframe\">\n",
       "  <thead>\n",
       "    <tr style=\"text-align: right;\">\n",
       "      <th></th>\n",
       "      <th>MAGIC_KEY</th>\n",
       "      <th>PURCHASE</th>\n",
       "    </tr>\n",
       "  </thead>\n",
       "  <tbody>\n",
       "    <tr>\n",
       "      <th>558649</th>\n",
       "      <td>2E6F53ECC13</td>\n",
       "      <td>0</td>\n",
       "    </tr>\n",
       "  </tbody>\n",
       "</table>\n",
       "</div>"
      ],
      "text/plain": [
       "          MAGIC_KEY  PURCHASE\n",
       "558649  2E6F53ECC13         0"
      ]
     },
     "execution_count": 20,
     "metadata": {},
     "output_type": "execute_result"
    }
   ],
   "source": [
    "new_test_df.loc[(new_test_df.MAGIC_KEY == '2E6F53ECC13')]"
   ]
  },
  {
   "cell_type": "code",
   "execution_count": 21,
   "id": "c92d169f-cc50-427e-a22c-deb2dd848d86",
   "metadata": {},
   "outputs": [],
   "source": [
    "merged_df = merged_df.drop(columns=['PURCHASE_y'])"
   ]
  },
  {
   "cell_type": "code",
   "execution_count": 22,
   "id": "75cb4a78-7c64-433b-b77d-97a4d56e2245",
   "metadata": {},
   "outputs": [
    {
     "data": {
      "text/html": [
       "<div>\n",
       "<style scoped>\n",
       "    .dataframe tbody tr th:only-of-type {\n",
       "        vertical-align: middle;\n",
       "    }\n",
       "\n",
       "    .dataframe tbody tr th {\n",
       "        vertical-align: top;\n",
       "    }\n",
       "\n",
       "    .dataframe thead th {\n",
       "        text-align: right;\n",
       "    }\n",
       "</style>\n",
       "<table border=\"1\" class=\"dataframe\">\n",
       "  <thead>\n",
       "    <tr style=\"text-align: right;\">\n",
       "      <th></th>\n",
       "      <th>MAGIC_KEY</th>\n",
       "      <th>PURCHASE_x</th>\n",
       "    </tr>\n",
       "  </thead>\n",
       "  <tbody>\n",
       "    <tr>\n",
       "      <th>0</th>\n",
       "      <td>249670911D8</td>\n",
       "      <td>1</td>\n",
       "    </tr>\n",
       "    <tr>\n",
       "      <th>1</th>\n",
       "      <td>2497E36D1BF</td>\n",
       "      <td>1</td>\n",
       "    </tr>\n",
       "    <tr>\n",
       "      <th>2</th>\n",
       "      <td>2498CA210F2</td>\n",
       "      <td>1</td>\n",
       "    </tr>\n",
       "    <tr>\n",
       "      <th>3</th>\n",
       "      <td>249BD4201E6</td>\n",
       "      <td>1</td>\n",
       "    </tr>\n",
       "    <tr>\n",
       "      <th>4</th>\n",
       "      <td>249C911B64A</td>\n",
       "      <td>0</td>\n",
       "    </tr>\n",
       "    <tr>\n",
       "      <th>...</th>\n",
       "      <td>...</td>\n",
       "      <td>...</td>\n",
       "    </tr>\n",
       "    <tr>\n",
       "      <th>333498</th>\n",
       "      <td>2E6EA6209A6</td>\n",
       "      <td>1</td>\n",
       "    </tr>\n",
       "    <tr>\n",
       "      <th>333499</th>\n",
       "      <td>2E6EC555AF6</td>\n",
       "      <td>1</td>\n",
       "    </tr>\n",
       "    <tr>\n",
       "      <th>333500</th>\n",
       "      <td>2E6F53ECC13</td>\n",
       "      <td>0</td>\n",
       "    </tr>\n",
       "    <tr>\n",
       "      <th>333501</th>\n",
       "      <td>2E6F72C6F1C</td>\n",
       "      <td>1</td>\n",
       "    </tr>\n",
       "    <tr>\n",
       "      <th>333502</th>\n",
       "      <td>2E6FB0EBB32</td>\n",
       "      <td>1</td>\n",
       "    </tr>\n",
       "  </tbody>\n",
       "</table>\n",
       "<p>333503 rows × 2 columns</p>\n",
       "</div>"
      ],
      "text/plain": [
       "          MAGIC_KEY  PURCHASE_x\n",
       "0       249670911D8           1\n",
       "1       2497E36D1BF           1\n",
       "2       2498CA210F2           1\n",
       "3       249BD4201E6           1\n",
       "4       249C911B64A           0\n",
       "...             ...         ...\n",
       "333498  2E6EA6209A6           1\n",
       "333499  2E6EC555AF6           1\n",
       "333500  2E6F53ECC13           0\n",
       "333501  2E6F72C6F1C           1\n",
       "333502  2E6FB0EBB32           1\n",
       "\n",
       "[333503 rows x 2 columns]"
      ]
     },
     "execution_count": 22,
     "metadata": {},
     "output_type": "execute_result"
    }
   ],
   "source": [
    "merged_df"
   ]
  },
  {
   "cell_type": "code",
   "execution_count": 23,
   "id": "d74a90da-ed9a-4233-893d-2a26c623be77",
   "metadata": {},
   "outputs": [],
   "source": [
    "merged_df = merged_df.rename(columns={'PURCHASE_x': 'PURCHASE'})"
   ]
  },
  {
   "cell_type": "code",
   "execution_count": 24,
   "id": "c9fdb381-295a-466f-a3ad-cfe034f5a3fe",
   "metadata": {},
   "outputs": [
    {
     "data": {
      "text/html": [
       "<div>\n",
       "<style scoped>\n",
       "    .dataframe tbody tr th:only-of-type {\n",
       "        vertical-align: middle;\n",
       "    }\n",
       "\n",
       "    .dataframe tbody tr th {\n",
       "        vertical-align: top;\n",
       "    }\n",
       "\n",
       "    .dataframe thead th {\n",
       "        text-align: right;\n",
       "    }\n",
       "</style>\n",
       "<table border=\"1\" class=\"dataframe\">\n",
       "  <thead>\n",
       "    <tr style=\"text-align: right;\">\n",
       "      <th></th>\n",
       "      <th>MAGIC_KEY</th>\n",
       "      <th>PURCHASE</th>\n",
       "    </tr>\n",
       "  </thead>\n",
       "  <tbody>\n",
       "    <tr>\n",
       "      <th>0</th>\n",
       "      <td>249670911D8</td>\n",
       "      <td>1</td>\n",
       "    </tr>\n",
       "    <tr>\n",
       "      <th>1</th>\n",
       "      <td>2497E36D1BF</td>\n",
       "      <td>1</td>\n",
       "    </tr>\n",
       "    <tr>\n",
       "      <th>2</th>\n",
       "      <td>2498CA210F2</td>\n",
       "      <td>1</td>\n",
       "    </tr>\n",
       "    <tr>\n",
       "      <th>3</th>\n",
       "      <td>249BD4201E6</td>\n",
       "      <td>1</td>\n",
       "    </tr>\n",
       "    <tr>\n",
       "      <th>4</th>\n",
       "      <td>249C911B64A</td>\n",
       "      <td>0</td>\n",
       "    </tr>\n",
       "    <tr>\n",
       "      <th>...</th>\n",
       "      <td>...</td>\n",
       "      <td>...</td>\n",
       "    </tr>\n",
       "    <tr>\n",
       "      <th>333498</th>\n",
       "      <td>2E6EA6209A6</td>\n",
       "      <td>1</td>\n",
       "    </tr>\n",
       "    <tr>\n",
       "      <th>333499</th>\n",
       "      <td>2E6EC555AF6</td>\n",
       "      <td>1</td>\n",
       "    </tr>\n",
       "    <tr>\n",
       "      <th>333500</th>\n",
       "      <td>2E6F53ECC13</td>\n",
       "      <td>0</td>\n",
       "    </tr>\n",
       "    <tr>\n",
       "      <th>333501</th>\n",
       "      <td>2E6F72C6F1C</td>\n",
       "      <td>1</td>\n",
       "    </tr>\n",
       "    <tr>\n",
       "      <th>333502</th>\n",
       "      <td>2E6FB0EBB32</td>\n",
       "      <td>1</td>\n",
       "    </tr>\n",
       "  </tbody>\n",
       "</table>\n",
       "<p>333503 rows × 2 columns</p>\n",
       "</div>"
      ],
      "text/plain": [
       "          MAGIC_KEY  PURCHASE\n",
       "0       249670911D8         1\n",
       "1       2497E36D1BF         1\n",
       "2       2498CA210F2         1\n",
       "3       249BD4201E6         1\n",
       "4       249C911B64A         0\n",
       "...             ...       ...\n",
       "333498  2E6EA6209A6         1\n",
       "333499  2E6EC555AF6         1\n",
       "333500  2E6F53ECC13         0\n",
       "333501  2E6F72C6F1C         1\n",
       "333502  2E6FB0EBB32         1\n",
       "\n",
       "[333503 rows x 2 columns]"
      ]
     },
     "execution_count": 24,
     "metadata": {},
     "output_type": "execute_result"
    }
   ],
   "source": [
    "merged_df"
   ]
  },
  {
   "cell_type": "code",
   "execution_count": 25,
   "id": "b3f5befa-133c-4559-82c2-03a71efdf0d6",
   "metadata": {},
   "outputs": [],
   "source": [
    "merged_df.to_csv(\"test.csv\", index=False)  # Save test data"
   ]
  },
  {
   "cell_type": "code",
   "execution_count": null,
   "id": "f41820ff-3515-46ce-ae12-b123930133b3",
   "metadata": {},
   "outputs": [],
   "source": []
  }
 ],
 "metadata": {
  "kernelspec": {
   "display_name": "Python 3 (ipykernel)",
   "language": "python",
   "name": "python3"
  },
  "language_info": {
   "codemirror_mode": {
    "name": "ipython",
    "version": 3
   },
   "file_extension": ".py",
   "mimetype": "text/x-python",
   "name": "python",
   "nbconvert_exporter": "python",
   "pygments_lexer": "ipython3",
   "version": "3.12.1"
  }
 },
 "nbformat": 4,
 "nbformat_minor": 5
}
