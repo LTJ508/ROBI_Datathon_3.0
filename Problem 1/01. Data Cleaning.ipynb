{
 "cells": [
  {
   "cell_type": "code",
   "execution_count": 1,
   "id": "fcf4c118-eed2-4cc3-a23f-8261ffed8af8",
   "metadata": {},
   "outputs": [],
   "source": [
    "import pandas as pd #importing pandas library as pd, like creating an instance of pandas\n",
    "import matplotlib.pyplot as plt\n",
    "%matplotlib inline"
   ]
  },
  {
   "cell_type": "code",
   "execution_count": 2,
   "id": "77a51674-aa66-42ab-83f5-1d0eaaa69ccf",
   "metadata": {},
   "outputs": [],
   "source": [
    "df_boxes = pd.read_csv('../Common Datasets/boxes.csv') #importing box details datasets\n",
    "df_problem1 = pd.read_csv('Datasets/problem 1.csv') #importing predict datasets\n",
    "df_purchase = pd.read_csv('../Common Datasets/purchase.csv') #importing history datasets"
   ]
  },
  {
   "cell_type": "markdown",
   "id": "312e02dd-0e3e-4e73-b397-247e00bdd41d",
   "metadata": {},
   "source": [
    "# <font color=\"red\">First checking the boxes datasets, is it clean or not</font>"
   ]
  },
  {
   "cell_type": "code",
   "execution_count": 3,
   "id": "b4796caa-0635-46f5-b784-43493f6f8d15",
   "metadata": {},
   "outputs": [
    {
     "data": {
      "text/html": [
       "<div>\n",
       "<style scoped>\n",
       "    .dataframe tbody tr th:only-of-type {\n",
       "        vertical-align: middle;\n",
       "    }\n",
       "\n",
       "    .dataframe tbody tr th {\n",
       "        vertical-align: top;\n",
       "    }\n",
       "\n",
       "    .dataframe thead th {\n",
       "        text-align: right;\n",
       "    }\n",
       "</style>\n",
       "<table border=\"1\" class=\"dataframe\">\n",
       "  <thead>\n",
       "    <tr style=\"text-align: right;\">\n",
       "      <th></th>\n",
       "      <th>BOX_ID</th>\n",
       "      <th>QUALITY</th>\n",
       "      <th>DELIVERY_OPTION</th>\n",
       "      <th>MILK</th>\n",
       "      <th>MEAT</th>\n",
       "      <th>UNIT_PRICE</th>\n",
       "    </tr>\n",
       "  </thead>\n",
       "  <tbody>\n",
       "    <tr>\n",
       "      <th>0</th>\n",
       "      <td>1</td>\n",
       "      <td>Premium</td>\n",
       "      <td>Home Delivery - CoD</td>\n",
       "      <td>0.0</td>\n",
       "      <td>2.7</td>\n",
       "      <td>9.96</td>\n",
       "    </tr>\n",
       "    <tr>\n",
       "      <th>1</th>\n",
       "      <td>2</td>\n",
       "      <td>Premium</td>\n",
       "      <td>Home Delivery - CoD</td>\n",
       "      <td>0.0</td>\n",
       "      <td>2.3</td>\n",
       "      <td>11.96</td>\n",
       "    </tr>\n",
       "    <tr>\n",
       "      <th>2</th>\n",
       "      <td>3</td>\n",
       "      <td>Premium</td>\n",
       "      <td>Home Delivery - CoD</td>\n",
       "      <td>0.0</td>\n",
       "      <td>2.4</td>\n",
       "      <td>11.96</td>\n",
       "    </tr>\n",
       "    <tr>\n",
       "      <th>3</th>\n",
       "      <td>4</td>\n",
       "      <td>Premium</td>\n",
       "      <td>Home Delivery - CoD</td>\n",
       "      <td>0.0</td>\n",
       "      <td>2.5</td>\n",
       "      <td>11.96</td>\n",
       "    </tr>\n",
       "    <tr>\n",
       "      <th>4</th>\n",
       "      <td>5</td>\n",
       "      <td>Premium</td>\n",
       "      <td>Home Delivery - CoD</td>\n",
       "      <td>0.0</td>\n",
       "      <td>2.6</td>\n",
       "      <td>11.96</td>\n",
       "    </tr>\n",
       "  </tbody>\n",
       "</table>\n",
       "</div>"
      ],
      "text/plain": [
       "   BOX_ID  QUALITY      DELIVERY_OPTION  MILK  MEAT  UNIT_PRICE\n",
       "0       1  Premium  Home Delivery - CoD   0.0   2.7        9.96\n",
       "1       2  Premium  Home Delivery - CoD   0.0   2.3       11.96\n",
       "2       3  Premium  Home Delivery - CoD   0.0   2.4       11.96\n",
       "3       4  Premium  Home Delivery - CoD   0.0   2.5       11.96\n",
       "4       5  Premium  Home Delivery - CoD   0.0   2.6       11.96"
      ]
     },
     "execution_count": 3,
     "metadata": {},
     "output_type": "execute_result"
    }
   ],
   "source": [
    "df_boxes.head() #checking collumn and head of datasets"
   ]
  },
  {
   "cell_type": "code",
   "execution_count": 4,
   "id": "c7878212-cb15-4655-9517-12afd3db3deb",
   "metadata": {},
   "outputs": [
    {
     "name": "stdout",
     "output_type": "stream",
     "text": [
      "<class 'pandas.core.frame.DataFrame'>\n",
      "RangeIndex: 290 entries, 0 to 289\n",
      "Data columns (total 6 columns):\n",
      " #   Column           Non-Null Count  Dtype  \n",
      "---  ------           --------------  -----  \n",
      " 0   BOX_ID           290 non-null    int64  \n",
      " 1   QUALITY          290 non-null    object \n",
      " 2   DELIVERY_OPTION  290 non-null    object \n",
      " 3   MILK             290 non-null    float64\n",
      " 4   MEAT             290 non-null    float64\n",
      " 5   UNIT_PRICE       290 non-null    float64\n",
      "dtypes: float64(3), int64(1), object(2)\n",
      "memory usage: 13.7+ KB\n"
     ]
    }
   ],
   "source": [
    "df_boxes.info() #checking some information"
   ]
  },
  {
   "cell_type": "markdown",
   "id": "97f0f713-0115-4c4f-8141-a8ad6b055924",
   "metadata": {},
   "source": [
    "=> no null value found and 2 collumn are in object type"
   ]
  },
  {
   "cell_type": "code",
   "execution_count": 5,
   "id": "05ff352e-e482-4259-8f9a-df4361a6daa5",
   "metadata": {},
   "outputs": [
    {
     "data": {
      "text/html": [
       "<div>\n",
       "<style scoped>\n",
       "    .dataframe tbody tr th:only-of-type {\n",
       "        vertical-align: middle;\n",
       "    }\n",
       "\n",
       "    .dataframe tbody tr th {\n",
       "        vertical-align: top;\n",
       "    }\n",
       "\n",
       "    .dataframe thead th {\n",
       "        text-align: right;\n",
       "    }\n",
       "</style>\n",
       "<table border=\"1\" class=\"dataframe\">\n",
       "  <thead>\n",
       "    <tr style=\"text-align: right;\">\n",
       "      <th></th>\n",
       "      <th>BOX_ID</th>\n",
       "      <th>MILK</th>\n",
       "      <th>MEAT</th>\n",
       "      <th>UNIT_PRICE</th>\n",
       "    </tr>\n",
       "  </thead>\n",
       "  <tbody>\n",
       "    <tr>\n",
       "      <th>count</th>\n",
       "      <td>290.000000</td>\n",
       "      <td>290.000000</td>\n",
       "      <td>290.000000</td>\n",
       "      <td>290.000000</td>\n",
       "    </tr>\n",
       "    <tr>\n",
       "      <th>mean</th>\n",
       "      <td>145.500000</td>\n",
       "      <td>7.567586</td>\n",
       "      <td>2.248966</td>\n",
       "      <td>15.783655</td>\n",
       "    </tr>\n",
       "    <tr>\n",
       "      <th>std</th>\n",
       "      <td>83.860002</td>\n",
       "      <td>6.397381</td>\n",
       "      <td>1.151447</td>\n",
       "      <td>4.098064</td>\n",
       "    </tr>\n",
       "    <tr>\n",
       "      <th>min</th>\n",
       "      <td>1.000000</td>\n",
       "      <td>0.000000</td>\n",
       "      <td>0.000000</td>\n",
       "      <td>5.560000</td>\n",
       "    </tr>\n",
       "    <tr>\n",
       "      <th>25%</th>\n",
       "      <td>73.250000</td>\n",
       "      <td>0.000000</td>\n",
       "      <td>1.800000</td>\n",
       "      <td>12.825000</td>\n",
       "    </tr>\n",
       "    <tr>\n",
       "      <th>50%</th>\n",
       "      <td>145.500000</td>\n",
       "      <td>9.000000</td>\n",
       "      <td>2.300000</td>\n",
       "      <td>15.960000</td>\n",
       "    </tr>\n",
       "    <tr>\n",
       "      <th>75%</th>\n",
       "      <td>217.750000</td>\n",
       "      <td>12.000000</td>\n",
       "      <td>2.900000</td>\n",
       "      <td>19.980000</td>\n",
       "    </tr>\n",
       "    <tr>\n",
       "      <th>max</th>\n",
       "      <td>290.000000</td>\n",
       "      <td>24.000000</td>\n",
       "      <td>5.800000</td>\n",
       "      <td>23.980000</td>\n",
       "    </tr>\n",
       "  </tbody>\n",
       "</table>\n",
       "</div>"
      ],
      "text/plain": [
       "           BOX_ID        MILK        MEAT  UNIT_PRICE\n",
       "count  290.000000  290.000000  290.000000  290.000000\n",
       "mean   145.500000    7.567586    2.248966   15.783655\n",
       "std     83.860002    6.397381    1.151447    4.098064\n",
       "min      1.000000    0.000000    0.000000    5.560000\n",
       "25%     73.250000    0.000000    1.800000   12.825000\n",
       "50%    145.500000    9.000000    2.300000   15.960000\n",
       "75%    217.750000   12.000000    2.900000   19.980000\n",
       "max    290.000000   24.000000    5.800000   23.980000"
      ]
     },
     "execution_count": 5,
     "metadata": {},
     "output_type": "execute_result"
    }
   ],
   "source": [
    "df_boxes.describe() #checking min, max, mean, quartile"
   ]
  },
  {
   "cell_type": "code",
   "execution_count": 6,
   "id": "a6d80c48-48d7-4e70-b6a4-59a41fa3e005",
   "metadata": {},
   "outputs": [
    {
     "data": {
      "text/plain": [
       "290"
      ]
     },
     "execution_count": 6,
     "metadata": {},
     "output_type": "execute_result"
    }
   ],
   "source": [
    "df_boxes['BOX_ID'].nunique()"
   ]
  },
  {
   "cell_type": "markdown",
   "id": "f6d7c915-06c6-4f97-8a7a-79114e5354bb",
   "metadata": {},
   "source": [
    "=> so there are 1-290 box in total, no outlier here. full clean"
   ]
  },
  {
   "cell_type": "markdown",
   "id": "4c43959c-253f-4286-9775-a2dd772356ac",
   "metadata": {},
   "source": [
    "# <font color=\"red\">Checking Problem one dataset</font>"
   ]
  },
  {
   "cell_type": "code",
   "execution_count": 7,
   "id": "d7e33577-ccd6-4a93-86f9-bf27fad9480a",
   "metadata": {},
   "outputs": [
    {
     "data": {
      "text/html": [
       "<div>\n",
       "<style scoped>\n",
       "    .dataframe tbody tr th:only-of-type {\n",
       "        vertical-align: middle;\n",
       "    }\n",
       "\n",
       "    .dataframe tbody tr th {\n",
       "        vertical-align: top;\n",
       "    }\n",
       "\n",
       "    .dataframe thead th {\n",
       "        text-align: right;\n",
       "    }\n",
       "</style>\n",
       "<table border=\"1\" class=\"dataframe\">\n",
       "  <thead>\n",
       "    <tr style=\"text-align: right;\">\n",
       "      <th></th>\n",
       "      <th>MAGIC_KEY</th>\n",
       "    </tr>\n",
       "  </thead>\n",
       "  <tbody>\n",
       "    <tr>\n",
       "      <th>0</th>\n",
       "      <td>28D5BB06356</td>\n",
       "    </tr>\n",
       "    <tr>\n",
       "      <th>1</th>\n",
       "      <td>293BEAB4E98</td>\n",
       "    </tr>\n",
       "    <tr>\n",
       "      <th>2</th>\n",
       "      <td>2962EE8065C</td>\n",
       "    </tr>\n",
       "    <tr>\n",
       "      <th>3</th>\n",
       "      <td>2957BE29EA9</td>\n",
       "    </tr>\n",
       "    <tr>\n",
       "      <th>4</th>\n",
       "      <td>28E351A0745</td>\n",
       "    </tr>\n",
       "  </tbody>\n",
       "</table>\n",
       "</div>"
      ],
      "text/plain": [
       "     MAGIC_KEY\n",
       "0  28D5BB06356\n",
       "1  293BEAB4E98\n",
       "2  2962EE8065C\n",
       "3  2957BE29EA9\n",
       "4  28E351A0745"
      ]
     },
     "execution_count": 7,
     "metadata": {},
     "output_type": "execute_result"
    }
   ],
   "source": [
    "df_problem1.head()"
   ]
  },
  {
   "cell_type": "code",
   "execution_count": 8,
   "id": "d753b09b-83ca-4a9c-9fd4-12a0fd531e07",
   "metadata": {},
   "outputs": [
    {
     "name": "stdout",
     "output_type": "stream",
     "text": [
      "<class 'pandas.core.frame.DataFrame'>\n",
      "RangeIndex: 58689 entries, 0 to 58688\n",
      "Data columns (total 1 columns):\n",
      " #   Column     Non-Null Count  Dtype \n",
      "---  ------     --------------  ----- \n",
      " 0   MAGIC_KEY  58689 non-null  object\n",
      "dtypes: object(1)\n",
      "memory usage: 458.6+ KB\n"
     ]
    }
   ],
   "source": [
    "df_problem1.info()"
   ]
  },
  {
   "cell_type": "markdown",
   "id": "51040ce8-88aa-4766-b050-2b43a6218fbb",
   "metadata": {},
   "source": [
    "=> so total 58689 MAGIC_KEY, we need to predict for them"
   ]
  },
  {
   "cell_type": "markdown",
   "id": "2de9d5b5-a1b1-4242-8942-0dce2b924c1a",
   "metadata": {},
   "source": [
    "# <font color=\"red\">Checking Purchase history</font>"
   ]
  },
  {
   "cell_type": "code",
   "execution_count": 9,
   "id": "ad354c3a-9862-405c-985a-b33817b4226c",
   "metadata": {},
   "outputs": [
    {
     "data": {
      "text/html": [
       "<div>\n",
       "<style scoped>\n",
       "    .dataframe tbody tr th:only-of-type {\n",
       "        vertical-align: middle;\n",
       "    }\n",
       "\n",
       "    .dataframe tbody tr th {\n",
       "        vertical-align: top;\n",
       "    }\n",
       "\n",
       "    .dataframe thead th {\n",
       "        text-align: right;\n",
       "    }\n",
       "</style>\n",
       "<table border=\"1\" class=\"dataframe\">\n",
       "  <thead>\n",
       "    <tr style=\"text-align: right;\">\n",
       "      <th></th>\n",
       "      <th>PURCHASE_DATE</th>\n",
       "      <th>MAGIC_KEY</th>\n",
       "      <th>BOX_ID</th>\n",
       "      <th>BOX_COUNT</th>\n",
       "    </tr>\n",
       "  </thead>\n",
       "  <tbody>\n",
       "    <tr>\n",
       "      <th>0</th>\n",
       "      <td>1/2/2019</td>\n",
       "      <td>2CED678A247</td>\n",
       "      <td>12.0</td>\n",
       "      <td>1.0</td>\n",
       "    </tr>\n",
       "    <tr>\n",
       "      <th>1</th>\n",
       "      <td>1/2/2019</td>\n",
       "      <td>2BF58D91BA1</td>\n",
       "      <td>12.0</td>\n",
       "      <td>1.0</td>\n",
       "    </tr>\n",
       "    <tr>\n",
       "      <th>2</th>\n",
       "      <td>1/2/2019</td>\n",
       "      <td>2C15B86534E</td>\n",
       "      <td>99.0</td>\n",
       "      <td>1.0</td>\n",
       "    </tr>\n",
       "    <tr>\n",
       "      <th>3</th>\n",
       "      <td>1/2/2019</td>\n",
       "      <td>2C32D9A859A</td>\n",
       "      <td>6.0</td>\n",
       "      <td>1.0</td>\n",
       "    </tr>\n",
       "    <tr>\n",
       "      <th>4</th>\n",
       "      <td>1/2/2019</td>\n",
       "      <td>2C7A55404D1</td>\n",
       "      <td>4.0</td>\n",
       "      <td>1.0</td>\n",
       "    </tr>\n",
       "  </tbody>\n",
       "</table>\n",
       "</div>"
      ],
      "text/plain": [
       "  PURCHASE_DATE    MAGIC_KEY  BOX_ID  BOX_COUNT\n",
       "0      1/2/2019  2CED678A247    12.0        1.0\n",
       "1      1/2/2019  2BF58D91BA1    12.0        1.0\n",
       "2      1/2/2019  2C15B86534E    99.0        1.0\n",
       "3      1/2/2019  2C32D9A859A     6.0        1.0\n",
       "4      1/2/2019  2C7A55404D1     4.0        1.0"
      ]
     },
     "execution_count": 9,
     "metadata": {},
     "output_type": "execute_result"
    }
   ],
   "source": [
    "df_purchase.head()"
   ]
  },
  {
   "cell_type": "code",
   "execution_count": 10,
   "id": "3034f697-0f58-45cc-bc47-343b5028074f",
   "metadata": {},
   "outputs": [
    {
     "name": "stdout",
     "output_type": "stream",
     "text": [
      "<class 'pandas.core.frame.DataFrame'>\n",
      "RangeIndex: 2455864 entries, 0 to 2455863\n",
      "Data columns (total 4 columns):\n",
      " #   Column         Dtype  \n",
      "---  ------         -----  \n",
      " 0   PURCHASE_DATE  object \n",
      " 1   MAGIC_KEY      object \n",
      " 2   BOX_ID         float64\n",
      " 3   BOX_COUNT      float64\n",
      "dtypes: float64(2), object(2)\n",
      "memory usage: 74.9+ MB\n"
     ]
    }
   ],
   "source": [
    "df_purchase.info()"
   ]
  },
  {
   "cell_type": "markdown",
   "id": "572598c3-6619-4dbe-8b56-3387a87f5cdc",
   "metadata": {},
   "source": [
    "# <font color=\"red\">Checking Null Value</font>"
   ]
  },
  {
   "cell_type": "code",
   "execution_count": 11,
   "id": "3bb6cb50-f7d3-4ac8-950d-b862a930e866",
   "metadata": {},
   "outputs": [
    {
     "data": {
      "text/plain": [
       "PURCHASE_DATE     0\n",
       "MAGIC_KEY         0\n",
       "BOX_ID           47\n",
       "BOX_COUNT        47\n",
       "dtype: int64"
      ]
     },
     "execution_count": 11,
     "metadata": {},
     "output_type": "execute_result"
    }
   ],
   "source": [
    "df_purchase.isnull().sum()"
   ]
  },
  {
   "cell_type": "markdown",
   "id": "b3791950-2050-4e7b-bb1d-60746364a523",
   "metadata": {},
   "source": [
    "=> we have some null value, we need to fix these\\\n",
    "=> as we have enough large datasets, we can drop these\\\n",
    "=> in problem 3, we have a magic key that have null value here, so we need to fill this"
   ]
  },
  {
   "cell_type": "code",
   "execution_count": 12,
   "id": "3847480d-7476-4db2-b3ae-2ffd0c45e0db",
   "metadata": {},
   "outputs": [
    {
     "data": {
      "text/plain": [
       "2455864"
      ]
     },
     "execution_count": 12,
     "metadata": {},
     "output_type": "execute_result"
    }
   ],
   "source": [
    "len(df_purchase)"
   ]
  },
  {
   "cell_type": "code",
   "execution_count": 13,
   "id": "c908180c-b97d-4b01-abb3-94e4efcfeba8",
   "metadata": {},
   "outputs": [
    {
     "data": {
      "text/plain": [
       "1"
      ]
     },
     "execution_count": 13,
     "metadata": {},
     "output_type": "execute_result"
    }
   ],
   "source": [
    "box_count_mean = df_purchase['BOX_COUNT'].mean()\n",
    "box_count_mean = int(box_count_mean)\n",
    "box_count_mean"
   ]
  },
  {
   "cell_type": "code",
   "execution_count": 14,
   "id": "015e76b9-c0a5-4833-bdbf-f34826a81b41",
   "metadata": {},
   "outputs": [],
   "source": [
    "df_purchase['BOX_COUNT'] = df_purchase['BOX_COUNT'].fillna(box_count_mean)"
   ]
  },
  {
   "cell_type": "code",
   "execution_count": 15,
   "id": "67a5708b-4362-45b0-b4e0-610f9cfbd638",
   "metadata": {},
   "outputs": [
    {
     "data": {
      "text/plain": [
       "163.0"
      ]
     },
     "execution_count": 15,
     "metadata": {},
     "output_type": "execute_result"
    }
   ],
   "source": [
    "BOX_ID_Mode = df_purchase['BOX_ID'].mode()[0]\n",
    "BOX_ID_Mode"
   ]
  },
  {
   "cell_type": "code",
   "execution_count": 16,
   "id": "ab3b2e35-1aa7-49d4-a3af-5956b5aa40f2",
   "metadata": {},
   "outputs": [],
   "source": [
    "df_purchase['BOX_ID'] = df_purchase['BOX_ID'].fillna(BOX_ID_Mode)"
   ]
  },
  {
   "cell_type": "code",
   "execution_count": 17,
   "id": "1ef2bdcd-1787-4084-9e90-b2f4f847adb3",
   "metadata": {},
   "outputs": [
    {
     "data": {
      "text/plain": [
       "PURCHASE_DATE    0\n",
       "MAGIC_KEY        0\n",
       "BOX_ID           0\n",
       "BOX_COUNT        0\n",
       "dtype: int64"
      ]
     },
     "execution_count": 17,
     "metadata": {},
     "output_type": "execute_result"
    }
   ],
   "source": [
    "df_purchase.isnull().sum()"
   ]
  },
  {
   "cell_type": "markdown",
   "id": "6833330a-2dea-4f14-8443-d71100aa092a",
   "metadata": {},
   "source": [
    "# <font color=\"red\">Checking duplicate</font>"
   ]
  },
  {
   "cell_type": "code",
   "execution_count": 18,
   "id": "6f555355-8979-43b3-b467-ae13e1991e1e",
   "metadata": {},
   "outputs": [
    {
     "data": {
      "text/plain": [
       "77"
      ]
     },
     "execution_count": 18,
     "metadata": {},
     "output_type": "execute_result"
    }
   ],
   "source": [
    "duplicates =  df_purchase[df_purchase.duplicated(keep='first')] #it will return the duplicated row from the datasets\n",
    "len(duplicates)"
   ]
  },
  {
   "cell_type": "code",
   "execution_count": 19,
   "id": "7d908495-142a-497f-8a24-a1548e5c3c05",
   "metadata": {},
   "outputs": [
    {
     "data": {
      "text/html": [
       "<div>\n",
       "<style scoped>\n",
       "    .dataframe tbody tr th:only-of-type {\n",
       "        vertical-align: middle;\n",
       "    }\n",
       "\n",
       "    .dataframe tbody tr th {\n",
       "        vertical-align: top;\n",
       "    }\n",
       "\n",
       "    .dataframe thead th {\n",
       "        text-align: right;\n",
       "    }\n",
       "</style>\n",
       "<table border=\"1\" class=\"dataframe\">\n",
       "  <thead>\n",
       "    <tr style=\"text-align: right;\">\n",
       "      <th></th>\n",
       "      <th>PURCHASE_DATE</th>\n",
       "      <th>MAGIC_KEY</th>\n",
       "      <th>BOX_ID</th>\n",
       "      <th>BOX_COUNT</th>\n",
       "    </tr>\n",
       "  </thead>\n",
       "  <tbody>\n",
       "    <tr>\n",
       "      <th>95145</th>\n",
       "      <td>5/2/2019</td>\n",
       "      <td>2912705D209</td>\n",
       "      <td>230.0</td>\n",
       "      <td>1.0</td>\n",
       "    </tr>\n",
       "    <tr>\n",
       "      <th>96588</th>\n",
       "      <td>5/2/2019</td>\n",
       "      <td>2C3ECE53EE6</td>\n",
       "      <td>90.0</td>\n",
       "      <td>1.0</td>\n",
       "    </tr>\n",
       "    <tr>\n",
       "      <th>412565</th>\n",
       "      <td>21/2/2019</td>\n",
       "      <td>2979B501C0E</td>\n",
       "      <td>230.0</td>\n",
       "      <td>1.0</td>\n",
       "    </tr>\n",
       "    <tr>\n",
       "      <th>440383</th>\n",
       "      <td>23/2/2019</td>\n",
       "      <td>2CD752AE1DD</td>\n",
       "      <td>56.0</td>\n",
       "      <td>1.0</td>\n",
       "    </tr>\n",
       "    <tr>\n",
       "      <th>459925</th>\n",
       "      <td>24/2/2019</td>\n",
       "      <td>2BC3E73EA17</td>\n",
       "      <td>56.0</td>\n",
       "      <td>1.0</td>\n",
       "    </tr>\n",
       "    <tr>\n",
       "      <th>...</th>\n",
       "      <td>...</td>\n",
       "      <td>...</td>\n",
       "      <td>...</td>\n",
       "      <td>...</td>\n",
       "    </tr>\n",
       "    <tr>\n",
       "      <th>1630632</th>\n",
       "      <td>15/11/2018</td>\n",
       "      <td>2912705D209</td>\n",
       "      <td>268.0</td>\n",
       "      <td>1.0</td>\n",
       "    </tr>\n",
       "    <tr>\n",
       "      <th>2129168</th>\n",
       "      <td>11/10/2018</td>\n",
       "      <td>2C4FDB5E96A</td>\n",
       "      <td>89.0</td>\n",
       "      <td>1.0</td>\n",
       "    </tr>\n",
       "    <tr>\n",
       "      <th>2202356</th>\n",
       "      <td>18/10/2018</td>\n",
       "      <td>2C3ECE53EE6</td>\n",
       "      <td>89.0</td>\n",
       "      <td>1.0</td>\n",
       "    </tr>\n",
       "    <tr>\n",
       "      <th>2243167</th>\n",
       "      <td>17/10/2018</td>\n",
       "      <td>2BC7E532A3A</td>\n",
       "      <td>89.0</td>\n",
       "      <td>1.0</td>\n",
       "    </tr>\n",
       "    <tr>\n",
       "      <th>2281942</th>\n",
       "      <td>15/10/2018</td>\n",
       "      <td>2912705D209</td>\n",
       "      <td>233.0</td>\n",
       "      <td>1.0</td>\n",
       "    </tr>\n",
       "  </tbody>\n",
       "</table>\n",
       "<p>77 rows × 4 columns</p>\n",
       "</div>"
      ],
      "text/plain": [
       "        PURCHASE_DATE    MAGIC_KEY  BOX_ID  BOX_COUNT\n",
       "95145        5/2/2019  2912705D209   230.0        1.0\n",
       "96588        5/2/2019  2C3ECE53EE6    90.0        1.0\n",
       "412565      21/2/2019  2979B501C0E   230.0        1.0\n",
       "440383      23/2/2019  2CD752AE1DD    56.0        1.0\n",
       "459925      24/2/2019  2BC3E73EA17    56.0        1.0\n",
       "...               ...          ...     ...        ...\n",
       "1630632    15/11/2018  2912705D209   268.0        1.0\n",
       "2129168    11/10/2018  2C4FDB5E96A    89.0        1.0\n",
       "2202356    18/10/2018  2C3ECE53EE6    89.0        1.0\n",
       "2243167    17/10/2018  2BC7E532A3A    89.0        1.0\n",
       "2281942    15/10/2018  2912705D209   233.0        1.0\n",
       "\n",
       "[77 rows x 4 columns]"
      ]
     },
     "execution_count": 19,
     "metadata": {},
     "output_type": "execute_result"
    }
   ],
   "source": [
    "duplicates"
   ]
  },
  {
   "cell_type": "code",
   "execution_count": 20,
   "id": "14083690-8890-46e3-906a-77f959f7b1fd",
   "metadata": {},
   "outputs": [
    {
     "data": {
      "text/html": [
       "<div>\n",
       "<style scoped>\n",
       "    .dataframe tbody tr th:only-of-type {\n",
       "        vertical-align: middle;\n",
       "    }\n",
       "\n",
       "    .dataframe tbody tr th {\n",
       "        vertical-align: top;\n",
       "    }\n",
       "\n",
       "    .dataframe thead th {\n",
       "        text-align: right;\n",
       "    }\n",
       "</style>\n",
       "<table border=\"1\" class=\"dataframe\">\n",
       "  <thead>\n",
       "    <tr style=\"text-align: right;\">\n",
       "      <th></th>\n",
       "      <th>PURCHASE_DATE</th>\n",
       "      <th>MAGIC_KEY</th>\n",
       "      <th>BOX_ID</th>\n",
       "      <th>BOX_COUNT</th>\n",
       "    </tr>\n",
       "  </thead>\n",
       "  <tbody>\n",
       "    <tr>\n",
       "      <th>89217</th>\n",
       "      <td>5/2/2019</td>\n",
       "      <td>2C3ECE53EE6</td>\n",
       "      <td>90.0</td>\n",
       "      <td>1.0</td>\n",
       "    </tr>\n",
       "    <tr>\n",
       "      <th>96588</th>\n",
       "      <td>5/2/2019</td>\n",
       "      <td>2C3ECE53EE6</td>\n",
       "      <td>90.0</td>\n",
       "      <td>1.0</td>\n",
       "    </tr>\n",
       "    <tr>\n",
       "      <th>96589</th>\n",
       "      <td>5/2/2019</td>\n",
       "      <td>2C3ECE53EE6</td>\n",
       "      <td>9.0</td>\n",
       "      <td>1.0</td>\n",
       "    </tr>\n",
       "    <tr>\n",
       "      <th>96590</th>\n",
       "      <td>5/2/2019</td>\n",
       "      <td>2C3ECE53EE6</td>\n",
       "      <td>178.0</td>\n",
       "      <td>2.0</td>\n",
       "    </tr>\n",
       "    <tr>\n",
       "      <th>2202355</th>\n",
       "      <td>18/10/2018</td>\n",
       "      <td>2C3ECE53EE6</td>\n",
       "      <td>89.0</td>\n",
       "      <td>1.0</td>\n",
       "    </tr>\n",
       "    <tr>\n",
       "      <th>2202356</th>\n",
       "      <td>18/10/2018</td>\n",
       "      <td>2C3ECE53EE6</td>\n",
       "      <td>89.0</td>\n",
       "      <td>1.0</td>\n",
       "    </tr>\n",
       "    <tr>\n",
       "      <th>2202357</th>\n",
       "      <td>18/10/2018</td>\n",
       "      <td>2C3ECE53EE6</td>\n",
       "      <td>177.0</td>\n",
       "      <td>1.0</td>\n",
       "    </tr>\n",
       "    <tr>\n",
       "      <th>2202363</th>\n",
       "      <td>18/10/2018</td>\n",
       "      <td>2C3ECE53EE6</td>\n",
       "      <td>8.0</td>\n",
       "      <td>1.0</td>\n",
       "    </tr>\n",
       "    <tr>\n",
       "      <th>2291101</th>\n",
       "      <td>15/10/2018</td>\n",
       "      <td>2C3ECE53EE6</td>\n",
       "      <td>191.0</td>\n",
       "      <td>1.0</td>\n",
       "    </tr>\n",
       "  </tbody>\n",
       "</table>\n",
       "</div>"
      ],
      "text/plain": [
       "        PURCHASE_DATE    MAGIC_KEY  BOX_ID  BOX_COUNT\n",
       "89217        5/2/2019  2C3ECE53EE6    90.0        1.0\n",
       "96588        5/2/2019  2C3ECE53EE6    90.0        1.0\n",
       "96589        5/2/2019  2C3ECE53EE6     9.0        1.0\n",
       "96590        5/2/2019  2C3ECE53EE6   178.0        2.0\n",
       "2202355    18/10/2018  2C3ECE53EE6    89.0        1.0\n",
       "2202356    18/10/2018  2C3ECE53EE6    89.0        1.0\n",
       "2202357    18/10/2018  2C3ECE53EE6   177.0        1.0\n",
       "2202363    18/10/2018  2C3ECE53EE6     8.0        1.0\n",
       "2291101    15/10/2018  2C3ECE53EE6   191.0        1.0"
      ]
     },
     "execution_count": 20,
     "metadata": {},
     "output_type": "execute_result"
    }
   ],
   "source": [
    "df_purchase.loc[(df_purchase.MAGIC_KEY == '2C3ECE53EE6')] #to show the information of male only"
   ]
  },
  {
   "cell_type": "code",
   "execution_count": 20,
   "id": "e65318d0-1d53-4a6c-8597-20259bd03b44",
   "metadata": {},
   "outputs": [
    {
     "data": {
      "text/plain": [
       "2455787"
      ]
     },
     "execution_count": 20,
     "metadata": {},
     "output_type": "execute_result"
    }
   ],
   "source": [
    "df_purchase = df_purchase.drop_duplicates() #this method will return the dataset with no duplicate row\n",
    "len(df_purchase)"
   ]
  },
  {
   "cell_type": "markdown",
   "id": "59abadec-95e9-43ba-88af-1e90753a09f1",
   "metadata": {},
   "source": [
    "# <font color=\"red\">Checking outlier</font>"
   ]
  },
  {
   "cell_type": "code",
   "execution_count": 21,
   "id": "f5b4aaf2-51d9-428c-b2f7-7b8f1f747770",
   "metadata": {},
   "outputs": [
    {
     "data": {
      "text/html": [
       "<div>\n",
       "<style scoped>\n",
       "    .dataframe tbody tr th:only-of-type {\n",
       "        vertical-align: middle;\n",
       "    }\n",
       "\n",
       "    .dataframe tbody tr th {\n",
       "        vertical-align: top;\n",
       "    }\n",
       "\n",
       "    .dataframe thead th {\n",
       "        text-align: right;\n",
       "    }\n",
       "</style>\n",
       "<table border=\"1\" class=\"dataframe\">\n",
       "  <thead>\n",
       "    <tr style=\"text-align: right;\">\n",
       "      <th></th>\n",
       "      <th>BOX_ID</th>\n",
       "      <th>BOX_COUNT</th>\n",
       "    </tr>\n",
       "  </thead>\n",
       "  <tbody>\n",
       "    <tr>\n",
       "      <th>count</th>\n",
       "      <td>2.455787e+06</td>\n",
       "      <td>2.455787e+06</td>\n",
       "    </tr>\n",
       "    <tr>\n",
       "      <th>mean</th>\n",
       "      <td>2.308835e+02</td>\n",
       "      <td>1.001112e+00</td>\n",
       "    </tr>\n",
       "    <tr>\n",
       "      <th>std</th>\n",
       "      <td>2.923347e+04</td>\n",
       "      <td>4.450408e-02</td>\n",
       "    </tr>\n",
       "    <tr>\n",
       "      <th>min</th>\n",
       "      <td>1.000000e+00</td>\n",
       "      <td>-1.000000e+00</td>\n",
       "    </tr>\n",
       "    <tr>\n",
       "      <th>25%</th>\n",
       "      <td>1.060000e+02</td>\n",
       "      <td>1.000000e+00</td>\n",
       "    </tr>\n",
       "    <tr>\n",
       "      <th>50%</th>\n",
       "      <td>1.430000e+02</td>\n",
       "      <td>1.000000e+00</td>\n",
       "    </tr>\n",
       "    <tr>\n",
       "      <th>75%</th>\n",
       "      <td>2.150000e+02</td>\n",
       "      <td>1.000000e+00</td>\n",
       "    </tr>\n",
       "    <tr>\n",
       "      <th>max</th>\n",
       "      <td>1.111111e+07</td>\n",
       "      <td>1.900000e+01</td>\n",
       "    </tr>\n",
       "  </tbody>\n",
       "</table>\n",
       "</div>"
      ],
      "text/plain": [
       "             BOX_ID     BOX_COUNT\n",
       "count  2.455787e+06  2.455787e+06\n",
       "mean   2.308835e+02  1.001112e+00\n",
       "std    2.923347e+04  4.450408e-02\n",
       "min    1.000000e+00 -1.000000e+00\n",
       "25%    1.060000e+02  1.000000e+00\n",
       "50%    1.430000e+02  1.000000e+00\n",
       "75%    2.150000e+02  1.000000e+00\n",
       "max    1.111111e+07  1.900000e+01"
      ]
     },
     "execution_count": 21,
     "metadata": {},
     "output_type": "execute_result"
    }
   ],
   "source": [
    "df_purchase.describe()"
   ]
  },
  {
   "cell_type": "markdown",
   "id": "8ab68636-ac66-4e42-837a-c67aef69642c",
   "metadata": {},
   "source": [
    "=> we have some outlier, need to fix these"
   ]
  },
  {
   "cell_type": "code",
   "execution_count": 22,
   "id": "1302982b-e125-44d1-a299-cc210d7bb40b",
   "metadata": {},
   "outputs": [
    {
     "name": "stdout",
     "output_type": "stream",
     "text": [
      "Column: PURCHASE_DATE\n",
      "PURCHASE_DATE\n",
      "28/2/2019     46924\n",
      "27/2/2019     22311\n",
      "8/2/2019      21540\n",
      "24/2/2019     21448\n",
      "26/2/2019     21409\n",
      "              ...  \n",
      "10/11/2018    11475\n",
      "3/11/2018     10945\n",
      "20/10/2018    10620\n",
      "24/11/2018    10454\n",
      "17/11/2018     9922\n",
      "Name: count, Length: 151, dtype: int64\n",
      "\n",
      "Column: MAGIC_KEY\n",
      "MAGIC_KEY\n",
      "2CC2011C2DF    40\n",
      "28D251217BD    38\n",
      "2BFCB915234    36\n",
      "29D9005EBAD    35\n",
      "2A046A740EB    34\n",
      "               ..\n",
      "2BF0AECE1BE     1\n",
      "2CD9631E40C     1\n",
      "2C3A858F5F9     1\n",
      "2C9CC96DD72     1\n",
      "2C4792A5B84     1\n",
      "Name: count, Length: 1274108, dtype: int64\n",
      "\n",
      "Column: BOX_ID\n",
      "BOX_ID\n",
      "163.0    226595\n",
      "143.0    189189\n",
      "162.0    169705\n",
      "258.0    116822\n",
      "255.0    100048\n",
      "          ...  \n",
      "151.0         1\n",
      "226.0         1\n",
      "242.0         1\n",
      "243.0         1\n",
      "109.0         1\n",
      "Name: count, Length: 291, dtype: int64\n",
      "\n",
      "Column: BOX_COUNT\n",
      "BOX_COUNT\n",
      " 1.0     2453348\n",
      " 2.0        2272\n",
      " 3.0          83\n",
      " 4.0          28\n",
      "-1.0          17\n",
      " 6.0          17\n",
      " 5.0          10\n",
      " 7.0           3\n",
      " 9.0           2\n",
      " 19.0          2\n",
      " 11.0          2\n",
      " 8.0           1\n",
      " 10.0          1\n",
      " 13.0          1\n",
      "Name: count, dtype: int64\n",
      "\n"
     ]
    }
   ],
   "source": [
    "for column in df_purchase.columns:\n",
    "    unique_values_count = df_purchase[column].value_counts()\n",
    "    print(f\"Column: {column}\")\n",
    "    print(unique_values_count)\n",
    "    print()"
   ]
  },
  {
   "cell_type": "markdown",
   "id": "ebb08ed2-f49f-4483-a0ea-05951f89f912",
   "metadata": {},
   "source": [
    "=> we can see, in BOX_COUNT, there is a value -1, its not possible in real life, its an outlier\\\n",
    "=> 19 is not outlier as other close value still exist. there is no big gap"
   ]
  },
  {
   "cell_type": "code",
   "execution_count": 23,
   "id": "c02a0996-d174-4f3b-b803-a9f98463b4a0",
   "metadata": {},
   "outputs": [
    {
     "name": "stdout",
     "output_type": "stream",
     "text": [
      "Column: BOX_ID\n",
      "BOX_ID\n",
      "163.0    226595\n",
      "143.0    189189\n",
      "162.0    169705\n",
      "258.0    116822\n",
      "255.0    100048\n",
      "          ...  \n",
      "151.0         1\n",
      "226.0         1\n",
      "242.0         1\n",
      "243.0         1\n",
      "109.0         1\n",
      "Name: count, Length: 291, dtype: int64\n",
      "\n"
     ]
    }
   ],
   "source": [
    "unique_values_count = df_purchase['BOX_ID'].value_counts()\n",
    "print(f\"Column: {'BOX_ID'}\")\n",
    "print(unique_values_count)\n",
    "print()"
   ]
  },
  {
   "cell_type": "code",
   "execution_count": 24,
   "id": "edcaac30-2392-4c84-9a2e-bef6c1097440",
   "metadata": {},
   "outputs": [],
   "source": [
    "import numpy as np\n",
    "from scipy import stats"
   ]
  },
  {
   "cell_type": "code",
   "execution_count": 25,
   "id": "f6731d18-a71b-43ac-bfa9-36a17386c396",
   "metadata": {},
   "outputs": [
    {
     "name": "stdout",
     "output_type": "stream",
     "text": [
      "Outliers detected using Z-score method: [    191     192     193     194     195     196     197  525707  597548\n",
      "  665794  688028 1251185 1834596 1943843 2002835 2105236 2123355]\n"
     ]
    }
   ],
   "source": [
    "z_scores = np.abs(stats.zscore(df_purchase['BOX_ID']))\n",
    "threshold = 3\n",
    "outliers = np.where(z_scores > threshold)[0]\n",
    "print(\"Outliers detected using Z-score method:\", outliers)"
   ]
  },
  {
   "cell_type": "code",
   "execution_count": 26,
   "id": "025b9c86-7872-4230-ba7a-4c0c496e674b",
   "metadata": {},
   "outputs": [
    {
     "data": {
      "text/plain": [
       "array([    191,     192,     193,     194,     195,     196,     197,\n",
       "        525707,  597548,  665794,  688028, 1251185, 1834596, 1943843,\n",
       "       2002835, 2105236, 2123355], dtype=int64)"
      ]
     },
     "execution_count": 26,
     "metadata": {},
     "output_type": "execute_result"
    }
   ],
   "source": [
    "outliers"
   ]
  },
  {
   "cell_type": "code",
   "execution_count": 27,
   "id": "6a68fcea-adcf-45fd-8f2d-cc06346f224b",
   "metadata": {},
   "outputs": [
    {
     "data": {
      "text/plain": [
       "17"
      ]
     },
     "execution_count": 27,
     "metadata": {},
     "output_type": "execute_result"
    }
   ],
   "source": [
    "len(outliers)"
   ]
  },
  {
   "cell_type": "code",
   "execution_count": 28,
   "id": "8ae51f17-7282-479d-9ff8-8f20891965d7",
   "metadata": {},
   "outputs": [
    {
     "data": {
      "text/html": [
       "<div>\n",
       "<style scoped>\n",
       "    .dataframe tbody tr th:only-of-type {\n",
       "        vertical-align: middle;\n",
       "    }\n",
       "\n",
       "    .dataframe tbody tr th {\n",
       "        vertical-align: top;\n",
       "    }\n",
       "\n",
       "    .dataframe thead th {\n",
       "        text-align: right;\n",
       "    }\n",
       "</style>\n",
       "<table border=\"1\" class=\"dataframe\">\n",
       "  <thead>\n",
       "    <tr style=\"text-align: right;\">\n",
       "      <th></th>\n",
       "      <th>PURCHASE_DATE</th>\n",
       "      <th>MAGIC_KEY</th>\n",
       "      <th>BOX_ID</th>\n",
       "      <th>BOX_COUNT</th>\n",
       "    </tr>\n",
       "  </thead>\n",
       "  <tbody>\n",
       "    <tr>\n",
       "      <th>191</th>\n",
       "      <td>1/2/2019</td>\n",
       "      <td>2CCB122460D</td>\n",
       "      <td>11111111.0</td>\n",
       "      <td>-1.0</td>\n",
       "    </tr>\n",
       "    <tr>\n",
       "      <th>192</th>\n",
       "      <td>1/2/2019</td>\n",
       "      <td>2CEDA71E3E9</td>\n",
       "      <td>11111111.0</td>\n",
       "      <td>-1.0</td>\n",
       "    </tr>\n",
       "    <tr>\n",
       "      <th>193</th>\n",
       "      <td>1/2/2019</td>\n",
       "      <td>2CBDC970258</td>\n",
       "      <td>11111111.0</td>\n",
       "      <td>-1.0</td>\n",
       "    </tr>\n",
       "    <tr>\n",
       "      <th>194</th>\n",
       "      <td>1/2/2019</td>\n",
       "      <td>2932761FEB6</td>\n",
       "      <td>11111111.0</td>\n",
       "      <td>-1.0</td>\n",
       "    </tr>\n",
       "    <tr>\n",
       "      <th>195</th>\n",
       "      <td>1/2/2019</td>\n",
       "      <td>28F09714410</td>\n",
       "      <td>11111111.0</td>\n",
       "      <td>-1.0</td>\n",
       "    </tr>\n",
       "    <tr>\n",
       "      <th>196</th>\n",
       "      <td>1/2/2019</td>\n",
       "      <td>2BDAE37A00E</td>\n",
       "      <td>11111111.0</td>\n",
       "      <td>-1.0</td>\n",
       "    </tr>\n",
       "    <tr>\n",
       "      <th>197</th>\n",
       "      <td>1/2/2019</td>\n",
       "      <td>2C3C7E168F7</td>\n",
       "      <td>11111111.0</td>\n",
       "      <td>-1.0</td>\n",
       "    </tr>\n",
       "    <tr>\n",
       "      <th>525713</th>\n",
       "      <td>27/2/2019</td>\n",
       "      <td>2C3C7E168F7</td>\n",
       "      <td>11111111.0</td>\n",
       "      <td>-1.0</td>\n",
       "    </tr>\n",
       "    <tr>\n",
       "      <th>597615</th>\n",
       "      <td>1/1/2019</td>\n",
       "      <td>2CEDA71E3E9</td>\n",
       "      <td>11111111.0</td>\n",
       "      <td>-1.0</td>\n",
       "    </tr>\n",
       "    <tr>\n",
       "      <th>665861</th>\n",
       "      <td>5/1/2019</td>\n",
       "      <td>2C3C7E168F7</td>\n",
       "      <td>11111111.0</td>\n",
       "      <td>-1.0</td>\n",
       "    </tr>\n",
       "    <tr>\n",
       "      <th>688095</th>\n",
       "      <td>6/1/2019</td>\n",
       "      <td>2CBDC970258</td>\n",
       "      <td>11111111.0</td>\n",
       "      <td>-1.0</td>\n",
       "    </tr>\n",
       "    <tr>\n",
       "      <th>1251257</th>\n",
       "      <td>10/12/2018</td>\n",
       "      <td>2C3C7E168F7</td>\n",
       "      <td>11111111.0</td>\n",
       "      <td>-1.0</td>\n",
       "    </tr>\n",
       "    <tr>\n",
       "      <th>1834669</th>\n",
       "      <td>10/11/2018</td>\n",
       "      <td>2C3C7E168F7</td>\n",
       "      <td>11111111.0</td>\n",
       "      <td>-1.0</td>\n",
       "    </tr>\n",
       "    <tr>\n",
       "      <th>1943916</th>\n",
       "      <td>24/11/2018</td>\n",
       "      <td>2CBDC970258</td>\n",
       "      <td>11111111.0</td>\n",
       "      <td>-1.0</td>\n",
       "    </tr>\n",
       "    <tr>\n",
       "      <th>2002908</th>\n",
       "      <td>5/10/2018</td>\n",
       "      <td>2CBDC970258</td>\n",
       "      <td>11111111.0</td>\n",
       "      <td>-1.0</td>\n",
       "    </tr>\n",
       "    <tr>\n",
       "      <th>2105309</th>\n",
       "      <td>13/10/2018</td>\n",
       "      <td>2BDAE37A00E</td>\n",
       "      <td>11111111.0</td>\n",
       "      <td>-1.0</td>\n",
       "    </tr>\n",
       "    <tr>\n",
       "      <th>2123428</th>\n",
       "      <td>12/10/2018</td>\n",
       "      <td>2C3C7E168F7</td>\n",
       "      <td>11111111.0</td>\n",
       "      <td>-1.0</td>\n",
       "    </tr>\n",
       "  </tbody>\n",
       "</table>\n",
       "</div>"
      ],
      "text/plain": [
       "        PURCHASE_DATE    MAGIC_KEY      BOX_ID  BOX_COUNT\n",
       "191          1/2/2019  2CCB122460D  11111111.0       -1.0\n",
       "192          1/2/2019  2CEDA71E3E9  11111111.0       -1.0\n",
       "193          1/2/2019  2CBDC970258  11111111.0       -1.0\n",
       "194          1/2/2019  2932761FEB6  11111111.0       -1.0\n",
       "195          1/2/2019  28F09714410  11111111.0       -1.0\n",
       "196          1/2/2019  2BDAE37A00E  11111111.0       -1.0\n",
       "197          1/2/2019  2C3C7E168F7  11111111.0       -1.0\n",
       "525713      27/2/2019  2C3C7E168F7  11111111.0       -1.0\n",
       "597615       1/1/2019  2CEDA71E3E9  11111111.0       -1.0\n",
       "665861       5/1/2019  2C3C7E168F7  11111111.0       -1.0\n",
       "688095       6/1/2019  2CBDC970258  11111111.0       -1.0\n",
       "1251257    10/12/2018  2C3C7E168F7  11111111.0       -1.0\n",
       "1834669    10/11/2018  2C3C7E168F7  11111111.0       -1.0\n",
       "1943916    24/11/2018  2CBDC970258  11111111.0       -1.0\n",
       "2002908     5/10/2018  2CBDC970258  11111111.0       -1.0\n",
       "2105309    13/10/2018  2BDAE37A00E  11111111.0       -1.0\n",
       "2123428    12/10/2018  2C3C7E168F7  11111111.0       -1.0"
      ]
     },
     "execution_count": 28,
     "metadata": {},
     "output_type": "execute_result"
    }
   ],
   "source": [
    "df_purchase.iloc[outliers] #same as df.head(), inner third bracet using as a numpy array"
   ]
  },
  {
   "cell_type": "markdown",
   "id": "45e79bcc-36c6-4aca-9dd7-6a5c2d5ebc76",
   "metadata": {},
   "source": [
    "=> both BOX_ID and BOX_COUNT value are inappropriate, we can drop these row"
   ]
  },
  {
   "cell_type": "code",
   "execution_count": 29,
   "id": "5f31dde2-b795-4749-954c-5181cd285c5f",
   "metadata": {},
   "outputs": [],
   "source": [
    "df_purchase = df_purchase.drop(df_purchase.index[outliers])\n",
    "df_purchase"
   ]
  },
  {
   "cell_type": "code",
   "execution_count": 30,
   "id": "685c95a5-2927-46f7-a2dd-75cb13843071",
   "metadata": {},
   "outputs": [
    {
     "data": {
      "text/html": [
       "<div>\n",
       "<style scoped>\n",
       "    .dataframe tbody tr th:only-of-type {\n",
       "        vertical-align: middle;\n",
       "    }\n",
       "\n",
       "    .dataframe tbody tr th {\n",
       "        vertical-align: top;\n",
       "    }\n",
       "\n",
       "    .dataframe thead th {\n",
       "        text-align: right;\n",
       "    }\n",
       "</style>\n",
       "<table border=\"1\" class=\"dataframe\">\n",
       "  <thead>\n",
       "    <tr style=\"text-align: right;\">\n",
       "      <th></th>\n",
       "      <th>BOX_ID</th>\n",
       "      <th>BOX_COUNT</th>\n",
       "    </tr>\n",
       "  </thead>\n",
       "  <tbody>\n",
       "    <tr>\n",
       "      <th>count</th>\n",
       "      <td>2.455770e+06</td>\n",
       "      <td>2.455770e+06</td>\n",
       "    </tr>\n",
       "    <tr>\n",
       "      <th>mean</th>\n",
       "      <td>1.539687e+02</td>\n",
       "      <td>1.001126e+00</td>\n",
       "    </tr>\n",
       "    <tr>\n",
       "      <th>std</th>\n",
       "      <td>7.043995e+01</td>\n",
       "      <td>4.419170e-02</td>\n",
       "    </tr>\n",
       "    <tr>\n",
       "      <th>min</th>\n",
       "      <td>1.000000e+00</td>\n",
       "      <td>1.000000e+00</td>\n",
       "    </tr>\n",
       "    <tr>\n",
       "      <th>25%</th>\n",
       "      <td>1.060000e+02</td>\n",
       "      <td>1.000000e+00</td>\n",
       "    </tr>\n",
       "    <tr>\n",
       "      <th>50%</th>\n",
       "      <td>1.430000e+02</td>\n",
       "      <td>1.000000e+00</td>\n",
       "    </tr>\n",
       "    <tr>\n",
       "      <th>75%</th>\n",
       "      <td>2.150000e+02</td>\n",
       "      <td>1.000000e+00</td>\n",
       "    </tr>\n",
       "    <tr>\n",
       "      <th>max</th>\n",
       "      <td>2.900000e+02</td>\n",
       "      <td>1.900000e+01</td>\n",
       "    </tr>\n",
       "  </tbody>\n",
       "</table>\n",
       "</div>"
      ],
      "text/plain": [
       "             BOX_ID     BOX_COUNT\n",
       "count  2.455770e+06  2.455770e+06\n",
       "mean   1.539687e+02  1.001126e+00\n",
       "std    7.043995e+01  4.419170e-02\n",
       "min    1.000000e+00  1.000000e+00\n",
       "25%    1.060000e+02  1.000000e+00\n",
       "50%    1.430000e+02  1.000000e+00\n",
       "75%    2.150000e+02  1.000000e+00\n",
       "max    2.900000e+02  1.900000e+01"
      ]
     },
     "execution_count": 30,
     "metadata": {},
     "output_type": "execute_result"
    }
   ],
   "source": [
    "df_purchase.describe()"
   ]
  },
  {
   "cell_type": "markdown",
   "id": "dffa543a-57da-42dd-b423-697f53ce606a",
   "metadata": {},
   "source": [
    "=> now there is no outlier, MAX for BOX_ID and MIN for BOX_COUNT Fixed"
   ]
  },
  {
   "cell_type": "markdown",
   "id": "116783d3-99c1-432e-b7d6-09696d7e7892",
   "metadata": {},
   "source": [
    "# <font color=\"red\">Now we need to merge the dataset for model</font>"
   ]
  },
  {
   "cell_type": "code",
   "execution_count": 31,
   "id": "7340bb7c-b7b6-40a0-acd7-cdb0eeee3097",
   "metadata": {},
   "outputs": [],
   "source": [
    "merged_df = pd.merge(df_purchase, df_boxes, on='BOX_ID')"
   ]
  },
  {
   "cell_type": "code",
   "execution_count": 32,
   "id": "92832cb5-e95f-4816-bfed-1595049ba407",
   "metadata": {},
   "outputs": [
    {
     "data": {
      "text/html": [
       "<div>\n",
       "<style scoped>\n",
       "    .dataframe tbody tr th:only-of-type {\n",
       "        vertical-align: middle;\n",
       "    }\n",
       "\n",
       "    .dataframe tbody tr th {\n",
       "        vertical-align: top;\n",
       "    }\n",
       "\n",
       "    .dataframe thead th {\n",
       "        text-align: right;\n",
       "    }\n",
       "</style>\n",
       "<table border=\"1\" class=\"dataframe\">\n",
       "  <thead>\n",
       "    <tr style=\"text-align: right;\">\n",
       "      <th></th>\n",
       "      <th>PURCHASE_DATE</th>\n",
       "      <th>MAGIC_KEY</th>\n",
       "      <th>BOX_ID</th>\n",
       "      <th>BOX_COUNT</th>\n",
       "      <th>QUALITY</th>\n",
       "      <th>DELIVERY_OPTION</th>\n",
       "      <th>MILK</th>\n",
       "      <th>MEAT</th>\n",
       "      <th>UNIT_PRICE</th>\n",
       "    </tr>\n",
       "  </thead>\n",
       "  <tbody>\n",
       "    <tr>\n",
       "      <th>0</th>\n",
       "      <td>1/2/2019</td>\n",
       "      <td>2CED678A247</td>\n",
       "      <td>12.0</td>\n",
       "      <td>1.0</td>\n",
       "      <td>Premium</td>\n",
       "      <td>Home Delivery - CoD</td>\n",
       "      <td>8.0</td>\n",
       "      <td>1.5</td>\n",
       "      <td>12.98</td>\n",
       "    </tr>\n",
       "    <tr>\n",
       "      <th>1</th>\n",
       "      <td>1/2/2019</td>\n",
       "      <td>2BF58D91BA1</td>\n",
       "      <td>12.0</td>\n",
       "      <td>1.0</td>\n",
       "      <td>Premium</td>\n",
       "      <td>Home Delivery - CoD</td>\n",
       "      <td>8.0</td>\n",
       "      <td>1.5</td>\n",
       "      <td>12.98</td>\n",
       "    </tr>\n",
       "    <tr>\n",
       "      <th>2</th>\n",
       "      <td>1/2/2019</td>\n",
       "      <td>2C15B86534E</td>\n",
       "      <td>99.0</td>\n",
       "      <td>1.0</td>\n",
       "      <td>Premium</td>\n",
       "      <td>Delivery from Collection Point</td>\n",
       "      <td>0.0</td>\n",
       "      <td>3.3</td>\n",
       "      <td>13.96</td>\n",
       "    </tr>\n",
       "    <tr>\n",
       "      <th>3</th>\n",
       "      <td>1/2/2019</td>\n",
       "      <td>2C32D9A859A</td>\n",
       "      <td>6.0</td>\n",
       "      <td>1.0</td>\n",
       "      <td>Premium</td>\n",
       "      <td>Home Delivery - CoD</td>\n",
       "      <td>0.0</td>\n",
       "      <td>2.7</td>\n",
       "      <td>11.96</td>\n",
       "    </tr>\n",
       "    <tr>\n",
       "      <th>4</th>\n",
       "      <td>1/2/2019</td>\n",
       "      <td>2C7A55404D1</td>\n",
       "      <td>4.0</td>\n",
       "      <td>1.0</td>\n",
       "      <td>Premium</td>\n",
       "      <td>Home Delivery - CoD</td>\n",
       "      <td>0.0</td>\n",
       "      <td>2.5</td>\n",
       "      <td>11.96</td>\n",
       "    </tr>\n",
       "    <tr>\n",
       "      <th>...</th>\n",
       "      <td>...</td>\n",
       "      <td>...</td>\n",
       "      <td>...</td>\n",
       "      <td>...</td>\n",
       "      <td>...</td>\n",
       "      <td>...</td>\n",
       "      <td>...</td>\n",
       "      <td>...</td>\n",
       "      <td>...</td>\n",
       "    </tr>\n",
       "    <tr>\n",
       "      <th>2455765</th>\n",
       "      <td>28/10/2018</td>\n",
       "      <td>2BD992B5538</td>\n",
       "      <td>12.0</td>\n",
       "      <td>1.0</td>\n",
       "      <td>Premium</td>\n",
       "      <td>Home Delivery - CoD</td>\n",
       "      <td>8.0</td>\n",
       "      <td>1.5</td>\n",
       "      <td>12.98</td>\n",
       "    </tr>\n",
       "    <tr>\n",
       "      <th>2455766</th>\n",
       "      <td>28/10/2018</td>\n",
       "      <td>2C97CD72233</td>\n",
       "      <td>17.0</td>\n",
       "      <td>1.0</td>\n",
       "      <td>Premium</td>\n",
       "      <td>Home Delivery - CoD</td>\n",
       "      <td>10.0</td>\n",
       "      <td>1.8</td>\n",
       "      <td>12.98</td>\n",
       "    </tr>\n",
       "    <tr>\n",
       "      <th>2455767</th>\n",
       "      <td>28/10/2018</td>\n",
       "      <td>2C91C61D372</td>\n",
       "      <td>40.0</td>\n",
       "      <td>1.0</td>\n",
       "      <td>Premium</td>\n",
       "      <td>Home Delivery - CoD</td>\n",
       "      <td>12.0</td>\n",
       "      <td>1.8</td>\n",
       "      <td>19.98</td>\n",
       "    </tr>\n",
       "    <tr>\n",
       "      <th>2455768</th>\n",
       "      <td>28/10/2018</td>\n",
       "      <td>2CD70CFC4E3</td>\n",
       "      <td>51.0</td>\n",
       "      <td>1.0</td>\n",
       "      <td>Premium</td>\n",
       "      <td>Home Delivery - CoD</td>\n",
       "      <td>18.0</td>\n",
       "      <td>2.9</td>\n",
       "      <td>23.98</td>\n",
       "    </tr>\n",
       "    <tr>\n",
       "      <th>2455769</th>\n",
       "      <td>28/10/2018</td>\n",
       "      <td>2C4792A5B84</td>\n",
       "      <td>4.0</td>\n",
       "      <td>1.0</td>\n",
       "      <td>Premium</td>\n",
       "      <td>Home Delivery - CoD</td>\n",
       "      <td>0.0</td>\n",
       "      <td>2.5</td>\n",
       "      <td>11.96</td>\n",
       "    </tr>\n",
       "  </tbody>\n",
       "</table>\n",
       "<p>2455770 rows × 9 columns</p>\n",
       "</div>"
      ],
      "text/plain": [
       "        PURCHASE_DATE    MAGIC_KEY  BOX_ID  BOX_COUNT  QUALITY  \\\n",
       "0            1/2/2019  2CED678A247    12.0        1.0  Premium   \n",
       "1            1/2/2019  2BF58D91BA1    12.0        1.0  Premium   \n",
       "2            1/2/2019  2C15B86534E    99.0        1.0  Premium   \n",
       "3            1/2/2019  2C32D9A859A     6.0        1.0  Premium   \n",
       "4            1/2/2019  2C7A55404D1     4.0        1.0  Premium   \n",
       "...               ...          ...     ...        ...      ...   \n",
       "2455765    28/10/2018  2BD992B5538    12.0        1.0  Premium   \n",
       "2455766    28/10/2018  2C97CD72233    17.0        1.0  Premium   \n",
       "2455767    28/10/2018  2C91C61D372    40.0        1.0  Premium   \n",
       "2455768    28/10/2018  2CD70CFC4E3    51.0        1.0  Premium   \n",
       "2455769    28/10/2018  2C4792A5B84     4.0        1.0  Premium   \n",
       "\n",
       "                        DELIVERY_OPTION  MILK  MEAT  UNIT_PRICE  \n",
       "0                   Home Delivery - CoD   8.0   1.5       12.98  \n",
       "1                   Home Delivery - CoD   8.0   1.5       12.98  \n",
       "2        Delivery from Collection Point   0.0   3.3       13.96  \n",
       "3                   Home Delivery - CoD   0.0   2.7       11.96  \n",
       "4                   Home Delivery - CoD   0.0   2.5       11.96  \n",
       "...                                 ...   ...   ...         ...  \n",
       "2455765             Home Delivery - CoD   8.0   1.5       12.98  \n",
       "2455766             Home Delivery - CoD  10.0   1.8       12.98  \n",
       "2455767             Home Delivery - CoD  12.0   1.8       19.98  \n",
       "2455768             Home Delivery - CoD  18.0   2.9       23.98  \n",
       "2455769             Home Delivery - CoD   0.0   2.5       11.96  \n",
       "\n",
       "[2455770 rows x 9 columns]"
      ]
     },
     "execution_count": 32,
     "metadata": {},
     "output_type": "execute_result"
    }
   ],
   "source": [
    "merged_df"
   ]
  },
  {
   "cell_type": "code",
   "execution_count": 33,
   "id": "4d45e617-fa8c-48b4-9ef3-3739d2c20c1b",
   "metadata": {},
   "outputs": [
    {
     "name": "stdout",
     "output_type": "stream",
     "text": [
      "<class 'pandas.core.frame.DataFrame'>\n",
      "RangeIndex: 2455770 entries, 0 to 2455769\n",
      "Data columns (total 9 columns):\n",
      " #   Column           Dtype  \n",
      "---  ------           -----  \n",
      " 0   PURCHASE_DATE    object \n",
      " 1   MAGIC_KEY        object \n",
      " 2   BOX_ID           float64\n",
      " 3   BOX_COUNT        float64\n",
      " 4   QUALITY          object \n",
      " 5   DELIVERY_OPTION  object \n",
      " 6   MILK             float64\n",
      " 7   MEAT             float64\n",
      " 8   UNIT_PRICE       float64\n",
      "dtypes: float64(5), object(4)\n",
      "memory usage: 168.6+ MB\n"
     ]
    }
   ],
   "source": [
    "merged_df.info()"
   ]
  },
  {
   "cell_type": "code",
   "execution_count": 34,
   "id": "0ba1069a-0dd6-4029-aceb-008074a423b3",
   "metadata": {},
   "outputs": [
    {
     "data": {
      "text/html": [
       "<div>\n",
       "<style scoped>\n",
       "    .dataframe tbody tr th:only-of-type {\n",
       "        vertical-align: middle;\n",
       "    }\n",
       "\n",
       "    .dataframe tbody tr th {\n",
       "        vertical-align: top;\n",
       "    }\n",
       "\n",
       "    .dataframe thead th {\n",
       "        text-align: right;\n",
       "    }\n",
       "</style>\n",
       "<table border=\"1\" class=\"dataframe\">\n",
       "  <thead>\n",
       "    <tr style=\"text-align: right;\">\n",
       "      <th></th>\n",
       "      <th>BOX_ID</th>\n",
       "      <th>BOX_COUNT</th>\n",
       "      <th>MILK</th>\n",
       "      <th>MEAT</th>\n",
       "      <th>UNIT_PRICE</th>\n",
       "    </tr>\n",
       "  </thead>\n",
       "  <tbody>\n",
       "    <tr>\n",
       "      <th>count</th>\n",
       "      <td>2.455770e+06</td>\n",
       "      <td>2.455770e+06</td>\n",
       "      <td>2.455770e+06</td>\n",
       "      <td>2.455770e+06</td>\n",
       "      <td>2.455770e+06</td>\n",
       "    </tr>\n",
       "    <tr>\n",
       "      <th>mean</th>\n",
       "      <td>1.539687e+02</td>\n",
       "      <td>1.001126e+00</td>\n",
       "      <td>8.132562e+00</td>\n",
       "      <td>2.055554e+00</td>\n",
       "      <td>1.762173e+01</td>\n",
       "    </tr>\n",
       "    <tr>\n",
       "      <th>std</th>\n",
       "      <td>7.043995e+01</td>\n",
       "      <td>4.419170e-02</td>\n",
       "      <td>5.777920e+00</td>\n",
       "      <td>9.765884e-01</td>\n",
       "      <td>4.068327e+00</td>\n",
       "    </tr>\n",
       "    <tr>\n",
       "      <th>min</th>\n",
       "      <td>1.000000e+00</td>\n",
       "      <td>1.000000e+00</td>\n",
       "      <td>0.000000e+00</td>\n",
       "      <td>0.000000e+00</td>\n",
       "      <td>5.560000e+00</td>\n",
       "    </tr>\n",
       "    <tr>\n",
       "      <th>25%</th>\n",
       "      <td>1.060000e+02</td>\n",
       "      <td>1.000000e+00</td>\n",
       "      <td>0.000000e+00</td>\n",
       "      <td>1.800000e+00</td>\n",
       "      <td>1.396000e+01</td>\n",
       "    </tr>\n",
       "    <tr>\n",
       "      <th>50%</th>\n",
       "      <td>1.430000e+02</td>\n",
       "      <td>1.000000e+00</td>\n",
       "      <td>1.000000e+01</td>\n",
       "      <td>2.200000e+00</td>\n",
       "      <td>1.798000e+01</td>\n",
       "    </tr>\n",
       "    <tr>\n",
       "      <th>75%</th>\n",
       "      <td>2.150000e+02</td>\n",
       "      <td>1.000000e+00</td>\n",
       "      <td>1.100000e+01</td>\n",
       "      <td>2.500000e+00</td>\n",
       "      <td>1.998000e+01</td>\n",
       "    </tr>\n",
       "    <tr>\n",
       "      <th>max</th>\n",
       "      <td>2.900000e+02</td>\n",
       "      <td>1.900000e+01</td>\n",
       "      <td>2.400000e+01</td>\n",
       "      <td>5.800000e+00</td>\n",
       "      <td>2.398000e+01</td>\n",
       "    </tr>\n",
       "  </tbody>\n",
       "</table>\n",
       "</div>"
      ],
      "text/plain": [
       "             BOX_ID     BOX_COUNT          MILK          MEAT    UNIT_PRICE\n",
       "count  2.455770e+06  2.455770e+06  2.455770e+06  2.455770e+06  2.455770e+06\n",
       "mean   1.539687e+02  1.001126e+00  8.132562e+00  2.055554e+00  1.762173e+01\n",
       "std    7.043995e+01  4.419170e-02  5.777920e+00  9.765884e-01  4.068327e+00\n",
       "min    1.000000e+00  1.000000e+00  0.000000e+00  0.000000e+00  5.560000e+00\n",
       "25%    1.060000e+02  1.000000e+00  0.000000e+00  1.800000e+00  1.396000e+01\n",
       "50%    1.430000e+02  1.000000e+00  1.000000e+01  2.200000e+00  1.798000e+01\n",
       "75%    2.150000e+02  1.000000e+00  1.100000e+01  2.500000e+00  1.998000e+01\n",
       "max    2.900000e+02  1.900000e+01  2.400000e+01  5.800000e+00  2.398000e+01"
      ]
     },
     "execution_count": 34,
     "metadata": {},
     "output_type": "execute_result"
    }
   ],
   "source": [
    "merged_df.describe()"
   ]
  },
  {
   "cell_type": "code",
   "execution_count": 35,
   "id": "7366c267-a5c9-4a21-a23c-281e178db87f",
   "metadata": {},
   "outputs": [],
   "source": [
    "merged_df['PURCHASE_DATE'] = pd.to_datetime(merged_df['PURCHASE_DATE'], format=\"%d/%m/%Y\")"
   ]
  },
  {
   "cell_type": "code",
   "execution_count": 36,
   "id": "75882104-b3ca-47f9-9c84-054cc116ffa3",
   "metadata": {},
   "outputs": [
    {
     "name": "stdout",
     "output_type": "stream",
     "text": [
      "<class 'pandas.core.frame.DataFrame'>\n",
      "RangeIndex: 2455770 entries, 0 to 2455769\n",
      "Data columns (total 9 columns):\n",
      " #   Column           Dtype         \n",
      "---  ------           -----         \n",
      " 0   PURCHASE_DATE    datetime64[ns]\n",
      " 1   MAGIC_KEY        object        \n",
      " 2   BOX_ID           float64       \n",
      " 3   BOX_COUNT        float64       \n",
      " 4   QUALITY          object        \n",
      " 5   DELIVERY_OPTION  object        \n",
      " 6   MILK             float64       \n",
      " 7   MEAT             float64       \n",
      " 8   UNIT_PRICE       float64       \n",
      "dtypes: datetime64[ns](1), float64(5), object(3)\n",
      "memory usage: 168.6+ MB\n"
     ]
    }
   ],
   "source": [
    "merged_df.info()"
   ]
  },
  {
   "cell_type": "code",
   "execution_count": 37,
   "id": "f730ab84-3ab6-470a-b50f-470efcab8012",
   "metadata": {},
   "outputs": [
    {
     "data": {
      "text/html": [
       "<div>\n",
       "<style scoped>\n",
       "    .dataframe tbody tr th:only-of-type {\n",
       "        vertical-align: middle;\n",
       "    }\n",
       "\n",
       "    .dataframe tbody tr th {\n",
       "        vertical-align: top;\n",
       "    }\n",
       "\n",
       "    .dataframe thead th {\n",
       "        text-align: right;\n",
       "    }\n",
       "</style>\n",
       "<table border=\"1\" class=\"dataframe\">\n",
       "  <thead>\n",
       "    <tr style=\"text-align: right;\">\n",
       "      <th></th>\n",
       "      <th>PURCHASE_DATE</th>\n",
       "      <th>BOX_ID</th>\n",
       "      <th>BOX_COUNT</th>\n",
       "      <th>MILK</th>\n",
       "      <th>MEAT</th>\n",
       "      <th>UNIT_PRICE</th>\n",
       "    </tr>\n",
       "  </thead>\n",
       "  <tbody>\n",
       "    <tr>\n",
       "      <th>count</th>\n",
       "      <td>2455770</td>\n",
       "      <td>2.455770e+06</td>\n",
       "      <td>2.455770e+06</td>\n",
       "      <td>2.455770e+06</td>\n",
       "      <td>2.455770e+06</td>\n",
       "      <td>2.455770e+06</td>\n",
       "    </tr>\n",
       "    <tr>\n",
       "      <th>mean</th>\n",
       "      <td>2018-12-20 16:11:50.650264576</td>\n",
       "      <td>1.539687e+02</td>\n",
       "      <td>1.001126e+00</td>\n",
       "      <td>8.132562e+00</td>\n",
       "      <td>2.055554e+00</td>\n",
       "      <td>1.762173e+01</td>\n",
       "    </tr>\n",
       "    <tr>\n",
       "      <th>min</th>\n",
       "      <td>2018-10-01 00:00:00</td>\n",
       "      <td>1.000000e+00</td>\n",
       "      <td>1.000000e+00</td>\n",
       "      <td>0.000000e+00</td>\n",
       "      <td>0.000000e+00</td>\n",
       "      <td>5.560000e+00</td>\n",
       "    </tr>\n",
       "    <tr>\n",
       "      <th>25%</th>\n",
       "      <td>2018-11-11 00:00:00</td>\n",
       "      <td>1.060000e+02</td>\n",
       "      <td>1.000000e+00</td>\n",
       "      <td>0.000000e+00</td>\n",
       "      <td>1.800000e+00</td>\n",
       "      <td>1.396000e+01</td>\n",
       "    </tr>\n",
       "    <tr>\n",
       "      <th>50%</th>\n",
       "      <td>2018-12-24 00:00:00</td>\n",
       "      <td>1.430000e+02</td>\n",
       "      <td>1.000000e+00</td>\n",
       "      <td>1.000000e+01</td>\n",
       "      <td>2.200000e+00</td>\n",
       "      <td>1.798000e+01</td>\n",
       "    </tr>\n",
       "    <tr>\n",
       "      <th>75%</th>\n",
       "      <td>2019-01-30 00:00:00</td>\n",
       "      <td>2.150000e+02</td>\n",
       "      <td>1.000000e+00</td>\n",
       "      <td>1.100000e+01</td>\n",
       "      <td>2.500000e+00</td>\n",
       "      <td>1.998000e+01</td>\n",
       "    </tr>\n",
       "    <tr>\n",
       "      <th>max</th>\n",
       "      <td>2019-02-28 00:00:00</td>\n",
       "      <td>2.900000e+02</td>\n",
       "      <td>1.900000e+01</td>\n",
       "      <td>2.400000e+01</td>\n",
       "      <td>5.800000e+00</td>\n",
       "      <td>2.398000e+01</td>\n",
       "    </tr>\n",
       "    <tr>\n",
       "      <th>std</th>\n",
       "      <td>NaN</td>\n",
       "      <td>7.043995e+01</td>\n",
       "      <td>4.419170e-02</td>\n",
       "      <td>5.777920e+00</td>\n",
       "      <td>9.765884e-01</td>\n",
       "      <td>4.068327e+00</td>\n",
       "    </tr>\n",
       "  </tbody>\n",
       "</table>\n",
       "</div>"
      ],
      "text/plain": [
       "                       PURCHASE_DATE        BOX_ID     BOX_COUNT  \\\n",
       "count                        2455770  2.455770e+06  2.455770e+06   \n",
       "mean   2018-12-20 16:11:50.650264576  1.539687e+02  1.001126e+00   \n",
       "min              2018-10-01 00:00:00  1.000000e+00  1.000000e+00   \n",
       "25%              2018-11-11 00:00:00  1.060000e+02  1.000000e+00   \n",
       "50%              2018-12-24 00:00:00  1.430000e+02  1.000000e+00   \n",
       "75%              2019-01-30 00:00:00  2.150000e+02  1.000000e+00   \n",
       "max              2019-02-28 00:00:00  2.900000e+02  1.900000e+01   \n",
       "std                              NaN  7.043995e+01  4.419170e-02   \n",
       "\n",
       "               MILK          MEAT    UNIT_PRICE  \n",
       "count  2.455770e+06  2.455770e+06  2.455770e+06  \n",
       "mean   8.132562e+00  2.055554e+00  1.762173e+01  \n",
       "min    0.000000e+00  0.000000e+00  5.560000e+00  \n",
       "25%    0.000000e+00  1.800000e+00  1.396000e+01  \n",
       "50%    1.000000e+01  2.200000e+00  1.798000e+01  \n",
       "75%    1.100000e+01  2.500000e+00  1.998000e+01  \n",
       "max    2.400000e+01  5.800000e+00  2.398000e+01  \n",
       "std    5.777920e+00  9.765884e-01  4.068327e+00  "
      ]
     },
     "execution_count": 37,
     "metadata": {},
     "output_type": "execute_result"
    }
   ],
   "source": [
    "merged_df.describe()"
   ]
  },
  {
   "cell_type": "code",
   "execution_count": 38,
   "id": "64df6b1d-5fe9-4334-bd42-ac6a6eca7e2a",
   "metadata": {},
   "outputs": [],
   "source": [
    "merged_df.to_csv('merged_df.csv', index=False)"
   ]
  },
  {
   "cell_type": "code",
   "execution_count": null,
   "id": "5543727e-672a-44c5-8e09-5251f5b57373",
   "metadata": {},
   "outputs": [],
   "source": []
  }
 ],
 "metadata": {
  "kernelspec": {
   "display_name": "Python 3 (ipykernel)",
   "language": "python",
   "name": "python3"
  },
  "language_info": {
   "codemirror_mode": {
    "name": "ipython",
    "version": 3
   },
   "file_extension": ".py",
   "mimetype": "text/x-python",
   "name": "python",
   "nbconvert_exporter": "python",
   "pygments_lexer": "ipython3",
   "version": "3.12.1"
  }
 },
 "nbformat": 4,
 "nbformat_minor": 5
}
