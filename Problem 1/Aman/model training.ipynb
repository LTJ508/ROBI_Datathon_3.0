{
 "cells": [
  {
   "cell_type": "code",
   "execution_count": 1,
   "id": "04db7bdc-60ad-472c-8a1f-380d7fe589be",
   "metadata": {
    "editable": true,
    "slideshow": {
     "slide_type": ""
    },
    "tags": []
   },
   "outputs": [],
   "source": [
    "import os\n",
    "#import jovian\n",
    "import matplotlib\n",
    "import opendatasets as od\n",
    "import numpy as np\n",
    "import pandas as pd\n",
    "import matplotlib.pyplot as plt\n",
    "import seaborn as sns\n",
    "import plotly.express as px\n",
    "%matplotlib inline\n",
    "sns.set_style('darkgrid')\n",
    "matplotlib.rcParams['font.size'] = 14\n",
    "matplotlib.rcParams['figure.figsize'] = (10, 6)\n",
    "matplotlib.rcParams['figure.facecolor'] = '#00000000'"
   ]
  },
  {
   "cell_type": "code",
   "execution_count": 2,
   "id": "bee91789-9ea5-49ee-9a94-3db04b64eda7",
   "metadata": {},
   "outputs": [],
   "source": [
    "merged_df = pd.read_csv('merged_data_2.csv')"
   ]
  },
  {
   "cell_type": "code",
   "execution_count": 3,
   "id": "44e0f8dc-8ff1-4bba-a02a-8cad1091ca6d",
   "metadata": {
    "editable": true,
    "slideshow": {
     "slide_type": ""
    },
    "tags": []
   },
   "outputs": [],
   "source": [
    "#submission_df = pd.read_csv('sample submission 1.csv)"
   ]
  },
  {
   "cell_type": "code",
   "execution_count": 4,
   "id": "e406859e-e2c5-43ae-bc20-f31341a914bc",
   "metadata": {},
   "outputs": [],
   "source": [
    "#submission_df.nunique()"
   ]
  },
  {
   "cell_type": "code",
   "execution_count": 5,
   "id": "860dd55b-b65d-4387-a3f9-2cfab43a937d",
   "metadata": {
    "editable": true,
    "slideshow": {
     "slide_type": ""
    },
    "tags": []
   },
   "outputs": [],
   "source": [
    "merged_df['PURCHASE_DATE'] = pd.to_datetime(merged_df['PURCHASE_DATE'])\n",
    "#merged_df['LAST_PURCHASE_DATE'] = pd.to_datetime(merged_df['LAST_PURCHASE_DATE'])# Assuming df is your DataFrame and cols_to_drop is a list of column names to drop\n",
    "\n"
   ]
  },
  {
   "cell_type": "code",
   "execution_count": 6,
   "id": "564d2a35-b40c-450f-8ab4-1b920eab86be",
   "metadata": {},
   "outputs": [
    {
     "data": {
      "text/plain": [
       "Index(['MAGIC_KEY', 'PURCHASE_COUNT_x', 'PURCHASE_COUNT_y',\n",
       "       'TOTAL_AMOUNT_SPENT', 'BOX_ID', 'QUALITY', 'DELIVERY_OPTION', 'MILK',\n",
       "       'MEAT', 'UNIT_PRICE', 'PURCHASE_DATE', 'BOX_COUNT', 'PURCHASE',\n",
       "       'TOTAL_AMOUNT', 'DAY_SINCE_LAST_PURCHASE', 'TIME_DIFF', 'AVERAGE_DIFF',\n",
       "       '10_FIRST_PURCHASE_2018', '10_LAST_PURCHASE_2018',\n",
       "       '11_FIRST_PURCHASE_2018', '11_LAST_PURCHASE_2018',\n",
       "       '12_FIRST_PURCHASE_2018', '12_LAST_PURCHASE_2018',\n",
       "       '01_FIRST_PURCHASE_2019', '01_LAST_PURCHASE_2019',\n",
       "       '02_FIRST_PURCHASE_2019', '02_LAST_PURCHASE_2019', 'TOTAL_MEAT_x',\n",
       "       'MEAT_PURCHASE_FREEQUENCY', 'TOTAL_MEAT_y', 'MILK_PURCHASE_FREEQUENCY',\n",
       "       'DAY', 'MONTH', 'YEAR', 'OCT_MEAT', 'NOV_MEAT', 'DEC_MEAT', 'JAN_MEAT',\n",
       "       'FEB_MEAT', 'OCT_MILK', 'NOV_MILK', 'DEC_MILK', 'JAN_MILK', 'FEB_MILK'],\n",
       "      dtype='object')"
      ]
     },
     "execution_count": 6,
     "metadata": {},
     "output_type": "execute_result"
    }
   ],
   "source": [
    "(merged_df.columns)"
   ]
  },
  {
   "cell_type": "code",
   "execution_count": null,
   "id": "3afd45c1-0f39-45ed-8f54-b09e6f7c2440",
   "metadata": {},
   "outputs": [],
   "source": []
  },
  {
   "cell_type": "markdown",
   "id": "cfcb792a-8db8-499a-b043-c932bb38e878",
   "metadata": {},
   "source": [
    "### Encoding Categorical Data"
   ]
  },
  {
   "cell_type": "code",
   "execution_count": 7,
   "id": "a86dfce8-5c52-456f-95de-a79fbc1322fa",
   "metadata": {},
   "outputs": [],
   "source": [
    "from sklearn.preprocessing import LabelEncoder\n",
    "import pickle"
   ]
  },
  {
   "cell_type": "code",
   "execution_count": null,
   "id": "6931339e-5d4d-411b-9efa-2b4444a67122",
   "metadata": {},
   "outputs": [],
   "source": []
  },
  {
   "cell_type": "code",
   "execution_count": 8,
   "id": "85bf785e-c2dd-4bc0-85ca-31d695f82309",
   "metadata": {
    "editable": true,
    "slideshow": {
     "slide_type": ""
    },
    "tags": []
   },
   "outputs": [],
   "source": [
    "le = LabelEncoder() #creating an instance of LabelEncoder\n",
    "merged_df['MAGIC_KEY_ENCODED'] = le.fit_transform(merged_df['MAGIC_KEY'])\n",
    "merged_df['DELIVERY_ENCODED'] = le.fit_transform(merged_df['DELIVERY_OPTION'])\n",
    "merged_df['QUALITY_ENCODED'] = le.fit_transform(merged_df['QUALITY'])"
   ]
  },
  {
   "cell_type": "code",
   "execution_count": 9,
   "id": "7a03557b-fbb5-4a4e-8489-b4825b8b7b6f",
   "metadata": {},
   "outputs": [],
   "source": [
    "prb_df_without_encode = pd.read_csv('problem 1.csv')\n",
    "prb_df_encode = prb_df_without_encode.copy()"
   ]
  },
  {
   "cell_type": "code",
   "execution_count": 10,
   "id": "6b1c5aaa-6cde-4803-b851-a0d63d6dd5d1",
   "metadata": {},
   "outputs": [],
   "source": [
    "prb_df_encode = prb_df_encode.merge(merged_df, on='MAGIC_KEY', how='left').drop_duplicates(subset=['MAGIC_KEY'])\n"
   ]
  },
  {
   "cell_type": "code",
   "execution_count": 11,
   "id": "ee196d75-6717-41e2-9307-44ecbcf26193",
   "metadata": {
    "editable": true,
    "slideshow": {
     "slide_type": ""
    },
    "tags": []
   },
   "outputs": [],
   "source": [
    "#prb_df_encode.MAGIC_KEY.value_counts()"
   ]
  },
  {
   "cell_type": "code",
   "execution_count": 12,
   "id": "7a2dc82b-6911-436f-83f3-3c54c749183d",
   "metadata": {},
   "outputs": [],
   "source": [
    "#prb_df_encode"
   ]
  },
  {
   "cell_type": "markdown",
   "id": "652944ab-aa7a-4f53-9e80-66ea13e5167a",
   "metadata": {},
   "source": [
    "## Added magic key encode in the submission df"
   ]
  },
  {
   "cell_type": "code",
   "execution_count": 13,
   "id": "a975fd3d-7cdc-4984-a109-032127bdfb18",
   "metadata": {},
   "outputs": [],
   "source": [
    "prb_df_encode['MAGIC_KEY_ENCODED'] = le.fit_transform(prb_df_encode['MAGIC_KEY'])\n"
   ]
  },
  {
   "cell_type": "code",
   "execution_count": 14,
   "id": "79f93f3c-4ffd-4abb-9f71-3fdfbafd6cf3",
   "metadata": {},
   "outputs": [],
   "source": [
    "### drop purchase date and last purchase date column\n",
    "#prb_df_encode = prb_df_encode.drop(columns=['MAGIC_KEY'])"
   ]
  },
  {
   "cell_type": "code",
   "execution_count": 15,
   "id": "0db48ebc-6bd8-4549-8045-80be176a782a",
   "metadata": {},
   "outputs": [
    {
     "data": {
      "text/plain": [
       "0"
      ]
     },
     "execution_count": 15,
     "metadata": {},
     "output_type": "execute_result"
    }
   ],
   "source": [
    "prb_df_encode.duplicated().sum()"
   ]
  },
  {
   "cell_type": "code",
   "execution_count": 16,
   "id": "40af2487-6a56-4c43-bcdc-7a48a171b7e2",
   "metadata": {},
   "outputs": [],
   "source": [
    "#prb_df_encode.info()"
   ]
  },
  {
   "cell_type": "code",
   "execution_count": null,
   "id": "a83dbada-ac07-4bdf-a153-2befede2f104",
   "metadata": {},
   "outputs": [],
   "source": []
  },
  {
   "cell_type": "code",
   "execution_count": 17,
   "id": "5c066275-11ef-462c-a67a-16b6545d556d",
   "metadata": {},
   "outputs": [],
   "source": [
    "merged_df['MAGIC_KEY_ENCODED'] = le.fit_transform(merged_df['MAGIC_KEY'])\n"
   ]
  },
  {
   "cell_type": "markdown",
   "id": "a809213c-4907-42ad-b198-0b9a88b1da40",
   "metadata": {},
   "source": [
    "## col drop"
   ]
  },
  {
   "cell_type": "code",
   "execution_count": 18,
   "id": "039cde31-7408-46d8-a4f7-1acf81229648",
   "metadata": {},
   "outputs": [],
   "source": [
    "# Assuming df is your DataFrame and cols_to_drop is a list of column names to drop\n",
    "cols_to_drop = [ 'TOTAL_MEAT_x','MEAT_PURCHASE_FREEQUENCY', 'TOTAL_MEAT_y', 'MILK_PURCHASE_FREEQUENCY','NOV_MEAT', '02_LAST_PURCHASE_2019', 'PURCHASE_COUNT_x','DELIVERY_ENCODED', 'JAN_MILK', 'NOV_MILK', 'OCT_MILK', 'AVERAGE_DIFF', 'BOX_ID',  'TOTAL_AMOUNT_SPENT', 'UNIT_PRICE' , 'BOX_COUNT']\n",
    "\n",
    "# Drop the specified columns\n",
    "merged_df.drop(columns=cols_to_drop, inplace=True)\n"
   ]
  },
  {
   "cell_type": "code",
   "execution_count": null,
   "id": "52d3d908-d477-423d-a4d9-376574abe4d2",
   "metadata": {},
   "outputs": [],
   "source": []
  },
  {
   "cell_type": "code",
   "execution_count": null,
   "id": "43caf647-5149-41b8-82d9-97de9bca7101",
   "metadata": {},
   "outputs": [],
   "source": []
  },
  {
   "cell_type": "code",
   "execution_count": null,
   "id": "34f95197-486e-460c-b18a-768daf0f3619",
   "metadata": {},
   "outputs": [],
   "source": []
  },
  {
   "cell_type": "code",
   "execution_count": null,
   "id": "739f2ce3-0c57-4a8d-8857-28d21a6ca7f6",
   "metadata": {},
   "outputs": [],
   "source": []
  },
  {
   "cell_type": "code",
   "execution_count": null,
   "id": "dae085e5-0dd4-495c-8783-229a68d4d418",
   "metadata": {},
   "outputs": [],
   "source": []
  },
  {
   "cell_type": "code",
   "execution_count": null,
   "id": "d253f305-58af-45bb-9bf9-8b30674971eb",
   "metadata": {},
   "outputs": [],
   "source": []
  },
  {
   "cell_type": "code",
   "execution_count": null,
   "id": "368cafdb-1ab7-40a5-8837-310b4a7cabcc",
   "metadata": {},
   "outputs": [],
   "source": []
  },
  {
   "cell_type": "markdown",
   "id": "bfc6c7f1-6a57-4605-94d2-d57b401b2e67",
   "metadata": {},
   "source": [
    "## splitting dataset for training and val set"
   ]
  },
  {
   "cell_type": "code",
   "execution_count": 19,
   "id": "3282d7b7-3ec3-47df-ab9d-d64855f650f8",
   "metadata": {},
   "outputs": [
    {
     "data": {
      "text/plain": [
       "2455770"
      ]
     },
     "execution_count": 19,
     "metadata": {},
     "output_type": "execute_result"
    }
   ],
   "source": [
    "len(merged_df)"
   ]
  },
  {
   "cell_type": "code",
   "execution_count": 20,
   "id": "9d3fa2c0-e3cf-497b-84d5-02d159e1dc00",
   "metadata": {},
   "outputs": [
    {
     "data": {
      "text/plain": [
       "1841827"
      ]
     },
     "execution_count": 20,
     "metadata": {},
     "output_type": "execute_result"
    }
   ],
   "source": [
    "train_size = int(.75 * len(merged_df))\n",
    "train_size"
   ]
  },
  {
   "cell_type": "code",
   "execution_count": 21,
   "id": "9af6ed18-7fff-485c-bb91-d77eb9166efd",
   "metadata": {},
   "outputs": [],
   "source": [
    "sorted_df = merged_df.sort_values('PURCHASE_DATE')\n",
    "train_df, val_df = sorted_df[:train_size], sorted_df[train_size:]"
   ]
  },
  {
   "cell_type": "code",
   "execution_count": 22,
   "id": "8806c202-9b06-4bb3-8d9e-c5269aecb2d8",
   "metadata": {},
   "outputs": [
    {
     "data": {
      "text/plain": [
       "(1841827, 613943)"
      ]
     },
     "execution_count": 22,
     "metadata": {},
     "output_type": "execute_result"
    }
   ],
   "source": [
    "len(train_df), len(val_df)"
   ]
  },
  {
   "cell_type": "code",
   "execution_count": 23,
   "id": "21e87e69-1177-4a29-aaf7-9545d18067d3",
   "metadata": {},
   "outputs": [
    {
     "data": {
      "text/plain": [
       "(Timestamp('2019-01-30 00:00:00'), Timestamp('2019-02-28 00:00:00'))"
      ]
     },
     "execution_count": 23,
     "metadata": {},
     "output_type": "execute_result"
    }
   ],
   "source": [
    "val_df.PURCHASE_DATE.min(), val_df.PURCHASE_DATE.max()"
   ]
  },
  {
   "cell_type": "code",
   "execution_count": 24,
   "id": "1a878afe-461e-4434-a0f2-464b3e34510a",
   "metadata": {},
   "outputs": [
    {
     "data": {
      "text/html": [
       "<div>\n",
       "<style scoped>\n",
       "    .dataframe tbody tr th:only-of-type {\n",
       "        vertical-align: middle;\n",
       "    }\n",
       "\n",
       "    .dataframe tbody tr th {\n",
       "        vertical-align: top;\n",
       "    }\n",
       "\n",
       "    .dataframe thead th {\n",
       "        text-align: right;\n",
       "    }\n",
       "</style>\n",
       "<table border=\"1\" class=\"dataframe\">\n",
       "  <thead>\n",
       "    <tr style=\"text-align: right;\">\n",
       "      <th></th>\n",
       "      <th>MAGIC_KEY</th>\n",
       "      <th>PURCHASE_COUNT_y</th>\n",
       "      <th>QUALITY</th>\n",
       "      <th>DELIVERY_OPTION</th>\n",
       "      <th>MILK</th>\n",
       "      <th>MEAT</th>\n",
       "      <th>PURCHASE_DATE</th>\n",
       "      <th>PURCHASE</th>\n",
       "      <th>TOTAL_AMOUNT</th>\n",
       "      <th>DAY_SINCE_LAST_PURCHASE</th>\n",
       "      <th>...</th>\n",
       "      <th>MONTH</th>\n",
       "      <th>YEAR</th>\n",
       "      <th>OCT_MEAT</th>\n",
       "      <th>DEC_MEAT</th>\n",
       "      <th>JAN_MEAT</th>\n",
       "      <th>FEB_MEAT</th>\n",
       "      <th>DEC_MILK</th>\n",
       "      <th>FEB_MILK</th>\n",
       "      <th>MAGIC_KEY_ENCODED</th>\n",
       "      <th>QUALITY_ENCODED</th>\n",
       "    </tr>\n",
       "  </thead>\n",
       "  <tbody>\n",
       "    <tr>\n",
       "      <th>488688</th>\n",
       "      <td>293E499036D</td>\n",
       "      <td>1</td>\n",
       "      <td>Standard</td>\n",
       "      <td>Delivery from Collection Point</td>\n",
       "      <td>10.0</td>\n",
       "      <td>1.8</td>\n",
       "      <td>2018-10-01</td>\n",
       "      <td>Y</td>\n",
       "      <td>17.98</td>\n",
       "      <td>28</td>\n",
       "      <td>...</td>\n",
       "      <td>10</td>\n",
       "      <td>2018</td>\n",
       "      <td>0.0</td>\n",
       "      <td>1.8</td>\n",
       "      <td>0.0</td>\n",
       "      <td>0.0</td>\n",
       "      <td>10.0</td>\n",
       "      <td>0.0</td>\n",
       "      <td>245753</td>\n",
       "      <td>1</td>\n",
       "    </tr>\n",
       "    <tr>\n",
       "      <th>760624</th>\n",
       "      <td>2BCB515E04F</td>\n",
       "      <td>1</td>\n",
       "      <td>Premium</td>\n",
       "      <td>Delivery from Collection Point</td>\n",
       "      <td>8.0</td>\n",
       "      <td>1.3</td>\n",
       "      <td>2018-10-01</td>\n",
       "      <td>Y</td>\n",
       "      <td>15.98</td>\n",
       "      <td>61</td>\n",
       "      <td>...</td>\n",
       "      <td>10</td>\n",
       "      <td>2018</td>\n",
       "      <td>0.0</td>\n",
       "      <td>1.3</td>\n",
       "      <td>0.0</td>\n",
       "      <td>0.0</td>\n",
       "      <td>8.0</td>\n",
       "      <td>0.0</td>\n",
       "      <td>370592</td>\n",
       "      <td>0</td>\n",
       "    </tr>\n",
       "    <tr>\n",
       "      <th>2117599</th>\n",
       "      <td>2CC2B3004ED</td>\n",
       "      <td>4</td>\n",
       "      <td>Premium</td>\n",
       "      <td>Delivery from Collection Point</td>\n",
       "      <td>9.0</td>\n",
       "      <td>1.8</td>\n",
       "      <td>2018-10-01</td>\n",
       "      <td>Y</td>\n",
       "      <td>19.98</td>\n",
       "      <td>0</td>\n",
       "      <td>...</td>\n",
       "      <td>10</td>\n",
       "      <td>2018</td>\n",
       "      <td>2.2</td>\n",
       "      <td>1.8</td>\n",
       "      <td>2.2</td>\n",
       "      <td>0.0</td>\n",
       "      <td>9.0</td>\n",
       "      <td>0.0</td>\n",
       "      <td>1084551</td>\n",
       "      <td>0</td>\n",
       "    </tr>\n",
       "    <tr>\n",
       "      <th>603270</th>\n",
       "      <td>297C90567DC</td>\n",
       "      <td>11</td>\n",
       "      <td>Standard</td>\n",
       "      <td>Delivery from Collection Point</td>\n",
       "      <td>10.0</td>\n",
       "      <td>0.2</td>\n",
       "      <td>2018-10-01</td>\n",
       "      <td>Y</td>\n",
       "      <td>12.18</td>\n",
       "      <td>92</td>\n",
       "      <td>...</td>\n",
       "      <td>10</td>\n",
       "      <td>2018</td>\n",
       "      <td>0.0</td>\n",
       "      <td>2.0</td>\n",
       "      <td>1.8</td>\n",
       "      <td>3.6</td>\n",
       "      <td>20.0</td>\n",
       "      <td>34.7</td>\n",
       "      <td>298784</td>\n",
       "      <td>1</td>\n",
       "    </tr>\n",
       "    <tr>\n",
       "      <th>2007018</th>\n",
       "      <td>2CAFC959E80</td>\n",
       "      <td>1</td>\n",
       "      <td>Premium</td>\n",
       "      <td>Home Delivery - CoD</td>\n",
       "      <td>8.0</td>\n",
       "      <td>1.3</td>\n",
       "      <td>2018-10-01</td>\n",
       "      <td>Y</td>\n",
       "      <td>15.98</td>\n",
       "      <td>0</td>\n",
       "      <td>...</td>\n",
       "      <td>10</td>\n",
       "      <td>2018</td>\n",
       "      <td>0.0</td>\n",
       "      <td>1.3</td>\n",
       "      <td>0.0</td>\n",
       "      <td>0.0</td>\n",
       "      <td>8.0</td>\n",
       "      <td>0.0</td>\n",
       "      <td>1024986</td>\n",
       "      <td>0</td>\n",
       "    </tr>\n",
       "  </tbody>\n",
       "</table>\n",
       "<p>5 rows × 31 columns</p>\n",
       "</div>"
      ],
      "text/plain": [
       "           MAGIC_KEY  PURCHASE_COUNT_y   QUALITY  \\\n",
       "488688   293E499036D                 1  Standard   \n",
       "760624   2BCB515E04F                 1   Premium   \n",
       "2117599  2CC2B3004ED                 4   Premium   \n",
       "603270   297C90567DC                11  Standard   \n",
       "2007018  2CAFC959E80                 1   Premium   \n",
       "\n",
       "                        DELIVERY_OPTION  MILK  MEAT PURCHASE_DATE PURCHASE  \\\n",
       "488688   Delivery from Collection Point  10.0   1.8    2018-10-01        Y   \n",
       "760624   Delivery from Collection Point   8.0   1.3    2018-10-01        Y   \n",
       "2117599  Delivery from Collection Point   9.0   1.8    2018-10-01        Y   \n",
       "603270   Delivery from Collection Point  10.0   0.2    2018-10-01        Y   \n",
       "2007018             Home Delivery - CoD   8.0   1.3    2018-10-01        Y   \n",
       "\n",
       "         TOTAL_AMOUNT  DAY_SINCE_LAST_PURCHASE  ... MONTH  YEAR  OCT_MEAT  \\\n",
       "488688          17.98                       28  ...    10  2018       0.0   \n",
       "760624          15.98                       61  ...    10  2018       0.0   \n",
       "2117599         19.98                        0  ...    10  2018       2.2   \n",
       "603270          12.18                       92  ...    10  2018       0.0   \n",
       "2007018         15.98                        0  ...    10  2018       0.0   \n",
       "\n",
       "         DEC_MEAT  JAN_MEAT  FEB_MEAT  DEC_MILK  FEB_MILK  MAGIC_KEY_ENCODED  \\\n",
       "488688        1.8       0.0       0.0      10.0       0.0             245753   \n",
       "760624        1.3       0.0       0.0       8.0       0.0             370592   \n",
       "2117599       1.8       2.2       0.0       9.0       0.0            1084551   \n",
       "603270        2.0       1.8       3.6      20.0      34.7             298784   \n",
       "2007018       1.3       0.0       0.0       8.0       0.0            1024986   \n",
       "\n",
       "         QUALITY_ENCODED  \n",
       "488688                 1  \n",
       "760624                 0  \n",
       "2117599                0  \n",
       "603270                 1  \n",
       "2007018                0  \n",
       "\n",
       "[5 rows x 31 columns]"
      ]
     },
     "execution_count": 24,
     "metadata": {},
     "output_type": "execute_result"
    }
   ],
   "source": [
    "train_df.head()"
   ]
  },
  {
   "cell_type": "code",
   "execution_count": null,
   "id": "035ca3c7-9963-4c05-8e37-ca1c0549d741",
   "metadata": {},
   "outputs": [],
   "source": []
  },
  {
   "cell_type": "code",
   "execution_count": null,
   "id": "dda46f0b-04de-422a-9d8c-6e79489be2d2",
   "metadata": {},
   "outputs": [],
   "source": []
  },
  {
   "cell_type": "code",
   "execution_count": null,
   "id": "a8bebdb5-df74-49cd-8269-0c1b96641369",
   "metadata": {},
   "outputs": [],
   "source": []
  },
  {
   "cell_type": "code",
   "execution_count": null,
   "id": "c0421b27-1cf9-4c6f-b4d8-306e800c1989",
   "metadata": {},
   "outputs": [],
   "source": []
  },
  {
   "cell_type": "markdown",
   "id": "c38e622a-a8ec-4998-a96f-d86ffb1caf89",
   "metadata": {},
   "source": [
    "# train, test, val split"
   ]
  },
  {
   "cell_type": "code",
   "execution_count": 25,
   "id": "abf4763d-bafd-4fbb-99de-c6d347f835f7",
   "metadata": {},
   "outputs": [],
   "source": [
    "#train_df.info()"
   ]
  },
  {
   "cell_type": "code",
   "execution_count": 26,
   "id": "8e524c2f-e601-4f88-b0f2-ba6662e9952f",
   "metadata": {},
   "outputs": [],
   "source": [
    "### drop purchase date and last purchase date column\n",
    "train_df = train_df.drop(columns=['PURCHASE_DATE', 'MAGIC_KEY', 'QUALITY', 'DELIVERY_OPTION', 'TIME_DIFF'  ])\n",
    "val_df = val_df.drop(columns=['PURCHASE_DATE', 'MAGIC_KEY', 'QUALITY', 'DELIVERY_OPTION', 'TIME_DIFF'])\n",
    "test_df = prb_df_encode.drop(columns=['PURCHASE_DATE', 'MAGIC_KEY', 'QUALITY', 'DELIVERY_OPTION', 'TIME_DIFF'])"
   ]
  },
  {
   "cell_type": "code",
   "execution_count": 27,
   "id": "3daa9bc0-cafa-4c48-933b-c1325b476708",
   "metadata": {},
   "outputs": [
    {
     "name": "stdout",
     "output_type": "stream",
     "text": [
      "<class 'pandas.core.frame.DataFrame'>\n",
      "Index: 1841827 entries, 488688 to 666305\n",
      "Data columns (total 26 columns):\n",
      " #   Column                   Dtype  \n",
      "---  ------                   -----  \n",
      " 0   PURCHASE_COUNT_y         int64  \n",
      " 1   MILK                     float64\n",
      " 2   MEAT                     float64\n",
      " 3   PURCHASE                 object \n",
      " 4   TOTAL_AMOUNT             float64\n",
      " 5   DAY_SINCE_LAST_PURCHASE  int64  \n",
      " 6   10_FIRST_PURCHASE_2018   int64  \n",
      " 7   10_LAST_PURCHASE_2018    int64  \n",
      " 8   11_FIRST_PURCHASE_2018   int64  \n",
      " 9   11_LAST_PURCHASE_2018    int64  \n",
      " 10  12_FIRST_PURCHASE_2018   int64  \n",
      " 11  12_LAST_PURCHASE_2018    int64  \n",
      " 12  01_FIRST_PURCHASE_2019   int64  \n",
      " 13  01_LAST_PURCHASE_2019    int64  \n",
      " 14  02_FIRST_PURCHASE_2019   int64  \n",
      " 15  DAY                      int64  \n",
      " 16  MONTH                    int64  \n",
      " 17  YEAR                     int64  \n",
      " 18  OCT_MEAT                 float64\n",
      " 19  DEC_MEAT                 float64\n",
      " 20  JAN_MEAT                 float64\n",
      " 21  FEB_MEAT                 float64\n",
      " 22  DEC_MILK                 float64\n",
      " 23  FEB_MILK                 float64\n",
      " 24  MAGIC_KEY_ENCODED        int32  \n",
      " 25  QUALITY_ENCODED          int32  \n",
      "dtypes: float64(9), int32(2), int64(14), object(1)\n",
      "memory usage: 365.4+ MB\n"
     ]
    }
   ],
   "source": [
    "train_df.info()"
   ]
  },
  {
   "cell_type": "code",
   "execution_count": 28,
   "id": "5c8831d1-392d-40a5-9855-9ccadf705e99",
   "metadata": {},
   "outputs": [
    {
     "data": {
      "text/plain": [
       "((1841827, 26), (613943, 26), (58689, 42))"
      ]
     },
     "execution_count": 28,
     "metadata": {},
     "output_type": "execute_result"
    }
   ],
   "source": [
    "train_df.shape, val_df.shape, test_df.shape"
   ]
  },
  {
   "cell_type": "code",
   "execution_count": 29,
   "id": "43b8e283-ab23-4074-931c-7e32313e9a4f",
   "metadata": {},
   "outputs": [
    {
     "data": {
      "text/plain": [
       "Index(['PURCHASE_COUNT_y', 'MILK', 'MEAT', 'PURCHASE', 'TOTAL_AMOUNT',\n",
       "       'DAY_SINCE_LAST_PURCHASE', '10_FIRST_PURCHASE_2018',\n",
       "       '10_LAST_PURCHASE_2018', '11_FIRST_PURCHASE_2018',\n",
       "       '11_LAST_PURCHASE_2018', '12_FIRST_PURCHASE_2018',\n",
       "       '12_LAST_PURCHASE_2018', '01_FIRST_PURCHASE_2019',\n",
       "       '01_LAST_PURCHASE_2019', '02_FIRST_PURCHASE_2019', 'DAY', 'MONTH',\n",
       "       'YEAR', 'OCT_MEAT', 'DEC_MEAT', 'JAN_MEAT', 'FEB_MEAT', 'DEC_MILK',\n",
       "       'FEB_MILK', 'MAGIC_KEY_ENCODED', 'QUALITY_ENCODED'],\n",
       "      dtype='object')"
      ]
     },
     "execution_count": 29,
     "metadata": {},
     "output_type": "execute_result"
    }
   ],
   "source": [
    "train_df.columns"
   ]
  },
  {
   "cell_type": "markdown",
   "id": "e3104c48-3581-41f8-81fe-1fbfd24f3c9c",
   "metadata": {},
   "source": [
    "### declaring input and target cols for train, val, test set"
   ]
  },
  {
   "cell_type": "code",
   "execution_count": 30,
   "id": "7b2b6593-4599-4e55-9eb8-484b9ae8b886",
   "metadata": {},
   "outputs": [
    {
     "name": "stdout",
     "output_type": "stream",
     "text": [
      "['PURCHASE_COUNT_y', 'MILK', 'MEAT', 'TOTAL_AMOUNT', 'DAY_SINCE_LAST_PURCHASE', '10_FIRST_PURCHASE_2018', '10_LAST_PURCHASE_2018', '11_FIRST_PURCHASE_2018', '11_LAST_PURCHASE_2018', '12_FIRST_PURCHASE_2018', '12_LAST_PURCHASE_2018', '01_FIRST_PURCHASE_2019', '01_LAST_PURCHASE_2019', '02_FIRST_PURCHASE_2019', 'DAY', 'MONTH', 'YEAR', 'OCT_MEAT', 'DEC_MEAT', 'JAN_MEAT', 'FEB_MEAT', 'DEC_MILK', 'FEB_MILK', 'MAGIC_KEY_ENCODED', 'QUALITY_ENCODED']\n"
     ]
    }
   ],
   "source": [
    "input_cols = [col for col in train_df.columns if col != 'PURCHASE']\n",
    "\n",
    "print(input_cols)\n"
   ]
  },
  {
   "cell_type": "code",
   "execution_count": 31,
   "id": "c115d4c5-0cba-4511-8c04-c740dedec7f8",
   "metadata": {},
   "outputs": [],
   "source": [
    "\n",
    "target_col = 'PURCHASE'"
   ]
  },
  {
   "cell_type": "code",
   "execution_count": 32,
   "id": "5810ba5f-eb16-49fa-9caa-8f9b239df448",
   "metadata": {},
   "outputs": [],
   "source": [
    "train_inputs = train_df[input_cols].copy()\n",
    "train_targets = train_df[target_col].copy()"
   ]
  },
  {
   "cell_type": "code",
   "execution_count": 33,
   "id": "0a25cc6f-42ac-4934-b493-538c2729cb8a",
   "metadata": {},
   "outputs": [],
   "source": [
    "val_inputs = val_df[input_cols].copy()\n",
    "val_targets = val_df[target_col].copy()"
   ]
  },
  {
   "cell_type": "code",
   "execution_count": 34,
   "id": "17c98bd6-8488-48d1-b489-20d4fc6fe3ed",
   "metadata": {},
   "outputs": [],
   "source": [
    "test_inputs = test_df[input_cols].copy()\n",
    "# Test data does not have targets"
   ]
  },
  {
   "cell_type": "code",
   "execution_count": null,
   "id": "4272199b-3d04-4164-bc73-4343aea54b1a",
   "metadata": {},
   "outputs": [],
   "source": []
  },
  {
   "cell_type": "markdown",
   "id": "209eeba0-c957-46b6-b70d-c2babc5a182f",
   "metadata": {},
   "source": [
    "### Imputing missing numeric values"
   ]
  },
  {
   "cell_type": "code",
   "execution_count": 35,
   "id": "f6eef741-e170-44cb-b2bf-4026f1e1c9a7",
   "metadata": {},
   "outputs": [],
   "source": [
    "from sklearn.impute import SimpleImputer"
   ]
  },
  {
   "cell_type": "code",
   "execution_count": 36,
   "id": "b9a08bff-29b9-4ed8-b821-6c6162d06c76",
   "metadata": {},
   "outputs": [],
   "source": [
    "imputer = SimpleImputer(strategy = 'mean').fit(merged_df[input_cols])"
   ]
  },
  {
   "cell_type": "code",
   "execution_count": 37,
   "id": "4fc1fed9-1778-460d-86ac-46a0654b0304",
   "metadata": {},
   "outputs": [],
   "source": [
    "train_inputs[input_cols] = imputer.transform(train_inputs[input_cols])\n",
    "val_inputs[input_cols] = imputer.transform(val_inputs[input_cols])\n",
    "test_inputs[input_cols] = imputer.transform(test_inputs[input_cols])"
   ]
  },
  {
   "cell_type": "markdown",
   "id": "a7a63048-0333-4282-92d4-b8290640a0ea",
   "metadata": {},
   "source": [
    "### checking the null values"
   ]
  },
  {
   "cell_type": "code",
   "execution_count": 38,
   "id": "da54be04-2cc1-4b8b-815f-6ee879d3a599",
   "metadata": {},
   "outputs": [
    {
     "data": {
      "text/plain": [
       "PURCHASE_COUNT_y           0\n",
       "MILK                       0\n",
       "MEAT                       0\n",
       "TOTAL_AMOUNT               0\n",
       "DAY_SINCE_LAST_PURCHASE    0\n",
       "10_FIRST_PURCHASE_2018     0\n",
       "10_LAST_PURCHASE_2018      0\n",
       "11_FIRST_PURCHASE_2018     0\n",
       "11_LAST_PURCHASE_2018      0\n",
       "12_FIRST_PURCHASE_2018     0\n",
       "12_LAST_PURCHASE_2018      0\n",
       "01_FIRST_PURCHASE_2019     0\n",
       "01_LAST_PURCHASE_2019      0\n",
       "02_FIRST_PURCHASE_2019     0\n",
       "DAY                        0\n",
       "MONTH                      0\n",
       "YEAR                       0\n",
       "OCT_MEAT                   0\n",
       "DEC_MEAT                   0\n",
       "JAN_MEAT                   0\n",
       "FEB_MEAT                   0\n",
       "DEC_MILK                   0\n",
       "FEB_MILK                   0\n",
       "MAGIC_KEY_ENCODED          0\n",
       "QUALITY_ENCODED            0\n",
       "dtype: int64"
      ]
     },
     "execution_count": 38,
     "metadata": {},
     "output_type": "execute_result"
    }
   ],
   "source": [
    "test_inputs[input_cols].isna().sum()"
   ]
  },
  {
   "cell_type": "markdown",
   "id": "f4f5bd83-0aa5-48af-afb3-2a1dee32fa22",
   "metadata": {},
   "source": [
    "# Scaling Numeric Features"
   ]
  },
  {
   "cell_type": "code",
   "execution_count": 39,
   "id": "1aa834dc-e7ad-4040-b1b4-9059aee5138e",
   "metadata": {},
   "outputs": [],
   "source": [
    "#from sklearn.preprocessing import MinMaxScaler"
   ]
  },
  {
   "cell_type": "code",
   "execution_count": 40,
   "id": "c12ff6ee-105f-40ee-8004-1ad833c48e19",
   "metadata": {},
   "outputs": [],
   "source": [
    "#scaler = MinMaxScaler().fit(merged_df[input_cols])"
   ]
  },
  {
   "cell_type": "code",
   "execution_count": 41,
   "id": "9297322e-7b6d-42ba-aabf-d225352987d7",
   "metadata": {},
   "outputs": [],
   "source": [
    "# train_inputs[input_cols] = scaler.transform(train_inputs[input_cols])\n",
    "# val_inputs[input_cols] = scaler.transform(val_inputs[input_cols])\n",
    "# test_inputs[input_cols] = scaler.transform(test_inputs[input_cols])"
   ]
  },
  {
   "cell_type": "code",
   "execution_count": 42,
   "id": "983b2770-207f-4a0a-aa77-71a1d0689907",
   "metadata": {},
   "outputs": [],
   "source": [
    "#val_inputs.describe().loc[['min', 'max']]"
   ]
  },
  {
   "cell_type": "code",
   "execution_count": 43,
   "id": "e55c94ec-fd7f-4bff-b706-a9e6dba9d8a1",
   "metadata": {},
   "outputs": [],
   "source": [
    "#test_inputs.head()"
   ]
  },
  {
   "cell_type": "markdown",
   "id": "bb85c441-0608-4847-8d67-48e6b48e9ad5",
   "metadata": {},
   "source": [
    "## X_train, X_val, X_test"
   ]
  },
  {
   "cell_type": "code",
   "execution_count": 44,
   "id": "5a5e5cf9-17d6-45a0-9995-38714f6b9883",
   "metadata": {},
   "outputs": [],
   "source": [
    "X_train = train_inputs\n",
    "X_val = val_inputs\n",
    "X_test = test_inputs"
   ]
  },
  {
   "cell_type": "code",
   "execution_count": 45,
   "id": "831fec51-a77c-41c8-a40a-3f0e0843f0b3",
   "metadata": {},
   "outputs": [
    {
     "data": {
      "text/html": [
       "<div>\n",
       "<style scoped>\n",
       "    .dataframe tbody tr th:only-of-type {\n",
       "        vertical-align: middle;\n",
       "    }\n",
       "\n",
       "    .dataframe tbody tr th {\n",
       "        vertical-align: top;\n",
       "    }\n",
       "\n",
       "    .dataframe thead th {\n",
       "        text-align: right;\n",
       "    }\n",
       "</style>\n",
       "<table border=\"1\" class=\"dataframe\">\n",
       "  <thead>\n",
       "    <tr style=\"text-align: right;\">\n",
       "      <th></th>\n",
       "      <th>PURCHASE_COUNT_y</th>\n",
       "      <th>MILK</th>\n",
       "      <th>MEAT</th>\n",
       "      <th>TOTAL_AMOUNT</th>\n",
       "      <th>DAY_SINCE_LAST_PURCHASE</th>\n",
       "      <th>10_FIRST_PURCHASE_2018</th>\n",
       "      <th>10_LAST_PURCHASE_2018</th>\n",
       "      <th>11_FIRST_PURCHASE_2018</th>\n",
       "      <th>11_LAST_PURCHASE_2018</th>\n",
       "      <th>12_FIRST_PURCHASE_2018</th>\n",
       "      <th>...</th>\n",
       "      <th>MONTH</th>\n",
       "      <th>YEAR</th>\n",
       "      <th>OCT_MEAT</th>\n",
       "      <th>DEC_MEAT</th>\n",
       "      <th>JAN_MEAT</th>\n",
       "      <th>FEB_MEAT</th>\n",
       "      <th>DEC_MILK</th>\n",
       "      <th>FEB_MILK</th>\n",
       "      <th>MAGIC_KEY_ENCODED</th>\n",
       "      <th>QUALITY_ENCODED</th>\n",
       "    </tr>\n",
       "  </thead>\n",
       "  <tbody>\n",
       "    <tr>\n",
       "      <th>488688</th>\n",
       "      <td>1.0</td>\n",
       "      <td>10.0</td>\n",
       "      <td>1.8</td>\n",
       "      <td>17.98</td>\n",
       "      <td>28.0</td>\n",
       "      <td>1.0</td>\n",
       "      <td>0.0</td>\n",
       "      <td>0.0</td>\n",
       "      <td>0.0</td>\n",
       "      <td>0.0</td>\n",
       "      <td>...</td>\n",
       "      <td>10.0</td>\n",
       "      <td>2018.0</td>\n",
       "      <td>0.0</td>\n",
       "      <td>1.8</td>\n",
       "      <td>0.0</td>\n",
       "      <td>0.0</td>\n",
       "      <td>10.0</td>\n",
       "      <td>0.0</td>\n",
       "      <td>245753.0</td>\n",
       "      <td>1.0</td>\n",
       "    </tr>\n",
       "    <tr>\n",
       "      <th>760624</th>\n",
       "      <td>1.0</td>\n",
       "      <td>8.0</td>\n",
       "      <td>1.3</td>\n",
       "      <td>15.98</td>\n",
       "      <td>61.0</td>\n",
       "      <td>1.0</td>\n",
       "      <td>0.0</td>\n",
       "      <td>0.0</td>\n",
       "      <td>0.0</td>\n",
       "      <td>0.0</td>\n",
       "      <td>...</td>\n",
       "      <td>10.0</td>\n",
       "      <td>2018.0</td>\n",
       "      <td>0.0</td>\n",
       "      <td>1.3</td>\n",
       "      <td>0.0</td>\n",
       "      <td>0.0</td>\n",
       "      <td>8.0</td>\n",
       "      <td>0.0</td>\n",
       "      <td>370592.0</td>\n",
       "      <td>0.0</td>\n",
       "    </tr>\n",
       "    <tr>\n",
       "      <th>2117599</th>\n",
       "      <td>4.0</td>\n",
       "      <td>9.0</td>\n",
       "      <td>1.8</td>\n",
       "      <td>19.98</td>\n",
       "      <td>0.0</td>\n",
       "      <td>1.0</td>\n",
       "      <td>0.0</td>\n",
       "      <td>1.0</td>\n",
       "      <td>1.0</td>\n",
       "      <td>1.0</td>\n",
       "      <td>...</td>\n",
       "      <td>10.0</td>\n",
       "      <td>2018.0</td>\n",
       "      <td>2.2</td>\n",
       "      <td>1.8</td>\n",
       "      <td>2.2</td>\n",
       "      <td>0.0</td>\n",
       "      <td>9.0</td>\n",
       "      <td>0.0</td>\n",
       "      <td>1084551.0</td>\n",
       "      <td>0.0</td>\n",
       "    </tr>\n",
       "    <tr>\n",
       "      <th>603270</th>\n",
       "      <td>11.0</td>\n",
       "      <td>10.0</td>\n",
       "      <td>0.2</td>\n",
       "      <td>12.18</td>\n",
       "      <td>92.0</td>\n",
       "      <td>1.0</td>\n",
       "      <td>0.0</td>\n",
       "      <td>1.0</td>\n",
       "      <td>1.0</td>\n",
       "      <td>1.0</td>\n",
       "      <td>...</td>\n",
       "      <td>10.0</td>\n",
       "      <td>2018.0</td>\n",
       "      <td>0.0</td>\n",
       "      <td>2.0</td>\n",
       "      <td>1.8</td>\n",
       "      <td>3.6</td>\n",
       "      <td>20.0</td>\n",
       "      <td>34.7</td>\n",
       "      <td>298784.0</td>\n",
       "      <td>1.0</td>\n",
       "    </tr>\n",
       "    <tr>\n",
       "      <th>2007018</th>\n",
       "      <td>1.0</td>\n",
       "      <td>8.0</td>\n",
       "      <td>1.3</td>\n",
       "      <td>15.98</td>\n",
       "      <td>0.0</td>\n",
       "      <td>1.0</td>\n",
       "      <td>0.0</td>\n",
       "      <td>0.0</td>\n",
       "      <td>0.0</td>\n",
       "      <td>0.0</td>\n",
       "      <td>...</td>\n",
       "      <td>10.0</td>\n",
       "      <td>2018.0</td>\n",
       "      <td>0.0</td>\n",
       "      <td>1.3</td>\n",
       "      <td>0.0</td>\n",
       "      <td>0.0</td>\n",
       "      <td>8.0</td>\n",
       "      <td>0.0</td>\n",
       "      <td>1024986.0</td>\n",
       "      <td>0.0</td>\n",
       "    </tr>\n",
       "  </tbody>\n",
       "</table>\n",
       "<p>5 rows × 25 columns</p>\n",
       "</div>"
      ],
      "text/plain": [
       "         PURCHASE_COUNT_y  MILK  MEAT  TOTAL_AMOUNT  DAY_SINCE_LAST_PURCHASE  \\\n",
       "488688                1.0  10.0   1.8         17.98                     28.0   \n",
       "760624                1.0   8.0   1.3         15.98                     61.0   \n",
       "2117599               4.0   9.0   1.8         19.98                      0.0   \n",
       "603270               11.0  10.0   0.2         12.18                     92.0   \n",
       "2007018               1.0   8.0   1.3         15.98                      0.0   \n",
       "\n",
       "         10_FIRST_PURCHASE_2018  10_LAST_PURCHASE_2018  \\\n",
       "488688                      1.0                    0.0   \n",
       "760624                      1.0                    0.0   \n",
       "2117599                     1.0                    0.0   \n",
       "603270                      1.0                    0.0   \n",
       "2007018                     1.0                    0.0   \n",
       "\n",
       "         11_FIRST_PURCHASE_2018  11_LAST_PURCHASE_2018  \\\n",
       "488688                      0.0                    0.0   \n",
       "760624                      0.0                    0.0   \n",
       "2117599                     1.0                    1.0   \n",
       "603270                      1.0                    1.0   \n",
       "2007018                     0.0                    0.0   \n",
       "\n",
       "         12_FIRST_PURCHASE_2018  ...  MONTH    YEAR  OCT_MEAT  DEC_MEAT  \\\n",
       "488688                      0.0  ...   10.0  2018.0       0.0       1.8   \n",
       "760624                      0.0  ...   10.0  2018.0       0.0       1.3   \n",
       "2117599                     1.0  ...   10.0  2018.0       2.2       1.8   \n",
       "603270                      1.0  ...   10.0  2018.0       0.0       2.0   \n",
       "2007018                     0.0  ...   10.0  2018.0       0.0       1.3   \n",
       "\n",
       "         JAN_MEAT  FEB_MEAT  DEC_MILK  FEB_MILK  MAGIC_KEY_ENCODED  \\\n",
       "488688        0.0       0.0      10.0       0.0           245753.0   \n",
       "760624        0.0       0.0       8.0       0.0           370592.0   \n",
       "2117599       2.2       0.0       9.0       0.0          1084551.0   \n",
       "603270        1.8       3.6      20.0      34.7           298784.0   \n",
       "2007018       0.0       0.0       8.0       0.0          1024986.0   \n",
       "\n",
       "         QUALITY_ENCODED  \n",
       "488688               1.0  \n",
       "760624               0.0  \n",
       "2117599              0.0  \n",
       "603270               1.0  \n",
       "2007018              0.0  \n",
       "\n",
       "[5 rows x 25 columns]"
      ]
     },
     "execution_count": 45,
     "metadata": {},
     "output_type": "execute_result"
    }
   ],
   "source": [
    "X_train.head()"
   ]
  },
  {
   "cell_type": "markdown",
   "id": "cf413532-333a-4e1b-b9fe-f4c8db6474be",
   "metadata": {},
   "source": [
    "## model training"
   ]
  },
  {
   "cell_type": "markdown",
   "id": "2ef6655d-2b41-4276-9f97-4e693f8b3154",
   "metadata": {},
   "source": [
    "### Training\n",
    "\n",
    "We can use `DecisionTreeClassifier` from `sklearn.tree` to train a decision tree."
   ]
  },
  {
   "cell_type": "code",
   "execution_count": 46,
   "id": "340e68ad-b08a-4ff4-b64c-5f7f99604ea4",
   "metadata": {},
   "outputs": [],
   "source": [
    "# from sklearn.tree import DecisionTreeClassifier"
   ]
  },
  {
   "cell_type": "code",
   "execution_count": 47,
   "id": "2383530c-6294-462e-aa4b-30b754635087",
   "metadata": {},
   "outputs": [],
   "source": [
    "# model = DecisionTreeClassifier(random_state=42, max_depth=20)"
   ]
  },
  {
   "cell_type": "code",
   "execution_count": 48,
   "id": "13f66e4d-af69-40a5-b181-aa7c823cb98e",
   "metadata": {},
   "outputs": [],
   "source": [
    "# %%time\n",
    "# model.fit(X_train, train_targets)"
   ]
  },
  {
   "cell_type": "code",
   "execution_count": 49,
   "id": "112e113e-f8b2-427f-b36c-08e8a7b5339e",
   "metadata": {},
   "outputs": [],
   "source": [
    "# model.score(X_train, train_targets)"
   ]
  },
  {
   "cell_type": "code",
   "execution_count": 50,
   "id": "65037cf8-05fc-4e88-af10-a517654eff45",
   "metadata": {},
   "outputs": [],
   "source": [
    "# model.score(X_val, val_targets)"
   ]
  },
  {
   "cell_type": "code",
   "execution_count": 51,
   "id": "63b0487b-3ec2-4b9e-a0cb-ceec43cf3460",
   "metadata": {},
   "outputs": [],
   "source": [
    "# model.tree_.max_depth"
   ]
  },
  {
   "cell_type": "code",
   "execution_count": 52,
   "id": "dd7ec30f-f501-40c5-8912-4811ad732dab",
   "metadata": {},
   "outputs": [],
   "source": [
    "# model.feature_importances_"
   ]
  },
  {
   "cell_type": "code",
   "execution_count": 53,
   "id": "e7bf7958-d35f-4c45-bf16-1b5fa746a964",
   "metadata": {},
   "outputs": [],
   "source": [
    "# importance_df = pd.DataFrame({\n",
    "#     'feature': X_train.columns,\n",
    "#     'importance': model.feature_importances_\n",
    "# }).sort_values('importance', ascending=False)"
   ]
  },
  {
   "cell_type": "code",
   "execution_count": 54,
   "id": "0497ec83-3411-4db3-95a5-68fcca18c665",
   "metadata": {},
   "outputs": [],
   "source": [
    "# importance_df.head(10)"
   ]
  },
  {
   "cell_type": "code",
   "execution_count": 55,
   "id": "7333b636-a190-4739-a000-d5da6eabdcd3",
   "metadata": {},
   "outputs": [],
   "source": [
    "# def max_depth_error(md):\n",
    "#     model = DecisionTreeClassifier(max_depth=md, random_state=42)\n",
    "#     model.fit(X_train, train_targets)\n",
    "#     train_acc = 1 - model.score(X_train, train_targets)\n",
    "#     val_acc = 1 - model.score(X_val, val_targets)\n",
    "#     return {'Max Depth': md, 'Training Error': train_acc, 'Validation Error': val_acc}"
   ]
  },
  {
   "cell_type": "code",
   "execution_count": 56,
   "id": "f318152e-6a1b-4b2a-b08e-eaf90789f752",
   "metadata": {},
   "outputs": [],
   "source": [
    "# %%time\n",
    "# errors_df = pd.DataFrame([max_depth_error(md) for md in range(1, 21)])"
   ]
  },
  {
   "cell_type": "code",
   "execution_count": 57,
   "id": "0591ed7b-1028-4ab8-b6b2-5f410f384948",
   "metadata": {},
   "outputs": [],
   "source": [
    "#errors_df"
   ]
  },
  {
   "cell_type": "markdown",
   "id": "fcf2b383-f2e4-444c-8d95-1e8eeab5a69c",
   "metadata": {},
   "source": [
    "## Training a Random Forest\n",
    "\n",
    "While tuning the hyperparameters of a single decision tree may lead to some improvements, a much more effective strategy is to combine the results of several decision trees trained with slightly different parameters. This is called a random forest model. \n",
    "\n",
    "The key idea here is that each decision tree in the forest will make different kinds of errors, and upon averaging, many of their errors will cancel out. This idea is also commonly known as the \"wisdom of the crowd\":\n",
    "\n",
    "<img src=\"https://i.imgur.com/4Dg0XK4.png\" width=\"480\">"
   ]
  },
  {
   "cell_type": "code",
   "execution_count": 58,
   "id": "754f4a85-6a31-4d93-a45f-0552d4fb3fe3",
   "metadata": {},
   "outputs": [],
   "source": [
    "from sklearn.ensemble import RandomForestClassifier"
   ]
  },
  {
   "cell_type": "code",
   "execution_count": 59,
   "id": "1e357ff3-2289-44c1-a647-5daa02338630",
   "metadata": {},
   "outputs": [],
   "source": [
    "rf = RandomForestClassifier(n_jobs=-1, random_state=42, n_estimators=50, max_leaf_nodes=2**20, max_features= 25) #  min_impurity_decrease=1e-7,"
   ]
  },
  {
   "cell_type": "code",
   "execution_count": 60,
   "id": "7812f7f2-1065-4528-be0f-df8e507a20b3",
   "metadata": {},
   "outputs": [
    {
     "name": "stdout",
     "output_type": "stream",
     "text": [
      "CPU times: total: 3min 39s\n",
      "Wall time: 23.2 s\n"
     ]
    },
    {
     "data": {
      "text/html": [
       "<style>#sk-container-id-1 {color: black;}#sk-container-id-1 pre{padding: 0;}#sk-container-id-1 div.sk-toggleable {background-color: white;}#sk-container-id-1 label.sk-toggleable__label {cursor: pointer;display: block;width: 100%;margin-bottom: 0;padding: 0.3em;box-sizing: border-box;text-align: center;}#sk-container-id-1 label.sk-toggleable__label-arrow:before {content: \"▸\";float: left;margin-right: 0.25em;color: #696969;}#sk-container-id-1 label.sk-toggleable__label-arrow:hover:before {color: black;}#sk-container-id-1 div.sk-estimator:hover label.sk-toggleable__label-arrow:before {color: black;}#sk-container-id-1 div.sk-toggleable__content {max-height: 0;max-width: 0;overflow: hidden;text-align: left;background-color: #f0f8ff;}#sk-container-id-1 div.sk-toggleable__content pre {margin: 0.2em;color: black;border-radius: 0.25em;background-color: #f0f8ff;}#sk-container-id-1 input.sk-toggleable__control:checked~div.sk-toggleable__content {max-height: 200px;max-width: 100%;overflow: auto;}#sk-container-id-1 input.sk-toggleable__control:checked~label.sk-toggleable__label-arrow:before {content: \"▾\";}#sk-container-id-1 div.sk-estimator input.sk-toggleable__control:checked~label.sk-toggleable__label {background-color: #d4ebff;}#sk-container-id-1 div.sk-label input.sk-toggleable__control:checked~label.sk-toggleable__label {background-color: #d4ebff;}#sk-container-id-1 input.sk-hidden--visually {border: 0;clip: rect(1px 1px 1px 1px);clip: rect(1px, 1px, 1px, 1px);height: 1px;margin: -1px;overflow: hidden;padding: 0;position: absolute;width: 1px;}#sk-container-id-1 div.sk-estimator {font-family: monospace;background-color: #f0f8ff;border: 1px dotted black;border-radius: 0.25em;box-sizing: border-box;margin-bottom: 0.5em;}#sk-container-id-1 div.sk-estimator:hover {background-color: #d4ebff;}#sk-container-id-1 div.sk-parallel-item::after {content: \"\";width: 100%;border-bottom: 1px solid gray;flex-grow: 1;}#sk-container-id-1 div.sk-label:hover label.sk-toggleable__label {background-color: #d4ebff;}#sk-container-id-1 div.sk-serial::before {content: \"\";position: absolute;border-left: 1px solid gray;box-sizing: border-box;top: 0;bottom: 0;left: 50%;z-index: 0;}#sk-container-id-1 div.sk-serial {display: flex;flex-direction: column;align-items: center;background-color: white;padding-right: 0.2em;padding-left: 0.2em;position: relative;}#sk-container-id-1 div.sk-item {position: relative;z-index: 1;}#sk-container-id-1 div.sk-parallel {display: flex;align-items: stretch;justify-content: center;background-color: white;position: relative;}#sk-container-id-1 div.sk-item::before, #sk-container-id-1 div.sk-parallel-item::before {content: \"\";position: absolute;border-left: 1px solid gray;box-sizing: border-box;top: 0;bottom: 0;left: 50%;z-index: -1;}#sk-container-id-1 div.sk-parallel-item {display: flex;flex-direction: column;z-index: 1;position: relative;background-color: white;}#sk-container-id-1 div.sk-parallel-item:first-child::after {align-self: flex-end;width: 50%;}#sk-container-id-1 div.sk-parallel-item:last-child::after {align-self: flex-start;width: 50%;}#sk-container-id-1 div.sk-parallel-item:only-child::after {width: 0;}#sk-container-id-1 div.sk-dashed-wrapped {border: 1px dashed gray;margin: 0 0.4em 0.5em 0.4em;box-sizing: border-box;padding-bottom: 0.4em;background-color: white;}#sk-container-id-1 div.sk-label label {font-family: monospace;font-weight: bold;display: inline-block;line-height: 1.2em;}#sk-container-id-1 div.sk-label-container {text-align: center;}#sk-container-id-1 div.sk-container {/* jupyter's `normalize.less` sets `[hidden] { display: none; }` but bootstrap.min.css set `[hidden] { display: none !important; }` so we also need the `!important` here to be able to override the default hidden behavior on the sphinx rendered scikit-learn.org. See: https://github.com/scikit-learn/scikit-learn/issues/21755 */display: inline-block !important;position: relative;}#sk-container-id-1 div.sk-text-repr-fallback {display: none;}</style><div id=\"sk-container-id-1\" class=\"sk-top-container\"><div class=\"sk-text-repr-fallback\"><pre>RandomForestClassifier(max_features=25, max_leaf_nodes=1048576, n_estimators=50,\n",
       "                       n_jobs=-1, random_state=42)</pre><b>In a Jupyter environment, please rerun this cell to show the HTML representation or trust the notebook. <br />On GitHub, the HTML representation is unable to render, please try loading this page with nbviewer.org.</b></div><div class=\"sk-container\" hidden><div class=\"sk-item\"><div class=\"sk-estimator sk-toggleable\"><input class=\"sk-toggleable__control sk-hidden--visually\" id=\"sk-estimator-id-1\" type=\"checkbox\" checked><label for=\"sk-estimator-id-1\" class=\"sk-toggleable__label sk-toggleable__label-arrow\">RandomForestClassifier</label><div class=\"sk-toggleable__content\"><pre>RandomForestClassifier(max_features=25, max_leaf_nodes=1048576, n_estimators=50,\n",
       "                       n_jobs=-1, random_state=42)</pre></div></div></div></div></div>"
      ],
      "text/plain": [
       "RandomForestClassifier(max_features=25, max_leaf_nodes=1048576, n_estimators=50,\n",
       "                       n_jobs=-1, random_state=42)"
      ]
     },
     "execution_count": 60,
     "metadata": {},
     "output_type": "execute_result"
    }
   ],
   "source": [
    "%%time\n",
    "rf.fit(X_train, train_targets)"
   ]
  },
  {
   "cell_type": "code",
   "execution_count": 61,
   "id": "b5a13a10-ba4a-46b5-947f-2fe7a4a01570",
   "metadata": {},
   "outputs": [
    {
     "data": {
      "text/plain": [
       "(1.0, 1.0)"
      ]
     },
     "execution_count": 61,
     "metadata": {},
     "output_type": "execute_result"
    }
   ],
   "source": [
    "rf.score(X_train, train_targets), rf.score(X_val, val_targets)"
   ]
  },
  {
   "cell_type": "code",
   "execution_count": 62,
   "id": "2fb84759-1ecd-4f02-96b6-1f19697da4ce",
   "metadata": {},
   "outputs": [],
   "source": [
    "importance_df = pd.DataFrame({\n",
    "    'feature': X_train.columns,\n",
    "    'importance': rf.feature_importances_\n",
    "}).sort_values('importance', ascending=False)"
   ]
  },
  {
   "cell_type": "code",
   "execution_count": 63,
   "id": "d8ac71ab-2327-4b2e-b600-fee307e0937c",
   "metadata": {},
   "outputs": [
    {
     "data": {
      "text/html": [
       "<div>\n",
       "<style scoped>\n",
       "    .dataframe tbody tr th:only-of-type {\n",
       "        vertical-align: middle;\n",
       "    }\n",
       "\n",
       "    .dataframe tbody tr th {\n",
       "        vertical-align: top;\n",
       "    }\n",
       "\n",
       "    .dataframe thead th {\n",
       "        text-align: right;\n",
       "    }\n",
       "</style>\n",
       "<table border=\"1\" class=\"dataframe\">\n",
       "  <thead>\n",
       "    <tr style=\"text-align: right;\">\n",
       "      <th></th>\n",
       "      <th>feature</th>\n",
       "      <th>importance</th>\n",
       "    </tr>\n",
       "  </thead>\n",
       "  <tbody>\n",
       "    <tr>\n",
       "      <th>14</th>\n",
       "      <td>DAY</td>\n",
       "      <td>1.0</td>\n",
       "    </tr>\n",
       "    <tr>\n",
       "      <th>0</th>\n",
       "      <td>PURCHASE_COUNT_y</td>\n",
       "      <td>0.0</td>\n",
       "    </tr>\n",
       "    <tr>\n",
       "      <th>13</th>\n",
       "      <td>02_FIRST_PURCHASE_2019</td>\n",
       "      <td>0.0</td>\n",
       "    </tr>\n",
       "    <tr>\n",
       "      <th>23</th>\n",
       "      <td>MAGIC_KEY_ENCODED</td>\n",
       "      <td>0.0</td>\n",
       "    </tr>\n",
       "    <tr>\n",
       "      <th>22</th>\n",
       "      <td>FEB_MILK</td>\n",
       "      <td>0.0</td>\n",
       "    </tr>\n",
       "    <tr>\n",
       "      <th>21</th>\n",
       "      <td>DEC_MILK</td>\n",
       "      <td>0.0</td>\n",
       "    </tr>\n",
       "    <tr>\n",
       "      <th>20</th>\n",
       "      <td>FEB_MEAT</td>\n",
       "      <td>0.0</td>\n",
       "    </tr>\n",
       "    <tr>\n",
       "      <th>19</th>\n",
       "      <td>JAN_MEAT</td>\n",
       "      <td>0.0</td>\n",
       "    </tr>\n",
       "    <tr>\n",
       "      <th>18</th>\n",
       "      <td>DEC_MEAT</td>\n",
       "      <td>0.0</td>\n",
       "    </tr>\n",
       "    <tr>\n",
       "      <th>17</th>\n",
       "      <td>OCT_MEAT</td>\n",
       "      <td>0.0</td>\n",
       "    </tr>\n",
       "    <tr>\n",
       "      <th>16</th>\n",
       "      <td>YEAR</td>\n",
       "      <td>0.0</td>\n",
       "    </tr>\n",
       "    <tr>\n",
       "      <th>15</th>\n",
       "      <td>MONTH</td>\n",
       "      <td>0.0</td>\n",
       "    </tr>\n",
       "    <tr>\n",
       "      <th>12</th>\n",
       "      <td>01_LAST_PURCHASE_2019</td>\n",
       "      <td>0.0</td>\n",
       "    </tr>\n",
       "    <tr>\n",
       "      <th>1</th>\n",
       "      <td>MILK</td>\n",
       "      <td>0.0</td>\n",
       "    </tr>\n",
       "    <tr>\n",
       "      <th>11</th>\n",
       "      <td>01_FIRST_PURCHASE_2019</td>\n",
       "      <td>0.0</td>\n",
       "    </tr>\n",
       "    <tr>\n",
       "      <th>10</th>\n",
       "      <td>12_LAST_PURCHASE_2018</td>\n",
       "      <td>0.0</td>\n",
       "    </tr>\n",
       "    <tr>\n",
       "      <th>9</th>\n",
       "      <td>12_FIRST_PURCHASE_2018</td>\n",
       "      <td>0.0</td>\n",
       "    </tr>\n",
       "    <tr>\n",
       "      <th>8</th>\n",
       "      <td>11_LAST_PURCHASE_2018</td>\n",
       "      <td>0.0</td>\n",
       "    </tr>\n",
       "    <tr>\n",
       "      <th>7</th>\n",
       "      <td>11_FIRST_PURCHASE_2018</td>\n",
       "      <td>0.0</td>\n",
       "    </tr>\n",
       "    <tr>\n",
       "      <th>6</th>\n",
       "      <td>10_LAST_PURCHASE_2018</td>\n",
       "      <td>0.0</td>\n",
       "    </tr>\n",
       "    <tr>\n",
       "      <th>5</th>\n",
       "      <td>10_FIRST_PURCHASE_2018</td>\n",
       "      <td>0.0</td>\n",
       "    </tr>\n",
       "    <tr>\n",
       "      <th>4</th>\n",
       "      <td>DAY_SINCE_LAST_PURCHASE</td>\n",
       "      <td>0.0</td>\n",
       "    </tr>\n",
       "    <tr>\n",
       "      <th>3</th>\n",
       "      <td>TOTAL_AMOUNT</td>\n",
       "      <td>0.0</td>\n",
       "    </tr>\n",
       "    <tr>\n",
       "      <th>2</th>\n",
       "      <td>MEAT</td>\n",
       "      <td>0.0</td>\n",
       "    </tr>\n",
       "    <tr>\n",
       "      <th>24</th>\n",
       "      <td>QUALITY_ENCODED</td>\n",
       "      <td>0.0</td>\n",
       "    </tr>\n",
       "  </tbody>\n",
       "</table>\n",
       "</div>"
      ],
      "text/plain": [
       "                    feature  importance\n",
       "14                      DAY         1.0\n",
       "0          PURCHASE_COUNT_y         0.0\n",
       "13   02_FIRST_PURCHASE_2019         0.0\n",
       "23        MAGIC_KEY_ENCODED         0.0\n",
       "22                 FEB_MILK         0.0\n",
       "21                 DEC_MILK         0.0\n",
       "20                 FEB_MEAT         0.0\n",
       "19                 JAN_MEAT         0.0\n",
       "18                 DEC_MEAT         0.0\n",
       "17                 OCT_MEAT         0.0\n",
       "16                     YEAR         0.0\n",
       "15                    MONTH         0.0\n",
       "12    01_LAST_PURCHASE_2019         0.0\n",
       "1                      MILK         0.0\n",
       "11   01_FIRST_PURCHASE_2019         0.0\n",
       "10    12_LAST_PURCHASE_2018         0.0\n",
       "9    12_FIRST_PURCHASE_2018         0.0\n",
       "8     11_LAST_PURCHASE_2018         0.0\n",
       "7    11_FIRST_PURCHASE_2018         0.0\n",
       "6     10_LAST_PURCHASE_2018         0.0\n",
       "5    10_FIRST_PURCHASE_2018         0.0\n",
       "4   DAY_SINCE_LAST_PURCHASE         0.0\n",
       "3              TOTAL_AMOUNT         0.0\n",
       "2                      MEAT         0.0\n",
       "24          QUALITY_ENCODED         0.0"
      ]
     },
     "execution_count": 63,
     "metadata": {},
     "output_type": "execute_result"
    }
   ],
   "source": [
    "importance_df"
   ]
  },
  {
   "cell_type": "code",
   "execution_count": 64,
   "id": "b990e38f-3872-4a14-aaa8-08c0273a0fbd",
   "metadata": {},
   "outputs": [
    {
     "data": {
      "image/png": "[encoded data removed]",
      "text/plain": [
       "<Figure size 1000x600 with 1 Axes>"
      ]
     },
     "metadata": {
      "needs_background": "light"
     },
     "output_type": "display_data"
    }
   ],
   "source": [
    "plt.title('Feature Importance')\n",
    "sns.barplot(data=importance_df.head(10), x='importance', y='feature');"
   ]
  },
  {
   "cell_type": "markdown",
   "id": "207d7b2a-ad87-4b82-b970-0b962349c15c",
   "metadata": {},
   "source": [
    "### Evaluation\n",
    "\n",
    "Let's evaluate the decision tree using the accuracy score."
   ]
  },
  {
   "cell_type": "code",
   "execution_count": 65,
   "id": "ce580275-51de-46f7-86c6-a6a84aa80356",
   "metadata": {},
   "outputs": [],
   "source": [
    "from sklearn.metrics import accuracy_score, confusion_matrix"
   ]
  },
  {
   "cell_type": "code",
   "execution_count": 66,
   "id": "42143624-7c84-4904-8cae-0f24756214fd",
   "metadata": {},
   "outputs": [],
   "source": [
    "train_preds = rf.predict(X_train)"
   ]
  },
  {
   "cell_type": "code",
   "execution_count": 67,
   "id": "6c0310a9-11a0-4cd8-a107-2e62c27c5b57",
   "metadata": {},
   "outputs": [
    {
     "data": {
      "text/plain": [
       "array(['Y', 'Y', 'Y', ..., 'N', 'N', 'N'], dtype=object)"
      ]
     },
     "execution_count": 67,
     "metadata": {},
     "output_type": "execute_result"
    }
   ],
   "source": [
    "train_preds"
   ]
  },
  {
   "cell_type": "code",
   "execution_count": 68,
   "id": "e2703915-5c8a-417b-891a-002730c9129a",
   "metadata": {},
   "outputs": [
    {
     "name": "stderr",
     "output_type": "stream",
     "text": [
      "C:\\Users\\USER\\AppData\\Local\\Temp\\ipykernel_18424\\1258350197.py:1: FutureWarning: pandas.value_counts is deprecated and will be removed in a future version. Use pd.Series(obj).value_counts() instead.\n",
      "  pd.value_counts(train_preds)\n"
     ]
    },
    {
     "data": {
      "text/plain": [
       "Y    943364\n",
       "N    898463\n",
       "Name: count, dtype: int64"
      ]
     },
     "execution_count": 68,
     "metadata": {},
     "output_type": "execute_result"
    }
   ],
   "source": [
    "pd.value_counts(train_preds)"
   ]
  },
  {
   "cell_type": "code",
   "execution_count": 69,
   "id": "d61aa2ab-8df5-4414-b2d9-78da5c145950",
   "metadata": {},
   "outputs": [],
   "source": [
    "train_probs = rf.predict_proba(X_train)"
   ]
  },
  {
   "cell_type": "code",
   "execution_count": 70,
   "id": "24b1e6e6-063b-4060-a9a5-67a9e822f56b",
   "metadata": {},
   "outputs": [
    {
     "data": {
      "text/plain": [
       "array([[0., 1.],\n",
       "       [0., 1.],\n",
       "       [0., 1.],\n",
       "       ...,\n",
       "       [1., 0.],\n",
       "       [1., 0.],\n",
       "       [1., 0.]])"
      ]
     },
     "execution_count": 70,
     "metadata": {},
     "output_type": "execute_result"
    }
   ],
   "source": [
    "train_probs"
   ]
  },
  {
   "cell_type": "code",
   "execution_count": 71,
   "id": "e32c0641-51ca-4f41-ac17-b66338bae264",
   "metadata": {},
   "outputs": [
    {
     "data": {
      "text/plain": [
       "1.0"
      ]
     },
     "execution_count": 71,
     "metadata": {},
     "output_type": "execute_result"
    }
   ],
   "source": [
    "accuracy_score(train_targets, train_preds)"
   ]
  },
  {
   "cell_type": "code",
   "execution_count": null,
   "id": "e4cf2813-c315-4023-b3b9-4fca22084bc4",
   "metadata": {},
   "outputs": [],
   "source": []
  },
  {
   "cell_type": "code",
   "execution_count": 72,
   "id": "b49792f0-3587-4318-a6d5-899803a66cdd",
   "metadata": {},
   "outputs": [
    {
     "data": {
      "text/plain": [
       "PURCHASE\n",
       "N    0.516151\n",
       "Y    0.483849\n",
       "Name: count, dtype: float64"
      ]
     },
     "execution_count": 72,
     "metadata": {},
     "output_type": "execute_result"
    }
   ],
   "source": [
    "val_targets.value_counts() / len(val_targets)"
   ]
  },
  {
   "cell_type": "markdown",
   "id": "ae9dff20-6053-492f-b8d0-4502d1e0ca66",
   "metadata": {},
   "source": [
    "### Making a submission on Kaggle\n",
    "\n",
    "If you're participating in a Kaggle competition, you can generate a submission CSV file and make a submission to check your score on the test set."
   ]
  },
  {
   "cell_type": "code",
   "execution_count": 73,
   "id": "2aee9fb3-a0b3-4842-842d-6ef06a5a9cc8",
   "metadata": {},
   "outputs": [
    {
     "data": {
      "text/plain": [
       "array(['N', 'Y', 'N', ..., 'Y', 'Y', 'Y'], dtype=object)"
      ]
     },
     "execution_count": 73,
     "metadata": {},
     "output_type": "execute_result"
    }
   ],
   "source": [
    "test_preds = rf.predict(X_test)\n",
    "test_preds"
   ]
  },
  {
   "cell_type": "code",
   "execution_count": 74,
   "id": "e8c15438-b834-4960-bdd2-b153969b6323",
   "metadata": {},
   "outputs": [],
   "source": [
    "test_df['PURCHASE_PREDICTION'] = test_preds"
   ]
  },
  {
   "cell_type": "code",
   "execution_count": 75,
   "id": "51e1fa59-f2bd-46f4-8ad2-5a7a0b3b2835",
   "metadata": {},
   "outputs": [],
   "source": [
    "#test_df.info()"
   ]
  },
  {
   "cell_type": "code",
   "execution_count": 76,
   "id": "cfe28aca-ec45-44c0-a175-6b7cc05cc70f",
   "metadata": {},
   "outputs": [
    {
     "data": {
      "text/html": [
       "<div>\n",
       "<style scoped>\n",
       "    .dataframe tbody tr th:only-of-type {\n",
       "        vertical-align: middle;\n",
       "    }\n",
       "\n",
       "    .dataframe tbody tr th {\n",
       "        vertical-align: top;\n",
       "    }\n",
       "\n",
       "    .dataframe thead th {\n",
       "        text-align: right;\n",
       "    }\n",
       "</style>\n",
       "<table border=\"1\" class=\"dataframe\">\n",
       "  <thead>\n",
       "    <tr style=\"text-align: right;\">\n",
       "      <th></th>\n",
       "      <th>PURCHASE_COUNT_x</th>\n",
       "      <th>PURCHASE_COUNT_y</th>\n",
       "      <th>TOTAL_AMOUNT_SPENT</th>\n",
       "      <th>BOX_ID</th>\n",
       "      <th>MILK</th>\n",
       "      <th>MEAT</th>\n",
       "      <th>UNIT_PRICE</th>\n",
       "      <th>BOX_COUNT</th>\n",
       "      <th>PURCHASE</th>\n",
       "      <th>TOTAL_AMOUNT</th>\n",
       "      <th>...</th>\n",
       "      <th>FEB_MEAT</th>\n",
       "      <th>OCT_MILK</th>\n",
       "      <th>NOV_MILK</th>\n",
       "      <th>DEC_MILK</th>\n",
       "      <th>JAN_MILK</th>\n",
       "      <th>FEB_MILK</th>\n",
       "      <th>MAGIC_KEY_ENCODED</th>\n",
       "      <th>DELIVERY_ENCODED</th>\n",
       "      <th>QUALITY_ENCODED</th>\n",
       "      <th>PURCHASE_PREDICTION</th>\n",
       "    </tr>\n",
       "  </thead>\n",
       "  <tbody>\n",
       "    <tr>\n",
       "      <th>0</th>\n",
       "      <td>3</td>\n",
       "      <td>3</td>\n",
       "      <td>45.88</td>\n",
       "      <td>248</td>\n",
       "      <td>0.0</td>\n",
       "      <td>2.9</td>\n",
       "      <td>13.96</td>\n",
       "      <td>1.0</td>\n",
       "      <td>N</td>\n",
       "      <td>13.96</td>\n",
       "      <td>...</td>\n",
       "      <td>3.6</td>\n",
       "      <td>0.0</td>\n",
       "      <td>0.0</td>\n",
       "      <td>0.0</td>\n",
       "      <td>0.0</td>\n",
       "      <td>0.0</td>\n",
       "      <td>4878</td>\n",
       "      <td>0</td>\n",
       "      <td>1</td>\n",
       "      <td>N</td>\n",
       "    </tr>\n",
       "    <tr>\n",
       "      <th>3</th>\n",
       "      <td>4</td>\n",
       "      <td>4</td>\n",
       "      <td>72.12</td>\n",
       "      <td>233</td>\n",
       "      <td>10.0</td>\n",
       "      <td>0.0</td>\n",
       "      <td>12.18</td>\n",
       "      <td>1.0</td>\n",
       "      <td>Y</td>\n",
       "      <td>12.18</td>\n",
       "      <td>...</td>\n",
       "      <td>1.8</td>\n",
       "      <td>16.0</td>\n",
       "      <td>16.0</td>\n",
       "      <td>10.0</td>\n",
       "      <td>0.0</td>\n",
       "      <td>16.0</td>\n",
       "      <td>52638</td>\n",
       "      <td>0</td>\n",
       "      <td>1</td>\n",
       "      <td>Y</td>\n",
       "    </tr>\n",
       "    <tr>\n",
       "      <th>7</th>\n",
       "      <td>2</td>\n",
       "      <td>2</td>\n",
       "      <td>31.92</td>\n",
       "      <td>255</td>\n",
       "      <td>0.0</td>\n",
       "      <td>3.6</td>\n",
       "      <td>15.96</td>\n",
       "      <td>1.0</td>\n",
       "      <td>N</td>\n",
       "      <td>15.96</td>\n",
       "      <td>...</td>\n",
       "      <td>0.0</td>\n",
       "      <td>0.0</td>\n",
       "      <td>0.0</td>\n",
       "      <td>0.0</td>\n",
       "      <td>0.0</td>\n",
       "      <td>0.0</td>\n",
       "      <td>55221</td>\n",
       "      <td>0</td>\n",
       "      <td>1</td>\n",
       "      <td>N</td>\n",
       "    </tr>\n",
       "    <tr>\n",
       "      <th>9</th>\n",
       "      <td>2</td>\n",
       "      <td>2</td>\n",
       "      <td>35.96</td>\n",
       "      <td>258</td>\n",
       "      <td>8.0</td>\n",
       "      <td>2.2</td>\n",
       "      <td>17.98</td>\n",
       "      <td>1.0</td>\n",
       "      <td>Y</td>\n",
       "      <td>17.98</td>\n",
       "      <td>...</td>\n",
       "      <td>2.2</td>\n",
       "      <td>8.0</td>\n",
       "      <td>0.0</td>\n",
       "      <td>0.0</td>\n",
       "      <td>0.0</td>\n",
       "      <td>8.0</td>\n",
       "      <td>54387</td>\n",
       "      <td>0</td>\n",
       "      <td>1</td>\n",
       "      <td>Y</td>\n",
       "    </tr>\n",
       "    <tr>\n",
       "      <th>11</th>\n",
       "      <td>4</td>\n",
       "      <td>4</td>\n",
       "      <td>63.84</td>\n",
       "      <td>255</td>\n",
       "      <td>0.0</td>\n",
       "      <td>3.6</td>\n",
       "      <td>15.96</td>\n",
       "      <td>1.0</td>\n",
       "      <td>N</td>\n",
       "      <td>15.96</td>\n",
       "      <td>...</td>\n",
       "      <td>3.6</td>\n",
       "      <td>0.0</td>\n",
       "      <td>0.0</td>\n",
       "      <td>0.0</td>\n",
       "      <td>0.0</td>\n",
       "      <td>0.0</td>\n",
       "      <td>15351</td>\n",
       "      <td>0</td>\n",
       "      <td>1</td>\n",
       "      <td>N</td>\n",
       "    </tr>\n",
       "  </tbody>\n",
       "</table>\n",
       "<p>5 rows × 43 columns</p>\n",
       "</div>"
      ],
      "text/plain": [
       "    PURCHASE_COUNT_x  PURCHASE_COUNT_y  TOTAL_AMOUNT_SPENT  BOX_ID  MILK  \\\n",
       "0                  3                 3               45.88     248   0.0   \n",
       "3                  4                 4               72.12     233  10.0   \n",
       "7                  2                 2               31.92     255   0.0   \n",
       "9                  2                 2               35.96     258   8.0   \n",
       "11                 4                 4               63.84     255   0.0   \n",
       "\n",
       "    MEAT  UNIT_PRICE  BOX_COUNT PURCHASE  TOTAL_AMOUNT  ...  FEB_MEAT  \\\n",
       "0    2.9       13.96        1.0        N         13.96  ...       3.6   \n",
       "3    0.0       12.18        1.0        Y         12.18  ...       1.8   \n",
       "7    3.6       15.96        1.0        N         15.96  ...       0.0   \n",
       "9    2.2       17.98        1.0        Y         17.98  ...       2.2   \n",
       "11   3.6       15.96        1.0        N         15.96  ...       3.6   \n",
       "\n",
       "    OCT_MILK  NOV_MILK  DEC_MILK  JAN_MILK  FEB_MILK  MAGIC_KEY_ENCODED  \\\n",
       "0        0.0       0.0       0.0       0.0       0.0               4878   \n",
       "3       16.0      16.0      10.0       0.0      16.0              52638   \n",
       "7        0.0       0.0       0.0       0.0       0.0              55221   \n",
       "9        8.0       0.0       0.0       0.0       8.0              54387   \n",
       "11       0.0       0.0       0.0       0.0       0.0              15351   \n",
       "\n",
       "    DELIVERY_ENCODED  QUALITY_ENCODED  PURCHASE_PREDICTION  \n",
       "0                  0                1                    N  \n",
       "3                  0                1                    Y  \n",
       "7                  0                1                    N  \n",
       "9                  0                1                    Y  \n",
       "11                 0                1                    N  \n",
       "\n",
       "[5 rows x 43 columns]"
      ]
     },
     "execution_count": 76,
     "metadata": {},
     "output_type": "execute_result"
    }
   ],
   "source": [
    "test_df.head()"
   ]
  },
  {
   "cell_type": "code",
   "execution_count": 77,
   "id": "5e51bc43-ef14-4c96-a484-a6829896d885",
   "metadata": {},
   "outputs": [],
   "source": [
    "sub_df = pd.merge( prb_df_encode, test_df, on='MAGIC_KEY_ENCODED')\n"
   ]
  },
  {
   "cell_type": "code",
   "execution_count": 78,
   "id": "00827c84-0d50-4e88-8989-92aecf4f9875",
   "metadata": {},
   "outputs": [
    {
     "data": {
      "text/html": [
       "<div>\n",
       "<style scoped>\n",
       "    .dataframe tbody tr th:only-of-type {\n",
       "        vertical-align: middle;\n",
       "    }\n",
       "\n",
       "    .dataframe tbody tr th {\n",
       "        vertical-align: top;\n",
       "    }\n",
       "\n",
       "    .dataframe thead th {\n",
       "        text-align: right;\n",
       "    }\n",
       "</style>\n",
       "<table border=\"1\" class=\"dataframe\">\n",
       "  <thead>\n",
       "    <tr style=\"text-align: right;\">\n",
       "      <th></th>\n",
       "      <th>MAGIC_KEY</th>\n",
       "      <th>PURCHASE_COUNT_x_x</th>\n",
       "      <th>PURCHASE_COUNT_y_x</th>\n",
       "      <th>TOTAL_AMOUNT_SPENT_x</th>\n",
       "      <th>BOX_ID_x</th>\n",
       "      <th>QUALITY</th>\n",
       "      <th>DELIVERY_OPTION</th>\n",
       "      <th>MILK_x</th>\n",
       "      <th>MEAT_x</th>\n",
       "      <th>UNIT_PRICE_x</th>\n",
       "      <th>...</th>\n",
       "      <th>JAN_MEAT_y</th>\n",
       "      <th>FEB_MEAT_y</th>\n",
       "      <th>OCT_MILK_y</th>\n",
       "      <th>NOV_MILK_y</th>\n",
       "      <th>DEC_MILK_y</th>\n",
       "      <th>JAN_MILK_y</th>\n",
       "      <th>FEB_MILK_y</th>\n",
       "      <th>DELIVERY_ENCODED_y</th>\n",
       "      <th>QUALITY_ENCODED_y</th>\n",
       "      <th>PURCHASE_PREDICTION</th>\n",
       "    </tr>\n",
       "  </thead>\n",
       "  <tbody>\n",
       "    <tr>\n",
       "      <th>0</th>\n",
       "      <td>28D5BB06356</td>\n",
       "      <td>3</td>\n",
       "      <td>3</td>\n",
       "      <td>45.88</td>\n",
       "      <td>248</td>\n",
       "      <td>Standard</td>\n",
       "      <td>Delivery from Collection Point</td>\n",
       "      <td>0.0</td>\n",
       "      <td>2.9</td>\n",
       "      <td>13.96</td>\n",
       "      <td>...</td>\n",
       "      <td>0.0</td>\n",
       "      <td>3.6</td>\n",
       "      <td>0.0</td>\n",
       "      <td>0.0</td>\n",
       "      <td>0.0</td>\n",
       "      <td>0.0</td>\n",
       "      <td>0.0</td>\n",
       "      <td>0</td>\n",
       "      <td>1</td>\n",
       "      <td>N</td>\n",
       "    </tr>\n",
       "    <tr>\n",
       "      <th>1</th>\n",
       "      <td>293BEAB4E98</td>\n",
       "      <td>4</td>\n",
       "      <td>4</td>\n",
       "      <td>72.12</td>\n",
       "      <td>233</td>\n",
       "      <td>Standard</td>\n",
       "      <td>Delivery from Collection Point</td>\n",
       "      <td>10.0</td>\n",
       "      <td>0.0</td>\n",
       "      <td>12.18</td>\n",
       "      <td>...</td>\n",
       "      <td>0.0</td>\n",
       "      <td>1.8</td>\n",
       "      <td>16.0</td>\n",
       "      <td>16.0</td>\n",
       "      <td>10.0</td>\n",
       "      <td>0.0</td>\n",
       "      <td>16.0</td>\n",
       "      <td>0</td>\n",
       "      <td>1</td>\n",
       "      <td>Y</td>\n",
       "    </tr>\n",
       "    <tr>\n",
       "      <th>2</th>\n",
       "      <td>2962EE8065C</td>\n",
       "      <td>2</td>\n",
       "      <td>2</td>\n",
       "      <td>31.92</td>\n",
       "      <td>255</td>\n",
       "      <td>Standard</td>\n",
       "      <td>Delivery from Collection Point</td>\n",
       "      <td>0.0</td>\n",
       "      <td>3.6</td>\n",
       "      <td>15.96</td>\n",
       "      <td>...</td>\n",
       "      <td>0.0</td>\n",
       "      <td>0.0</td>\n",
       "      <td>0.0</td>\n",
       "      <td>0.0</td>\n",
       "      <td>0.0</td>\n",
       "      <td>0.0</td>\n",
       "      <td>0.0</td>\n",
       "      <td>0</td>\n",
       "      <td>1</td>\n",
       "      <td>N</td>\n",
       "    </tr>\n",
       "    <tr>\n",
       "      <th>3</th>\n",
       "      <td>2957BE29EA9</td>\n",
       "      <td>2</td>\n",
       "      <td>2</td>\n",
       "      <td>35.96</td>\n",
       "      <td>258</td>\n",
       "      <td>Standard</td>\n",
       "      <td>Delivery from Collection Point</td>\n",
       "      <td>8.0</td>\n",
       "      <td>2.2</td>\n",
       "      <td>17.98</td>\n",
       "      <td>...</td>\n",
       "      <td>0.0</td>\n",
       "      <td>2.2</td>\n",
       "      <td>8.0</td>\n",
       "      <td>0.0</td>\n",
       "      <td>0.0</td>\n",
       "      <td>0.0</td>\n",
       "      <td>8.0</td>\n",
       "      <td>0</td>\n",
       "      <td>1</td>\n",
       "      <td>Y</td>\n",
       "    </tr>\n",
       "    <tr>\n",
       "      <th>4</th>\n",
       "      <td>28E351A0745</td>\n",
       "      <td>4</td>\n",
       "      <td>4</td>\n",
       "      <td>63.84</td>\n",
       "      <td>255</td>\n",
       "      <td>Standard</td>\n",
       "      <td>Delivery from Collection Point</td>\n",
       "      <td>0.0</td>\n",
       "      <td>3.6</td>\n",
       "      <td>15.96</td>\n",
       "      <td>...</td>\n",
       "      <td>3.6</td>\n",
       "      <td>3.6</td>\n",
       "      <td>0.0</td>\n",
       "      <td>0.0</td>\n",
       "      <td>0.0</td>\n",
       "      <td>0.0</td>\n",
       "      <td>0.0</td>\n",
       "      <td>0</td>\n",
       "      <td>1</td>\n",
       "      <td>N</td>\n",
       "    </tr>\n",
       "  </tbody>\n",
       "</table>\n",
       "<p>5 rows × 89 columns</p>\n",
       "</div>"
      ],
      "text/plain": [
       "     MAGIC_KEY  PURCHASE_COUNT_x_x  PURCHASE_COUNT_y_x  TOTAL_AMOUNT_SPENT_x  \\\n",
       "0  28D5BB06356                   3                   3                 45.88   \n",
       "1  293BEAB4E98                   4                   4                 72.12   \n",
       "2  2962EE8065C                   2                   2                 31.92   \n",
       "3  2957BE29EA9                   2                   2                 35.96   \n",
       "4  28E351A0745                   4                   4                 63.84   \n",
       "\n",
       "   BOX_ID_x   QUALITY                 DELIVERY_OPTION  MILK_x  MEAT_x  \\\n",
       "0       248  Standard  Delivery from Collection Point     0.0     2.9   \n",
       "1       233  Standard  Delivery from Collection Point    10.0     0.0   \n",
       "2       255  Standard  Delivery from Collection Point     0.0     3.6   \n",
       "3       258  Standard  Delivery from Collection Point     8.0     2.2   \n",
       "4       255  Standard  Delivery from Collection Point     0.0     3.6   \n",
       "\n",
       "   UNIT_PRICE_x  ... JAN_MEAT_y  FEB_MEAT_y OCT_MILK_y  NOV_MILK_y  \\\n",
       "0         13.96  ...        0.0         3.6        0.0         0.0   \n",
       "1         12.18  ...        0.0         1.8       16.0        16.0   \n",
       "2         15.96  ...        0.0         0.0        0.0         0.0   \n",
       "3         17.98  ...        0.0         2.2        8.0         0.0   \n",
       "4         15.96  ...        3.6         3.6        0.0         0.0   \n",
       "\n",
       "   DEC_MILK_y JAN_MILK_y  FEB_MILK_y  DELIVERY_ENCODED_y  QUALITY_ENCODED_y  \\\n",
       "0         0.0        0.0         0.0                   0                  1   \n",
       "1        10.0        0.0        16.0                   0                  1   \n",
       "2         0.0        0.0         0.0                   0                  1   \n",
       "3         0.0        0.0         8.0                   0                  1   \n",
       "4         0.0        0.0         0.0                   0                  1   \n",
       "\n",
       "   PURCHASE_PREDICTION  \n",
       "0                    N  \n",
       "1                    Y  \n",
       "2                    N  \n",
       "3                    Y  \n",
       "4                    N  \n",
       "\n",
       "[5 rows x 89 columns]"
      ]
     },
     "execution_count": 78,
     "metadata": {},
     "output_type": "execute_result"
    }
   ],
   "source": [
    "sub_df.head()"
   ]
  },
  {
   "cell_type": "code",
   "execution_count": 79,
   "id": "4c04d277-f0ca-407c-bc7f-13c68c5c2017",
   "metadata": {},
   "outputs": [],
   "source": [
    "sub_df = sub_df[['MAGIC_KEY', 'PURCHASE_PREDICTION']]\n"
   ]
  },
  {
   "cell_type": "code",
   "execution_count": 80,
   "id": "fc56872d-2f85-471e-b9be-7897c7c155e8",
   "metadata": {},
   "outputs": [],
   "source": [
    "sub_df = sub_df.rename(columns={'PURCHASE_PREDICTION': 'PURCHASE'})\n"
   ]
  },
  {
   "cell_type": "code",
   "execution_count": 81,
   "id": "28f19a8c-2d1f-455d-9442-dd56f9235ccc",
   "metadata": {},
   "outputs": [],
   "source": [
    "sub_df.to_csv('Submission3.csv', index=None)"
   ]
  },
  {
   "cell_type": "code",
   "execution_count": 82,
   "id": "9f8f1dbb-1183-4d48-bca6-87e831eb1b08",
   "metadata": {
    "editable": true,
    "slideshow": {
     "slide_type": ""
    },
    "tags": []
   },
   "outputs": [
    {
     "name": "stdout",
     "output_type": "stream",
     "text": [
      "<class 'pandas.core.frame.DataFrame'>\n",
      "RangeIndex: 58689 entries, 0 to 58688\n",
      "Data columns (total 2 columns):\n",
      " #   Column     Non-Null Count  Dtype \n",
      "---  ------     --------------  ----- \n",
      " 0   MAGIC_KEY  58689 non-null  object\n",
      " 1   PURCHASE   58689 non-null  object\n",
      "dtypes: object(2)\n",
      "memory usage: 917.1+ KB\n"
     ]
    }
   ],
   "source": [
    "sub_df.info()"
   ]
  },
  {
   "cell_type": "code",
   "execution_count": null,
   "id": "e5e0f163-3562-477e-9bf8-f8a2c06569de",
   "metadata": {
    "editable": true,
    "slideshow": {
     "slide_type": ""
    },
    "tags": []
   },
   "outputs": [],
   "source": []
  }
 ],
 "metadata": {
  "kernelspec": {
   "display_name": "Python 3 (ipykernel)",
   "language": "python",
   "name": "python3"
  },
  "language_info": {
   "codemirror_mode": {
    "name": "ipython",
    "version": 3
   },
   "file_extension": ".py",
   "mimetype": "text/x-python",
   "name": "python",
   "nbconvert_exporter": "python",
   "pygments_lexer": "ipython3",
   "version": "3.11.4"
  }
 },
 "nbformat": 4,
 "nbformat_minor": 5
}
