{
 "cells": [
  {
   "cell_type": "code",
   "execution_count": 1,
   "id": "04db7bdc-60ad-472c-8a1f-380d7fe589be",
   "metadata": {},
   "outputs": [],
   "source": [
    "import os\n",
    "#import jovian\n",
    "import matplotlib\n",
    "import opendatasets as od\n",
    "import numpy as np\n",
    "import pandas as pd\n",
    "import matplotlib.pyplot as plt\n",
    "import seaborn as sns\n",
    "import plotly.express as px\n",
    "%matplotlib inline\n",
    "sns.set_style('darkgrid')\n",
    "matplotlib.rcParams['font.size'] = 14\n",
    "matplotlib.rcParams['figure.figsize'] = (10, 6)\n",
    "matplotlib.rcParams['figure.facecolor'] = '#00000000'"
   ]
  },
  {
   "cell_type": "code",
   "execution_count": 2,
   "id": "bee91789-9ea5-49ee-9a94-3db04b64eda7",
   "metadata": {},
   "outputs": [],
   "source": [
    "merged_df = pd.read_csv('merged_data.csv')"
   ]
  },
  {
   "cell_type": "code",
   "execution_count": 3,
   "id": "44e0f8dc-8ff1-4bba-a02a-8cad1091ca6d",
   "metadata": {},
   "outputs": [],
   "source": [
    "submission_df = pd.read_csv('sample submission 3.csv')"
   ]
  },
  {
   "cell_type": "code",
   "execution_count": 4,
   "id": "e406859e-e2c5-43ae-bc20-f31341a914bc",
   "metadata": {},
   "outputs": [
    {
     "data": {
      "text/plain": [
       "MAGIC_KEY    5379\n",
       "MEAT            1\n",
       "dtype: int64"
      ]
     },
     "execution_count": 4,
     "metadata": {},
     "output_type": "execute_result"
    }
   ],
   "source": [
    "submission_df.nunique()"
   ]
  },
  {
   "cell_type": "code",
   "execution_count": 5,
   "id": "860dd55b-b65d-4387-a3f9-2cfab43a937d",
   "metadata": {},
   "outputs": [],
   "source": [
    "merged_df['PURCHASE_DATE'] = pd.to_datetime(merged_df['PURCHASE_DATE'])\n",
    "merged_df['LAST_PURCHASE_DATE'] = pd.to_datetime(merged_df['LAST_PURCHASE_DATE'])"
   ]
  },
  {
   "cell_type": "markdown",
   "id": "cfcb792a-8db8-499a-b043-c932bb38e878",
   "metadata": {},
   "source": [
    "### Encoding Categorical Data"
   ]
  },
  {
   "cell_type": "code",
   "execution_count": 6,
   "id": "a86dfce8-5c52-456f-95de-a79fbc1322fa",
   "metadata": {},
   "outputs": [],
   "source": [
    "from sklearn.preprocessing import LabelEncoder\n",
    "import pickle"
   ]
  },
  {
   "cell_type": "code",
   "execution_count": null,
   "id": "6931339e-5d4d-411b-9efa-2b4444a67122",
   "metadata": {},
   "outputs": [],
   "source": []
  },
  {
   "cell_type": "code",
   "execution_count": 7,
   "id": "85bf785e-c2dd-4bc0-85ca-31d695f82309",
   "metadata": {},
   "outputs": [],
   "source": [
    "le = LabelEncoder() #creating an instance of LabelEncoder\n",
    "merged_df['MAGIC_KEY_ENCODED'] = le.fit_transform(merged_df['MAGIC_KEY'])\n",
    "merged_df['DELIVERY_ENCODED'] = le.fit_transform(merged_df['DELIVERY_OPTION'])\n",
    "merged_df['QUALITY_ENCODED'] = le.fit_transform(merged_df['QUALITY'])"
   ]
  },
  {
   "cell_type": "code",
   "execution_count": 8,
   "id": "7a03557b-fbb5-4a4e-8489-b4825b8b7b6f",
   "metadata": {},
   "outputs": [],
   "source": [
    "prb_df_without_encode = pd.read_csv('problem 3.csv')\n",
    "prb_df_encode = prb_df_without_encode.copy()"
   ]
  },
  {
   "cell_type": "code",
   "execution_count": 9,
   "id": "6b1c5aaa-6cde-4803-b851-a0d63d6dd5d1",
   "metadata": {},
   "outputs": [],
   "source": [
    "prb_df_encode = prb_df_encode.merge(merged_df, on='MAGIC_KEY', how='left').drop_duplicates(subset=['MAGIC_KEY'])\n"
   ]
  },
  {
   "cell_type": "code",
   "execution_count": 10,
   "id": "ee196d75-6717-41e2-9307-44ecbcf26193",
   "metadata": {},
   "outputs": [],
   "source": [
    "#prb_df_encode.MAGIC_KEY.value_counts()"
   ]
  },
  {
   "cell_type": "code",
   "execution_count": 11,
   "id": "7a2dc82b-6911-436f-83f3-3c54c749183d",
   "metadata": {},
   "outputs": [],
   "source": [
    "#prb_df_encode"
   ]
  },
  {
   "cell_type": "markdown",
   "id": "652944ab-aa7a-4f53-9e80-66ea13e5167a",
   "metadata": {},
   "source": [
    "## Added magic key encode in the submission df"
   ]
  },
  {
   "cell_type": "code",
   "execution_count": 12,
   "id": "a975fd3d-7cdc-4984-a109-032127bdfb18",
   "metadata": {},
   "outputs": [],
   "source": [
    "prb_df_encode['MAGIC_KEY_ENCODED'] = le.fit_transform(prb_df_encode['MAGIC_KEY'])\n"
   ]
  },
  {
   "cell_type": "code",
   "execution_count": 13,
   "id": "79f93f3c-4ffd-4abb-9f71-3fdfbafd6cf3",
   "metadata": {},
   "outputs": [],
   "source": [
    "### drop purchase date and last purchase date column\n",
    "#prb_df_encode = prb_df_encode.drop(columns=['MAGIC_KEY'])"
   ]
  },
  {
   "cell_type": "code",
   "execution_count": 14,
   "id": "0db48ebc-6bd8-4549-8045-80be176a782a",
   "metadata": {},
   "outputs": [
    {
     "data": {
      "text/plain": [
       "0"
      ]
     },
     "execution_count": 14,
     "metadata": {},
     "output_type": "execute_result"
    }
   ],
   "source": [
    "prb_df_encode.duplicated().sum()"
   ]
  },
  {
   "cell_type": "code",
   "execution_count": 15,
   "id": "40af2487-6a56-4c43-bcdc-7a48a171b7e2",
   "metadata": {},
   "outputs": [
    {
     "name": "stdout",
     "output_type": "stream",
     "text": [
      "<class 'pandas.core.frame.DataFrame'>\n",
      "Index: 5379 entries, 0 to 15323\n",
      "Data columns (total 33 columns):\n",
      " #   Column                   Non-Null Count  Dtype         \n",
      "---  ------                   --------------  -----         \n",
      " 0   MAGIC_KEY                5379 non-null   object        \n",
      " 1   BOX_ID                   5378 non-null   float64       \n",
      " 2   QUALITY                  5378 non-null   object        \n",
      " 3   DELIVERY_OPTION          5378 non-null   object        \n",
      " 4   MILK                     5378 non-null   float64       \n",
      " 5   MEAT                     5378 non-null   float64       \n",
      " 6   UNIT_PRICE               5378 non-null   float64       \n",
      " 7   PURCHASE_DATE            5378 non-null   datetime64[ns]\n",
      " 8   BOX_COUNT                5378 non-null   float64       \n",
      " 9   LAST_PURCHASE_DATE       5378 non-null   datetime64[ns]\n",
      " 10  DAYS_FROM_LAST_PURCHASE  5378 non-null   float64       \n",
      " 11  DAY                      5378 non-null   float64       \n",
      " 12  MONTH                    5378 non-null   float64       \n",
      " 13  YEAR                     5378 non-null   float64       \n",
      " 14  10_FIRST_PURCHASE_2018   5378 non-null   float64       \n",
      " 15  10_LAST_PURCHASE_2018    5378 non-null   float64       \n",
      " 16  11_FIRST_PURCHASE_2018   5378 non-null   float64       \n",
      " 17  11_LAST_PURCHASE_2018    5378 non-null   float64       \n",
      " 18  12_FIRST_PURCHASE_2018   5378 non-null   float64       \n",
      " 19  12_LAST_PURCHASE_2018    5378 non-null   float64       \n",
      " 20  01_FIRST_PURCHASE_2019   5378 non-null   float64       \n",
      " 21  01_LAST_PURCHASE_2019    5378 non-null   float64       \n",
      " 22  02_FIRST_PURCHASE_2019   5378 non-null   float64       \n",
      " 23  02_LAST_PURCHASE_2019    5378 non-null   float64       \n",
      " 24  TOTAL_MEAT               5378 non-null   float64       \n",
      " 25  TOTAL_MILK               5378 non-null   float64       \n",
      " 26  MEAT_PURCHASE_FREQUENCY  5378 non-null   float64       \n",
      " 27  MILK_PURCHASE_FREQUENCY  5378 non-null   float64       \n",
      " 28  TOTAL_BOX_COUNT          5378 non-null   float64       \n",
      " 29  TOTAL_AMOUNT             5378 non-null   float64       \n",
      " 30  MAGIC_KEY_ENCODED        5379 non-null   int32         \n",
      " 31  DELIVERY_ENCODED         5378 non-null   float64       \n",
      " 32  QUALITY_ENCODED          5378 non-null   float64       \n",
      "dtypes: datetime64[ns](2), float64(27), int32(1), object(3)\n",
      "memory usage: 1.4+ MB\n"
     ]
    }
   ],
   "source": [
    "prb_df_encode.info()"
   ]
  },
  {
   "cell_type": "code",
   "execution_count": null,
   "id": "a83dbada-ac07-4bdf-a153-2befede2f104",
   "metadata": {},
   "outputs": [],
   "source": []
  },
  {
   "cell_type": "code",
   "execution_count": 16,
   "id": "5c066275-11ef-462c-a67a-16b6545d556d",
   "metadata": {},
   "outputs": [],
   "source": [
    "merged_df['MAGIC_KEY_ENCODED'] = le.fit_transform(merged_df['MAGIC_KEY'])\n"
   ]
  },
  {
   "cell_type": "code",
   "execution_count": null,
   "id": "f8b2ff03-6c3f-4f10-88e0-259d57495dfe",
   "metadata": {},
   "outputs": [],
   "source": []
  },
  {
   "cell_type": "code",
   "execution_count": null,
   "id": "039cde31-7408-46d8-a4f7-1acf81229648",
   "metadata": {},
   "outputs": [],
   "source": []
  },
  {
   "cell_type": "code",
   "execution_count": null,
   "id": "52d3d908-d477-423d-a4d9-376574abe4d2",
   "metadata": {},
   "outputs": [],
   "source": []
  },
  {
   "cell_type": "code",
   "execution_count": null,
   "id": "43caf647-5149-41b8-82d9-97de9bca7101",
   "metadata": {},
   "outputs": [],
   "source": []
  },
  {
   "cell_type": "code",
   "execution_count": null,
   "id": "34f95197-486e-460c-b18a-768daf0f3619",
   "metadata": {},
   "outputs": [],
   "source": []
  },
  {
   "cell_type": "code",
   "execution_count": null,
   "id": "739f2ce3-0c57-4a8d-8857-28d21a6ca7f6",
   "metadata": {},
   "outputs": [],
   "source": []
  },
  {
   "cell_type": "code",
   "execution_count": null,
   "id": "dae085e5-0dd4-495c-8783-229a68d4d418",
   "metadata": {},
   "outputs": [],
   "source": []
  },
  {
   "cell_type": "code",
   "execution_count": null,
   "id": "d253f305-58af-45bb-9bf9-8b30674971eb",
   "metadata": {},
   "outputs": [],
   "source": []
  },
  {
   "cell_type": "code",
   "execution_count": null,
   "id": "368cafdb-1ab7-40a5-8837-310b4a7cabcc",
   "metadata": {},
   "outputs": [],
   "source": []
  },
  {
   "cell_type": "markdown",
   "id": "bfc6c7f1-6a57-4605-94d2-d57b401b2e67",
   "metadata": {},
   "source": [
    "## splitting dataset for training and val set"
   ]
  },
  {
   "cell_type": "code",
   "execution_count": 17,
   "id": "3282d7b7-3ec3-47df-ab9d-d64855f650f8",
   "metadata": {},
   "outputs": [
    {
     "data": {
      "text/plain": [
       "2455723"
      ]
     },
     "execution_count": 17,
     "metadata": {},
     "output_type": "execute_result"
    }
   ],
   "source": [
    "len(merged_df)"
   ]
  },
  {
   "cell_type": "code",
   "execution_count": 18,
   "id": "9d3fa2c0-e3cf-497b-84d5-02d159e1dc00",
   "metadata": {},
   "outputs": [
    {
     "data": {
      "text/plain": [
       "1841792"
      ]
     },
     "execution_count": 18,
     "metadata": {},
     "output_type": "execute_result"
    }
   ],
   "source": [
    "train_size = int(.75 * len(merged_df))\n",
    "train_size"
   ]
  },
  {
   "cell_type": "code",
   "execution_count": 19,
   "id": "9af6ed18-7fff-485c-bb91-d77eb9166efd",
   "metadata": {},
   "outputs": [],
   "source": [
    "sorted_df = merged_df.sort_values('PURCHASE_DATE')\n",
    "train_df, val_df = sorted_df[:train_size], sorted_df[train_size:]"
   ]
  },
  {
   "cell_type": "code",
   "execution_count": 20,
   "id": "8806c202-9b06-4bb3-8d9e-c5269aecb2d8",
   "metadata": {},
   "outputs": [
    {
     "data": {
      "text/plain": [
       "(1841792, 613931)"
      ]
     },
     "execution_count": 20,
     "metadata": {},
     "output_type": "execute_result"
    }
   ],
   "source": [
    "len(train_df), len(val_df)"
   ]
  },
  {
   "cell_type": "code",
   "execution_count": 21,
   "id": "21e87e69-1177-4a29-aaf7-9545d18067d3",
   "metadata": {},
   "outputs": [
    {
     "data": {
      "text/plain": [
       "(Timestamp('2019-01-30 00:00:00'), Timestamp('2019-02-28 00:00:00'))"
      ]
     },
     "execution_count": 21,
     "metadata": {},
     "output_type": "execute_result"
    }
   ],
   "source": [
    "val_df.PURCHASE_DATE.min(), val_df.PURCHASE_DATE.max()"
   ]
  },
  {
   "cell_type": "code",
   "execution_count": 22,
   "id": "1a878afe-461e-4434-a0f2-464b3e34510a",
   "metadata": {
    "scrolled": true
   },
   "outputs": [
    {
     "data": {
      "text/html": [
       "<div>\n",
       "<style scoped>\n",
       "    .dataframe tbody tr th:only-of-type {\n",
       "        vertical-align: middle;\n",
       "    }\n",
       "\n",
       "    .dataframe tbody tr th {\n",
       "        vertical-align: top;\n",
       "    }\n",
       "\n",
       "    .dataframe thead th {\n",
       "        text-align: right;\n",
       "    }\n",
       "</style>\n",
       "<table border=\"1\" class=\"dataframe\">\n",
       "  <thead>\n",
       "    <tr style=\"text-align: right;\">\n",
       "      <th></th>\n",
       "      <th>BOX_ID</th>\n",
       "      <th>QUALITY</th>\n",
       "      <th>DELIVERY_OPTION</th>\n",
       "      <th>MILK</th>\n",
       "      <th>MEAT</th>\n",
       "      <th>UNIT_PRICE</th>\n",
       "      <th>PURCHASE_DATE</th>\n",
       "      <th>MAGIC_KEY</th>\n",
       "      <th>BOX_COUNT</th>\n",
       "      <th>LAST_PURCHASE_DATE</th>\n",
       "      <th>...</th>\n",
       "      <th>02_LAST_PURCHASE_2019</th>\n",
       "      <th>TOTAL_MEAT</th>\n",
       "      <th>TOTAL_MILK</th>\n",
       "      <th>MEAT_PURCHASE_FREQUENCY</th>\n",
       "      <th>MILK_PURCHASE_FREQUENCY</th>\n",
       "      <th>TOTAL_BOX_COUNT</th>\n",
       "      <th>TOTAL_AMOUNT</th>\n",
       "      <th>MAGIC_KEY_ENCODED</th>\n",
       "      <th>DELIVERY_ENCODED</th>\n",
       "      <th>QUALITY_ENCODED</th>\n",
       "    </tr>\n",
       "  </thead>\n",
       "  <tbody>\n",
       "    <tr>\n",
       "      <th>2333148</th>\n",
       "      <td>260</td>\n",
       "      <td>Standard</td>\n",
       "      <td>Delivery from Collection Point</td>\n",
       "      <td>10.0</td>\n",
       "      <td>1.8</td>\n",
       "      <td>17.98</td>\n",
       "      <td>2018-10-01</td>\n",
       "      <td>29339036B48</td>\n",
       "      <td>1.0</td>\n",
       "      <td>2018-10-26</td>\n",
       "      <td>...</td>\n",
       "      <td>0</td>\n",
       "      <td>4.0</td>\n",
       "      <td>18.0</td>\n",
       "      <td>1</td>\n",
       "      <td>1</td>\n",
       "      <td>2.0</td>\n",
       "      <td>35.96</td>\n",
       "      <td>236131</td>\n",
       "      <td>0</td>\n",
       "      <td>1</td>\n",
       "    </tr>\n",
       "    <tr>\n",
       "      <th>736244</th>\n",
       "      <td>118</td>\n",
       "      <td>Premium</td>\n",
       "      <td>Delivery from Collection Point</td>\n",
       "      <td>8.0</td>\n",
       "      <td>1.3</td>\n",
       "      <td>15.98</td>\n",
       "      <td>2018-10-01</td>\n",
       "      <td>2CA943107B8</td>\n",
       "      <td>1.0</td>\n",
       "      <td>2018-12-21</td>\n",
       "      <td>...</td>\n",
       "      <td>0</td>\n",
       "      <td>3.8</td>\n",
       "      <td>8.0</td>\n",
       "      <td>1</td>\n",
       "      <td>1</td>\n",
       "      <td>2.0</td>\n",
       "      <td>31.96</td>\n",
       "      <td>1004932</td>\n",
       "      <td>0</td>\n",
       "      <td>0</td>\n",
       "    </tr>\n",
       "    <tr>\n",
       "      <th>736245</th>\n",
       "      <td>118</td>\n",
       "      <td>Premium</td>\n",
       "      <td>Delivery from Collection Point</td>\n",
       "      <td>8.0</td>\n",
       "      <td>1.3</td>\n",
       "      <td>15.98</td>\n",
       "      <td>2018-10-01</td>\n",
       "      <td>2C00FF1E2DC</td>\n",
       "      <td>1.0</td>\n",
       "      <td>2018-11-18</td>\n",
       "      <td>...</td>\n",
       "      <td>0</td>\n",
       "      <td>3.1</td>\n",
       "      <td>24.0</td>\n",
       "      <td>1</td>\n",
       "      <td>1</td>\n",
       "      <td>2.0</td>\n",
       "      <td>31.96</td>\n",
       "      <td>562275</td>\n",
       "      <td>0</td>\n",
       "      <td>0</td>\n",
       "    </tr>\n",
       "    <tr>\n",
       "      <th>736246</th>\n",
       "      <td>118</td>\n",
       "      <td>Premium</td>\n",
       "      <td>Delivery from Collection Point</td>\n",
       "      <td>8.0</td>\n",
       "      <td>1.3</td>\n",
       "      <td>15.98</td>\n",
       "      <td>2018-10-01</td>\n",
       "      <td>2C1A276B78F</td>\n",
       "      <td>1.0</td>\n",
       "      <td>2019-02-13</td>\n",
       "      <td>...</td>\n",
       "      <td>0</td>\n",
       "      <td>8.5</td>\n",
       "      <td>63.0</td>\n",
       "      <td>1</td>\n",
       "      <td>1</td>\n",
       "      <td>5.0</td>\n",
       "      <td>79.90</td>\n",
       "      <td>636275</td>\n",
       "      <td>0</td>\n",
       "      <td>0</td>\n",
       "    </tr>\n",
       "    <tr>\n",
       "      <th>736247</th>\n",
       "      <td>118</td>\n",
       "      <td>Premium</td>\n",
       "      <td>Delivery from Collection Point</td>\n",
       "      <td>8.0</td>\n",
       "      <td>1.3</td>\n",
       "      <td>15.98</td>\n",
       "      <td>2018-10-01</td>\n",
       "      <td>2BD8A103BA3</td>\n",
       "      <td>1.0</td>\n",
       "      <td>2019-02-22</td>\n",
       "      <td>...</td>\n",
       "      <td>1</td>\n",
       "      <td>5.7</td>\n",
       "      <td>37.0</td>\n",
       "      <td>3</td>\n",
       "      <td>2</td>\n",
       "      <td>4.0</td>\n",
       "      <td>63.92</td>\n",
       "      <td>421092</td>\n",
       "      <td>0</td>\n",
       "      <td>0</td>\n",
       "    </tr>\n",
       "    <tr>\n",
       "      <th>...</th>\n",
       "      <td>...</td>\n",
       "      <td>...</td>\n",
       "      <td>...</td>\n",
       "      <td>...</td>\n",
       "      <td>...</td>\n",
       "      <td>...</td>\n",
       "      <td>...</td>\n",
       "      <td>...</td>\n",
       "      <td>...</td>\n",
       "      <td>...</td>\n",
       "      <td>...</td>\n",
       "      <td>...</td>\n",
       "      <td>...</td>\n",
       "      <td>...</td>\n",
       "      <td>...</td>\n",
       "      <td>...</td>\n",
       "      <td>...</td>\n",
       "      <td>...</td>\n",
       "      <td>...</td>\n",
       "      <td>...</td>\n",
       "      <td>...</td>\n",
       "    </tr>\n",
       "    <tr>\n",
       "      <th>815827</th>\n",
       "      <td>119</td>\n",
       "      <td>Premium</td>\n",
       "      <td>Delivery from Collection Point</td>\n",
       "      <td>8.0</td>\n",
       "      <td>1.5</td>\n",
       "      <td>15.98</td>\n",
       "      <td>2019-01-30</td>\n",
       "      <td>2C86DEB844E</td>\n",
       "      <td>1.0</td>\n",
       "      <td>2019-01-30</td>\n",
       "      <td>...</td>\n",
       "      <td>0</td>\n",
       "      <td>9.0</td>\n",
       "      <td>38.0</td>\n",
       "      <td>1</td>\n",
       "      <td>1</td>\n",
       "      <td>4.0</td>\n",
       "      <td>63.92</td>\n",
       "      <td>902204</td>\n",
       "      <td>0</td>\n",
       "      <td>0</td>\n",
       "    </tr>\n",
       "    <tr>\n",
       "      <th>815813</th>\n",
       "      <td>119</td>\n",
       "      <td>Premium</td>\n",
       "      <td>Delivery from Collection Point</td>\n",
       "      <td>8.0</td>\n",
       "      <td>1.5</td>\n",
       "      <td>15.98</td>\n",
       "      <td>2019-01-30</td>\n",
       "      <td>2BEE97414AF</td>\n",
       "      <td>1.0</td>\n",
       "      <td>2019-01-30</td>\n",
       "      <td>...</td>\n",
       "      <td>0</td>\n",
       "      <td>1.5</td>\n",
       "      <td>8.0</td>\n",
       "      <td>1</td>\n",
       "      <td>1</td>\n",
       "      <td>1.0</td>\n",
       "      <td>15.98</td>\n",
       "      <td>504249</td>\n",
       "      <td>0</td>\n",
       "      <td>0</td>\n",
       "    </tr>\n",
       "    <tr>\n",
       "      <th>2027135</th>\n",
       "      <td>246</td>\n",
       "      <td>Standard</td>\n",
       "      <td>Delivery from Collection Point</td>\n",
       "      <td>0.0</td>\n",
       "      <td>2.5</td>\n",
       "      <td>13.96</td>\n",
       "      <td>2019-01-30</td>\n",
       "      <td>2900C0144CB</td>\n",
       "      <td>1.0</td>\n",
       "      <td>2019-02-23</td>\n",
       "      <td>...</td>\n",
       "      <td>1</td>\n",
       "      <td>12.5</td>\n",
       "      <td>0.0</td>\n",
       "      <td>5</td>\n",
       "      <td>5</td>\n",
       "      <td>5.0</td>\n",
       "      <td>69.80</td>\n",
       "      <td>150679</td>\n",
       "      <td>0</td>\n",
       "      <td>1</td>\n",
       "    </tr>\n",
       "    <tr>\n",
       "      <th>815815</th>\n",
       "      <td>119</td>\n",
       "      <td>Premium</td>\n",
       "      <td>Delivery from Collection Point</td>\n",
       "      <td>8.0</td>\n",
       "      <td>1.5</td>\n",
       "      <td>15.98</td>\n",
       "      <td>2019-01-30</td>\n",
       "      <td>2BE5466FA31</td>\n",
       "      <td>1.0</td>\n",
       "      <td>2019-01-30</td>\n",
       "      <td>...</td>\n",
       "      <td>0</td>\n",
       "      <td>1.5</td>\n",
       "      <td>8.0</td>\n",
       "      <td>1</td>\n",
       "      <td>1</td>\n",
       "      <td>1.0</td>\n",
       "      <td>15.98</td>\n",
       "      <td>474191</td>\n",
       "      <td>0</td>\n",
       "      <td>0</td>\n",
       "    </tr>\n",
       "    <tr>\n",
       "      <th>815816</th>\n",
       "      <td>119</td>\n",
       "      <td>Premium</td>\n",
       "      <td>Delivery from Collection Point</td>\n",
       "      <td>8.0</td>\n",
       "      <td>1.5</td>\n",
       "      <td>15.98</td>\n",
       "      <td>2019-01-30</td>\n",
       "      <td>2BE4F4668CD</td>\n",
       "      <td>1.0</td>\n",
       "      <td>2019-02-09</td>\n",
       "      <td>...</td>\n",
       "      <td>0</td>\n",
       "      <td>9.9</td>\n",
       "      <td>68.0</td>\n",
       "      <td>1</td>\n",
       "      <td>1</td>\n",
       "      <td>5.0</td>\n",
       "      <td>79.90</td>\n",
       "      <td>472554</td>\n",
       "      <td>0</td>\n",
       "      <td>0</td>\n",
       "    </tr>\n",
       "  </tbody>\n",
       "</table>\n",
       "<p>1841792 rows × 33 columns</p>\n",
       "</div>"
      ],
      "text/plain": [
       "         BOX_ID   QUALITY                 DELIVERY_OPTION  MILK  MEAT  \\\n",
       "2333148     260  Standard  Delivery from Collection Point  10.0   1.8   \n",
       "736244      118   Premium  Delivery from Collection Point   8.0   1.3   \n",
       "736245      118   Premium  Delivery from Collection Point   8.0   1.3   \n",
       "736246      118   Premium  Delivery from Collection Point   8.0   1.3   \n",
       "736247      118   Premium  Delivery from Collection Point   8.0   1.3   \n",
       "...         ...       ...                             ...   ...   ...   \n",
       "815827      119   Premium  Delivery from Collection Point   8.0   1.5   \n",
       "815813      119   Premium  Delivery from Collection Point   8.0   1.5   \n",
       "2027135     246  Standard  Delivery from Collection Point   0.0   2.5   \n",
       "815815      119   Premium  Delivery from Collection Point   8.0   1.5   \n",
       "815816      119   Premium  Delivery from Collection Point   8.0   1.5   \n",
       "\n",
       "         UNIT_PRICE PURCHASE_DATE    MAGIC_KEY  BOX_COUNT LAST_PURCHASE_DATE  \\\n",
       "2333148       17.98    2018-10-01  29339036B48        1.0         2018-10-26   \n",
       "736244        15.98    2018-10-01  2CA943107B8        1.0         2018-12-21   \n",
       "736245        15.98    2018-10-01  2C00FF1E2DC        1.0         2018-11-18   \n",
       "736246        15.98    2018-10-01  2C1A276B78F        1.0         2019-02-13   \n",
       "736247        15.98    2018-10-01  2BD8A103BA3        1.0         2019-02-22   \n",
       "...             ...           ...          ...        ...                ...   \n",
       "815827        15.98    2019-01-30  2C86DEB844E        1.0         2019-01-30   \n",
       "815813        15.98    2019-01-30  2BEE97414AF        1.0         2019-01-30   \n",
       "2027135       13.96    2019-01-30  2900C0144CB        1.0         2019-02-23   \n",
       "815815        15.98    2019-01-30  2BE5466FA31        1.0         2019-01-30   \n",
       "815816        15.98    2019-01-30  2BE4F4668CD        1.0         2019-02-09   \n",
       "\n",
       "         ...  02_LAST_PURCHASE_2019  TOTAL_MEAT  TOTAL_MILK  \\\n",
       "2333148  ...                      0         4.0        18.0   \n",
       "736244   ...                      0         3.8         8.0   \n",
       "736245   ...                      0         3.1        24.0   \n",
       "736246   ...                      0         8.5        63.0   \n",
       "736247   ...                      1         5.7        37.0   \n",
       "...      ...                    ...         ...         ...   \n",
       "815827   ...                      0         9.0        38.0   \n",
       "815813   ...                      0         1.5         8.0   \n",
       "2027135  ...                      1        12.5         0.0   \n",
       "815815   ...                      0         1.5         8.0   \n",
       "815816   ...                      0         9.9        68.0   \n",
       "\n",
       "         MEAT_PURCHASE_FREQUENCY  MILK_PURCHASE_FREQUENCY  TOTAL_BOX_COUNT  \\\n",
       "2333148                        1                        1              2.0   \n",
       "736244                         1                        1              2.0   \n",
       "736245                         1                        1              2.0   \n",
       "736246                         1                        1              5.0   \n",
       "736247                         3                        2              4.0   \n",
       "...                          ...                      ...              ...   \n",
       "815827                         1                        1              4.0   \n",
       "815813                         1                        1              1.0   \n",
       "2027135                        5                        5              5.0   \n",
       "815815                         1                        1              1.0   \n",
       "815816                         1                        1              5.0   \n",
       "\n",
       "         TOTAL_AMOUNT  MAGIC_KEY_ENCODED  DELIVERY_ENCODED  QUALITY_ENCODED  \n",
       "2333148         35.96             236131                 0                1  \n",
       "736244          31.96            1004932                 0                0  \n",
       "736245          31.96             562275                 0                0  \n",
       "736246          79.90             636275                 0                0  \n",
       "736247          63.92             421092                 0                0  \n",
       "...               ...                ...               ...              ...  \n",
       "815827          63.92             902204                 0                0  \n",
       "815813          15.98             504249                 0                0  \n",
       "2027135         69.80             150679                 0                1  \n",
       "815815          15.98             474191                 0                0  \n",
       "815816          79.90             472554                 0                0  \n",
       "\n",
       "[1841792 rows x 33 columns]"
      ]
     },
     "execution_count": 22,
     "metadata": {},
     "output_type": "execute_result"
    }
   ],
   "source": [
    "train_df"
   ]
  },
  {
   "cell_type": "code",
   "execution_count": null,
   "id": "035ca3c7-9963-4c05-8e37-ca1c0549d741",
   "metadata": {},
   "outputs": [],
   "source": []
  },
  {
   "cell_type": "code",
   "execution_count": null,
   "id": "dda46f0b-04de-422a-9d8c-6e79489be2d2",
   "metadata": {},
   "outputs": [],
   "source": []
  },
  {
   "cell_type": "code",
   "execution_count": null,
   "id": "a8bebdb5-df74-49cd-8269-0c1b96641369",
   "metadata": {},
   "outputs": [],
   "source": []
  },
  {
   "cell_type": "code",
   "execution_count": null,
   "id": "c0421b27-1cf9-4c6f-b4d8-306e800c1989",
   "metadata": {},
   "outputs": [],
   "source": []
  },
  {
   "cell_type": "markdown",
   "id": "c38e622a-a8ec-4998-a96f-d86ffb1caf89",
   "metadata": {},
   "source": [
    "# train, test, val split"
   ]
  },
  {
   "cell_type": "code",
   "execution_count": 23,
   "id": "abf4763d-bafd-4fbb-99de-c6d347f835f7",
   "metadata": {},
   "outputs": [],
   "source": [
    "#train_df.info()"
   ]
  },
  {
   "cell_type": "code",
   "execution_count": 24,
   "id": "8e524c2f-e601-4f88-b0f2-ba6662e9952f",
   "metadata": {},
   "outputs": [],
   "source": [
    "### drop purchase date and last purchase date column\n",
    "train_df = train_df.drop(columns=['PURCHASE_DATE', 'LAST_PURCHASE_DATE', 'MAGIC_KEY'])\n",
    "val_df = val_df.drop(columns=['PURCHASE_DATE', 'LAST_PURCHASE_DATE', 'MAGIC_KEY'])\n",
    "test_df = prb_df_encode.drop(columns=['PURCHASE_DATE', 'LAST_PURCHASE_DATE', 'MAGIC_KEY'])"
   ]
  },
  {
   "cell_type": "code",
   "execution_count": null,
   "id": "3daa9bc0-cafa-4c48-933b-c1325b476708",
   "metadata": {},
   "outputs": [],
   "source": []
  },
  {
   "cell_type": "code",
   "execution_count": 25,
   "id": "5c8831d1-392d-40a5-9855-9ccadf705e99",
   "metadata": {},
   "outputs": [
    {
     "data": {
      "text/plain": [
       "((1841792, 30), (613931, 30), (5379, 30))"
      ]
     },
     "execution_count": 25,
     "metadata": {},
     "output_type": "execute_result"
    }
   ],
   "source": [
    "train_df.shape, val_df.shape, test_df.shape"
   ]
  },
  {
   "cell_type": "code",
   "execution_count": 26,
   "id": "43b8e283-ab23-4074-931c-7e32313e9a4f",
   "metadata": {},
   "outputs": [
    {
     "data": {
      "text/plain": [
       "Index(['BOX_ID', 'QUALITY', 'DELIVERY_OPTION', 'MILK', 'MEAT', 'UNIT_PRICE',\n",
       "       'BOX_COUNT', 'DAYS_FROM_LAST_PURCHASE', 'DAY', 'MONTH', 'YEAR',\n",
       "       '10_FIRST_PURCHASE_2018', '10_LAST_PURCHASE_2018',\n",
       "       '11_FIRST_PURCHASE_2018', '11_LAST_PURCHASE_2018',\n",
       "       '12_FIRST_PURCHASE_2018', '12_LAST_PURCHASE_2018',\n",
       "       '01_FIRST_PURCHASE_2019', '01_LAST_PURCHASE_2019',\n",
       "       '02_FIRST_PURCHASE_2019', '02_LAST_PURCHASE_2019', 'TOTAL_MEAT',\n",
       "       'TOTAL_MILK', 'MEAT_PURCHASE_FREQUENCY', 'MILK_PURCHASE_FREQUENCY',\n",
       "       'TOTAL_BOX_COUNT', 'TOTAL_AMOUNT', 'MAGIC_KEY_ENCODED',\n",
       "       'DELIVERY_ENCODED', 'QUALITY_ENCODED'],\n",
       "      dtype='object')"
      ]
     },
     "execution_count": 26,
     "metadata": {},
     "output_type": "execute_result"
    }
   ],
   "source": [
    "train_df.columns"
   ]
  },
  {
   "cell_type": "markdown",
   "id": "e3104c48-3581-41f8-81fe-1fbfd24f3c9c",
   "metadata": {},
   "source": [
    "### declaring input and target cols for train, val, test set"
   ]
  },
  {
   "cell_type": "code",
   "execution_count": 27,
   "id": "7b2b6593-4599-4e55-9eb8-484b9ae8b886",
   "metadata": {},
   "outputs": [],
   "source": [
    "input_cols = ['BOX_ID',  'MILK', 'MEAT', 'UNIT_PRICE',\n",
    "       'BOX_COUNT', 'DAYS_FROM_LAST_PURCHASE', 'DAY', 'MONTH', 'YEAR',\n",
    "       '10_FIRST_PURCHASE_2018', '10_LAST_PURCHASE_2018',\n",
    "       '11_FIRST_PURCHASE_2018', '11_LAST_PURCHASE_2018',\n",
    "       '12_FIRST_PURCHASE_2018', '12_LAST_PURCHASE_2018',\n",
    "       '01_FIRST_PURCHASE_2019', '01_LAST_PURCHASE_2019', '02_LAST_PURCHASE_2019', 'TOTAL_MEAT',\n",
    "       'TOTAL_MILK', 'MEAT_PURCHASE_FREQUENCY', 'MILK_PURCHASE_FREQUENCY',\n",
    "       'TOTAL_BOX_COUNT', 'TOTAL_AMOUNT', 'MAGIC_KEY_ENCODED',\n",
    "       'DELIVERY_ENCODED', 'QUALITY_ENCODED']"
   ]
  },
  {
   "cell_type": "code",
   "execution_count": 28,
   "id": "c115d4c5-0cba-4511-8c04-c740dedec7f8",
   "metadata": {},
   "outputs": [],
   "source": [
    "\n",
    "target_col = '02_FIRST_PURCHASE_2019'"
   ]
  },
  {
   "cell_type": "code",
   "execution_count": 29,
   "id": "5810ba5f-eb16-49fa-9caa-8f9b239df448",
   "metadata": {},
   "outputs": [],
   "source": [
    "train_inputs = train_df[input_cols].copy()\n",
    "train_targets = train_df[target_col].copy()"
   ]
  },
  {
   "cell_type": "code",
   "execution_count": 30,
   "id": "0a25cc6f-42ac-4934-b493-538c2729cb8a",
   "metadata": {},
   "outputs": [],
   "source": [
    "val_inputs = val_df[input_cols].copy()\n",
    "val_targets = val_df[target_col].copy()"
   ]
  },
  {
   "cell_type": "code",
   "execution_count": 31,
   "id": "17c98bd6-8488-48d1-b489-20d4fc6fe3ed",
   "metadata": {},
   "outputs": [],
   "source": [
    "test_inputs = test_df[input_cols].copy()\n",
    "# Test data does not have targets"
   ]
  },
  {
   "cell_type": "code",
   "execution_count": null,
   "id": "4272199b-3d04-4164-bc73-4343aea54b1a",
   "metadata": {},
   "outputs": [],
   "source": []
  },
  {
   "cell_type": "markdown",
   "id": "209eeba0-c957-46b6-b70d-c2babc5a182f",
   "metadata": {},
   "source": [
    "### Imputing missing numeric values"
   ]
  },
  {
   "cell_type": "code",
   "execution_count": 32,
   "id": "f6eef741-e170-44cb-b2bf-4026f1e1c9a7",
   "metadata": {},
   "outputs": [],
   "source": [
    "from sklearn.impute import SimpleImputer"
   ]
  },
  {
   "cell_type": "code",
   "execution_count": 33,
   "id": "b9a08bff-29b9-4ed8-b821-6c6162d06c76",
   "metadata": {},
   "outputs": [],
   "source": [
    "imputer = SimpleImputer(strategy = 'mean').fit(merged_df[input_cols])"
   ]
  },
  {
   "cell_type": "code",
   "execution_count": 34,
   "id": "4fc1fed9-1778-460d-86ac-46a0654b0304",
   "metadata": {},
   "outputs": [],
   "source": [
    "train_inputs[input_cols] = imputer.transform(train_inputs[input_cols])\n",
    "val_inputs[input_cols] = imputer.transform(val_inputs[input_cols])\n",
    "test_inputs[input_cols] = imputer.transform(test_inputs[input_cols])"
   ]
  },
  {
   "cell_type": "markdown",
   "id": "a7a63048-0333-4282-92d4-b8290640a0ea",
   "metadata": {},
   "source": [
    "### checking the null values"
   ]
  },
  {
   "cell_type": "code",
   "execution_count": 35,
   "id": "da54be04-2cc1-4b8b-815f-6ee879d3a599",
   "metadata": {},
   "outputs": [
    {
     "data": {
      "text/plain": [
       "BOX_ID                     0\n",
       "MILK                       0\n",
       "MEAT                       0\n",
       "UNIT_PRICE                 0\n",
       "BOX_COUNT                  0\n",
       "DAYS_FROM_LAST_PURCHASE    0\n",
       "DAY                        0\n",
       "MONTH                      0\n",
       "YEAR                       0\n",
       "10_FIRST_PURCHASE_2018     0\n",
       "10_LAST_PURCHASE_2018      0\n",
       "11_FIRST_PURCHASE_2018     0\n",
       "11_LAST_PURCHASE_2018      0\n",
       "12_FIRST_PURCHASE_2018     0\n",
       "12_LAST_PURCHASE_2018      0\n",
       "01_FIRST_PURCHASE_2019     0\n",
       "01_LAST_PURCHASE_2019      0\n",
       "02_LAST_PURCHASE_2019      0\n",
       "TOTAL_MEAT                 0\n",
       "TOTAL_MILK                 0\n",
       "MEAT_PURCHASE_FREQUENCY    0\n",
       "MILK_PURCHASE_FREQUENCY    0\n",
       "TOTAL_BOX_COUNT            0\n",
       "TOTAL_AMOUNT               0\n",
       "MAGIC_KEY_ENCODED          0\n",
       "DELIVERY_ENCODED           0\n",
       "QUALITY_ENCODED            0\n",
       "dtype: int64"
      ]
     },
     "execution_count": 35,
     "metadata": {},
     "output_type": "execute_result"
    }
   ],
   "source": [
    "test_inputs[input_cols].isna().sum()"
   ]
  },
  {
   "cell_type": "markdown",
   "id": "f4f5bd83-0aa5-48af-afb3-2a1dee32fa22",
   "metadata": {},
   "source": [
    "# Scaling Numeric Features"
   ]
  },
  {
   "cell_type": "code",
   "execution_count": 36,
   "id": "1aa834dc-e7ad-4040-b1b4-9059aee5138e",
   "metadata": {},
   "outputs": [],
   "source": [
    "#from sklearn.preprocessing import MinMaxScaler"
   ]
  },
  {
   "cell_type": "code",
   "execution_count": 37,
   "id": "c12ff6ee-105f-40ee-8004-1ad833c48e19",
   "metadata": {},
   "outputs": [],
   "source": [
    "#scaler = MinMaxScaler().fit(merged_df[input_cols])"
   ]
  },
  {
   "cell_type": "code",
   "execution_count": 38,
   "id": "9297322e-7b6d-42ba-aabf-d225352987d7",
   "metadata": {},
   "outputs": [],
   "source": [
    "# train_inputs[input_cols] = scaler.transform(train_inputs[input_cols])\n",
    "# val_inputs[input_cols] = scaler.transform(val_inputs[input_cols])\n",
    "# test_inputs[input_cols] = scaler.transform(test_inputs[input_cols])"
   ]
  },
  {
   "cell_type": "code",
   "execution_count": 39,
   "id": "983b2770-207f-4a0a-aa77-71a1d0689907",
   "metadata": {},
   "outputs": [],
   "source": [
    "#val_inputs.describe().loc[['min', 'max']]"
   ]
  },
  {
   "cell_type": "code",
   "execution_count": 40,
   "id": "e55c94ec-fd7f-4bff-b706-a9e6dba9d8a1",
   "metadata": {},
   "outputs": [],
   "source": [
    "#test_inputs.head()"
   ]
  },
  {
   "cell_type": "markdown",
   "id": "bb85c441-0608-4847-8d67-48e6b48e9ad5",
   "metadata": {},
   "source": [
    "## X_train, X_val, X_test"
   ]
  },
  {
   "cell_type": "code",
   "execution_count": 41,
   "id": "5a5e5cf9-17d6-45a0-9995-38714f6b9883",
   "metadata": {},
   "outputs": [],
   "source": [
    "X_train = train_inputs\n",
    "X_val = val_inputs\n",
    "X_test = test_inputs"
   ]
  },
  {
   "cell_type": "code",
   "execution_count": 42,
   "id": "831fec51-a77c-41c8-a40a-3f0e0843f0b3",
   "metadata": {},
   "outputs": [
    {
     "data": {
      "text/html": [
       "<div>\n",
       "<style scoped>\n",
       "    .dataframe tbody tr th:only-of-type {\n",
       "        vertical-align: middle;\n",
       "    }\n",
       "\n",
       "    .dataframe tbody tr th {\n",
       "        vertical-align: top;\n",
       "    }\n",
       "\n",
       "    .dataframe thead th {\n",
       "        text-align: right;\n",
       "    }\n",
       "</style>\n",
       "<table border=\"1\" class=\"dataframe\">\n",
       "  <thead>\n",
       "    <tr style=\"text-align: right;\">\n",
       "      <th></th>\n",
       "      <th>BOX_ID</th>\n",
       "      <th>MILK</th>\n",
       "      <th>MEAT</th>\n",
       "      <th>UNIT_PRICE</th>\n",
       "      <th>BOX_COUNT</th>\n",
       "      <th>DAYS_FROM_LAST_PURCHASE</th>\n",
       "      <th>DAY</th>\n",
       "      <th>MONTH</th>\n",
       "      <th>YEAR</th>\n",
       "      <th>10_FIRST_PURCHASE_2018</th>\n",
       "      <th>...</th>\n",
       "      <th>02_LAST_PURCHASE_2019</th>\n",
       "      <th>TOTAL_MEAT</th>\n",
       "      <th>TOTAL_MILK</th>\n",
       "      <th>MEAT_PURCHASE_FREQUENCY</th>\n",
       "      <th>MILK_PURCHASE_FREQUENCY</th>\n",
       "      <th>TOTAL_BOX_COUNT</th>\n",
       "      <th>TOTAL_AMOUNT</th>\n",
       "      <th>MAGIC_KEY_ENCODED</th>\n",
       "      <th>DELIVERY_ENCODED</th>\n",
       "      <th>QUALITY_ENCODED</th>\n",
       "    </tr>\n",
       "  </thead>\n",
       "  <tbody>\n",
       "    <tr>\n",
       "      <th>2333148</th>\n",
       "      <td>260.0</td>\n",
       "      <td>10.0</td>\n",
       "      <td>1.8</td>\n",
       "      <td>17.98</td>\n",
       "      <td>1.0</td>\n",
       "      <td>25.0</td>\n",
       "      <td>1.0</td>\n",
       "      <td>10.0</td>\n",
       "      <td>2018.0</td>\n",
       "      <td>1.0</td>\n",
       "      <td>...</td>\n",
       "      <td>0.0</td>\n",
       "      <td>4.0</td>\n",
       "      <td>18.0</td>\n",
       "      <td>1.0</td>\n",
       "      <td>1.0</td>\n",
       "      <td>2.0</td>\n",
       "      <td>35.96</td>\n",
       "      <td>236131.0</td>\n",
       "      <td>0.0</td>\n",
       "      <td>1.0</td>\n",
       "    </tr>\n",
       "    <tr>\n",
       "      <th>736244</th>\n",
       "      <td>118.0</td>\n",
       "      <td>8.0</td>\n",
       "      <td>1.3</td>\n",
       "      <td>15.98</td>\n",
       "      <td>1.0</td>\n",
       "      <td>81.0</td>\n",
       "      <td>1.0</td>\n",
       "      <td>10.0</td>\n",
       "      <td>2018.0</td>\n",
       "      <td>1.0</td>\n",
       "      <td>...</td>\n",
       "      <td>0.0</td>\n",
       "      <td>3.8</td>\n",
       "      <td>8.0</td>\n",
       "      <td>1.0</td>\n",
       "      <td>1.0</td>\n",
       "      <td>2.0</td>\n",
       "      <td>31.96</td>\n",
       "      <td>1004932.0</td>\n",
       "      <td>0.0</td>\n",
       "      <td>0.0</td>\n",
       "    </tr>\n",
       "    <tr>\n",
       "      <th>736245</th>\n",
       "      <td>118.0</td>\n",
       "      <td>8.0</td>\n",
       "      <td>1.3</td>\n",
       "      <td>15.98</td>\n",
       "      <td>1.0</td>\n",
       "      <td>48.0</td>\n",
       "      <td>1.0</td>\n",
       "      <td>10.0</td>\n",
       "      <td>2018.0</td>\n",
       "      <td>1.0</td>\n",
       "      <td>...</td>\n",
       "      <td>0.0</td>\n",
       "      <td>3.1</td>\n",
       "      <td>24.0</td>\n",
       "      <td>1.0</td>\n",
       "      <td>1.0</td>\n",
       "      <td>2.0</td>\n",
       "      <td>31.96</td>\n",
       "      <td>562275.0</td>\n",
       "      <td>0.0</td>\n",
       "      <td>0.0</td>\n",
       "    </tr>\n",
       "    <tr>\n",
       "      <th>736246</th>\n",
       "      <td>118.0</td>\n",
       "      <td>8.0</td>\n",
       "      <td>1.3</td>\n",
       "      <td>15.98</td>\n",
       "      <td>1.0</td>\n",
       "      <td>135.0</td>\n",
       "      <td>1.0</td>\n",
       "      <td>10.0</td>\n",
       "      <td>2018.0</td>\n",
       "      <td>1.0</td>\n",
       "      <td>...</td>\n",
       "      <td>0.0</td>\n",
       "      <td>8.5</td>\n",
       "      <td>63.0</td>\n",
       "      <td>1.0</td>\n",
       "      <td>1.0</td>\n",
       "      <td>5.0</td>\n",
       "      <td>79.90</td>\n",
       "      <td>636275.0</td>\n",
       "      <td>0.0</td>\n",
       "      <td>0.0</td>\n",
       "    </tr>\n",
       "    <tr>\n",
       "      <th>736247</th>\n",
       "      <td>118.0</td>\n",
       "      <td>8.0</td>\n",
       "      <td>1.3</td>\n",
       "      <td>15.98</td>\n",
       "      <td>1.0</td>\n",
       "      <td>144.0</td>\n",
       "      <td>1.0</td>\n",
       "      <td>10.0</td>\n",
       "      <td>2018.0</td>\n",
       "      <td>1.0</td>\n",
       "      <td>...</td>\n",
       "      <td>1.0</td>\n",
       "      <td>5.7</td>\n",
       "      <td>37.0</td>\n",
       "      <td>3.0</td>\n",
       "      <td>2.0</td>\n",
       "      <td>4.0</td>\n",
       "      <td>63.92</td>\n",
       "      <td>421092.0</td>\n",
       "      <td>0.0</td>\n",
       "      <td>0.0</td>\n",
       "    </tr>\n",
       "  </tbody>\n",
       "</table>\n",
       "<p>5 rows × 27 columns</p>\n",
       "</div>"
      ],
      "text/plain": [
       "         BOX_ID  MILK  MEAT  UNIT_PRICE  BOX_COUNT  DAYS_FROM_LAST_PURCHASE  \\\n",
       "2333148   260.0  10.0   1.8       17.98        1.0                     25.0   \n",
       "736244    118.0   8.0   1.3       15.98        1.0                     81.0   \n",
       "736245    118.0   8.0   1.3       15.98        1.0                     48.0   \n",
       "736246    118.0   8.0   1.3       15.98        1.0                    135.0   \n",
       "736247    118.0   8.0   1.3       15.98        1.0                    144.0   \n",
       "\n",
       "         DAY  MONTH    YEAR  10_FIRST_PURCHASE_2018  ...  \\\n",
       "2333148  1.0   10.0  2018.0                     1.0  ...   \n",
       "736244   1.0   10.0  2018.0                     1.0  ...   \n",
       "736245   1.0   10.0  2018.0                     1.0  ...   \n",
       "736246   1.0   10.0  2018.0                     1.0  ...   \n",
       "736247   1.0   10.0  2018.0                     1.0  ...   \n",
       "\n",
       "         02_LAST_PURCHASE_2019  TOTAL_MEAT  TOTAL_MILK  \\\n",
       "2333148                    0.0         4.0        18.0   \n",
       "736244                     0.0         3.8         8.0   \n",
       "736245                     0.0         3.1        24.0   \n",
       "736246                     0.0         8.5        63.0   \n",
       "736247                     1.0         5.7        37.0   \n",
       "\n",
       "         MEAT_PURCHASE_FREQUENCY  MILK_PURCHASE_FREQUENCY  TOTAL_BOX_COUNT  \\\n",
       "2333148                      1.0                      1.0              2.0   \n",
       "736244                       1.0                      1.0              2.0   \n",
       "736245                       1.0                      1.0              2.0   \n",
       "736246                       1.0                      1.0              5.0   \n",
       "736247                       3.0                      2.0              4.0   \n",
       "\n",
       "         TOTAL_AMOUNT  MAGIC_KEY_ENCODED  DELIVERY_ENCODED  QUALITY_ENCODED  \n",
       "2333148         35.96           236131.0               0.0              1.0  \n",
       "736244          31.96          1004932.0               0.0              0.0  \n",
       "736245          31.96           562275.0               0.0              0.0  \n",
       "736246          79.90           636275.0               0.0              0.0  \n",
       "736247          63.92           421092.0               0.0              0.0  \n",
       "\n",
       "[5 rows x 27 columns]"
      ]
     },
     "execution_count": 42,
     "metadata": {},
     "output_type": "execute_result"
    }
   ],
   "source": [
    "X_train.head()"
   ]
  },
  {
   "cell_type": "markdown",
   "id": "cf413532-333a-4e1b-b9fe-f4c8db6474be",
   "metadata": {},
   "source": [
    "## model training"
   ]
  },
  {
   "cell_type": "code",
   "execution_count": 43,
   "id": "54fb2537-cb1e-4ec0-b22e-0546deb56f3d",
   "metadata": {},
   "outputs": [],
   "source": [
    "from sklearn.tree import DecisionTreeRegressor\n"
   ]
  },
  {
   "cell_type": "code",
   "execution_count": 44,
   "id": "715f26e7-847a-4091-8fb9-a9105b22652c",
   "metadata": {},
   "outputs": [],
   "source": [
    "# Assuming model is DecisionTreeRegressor\n",
    "model = DecisionTreeRegressor(random_state=42)"
   ]
  },
  {
   "cell_type": "code",
   "execution_count": 45,
   "id": "725872bc-2bf1-4f6c-b452-f310d0400e9d",
   "metadata": {},
   "outputs": [
    {
     "name": "stdout",
     "output_type": "stream",
     "text": [
      "CPU times: total: 1.8 s\n",
      "Wall time: 1.8 s\n"
     ]
    },
    {
     "data": {
      "text/html": [
       "<style>#sk-container-id-1 {color: black;}#sk-container-id-1 pre{padding: 0;}#sk-container-id-1 div.sk-toggleable {background-color: white;}#sk-container-id-1 label.sk-toggleable__label {cursor: pointer;display: block;width: 100%;margin-bottom: 0;padding: 0.3em;box-sizing: border-box;text-align: center;}#sk-container-id-1 label.sk-toggleable__label-arrow:before {content: \"▸\";float: left;margin-right: 0.25em;color: #696969;}#sk-container-id-1 label.sk-toggleable__label-arrow:hover:before {color: black;}#sk-container-id-1 div.sk-estimator:hover label.sk-toggleable__label-arrow:before {color: black;}#sk-container-id-1 div.sk-toggleable__content {max-height: 0;max-width: 0;overflow: hidden;text-align: left;background-color: #f0f8ff;}#sk-container-id-1 div.sk-toggleable__content pre {margin: 0.2em;color: black;border-radius: 0.25em;background-color: #f0f8ff;}#sk-container-id-1 input.sk-toggleable__control:checked~div.sk-toggleable__content {max-height: 200px;max-width: 100%;overflow: auto;}#sk-container-id-1 input.sk-toggleable__control:checked~label.sk-toggleable__label-arrow:before {content: \"▾\";}#sk-container-id-1 div.sk-estimator input.sk-toggleable__control:checked~label.sk-toggleable__label {background-color: #d4ebff;}#sk-container-id-1 div.sk-label input.sk-toggleable__control:checked~label.sk-toggleable__label {background-color: #d4ebff;}#sk-container-id-1 input.sk-hidden--visually {border: 0;clip: rect(1px 1px 1px 1px);clip: rect(1px, 1px, 1px, 1px);height: 1px;margin: -1px;overflow: hidden;padding: 0;position: absolute;width: 1px;}#sk-container-id-1 div.sk-estimator {font-family: monospace;background-color: #f0f8ff;border: 1px dotted black;border-radius: 0.25em;box-sizing: border-box;margin-bottom: 0.5em;}#sk-container-id-1 div.sk-estimator:hover {background-color: #d4ebff;}#sk-container-id-1 div.sk-parallel-item::after {content: \"\";width: 100%;border-bottom: 1px solid gray;flex-grow: 1;}#sk-container-id-1 div.sk-label:hover label.sk-toggleable__label {background-color: #d4ebff;}#sk-container-id-1 div.sk-serial::before {content: \"\";position: absolute;border-left: 1px solid gray;box-sizing: border-box;top: 0;bottom: 0;left: 50%;z-index: 0;}#sk-container-id-1 div.sk-serial {display: flex;flex-direction: column;align-items: center;background-color: white;padding-right: 0.2em;padding-left: 0.2em;position: relative;}#sk-container-id-1 div.sk-item {position: relative;z-index: 1;}#sk-container-id-1 div.sk-parallel {display: flex;align-items: stretch;justify-content: center;background-color: white;position: relative;}#sk-container-id-1 div.sk-item::before, #sk-container-id-1 div.sk-parallel-item::before {content: \"\";position: absolute;border-left: 1px solid gray;box-sizing: border-box;top: 0;bottom: 0;left: 50%;z-index: -1;}#sk-container-id-1 div.sk-parallel-item {display: flex;flex-direction: column;z-index: 1;position: relative;background-color: white;}#sk-container-id-1 div.sk-parallel-item:first-child::after {align-self: flex-end;width: 50%;}#sk-container-id-1 div.sk-parallel-item:last-child::after {align-self: flex-start;width: 50%;}#sk-container-id-1 div.sk-parallel-item:only-child::after {width: 0;}#sk-container-id-1 div.sk-dashed-wrapped {border: 1px dashed gray;margin: 0 0.4em 0.5em 0.4em;box-sizing: border-box;padding-bottom: 0.4em;background-color: white;}#sk-container-id-1 div.sk-label label {font-family: monospace;font-weight: bold;display: inline-block;line-height: 1.2em;}#sk-container-id-1 div.sk-label-container {text-align: center;}#sk-container-id-1 div.sk-container {/* jupyter's `normalize.less` sets `[hidden] { display: none; }` but bootstrap.min.css set `[hidden] { display: none !important; }` so we also need the `!important` here to be able to override the default hidden behavior on the sphinx rendered scikit-learn.org. See: https://github.com/scikit-learn/scikit-learn/issues/21755 */display: inline-block !important;position: relative;}#sk-container-id-1 div.sk-text-repr-fallback {display: none;}</style><div id=\"sk-container-id-1\" class=\"sk-top-container\"><div class=\"sk-text-repr-fallback\"><pre>DecisionTreeRegressor(random_state=42)</pre><b>In a Jupyter environment, please rerun this cell to show the HTML representation or trust the notebook. <br />On GitHub, the HTML representation is unable to render, please try loading this page with nbviewer.org.</b></div><div class=\"sk-container\" hidden><div class=\"sk-item\"><div class=\"sk-estimator sk-toggleable\"><input class=\"sk-toggleable__control sk-hidden--visually\" id=\"sk-estimator-id-1\" type=\"checkbox\" checked><label for=\"sk-estimator-id-1\" class=\"sk-toggleable__label sk-toggleable__label-arrow\">DecisionTreeRegressor</label><div class=\"sk-toggleable__content\"><pre>DecisionTreeRegressor(random_state=42)</pre></div></div></div></div></div>"
      ],
      "text/plain": [
       "DecisionTreeRegressor(random_state=42)"
      ]
     },
     "execution_count": 45,
     "metadata": {},
     "output_type": "execute_result"
    }
   ],
   "source": [
    "%%time\n",
    "# Fit the model\n",
    "model.fit(X_val, val_targets)"
   ]
  },
  {
   "cell_type": "markdown",
   "id": "62276adf-a17f-49d1-9d51-8afe7d14843a",
   "metadata": {},
   "source": [
    "### Evaluation\n",
    "\n",
    "Let's evaluate the decision tree using the accuracy score."
   ]
  },
  {
   "cell_type": "code",
   "execution_count": 46,
   "id": "2ba30b38-7c06-48bc-844f-0bbb2624c468",
   "metadata": {},
   "outputs": [],
   "source": [
    "from sklearn.metrics import mean_squared_error\n",
    "from math import sqrt\n",
    "\n",
    "# Calculate RMSE\n",
    "#rmse = sqrt(mean_squared_error(true_values, predicted_values))\n"
   ]
  },
  {
   "cell_type": "code",
   "execution_count": 47,
   "id": "30306e0a-c7d1-4060-9e08-e78f639d4862",
   "metadata": {},
   "outputs": [
    {
     "data": {
      "text/plain": [
       "array([0., 0., 0., ..., 0., 0., 0.])"
      ]
     },
     "execution_count": 47,
     "metadata": {},
     "output_type": "execute_result"
    }
   ],
   "source": [
    "val_preds = model.predict(X_val)\n",
    "val_preds"
   ]
  },
  {
   "cell_type": "code",
   "execution_count": 48,
   "id": "a8258840-0483-4fa4-b69e-80c1a0a36085",
   "metadata": {},
   "outputs": [],
   "source": [
    "#train_preds"
   ]
  },
  {
   "cell_type": "code",
   "execution_count": 49,
   "id": "9d0cb15b-6f06-4a22-846d-17e52d4c8645",
   "metadata": {},
   "outputs": [],
   "source": [
    "# Calculate RMSE\n",
    "#rmse = sqrt(mean_squared_error(train_preds, train_targets )) "
   ]
  },
  {
   "cell_type": "code",
   "execution_count": 50,
   "id": "b7d6b538-e7f4-4d90-b602-88df69960972",
   "metadata": {},
   "outputs": [],
   "source": [
    "#round(rmse)"
   ]
  },
  {
   "cell_type": "markdown",
   "id": "1f2cf448-8f2f-4969-aff0-167fbaa4ada0",
   "metadata": {},
   "source": [
    "### Baseline ML model\n",
    "\n",
    "Let's train a simple `LinearRegression` model, with no customization."
   ]
  },
  {
   "cell_type": "code",
   "execution_count": 51,
   "id": "8e1bf3cd-718d-4d74-a3ba-8a7a6a52daae",
   "metadata": {},
   "outputs": [],
   "source": [
    "from sklearn.linear_model import LinearRegression"
   ]
  },
  {
   "cell_type": "code",
   "execution_count": 52,
   "id": "2b6f3972-9849-4746-8cc6-b0eaa08dce93",
   "metadata": {},
   "outputs": [],
   "source": [
    "linreg = LinearRegression()"
   ]
  },
  {
   "cell_type": "code",
   "execution_count": 53,
   "id": "dac0b597-5b6b-44ee-8144-5b8a468c886c",
   "metadata": {},
   "outputs": [
    {
     "data": {
      "text/html": [
       "<style>#sk-container-id-2 {color: black;}#sk-container-id-2 pre{padding: 0;}#sk-container-id-2 div.sk-toggleable {background-color: white;}#sk-container-id-2 label.sk-toggleable__label {cursor: pointer;display: block;width: 100%;margin-bottom: 0;padding: 0.3em;box-sizing: border-box;text-align: center;}#sk-container-id-2 label.sk-toggleable__label-arrow:before {content: \"▸\";float: left;margin-right: 0.25em;color: #696969;}#sk-container-id-2 label.sk-toggleable__label-arrow:hover:before {color: black;}#sk-container-id-2 div.sk-estimator:hover label.sk-toggleable__label-arrow:before {color: black;}#sk-container-id-2 div.sk-toggleable__content {max-height: 0;max-width: 0;overflow: hidden;text-align: left;background-color: #f0f8ff;}#sk-container-id-2 div.sk-toggleable__content pre {margin: 0.2em;color: black;border-radius: 0.25em;background-color: #f0f8ff;}#sk-container-id-2 input.sk-toggleable__control:checked~div.sk-toggleable__content {max-height: 200px;max-width: 100%;overflow: auto;}#sk-container-id-2 input.sk-toggleable__control:checked~label.sk-toggleable__label-arrow:before {content: \"▾\";}#sk-container-id-2 div.sk-estimator input.sk-toggleable__control:checked~label.sk-toggleable__label {background-color: #d4ebff;}#sk-container-id-2 div.sk-label input.sk-toggleable__control:checked~label.sk-toggleable__label {background-color: #d4ebff;}#sk-container-id-2 input.sk-hidden--visually {border: 0;clip: rect(1px 1px 1px 1px);clip: rect(1px, 1px, 1px, 1px);height: 1px;margin: -1px;overflow: hidden;padding: 0;position: absolute;width: 1px;}#sk-container-id-2 div.sk-estimator {font-family: monospace;background-color: #f0f8ff;border: 1px dotted black;border-radius: 0.25em;box-sizing: border-box;margin-bottom: 0.5em;}#sk-container-id-2 div.sk-estimator:hover {background-color: #d4ebff;}#sk-container-id-2 div.sk-parallel-item::after {content: \"\";width: 100%;border-bottom: 1px solid gray;flex-grow: 1;}#sk-container-id-2 div.sk-label:hover label.sk-toggleable__label {background-color: #d4ebff;}#sk-container-id-2 div.sk-serial::before {content: \"\";position: absolute;border-left: 1px solid gray;box-sizing: border-box;top: 0;bottom: 0;left: 50%;z-index: 0;}#sk-container-id-2 div.sk-serial {display: flex;flex-direction: column;align-items: center;background-color: white;padding-right: 0.2em;padding-left: 0.2em;position: relative;}#sk-container-id-2 div.sk-item {position: relative;z-index: 1;}#sk-container-id-2 div.sk-parallel {display: flex;align-items: stretch;justify-content: center;background-color: white;position: relative;}#sk-container-id-2 div.sk-item::before, #sk-container-id-2 div.sk-parallel-item::before {content: \"\";position: absolute;border-left: 1px solid gray;box-sizing: border-box;top: 0;bottom: 0;left: 50%;z-index: -1;}#sk-container-id-2 div.sk-parallel-item {display: flex;flex-direction: column;z-index: 1;position: relative;background-color: white;}#sk-container-id-2 div.sk-parallel-item:first-child::after {align-self: flex-end;width: 50%;}#sk-container-id-2 div.sk-parallel-item:last-child::after {align-self: flex-start;width: 50%;}#sk-container-id-2 div.sk-parallel-item:only-child::after {width: 0;}#sk-container-id-2 div.sk-dashed-wrapped {border: 1px dashed gray;margin: 0 0.4em 0.5em 0.4em;box-sizing: border-box;padding-bottom: 0.4em;background-color: white;}#sk-container-id-2 div.sk-label label {font-family: monospace;font-weight: bold;display: inline-block;line-height: 1.2em;}#sk-container-id-2 div.sk-label-container {text-align: center;}#sk-container-id-2 div.sk-container {/* jupyter's `normalize.less` sets `[hidden] { display: none; }` but bootstrap.min.css set `[hidden] { display: none !important; }` so we also need the `!important` here to be able to override the default hidden behavior on the sphinx rendered scikit-learn.org. See: https://github.com/scikit-learn/scikit-learn/issues/21755 */display: inline-block !important;position: relative;}#sk-container-id-2 div.sk-text-repr-fallback {display: none;}</style><div id=\"sk-container-id-2\" class=\"sk-top-container\"><div class=\"sk-text-repr-fallback\"><pre>LinearRegression()</pre><b>In a Jupyter environment, please rerun this cell to show the HTML representation or trust the notebook. <br />On GitHub, the HTML representation is unable to render, please try loading this page with nbviewer.org.</b></div><div class=\"sk-container\" hidden><div class=\"sk-item\"><div class=\"sk-estimator sk-toggleable\"><input class=\"sk-toggleable__control sk-hidden--visually\" id=\"sk-estimator-id-2\" type=\"checkbox\" checked><label for=\"sk-estimator-id-2\" class=\"sk-toggleable__label sk-toggleable__label-arrow\">LinearRegression</label><div class=\"sk-toggleable__content\"><pre>LinearRegression()</pre></div></div></div></div></div>"
      ],
      "text/plain": [
       "LinearRegression()"
      ]
     },
     "execution_count": 53,
     "metadata": {},
     "output_type": "execute_result"
    }
   ],
   "source": [
    "linreg.fit(X_train, train_targets)"
   ]
  },
  {
   "cell_type": "code",
   "execution_count": 54,
   "id": "8ef2e80b-c0b5-463e-b99e-cf40c45fa5e7",
   "metadata": {},
   "outputs": [
    {
     "data": {
      "text/plain": [
       "array([-0.06189657,  0.46820612,  0.08249561, ..., -0.04629395,\n",
       "        0.08122536,  0.5225819 ])"
      ]
     },
     "execution_count": 54,
     "metadata": {},
     "output_type": "execute_result"
    }
   ],
   "source": [
    "train_preds = linreg.predict(X_train)\n",
    "train_preds"
   ]
  },
  {
   "cell_type": "code",
   "execution_count": 55,
   "id": "8e4ab38a-0370-4222-a3de-6e4d45887132",
   "metadata": {},
   "outputs": [
    {
     "data": {
      "text/plain": [
       "0.27572323304336577"
      ]
     },
     "execution_count": 55,
     "metadata": {},
     "output_type": "execute_result"
    }
   ],
   "source": [
    "mean_squared_error(train_preds, train_targets, squared=False)"
   ]
  },
  {
   "cell_type": "code",
   "execution_count": 56,
   "id": "ddeeacdc-6b45-4cb4-b552-f3b2c4b3d3cf",
   "metadata": {},
   "outputs": [
    {
     "data": {
      "text/html": [
       "<style>#sk-container-id-3 {color: black;}#sk-container-id-3 pre{padding: 0;}#sk-container-id-3 div.sk-toggleable {background-color: white;}#sk-container-id-3 label.sk-toggleable__label {cursor: pointer;display: block;width: 100%;margin-bottom: 0;padding: 0.3em;box-sizing: border-box;text-align: center;}#sk-container-id-3 label.sk-toggleable__label-arrow:before {content: \"▸\";float: left;margin-right: 0.25em;color: #696969;}#sk-container-id-3 label.sk-toggleable__label-arrow:hover:before {color: black;}#sk-container-id-3 div.sk-estimator:hover label.sk-toggleable__label-arrow:before {color: black;}#sk-container-id-3 div.sk-toggleable__content {max-height: 0;max-width: 0;overflow: hidden;text-align: left;background-color: #f0f8ff;}#sk-container-id-3 div.sk-toggleable__content pre {margin: 0.2em;color: black;border-radius: 0.25em;background-color: #f0f8ff;}#sk-container-id-3 input.sk-toggleable__control:checked~div.sk-toggleable__content {max-height: 200px;max-width: 100%;overflow: auto;}#sk-container-id-3 input.sk-toggleable__control:checked~label.sk-toggleable__label-arrow:before {content: \"▾\";}#sk-container-id-3 div.sk-estimator input.sk-toggleable__control:checked~label.sk-toggleable__label {background-color: #d4ebff;}#sk-container-id-3 div.sk-label input.sk-toggleable__control:checked~label.sk-toggleable__label {background-color: #d4ebff;}#sk-container-id-3 input.sk-hidden--visually {border: 0;clip: rect(1px 1px 1px 1px);clip: rect(1px, 1px, 1px, 1px);height: 1px;margin: -1px;overflow: hidden;padding: 0;position: absolute;width: 1px;}#sk-container-id-3 div.sk-estimator {font-family: monospace;background-color: #f0f8ff;border: 1px dotted black;border-radius: 0.25em;box-sizing: border-box;margin-bottom: 0.5em;}#sk-container-id-3 div.sk-estimator:hover {background-color: #d4ebff;}#sk-container-id-3 div.sk-parallel-item::after {content: \"\";width: 100%;border-bottom: 1px solid gray;flex-grow: 1;}#sk-container-id-3 div.sk-label:hover label.sk-toggleable__label {background-color: #d4ebff;}#sk-container-id-3 div.sk-serial::before {content: \"\";position: absolute;border-left: 1px solid gray;box-sizing: border-box;top: 0;bottom: 0;left: 50%;z-index: 0;}#sk-container-id-3 div.sk-serial {display: flex;flex-direction: column;align-items: center;background-color: white;padding-right: 0.2em;padding-left: 0.2em;position: relative;}#sk-container-id-3 div.sk-item {position: relative;z-index: 1;}#sk-container-id-3 div.sk-parallel {display: flex;align-items: stretch;justify-content: center;background-color: white;position: relative;}#sk-container-id-3 div.sk-item::before, #sk-container-id-3 div.sk-parallel-item::before {content: \"\";position: absolute;border-left: 1px solid gray;box-sizing: border-box;top: 0;bottom: 0;left: 50%;z-index: -1;}#sk-container-id-3 div.sk-parallel-item {display: flex;flex-direction: column;z-index: 1;position: relative;background-color: white;}#sk-container-id-3 div.sk-parallel-item:first-child::after {align-self: flex-end;width: 50%;}#sk-container-id-3 div.sk-parallel-item:last-child::after {align-self: flex-start;width: 50%;}#sk-container-id-3 div.sk-parallel-item:only-child::after {width: 0;}#sk-container-id-3 div.sk-dashed-wrapped {border: 1px dashed gray;margin: 0 0.4em 0.5em 0.4em;box-sizing: border-box;padding-bottom: 0.4em;background-color: white;}#sk-container-id-3 div.sk-label label {font-family: monospace;font-weight: bold;display: inline-block;line-height: 1.2em;}#sk-container-id-3 div.sk-label-container {text-align: center;}#sk-container-id-3 div.sk-container {/* jupyter's `normalize.less` sets `[hidden] { display: none; }` but bootstrap.min.css set `[hidden] { display: none !important; }` so we also need the `!important` here to be able to override the default hidden behavior on the sphinx rendered scikit-learn.org. See: https://github.com/scikit-learn/scikit-learn/issues/21755 */display: inline-block !important;position: relative;}#sk-container-id-3 div.sk-text-repr-fallback {display: none;}</style><div id=\"sk-container-id-3\" class=\"sk-top-container\"><div class=\"sk-text-repr-fallback\"><pre>LinearRegression()</pre><b>In a Jupyter environment, please rerun this cell to show the HTML representation or trust the notebook. <br />On GitHub, the HTML representation is unable to render, please try loading this page with nbviewer.org.</b></div><div class=\"sk-container\" hidden><div class=\"sk-item\"><div class=\"sk-estimator sk-toggleable\"><input class=\"sk-toggleable__control sk-hidden--visually\" id=\"sk-estimator-id-3\" type=\"checkbox\" checked><label for=\"sk-estimator-id-3\" class=\"sk-toggleable__label sk-toggleable__label-arrow\">LinearRegression</label><div class=\"sk-toggleable__content\"><pre>LinearRegression()</pre></div></div></div></div></div>"
      ],
      "text/plain": [
       "LinearRegression()"
      ]
     },
     "execution_count": 56,
     "metadata": {},
     "output_type": "execute_result"
    }
   ],
   "source": [
    "linreg.fit(X_val, val_targets)"
   ]
  },
  {
   "cell_type": "code",
   "execution_count": 57,
   "id": "b4674115-bfd8-4709-89cb-87a9f26624be",
   "metadata": {},
   "outputs": [
    {
     "data": {
      "text/plain": [
       "array([ 0.17243127, -0.0459225 ,  0.14525391, ..., -0.45460025,\n",
       "        0.05524442,  0.11176674])"
      ]
     },
     "execution_count": 57,
     "metadata": {},
     "output_type": "execute_result"
    }
   ],
   "source": [
    "val_preds = linreg.predict(X_val)\n",
    "val_preds"
   ]
  },
  {
   "cell_type": "code",
   "execution_count": 58,
   "id": "551d2b31-9a3b-4a30-803b-c178e870b83e",
   "metadata": {},
   "outputs": [
    {
     "data": {
      "text/plain": [
       "0.18181790537203718"
      ]
     },
     "execution_count": 58,
     "metadata": {},
     "output_type": "execute_result"
    }
   ],
   "source": [
    "mean_squared_error(val_preds, val_targets, squared=False)"
   ]
  },
  {
   "cell_type": "code",
   "execution_count": null,
   "id": "c35919fb-4b79-4441-bb2d-518d99c12dc3",
   "metadata": {},
   "outputs": [],
   "source": []
  },
  {
   "cell_type": "code",
   "execution_count": null,
   "id": "a15d7f8a-6399-4cac-8b7d-b9a00317ea09",
   "metadata": {},
   "outputs": [],
   "source": []
  },
  {
   "cell_type": "markdown",
   "id": "7bc5e6d0-9759-498c-a149-dfa3661a8deb",
   "metadata": {},
   "source": [
    "## Step 6 - Pick a strategy, train a model & tune hyperparameters\n",
    "\n",
    "<img src=\"https://i.imgur.com/aRuE5mw.png\" width=\"640\">\n"
   ]
  },
  {
   "cell_type": "markdown",
   "id": "a66549d9-0c8d-455f-b134-3df3ed2722e1",
   "metadata": {},
   "source": [
    "### Systematically Exploring Modeling Strategies\n",
    "\n",
    "Scikit-learn offers the following cheatsheet to decide which model to pick.\n",
    "\n",
    "![](https://scikit-learn.org/stable/_static/ml_map.png)\n",
    "\n",
    "\n",
    "Here's the general strategy to follow:\n",
    "\n",
    "- Find out which models are applicable to the problem you're solving.\n",
    "- Train a basic version for each type of model that's applicable\n",
    "- Identify the modeling approaches that work well and tune their hypeparameters\n",
    "- [Use a spreadsheet](https://docs.google.com/spreadsheets/d/1S42lnklqdj4hS3BohffyvZVJOFBZJ61VDiHLMuf2zBw/edit?usp=sharing) to keep track of your experiments and results."
   ]
  },
  {
   "cell_type": "markdown",
   "id": "1c221a70-a614-45b3-94c1-587ce25a209f",
   "metadata": {},
   "source": [
    "Let's define a function `try_model`, which takes a model, then performs training and evaluation."
   ]
  },
  {
   "cell_type": "code",
   "execution_count": 59,
   "id": "c466e67f-7cb8-43cb-8540-c6d81dd163da",
   "metadata": {},
   "outputs": [],
   "source": [
    "def try_model(model):\n",
    "    # Fit the model\n",
    "    model.fit(X_train, train_targets)\n",
    "    \n",
    "    # Generate predictions\n",
    "    train_preds = model.predict(X_train)\n",
    "    val_preds = model.predict(X_val)\n",
    "    #test_preds = model.predict(X_test)\n",
    "    \n",
    "    # Compute RMSE\n",
    "    train_rmse = sqrt(mean_squared_error(train_targets, train_preds, squared=False))\n",
    "    val_rmse = sqrt(mean_squared_error(val_targets, val_preds, squared=False))\n",
    "    #test_rmse = sqrt(mean_squared_error(test_targets, test_preds, squared=False))\n",
    "    return train_rmse, val_rmse #, test_rmse"
   ]
  },
  {
   "cell_type": "markdown",
   "id": "6b8f7269-3e37-4794-98b6-93b5ec703a21",
   "metadata": {},
   "source": [
    "### Linear Models\n",
    "\n",
    "Read about linear models here: https://scikit-learn.org/stable/modules/linear_model.html"
   ]
  },
  {
   "cell_type": "code",
   "execution_count": 60,
   "id": "e329e7f6-2d06-4581-a955-81446d35e08e",
   "metadata": {},
   "outputs": [],
   "source": [
    "from sklearn.linear_model import LinearRegression, Ridge, Lasso, ElasticNet, SGDRegressor"
   ]
  },
  {
   "cell_type": "code",
   "execution_count": 61,
   "id": "20b8a730-c975-4096-84d8-67cf7f2049f0",
   "metadata": {},
   "outputs": [
    {
     "data": {
      "text/plain": [
       "(0.5250935469450808, 0.6204613467203018)"
      ]
     },
     "execution_count": 61,
     "metadata": {},
     "output_type": "execute_result"
    }
   ],
   "source": [
    "try_model(LinearRegression())"
   ]
  },
  {
   "cell_type": "code",
   "execution_count": 62,
   "id": "533ffe95-3996-48c3-b5c5-b315efe45464",
   "metadata": {},
   "outputs": [
    {
     "name": "stderr",
     "output_type": "stream",
     "text": [
      "C:\\Users\\USER\\AppData\\Local\\Programs\\Python\\Python311\\Lib\\site-packages\\sklearn\\linear_model\\_ridge.py:200: LinAlgWarning: Ill-conditioned matrix (rcond=4.22881e-17): result may not be accurate.\n",
      "  return linalg.solve(A, Xy, assume_a=\"pos\", overwrite_a=True).T\n"
     ]
    },
    {
     "data": {
      "text/plain": [
       "(0.5250935474957902, 0.6204808008610366)"
      ]
     },
     "execution_count": 62,
     "metadata": {},
     "output_type": "execute_result"
    }
   ],
   "source": [
    "try_model(Ridge())"
   ]
  },
  {
   "cell_type": "code",
   "execution_count": 63,
   "id": "8c1fda90-2596-4c45-99f7-51edc6edb721",
   "metadata": {},
   "outputs": [
    {
     "data": {
      "text/plain": [
       "(0.6213476700090411, 0.7955787869210338)"
      ]
     },
     "execution_count": 63,
     "metadata": {},
     "output_type": "execute_result"
    }
   ],
   "source": [
    "try_model(Lasso())"
   ]
  },
  {
   "cell_type": "code",
   "execution_count": 64,
   "id": "0e689f43-c863-4d39-9146-321fb77a2c39",
   "metadata": {},
   "outputs": [
    {
     "data": {
      "text/plain": [
       "(0.6206658132872623, 0.7991091773336084)"
      ]
     },
     "execution_count": 64,
     "metadata": {},
     "output_type": "execute_result"
    }
   ],
   "source": [
    "try_model(ElasticNet())"
   ]
  },
  {
   "cell_type": "code",
   "execution_count": 65,
   "id": "d0398315-f40d-4d44-b1de-e37d57e36355",
   "metadata": {},
   "outputs": [
    {
     "name": "stderr",
     "output_type": "stream",
     "text": [
      "C:\\Users\\USER\\AppData\\Local\\Programs\\Python\\Python311\\Lib\\site-packages\\sklearn\\linear_model\\_stochastic_gradient.py:1561: ConvergenceWarning: Maximum number of iteration reached before convergence. Consider increasing max_iter to improve the fit.\n",
      "  warnings.warn(\n"
     ]
    },
    {
     "data": {
      "text/plain": [
       "(4046487615.5271835, 4122148057.1047864)"
      ]
     },
     "execution_count": 65,
     "metadata": {},
     "output_type": "execute_result"
    }
   ],
   "source": [
    "try_model(SGDRegressor())"
   ]
  },
  {
   "cell_type": "markdown",
   "id": "d1706939-7e2e-4103-8417-adea3ee9a9bd",
   "metadata": {},
   "source": [
    "### Tree Based Models\n",
    "\n",
    "* Decision trees: https://scikit-learn.org/stable/modules/tree.html\n",
    "* Random forests and gradient boosting: https://scikit-learn.org/stable/modules/ensemble.html"
   ]
  },
  {
   "cell_type": "code",
   "execution_count": 66,
   "id": "eab252a4-8d15-4735-94f7-a41c5f04bdf8",
   "metadata": {},
   "outputs": [],
   "source": [
    "from sklearn.tree import DecisionTreeRegressor, plot_tree"
   ]
  },
  {
   "cell_type": "code",
   "execution_count": 67,
   "id": "0127412d-2e1d-4c02-9719-c9664d6a2ade",
   "metadata": {},
   "outputs": [
    {
     "data": {
      "text/plain": [
       "(0.0, 0.843811337303383)"
      ]
     },
     "execution_count": 67,
     "metadata": {},
     "output_type": "execute_result"
    }
   ],
   "source": [
    "tree = DecisionTreeRegressor(random_state=42)\n",
    "try_model(tree)"
   ]
  },
  {
   "cell_type": "code",
   "execution_count": 68,
   "id": "db094668-1553-479c-bbe5-fd48644bf2ff",
   "metadata": {},
   "outputs": [],
   "source": [
    "# plt.figure(figsize=(40, 20))\n",
    "# plot_tree(tree, max_depth=10, filled=True, feature_names=input_cols);"
   ]
  },
  {
   "cell_type": "code",
   "execution_count": null,
   "id": "35a74331-2dd1-4bb7-bd0f-55e28871f7dd",
   "metadata": {},
   "outputs": [],
   "source": []
  },
  {
   "cell_type": "code",
   "execution_count": 69,
   "id": "27fcad9d-7330-4319-a86a-8b368f177684",
   "metadata": {},
   "outputs": [],
   "source": [
    "from sklearn.ensemble import RandomForestRegressor"
   ]
  },
  {
   "cell_type": "code",
   "execution_count": 70,
   "id": "fa760a32-2ad1-4691-b228-382686bb673b",
   "metadata": {},
   "outputs": [
    {
     "name": "stdout",
     "output_type": "stream",
     "text": [
      "CPU times: total: 3h 24min 2s\n",
      "Wall time: 20min 26s\n"
     ]
    },
    {
     "data": {
      "text/plain": [
       "(0.15662886718918076, 0.8422320105217138)"
      ]
     },
     "execution_count": 70,
     "metadata": {},
     "output_type": "execute_result"
    }
   ],
   "source": [
    " %%time\n",
    "rf = RandomForestRegressor(random_state=42, n_jobs=-1, n_estimators= 500,   max_leaf_nodes = 2**20, max_features=30)\n",
    " try_model(rf)"
   ]
  },
  {
   "cell_type": "code",
   "execution_count": 71,
   "id": "3e348a57-b42b-4038-b69e-d378d39459ba",
   "metadata": {},
   "outputs": [
    {
     "data": {
      "text/plain": [
       "array([3.01310978e-03, 8.86950975e-04, 2.15742483e-03, 1.38710944e-03,\n",
       "       4.96529238e-05, 4.10115972e-01, 5.64638080e-02, 1.08098575e-01,\n",
       "       3.46752124e-02, 1.03012397e-02, 6.91053107e-03, 1.93819875e-03,\n",
       "       1.98757546e-03, 1.97063048e-03, 5.56082043e-03, 1.52838629e-02,\n",
       "       5.87602310e-02, 1.16395354e-01, 1.48375089e-02, 9.08918697e-03,\n",
       "       3.47908335e-03, 4.20629600e-03, 1.12205441e-01, 3.13142749e-03,\n",
       "       1.63368474e-02, 5.65550436e-04, 1.92399114e-04])"
      ]
     },
     "execution_count": 71,
     "metadata": {},
     "output_type": "execute_result"
    }
   ],
   "source": [
    "rf.feature_importances_"
   ]
  },
  {
   "cell_type": "code",
   "execution_count": 72,
   "id": "02897370-1803-4210-95f3-f803012bb429",
   "metadata": {},
   "outputs": [
    {
     "data": {
      "text/html": [
       "<div>\n",
       "<style scoped>\n",
       "    .dataframe tbody tr th:only-of-type {\n",
       "        vertical-align: middle;\n",
       "    }\n",
       "\n",
       "    .dataframe tbody tr th {\n",
       "        vertical-align: top;\n",
       "    }\n",
       "\n",
       "    .dataframe thead th {\n",
       "        text-align: right;\n",
       "    }\n",
       "</style>\n",
       "<table border=\"1\" class=\"dataframe\">\n",
       "  <thead>\n",
       "    <tr style=\"text-align: right;\">\n",
       "      <th></th>\n",
       "      <th>feature</th>\n",
       "      <th>importance</th>\n",
       "    </tr>\n",
       "  </thead>\n",
       "  <tbody>\n",
       "    <tr>\n",
       "      <th>5</th>\n",
       "      <td>DAYS_FROM_LAST_PURCHASE</td>\n",
       "      <td>0.410116</td>\n",
       "    </tr>\n",
       "    <tr>\n",
       "      <th>17</th>\n",
       "      <td>02_LAST_PURCHASE_2019</td>\n",
       "      <td>0.116395</td>\n",
       "    </tr>\n",
       "    <tr>\n",
       "      <th>22</th>\n",
       "      <td>TOTAL_BOX_COUNT</td>\n",
       "      <td>0.112205</td>\n",
       "    </tr>\n",
       "    <tr>\n",
       "      <th>7</th>\n",
       "      <td>MONTH</td>\n",
       "      <td>0.108099</td>\n",
       "    </tr>\n",
       "    <tr>\n",
       "      <th>16</th>\n",
       "      <td>01_LAST_PURCHASE_2019</td>\n",
       "      <td>0.058760</td>\n",
       "    </tr>\n",
       "    <tr>\n",
       "      <th>6</th>\n",
       "      <td>DAY</td>\n",
       "      <td>0.056464</td>\n",
       "    </tr>\n",
       "    <tr>\n",
       "      <th>8</th>\n",
       "      <td>YEAR</td>\n",
       "      <td>0.034675</td>\n",
       "    </tr>\n",
       "    <tr>\n",
       "      <th>24</th>\n",
       "      <td>MAGIC_KEY_ENCODED</td>\n",
       "      <td>0.016337</td>\n",
       "    </tr>\n",
       "    <tr>\n",
       "      <th>15</th>\n",
       "      <td>01_FIRST_PURCHASE_2019</td>\n",
       "      <td>0.015284</td>\n",
       "    </tr>\n",
       "    <tr>\n",
       "      <th>18</th>\n",
       "      <td>TOTAL_MEAT</td>\n",
       "      <td>0.014838</td>\n",
       "    </tr>\n",
       "  </tbody>\n",
       "</table>\n",
       "</div>"
      ],
      "text/plain": [
       "                    feature  importance\n",
       "5   DAYS_FROM_LAST_PURCHASE    0.410116\n",
       "17    02_LAST_PURCHASE_2019    0.116395\n",
       "22          TOTAL_BOX_COUNT    0.112205\n",
       "7                     MONTH    0.108099\n",
       "16    01_LAST_PURCHASE_2019    0.058760\n",
       "6                       DAY    0.056464\n",
       "8                      YEAR    0.034675\n",
       "24        MAGIC_KEY_ENCODED    0.016337\n",
       "15   01_FIRST_PURCHASE_2019    0.015284\n",
       "18               TOTAL_MEAT    0.014838"
      ]
     },
     "execution_count": 72,
     "metadata": {},
     "output_type": "execute_result"
    }
   ],
   "source": [
    "importance_df = pd.DataFrame({ \n",
    "    'feature': input_cols, \n",
    "    'importance': rf.feature_importances_\n",
    "}).sort_values('importance', ascending=False)\n",
    "importance_df.head(10)"
   ]
  },
  {
   "cell_type": "markdown",
   "id": "ae9dff20-6053-492f-b8d0-4502d1e0ca66",
   "metadata": {},
   "source": [
    "### Making a submission on Kaggle\n",
    "\n",
    "If you're participating in a Kaggle competition, you can generate a submission CSV file and make a submission to check your score on the test set."
   ]
  },
  {
   "cell_type": "code",
   "execution_count": 73,
   "id": "2aee9fb3-a0b3-4842-842d-6ef06a5a9cc8",
   "metadata": {},
   "outputs": [
    {
     "data": {
      "text/plain": [
       "array([0., 0., 0., ..., 0., 0., 1.])"
      ]
     },
     "execution_count": 73,
     "metadata": {},
     "output_type": "execute_result"
    }
   ],
   "source": [
    "test_preds = rf.predict(X_test)\n",
    "test_preds"
   ]
  },
  {
   "cell_type": "code",
   "execution_count": 74,
   "id": "e8c15438-b834-4960-bdd2-b153969b6323",
   "metadata": {},
   "outputs": [],
   "source": [
    "test_df['MEAT_PURCHASE'] = test_preds"
   ]
  },
  {
   "cell_type": "code",
   "execution_count": 75,
   "id": "bc26caa7-23cc-4d6b-9b42-2883d286253a",
   "metadata": {},
   "outputs": [
    {
     "data": {
      "text/plain": [
       "(0.0, 1.0)"
      ]
     },
     "execution_count": 75,
     "metadata": {},
     "output_type": "execute_result"
    }
   ],
   "source": [
    "test_df.MEAT_PURCHASE.min(), test_df.MEAT_PURCHASE.max()"
   ]
  },
  {
   "cell_type": "code",
   "execution_count": 79,
   "id": "51e1fa59-f2bd-46f4-8ad2-5a7a0b3b2835",
   "metadata": {},
   "outputs": [
    {
     "data": {
      "text/html": [
       "<div>\n",
       "<style scoped>\n",
       "    .dataframe tbody tr th:only-of-type {\n",
       "        vertical-align: middle;\n",
       "    }\n",
       "\n",
       "    .dataframe tbody tr th {\n",
       "        vertical-align: top;\n",
       "    }\n",
       "\n",
       "    .dataframe thead th {\n",
       "        text-align: right;\n",
       "    }\n",
       "</style>\n",
       "<table border=\"1\" class=\"dataframe\">\n",
       "  <thead>\n",
       "    <tr style=\"text-align: right;\">\n",
       "      <th></th>\n",
       "      <th>BOX_ID</th>\n",
       "      <th>QUALITY</th>\n",
       "      <th>DELIVERY_OPTION</th>\n",
       "      <th>MILK</th>\n",
       "      <th>MEAT</th>\n",
       "      <th>UNIT_PRICE</th>\n",
       "      <th>BOX_COUNT</th>\n",
       "      <th>DAYS_FROM_LAST_PURCHASE</th>\n",
       "      <th>DAY</th>\n",
       "      <th>MONTH</th>\n",
       "      <th>...</th>\n",
       "      <th>TOTAL_MEAT</th>\n",
       "      <th>TOTAL_MILK</th>\n",
       "      <th>MEAT_PURCHASE_FREQUENCY</th>\n",
       "      <th>MILK_PURCHASE_FREQUENCY</th>\n",
       "      <th>TOTAL_BOX_COUNT</th>\n",
       "      <th>TOTAL_AMOUNT</th>\n",
       "      <th>MAGIC_KEY_ENCODED</th>\n",
       "      <th>DELIVERY_ENCODED</th>\n",
       "      <th>QUALITY_ENCODED</th>\n",
       "      <th>MEAT_PURCHASE</th>\n",
       "    </tr>\n",
       "  </thead>\n",
       "  <tbody>\n",
       "    <tr>\n",
       "      <th>0</th>\n",
       "      <td>56.0</td>\n",
       "      <td>Premium</td>\n",
       "      <td>Delivery from Collection Point</td>\n",
       "      <td>10.0</td>\n",
       "      <td>3.6</td>\n",
       "      <td>15.00</td>\n",
       "      <td>1.0</td>\n",
       "      <td>5.0</td>\n",
       "      <td>23.0</td>\n",
       "      <td>2.0</td>\n",
       "      <td>...</td>\n",
       "      <td>18.0</td>\n",
       "      <td>50.0</td>\n",
       "      <td>5.0</td>\n",
       "      <td>5.0</td>\n",
       "      <td>16.0</td>\n",
       "      <td>240.00</td>\n",
       "      <td>1334</td>\n",
       "      <td>0.0</td>\n",
       "      <td>0.0</td>\n",
       "      <td>0.0</td>\n",
       "    </tr>\n",
       "    <tr>\n",
       "      <th>5</th>\n",
       "      <td>132.0</td>\n",
       "      <td>Premium</td>\n",
       "      <td>Delivery from Collection Point</td>\n",
       "      <td>9.0</td>\n",
       "      <td>1.8</td>\n",
       "      <td>19.98</td>\n",
       "      <td>1.0</td>\n",
       "      <td>64.0</td>\n",
       "      <td>1.0</td>\n",
       "      <td>10.0</td>\n",
       "      <td>...</td>\n",
       "      <td>4.0</td>\n",
       "      <td>20.0</td>\n",
       "      <td>1.0</td>\n",
       "      <td>1.0</td>\n",
       "      <td>2.0</td>\n",
       "      <td>39.96</td>\n",
       "      <td>4064</td>\n",
       "      <td>0.0</td>\n",
       "      <td>0.0</td>\n",
       "      <td>0.0</td>\n",
       "    </tr>\n",
       "    <tr>\n",
       "      <th>7</th>\n",
       "      <td>162.0</td>\n",
       "      <td>Premium</td>\n",
       "      <td>Delivery from Collection Point</td>\n",
       "      <td>10.0</td>\n",
       "      <td>2.2</td>\n",
       "      <td>23.98</td>\n",
       "      <td>1.0</td>\n",
       "      <td>0.0</td>\n",
       "      <td>28.0</td>\n",
       "      <td>2.0</td>\n",
       "      <td>...</td>\n",
       "      <td>6.6</td>\n",
       "      <td>31.0</td>\n",
       "      <td>3.0</td>\n",
       "      <td>2.0</td>\n",
       "      <td>3.0</td>\n",
       "      <td>71.94</td>\n",
       "      <td>4428</td>\n",
       "      <td>0.0</td>\n",
       "      <td>0.0</td>\n",
       "      <td>0.0</td>\n",
       "    </tr>\n",
       "    <tr>\n",
       "      <th>10</th>\n",
       "      <td>56.0</td>\n",
       "      <td>Premium</td>\n",
       "      <td>Delivery from Collection Point</td>\n",
       "      <td>10.0</td>\n",
       "      <td>3.6</td>\n",
       "      <td>15.00</td>\n",
       "      <td>1.0</td>\n",
       "      <td>5.0</td>\n",
       "      <td>23.0</td>\n",
       "      <td>2.0</td>\n",
       "      <td>...</td>\n",
       "      <td>31.8</td>\n",
       "      <td>102.0</td>\n",
       "      <td>7.0</td>\n",
       "      <td>8.0</td>\n",
       "      <td>27.0</td>\n",
       "      <td>405.00</td>\n",
       "      <td>4453</td>\n",
       "      <td>0.0</td>\n",
       "      <td>0.0</td>\n",
       "      <td>0.0</td>\n",
       "    </tr>\n",
       "    <tr>\n",
       "      <th>20</th>\n",
       "      <td>162.0</td>\n",
       "      <td>Premium</td>\n",
       "      <td>Delivery from Collection Point</td>\n",
       "      <td>10.0</td>\n",
       "      <td>2.2</td>\n",
       "      <td>23.98</td>\n",
       "      <td>1.0</td>\n",
       "      <td>0.0</td>\n",
       "      <td>4.0</td>\n",
       "      <td>2.0</td>\n",
       "      <td>...</td>\n",
       "      <td>6.6</td>\n",
       "      <td>31.0</td>\n",
       "      <td>3.0</td>\n",
       "      <td>2.0</td>\n",
       "      <td>3.0</td>\n",
       "      <td>71.94</td>\n",
       "      <td>4398</td>\n",
       "      <td>0.0</td>\n",
       "      <td>0.0</td>\n",
       "      <td>0.0</td>\n",
       "    </tr>\n",
       "    <tr>\n",
       "      <th>...</th>\n",
       "      <td>...</td>\n",
       "      <td>...</td>\n",
       "      <td>...</td>\n",
       "      <td>...</td>\n",
       "      <td>...</td>\n",
       "      <td>...</td>\n",
       "      <td>...</td>\n",
       "      <td>...</td>\n",
       "      <td>...</td>\n",
       "      <td>...</td>\n",
       "      <td>...</td>\n",
       "      <td>...</td>\n",
       "      <td>...</td>\n",
       "      <td>...</td>\n",
       "      <td>...</td>\n",
       "      <td>...</td>\n",
       "      <td>...</td>\n",
       "      <td>...</td>\n",
       "      <td>...</td>\n",
       "      <td>...</td>\n",
       "      <td>...</td>\n",
       "    </tr>\n",
       "    <tr>\n",
       "      <th>15319</th>\n",
       "      <td>77.0</td>\n",
       "      <td>Premium</td>\n",
       "      <td>Delivery from Collection Point</td>\n",
       "      <td>0.0</td>\n",
       "      <td>2.5</td>\n",
       "      <td>11.96</td>\n",
       "      <td>1.0</td>\n",
       "      <td>0.0</td>\n",
       "      <td>15.0</td>\n",
       "      <td>12.0</td>\n",
       "      <td>...</td>\n",
       "      <td>2.5</td>\n",
       "      <td>0.0</td>\n",
       "      <td>1.0</td>\n",
       "      <td>1.0</td>\n",
       "      <td>1.0</td>\n",
       "      <td>11.96</td>\n",
       "      <td>3853</td>\n",
       "      <td>0.0</td>\n",
       "      <td>0.0</td>\n",
       "      <td>0.0</td>\n",
       "    </tr>\n",
       "    <tr>\n",
       "      <th>15320</th>\n",
       "      <td>8.0</td>\n",
       "      <td>Premium</td>\n",
       "      <td>Home Delivery - CoD</td>\n",
       "      <td>10.0</td>\n",
       "      <td>0.0</td>\n",
       "      <td>12.18</td>\n",
       "      <td>1.0</td>\n",
       "      <td>0.0</td>\n",
       "      <td>25.0</td>\n",
       "      <td>11.0</td>\n",
       "      <td>...</td>\n",
       "      <td>0.0</td>\n",
       "      <td>10.0</td>\n",
       "      <td>1.0</td>\n",
       "      <td>1.0</td>\n",
       "      <td>1.0</td>\n",
       "      <td>12.18</td>\n",
       "      <td>3854</td>\n",
       "      <td>1.0</td>\n",
       "      <td>0.0</td>\n",
       "      <td>0.0</td>\n",
       "    </tr>\n",
       "    <tr>\n",
       "      <th>15321</th>\n",
       "      <td>3.0</td>\n",
       "      <td>Premium</td>\n",
       "      <td>Home Delivery - CoD</td>\n",
       "      <td>0.0</td>\n",
       "      <td>2.4</td>\n",
       "      <td>11.96</td>\n",
       "      <td>1.0</td>\n",
       "      <td>0.0</td>\n",
       "      <td>31.0</td>\n",
       "      <td>1.0</td>\n",
       "      <td>...</td>\n",
       "      <td>2.4</td>\n",
       "      <td>0.0</td>\n",
       "      <td>1.0</td>\n",
       "      <td>1.0</td>\n",
       "      <td>1.0</td>\n",
       "      <td>11.96</td>\n",
       "      <td>3855</td>\n",
       "      <td>1.0</td>\n",
       "      <td>0.0</td>\n",
       "      <td>0.0</td>\n",
       "    </tr>\n",
       "    <tr>\n",
       "      <th>15322</th>\n",
       "      <td>17.0</td>\n",
       "      <td>Premium</td>\n",
       "      <td>Home Delivery - CoD</td>\n",
       "      <td>10.0</td>\n",
       "      <td>1.8</td>\n",
       "      <td>12.98</td>\n",
       "      <td>1.0</td>\n",
       "      <td>0.0</td>\n",
       "      <td>25.0</td>\n",
       "      <td>10.0</td>\n",
       "      <td>...</td>\n",
       "      <td>1.8</td>\n",
       "      <td>10.0</td>\n",
       "      <td>1.0</td>\n",
       "      <td>1.0</td>\n",
       "      <td>1.0</td>\n",
       "      <td>12.98</td>\n",
       "      <td>3856</td>\n",
       "      <td>1.0</td>\n",
       "      <td>0.0</td>\n",
       "      <td>0.0</td>\n",
       "    </tr>\n",
       "    <tr>\n",
       "      <th>15323</th>\n",
       "      <td>27.0</td>\n",
       "      <td>Premium</td>\n",
       "      <td>Home Delivery - CoD</td>\n",
       "      <td>0.0</td>\n",
       "      <td>2.9</td>\n",
       "      <td>15.96</td>\n",
       "      <td>1.0</td>\n",
       "      <td>110.0</td>\n",
       "      <td>23.0</td>\n",
       "      <td>10.0</td>\n",
       "      <td>...</td>\n",
       "      <td>5.3</td>\n",
       "      <td>0.0</td>\n",
       "      <td>1.0</td>\n",
       "      <td>2.0</td>\n",
       "      <td>2.0</td>\n",
       "      <td>31.92</td>\n",
       "      <td>3858</td>\n",
       "      <td>1.0</td>\n",
       "      <td>0.0</td>\n",
       "      <td>1.0</td>\n",
       "    </tr>\n",
       "  </tbody>\n",
       "</table>\n",
       "<p>5379 rows × 31 columns</p>\n",
       "</div>"
      ],
      "text/plain": [
       "       BOX_ID  QUALITY                 DELIVERY_OPTION  MILK  MEAT  \\\n",
       "0        56.0  Premium  Delivery from Collection Point  10.0   3.6   \n",
       "5       132.0  Premium  Delivery from Collection Point   9.0   1.8   \n",
       "7       162.0  Premium  Delivery from Collection Point  10.0   2.2   \n",
       "10       56.0  Premium  Delivery from Collection Point  10.0   3.6   \n",
       "20      162.0  Premium  Delivery from Collection Point  10.0   2.2   \n",
       "...       ...      ...                             ...   ...   ...   \n",
       "15319    77.0  Premium  Delivery from Collection Point   0.0   2.5   \n",
       "15320     8.0  Premium             Home Delivery - CoD  10.0   0.0   \n",
       "15321     3.0  Premium             Home Delivery - CoD   0.0   2.4   \n",
       "15322    17.0  Premium             Home Delivery - CoD  10.0   1.8   \n",
       "15323    27.0  Premium             Home Delivery - CoD   0.0   2.9   \n",
       "\n",
       "       UNIT_PRICE  BOX_COUNT  DAYS_FROM_LAST_PURCHASE   DAY  MONTH  ...  \\\n",
       "0           15.00        1.0                      5.0  23.0    2.0  ...   \n",
       "5           19.98        1.0                     64.0   1.0   10.0  ...   \n",
       "7           23.98        1.0                      0.0  28.0    2.0  ...   \n",
       "10          15.00        1.0                      5.0  23.0    2.0  ...   \n",
       "20          23.98        1.0                      0.0   4.0    2.0  ...   \n",
       "...           ...        ...                      ...   ...    ...  ...   \n",
       "15319       11.96        1.0                      0.0  15.0   12.0  ...   \n",
       "15320       12.18        1.0                      0.0  25.0   11.0  ...   \n",
       "15321       11.96        1.0                      0.0  31.0    1.0  ...   \n",
       "15322       12.98        1.0                      0.0  25.0   10.0  ...   \n",
       "15323       15.96        1.0                    110.0  23.0   10.0  ...   \n",
       "\n",
       "       TOTAL_MEAT  TOTAL_MILK  MEAT_PURCHASE_FREQUENCY  \\\n",
       "0            18.0        50.0                      5.0   \n",
       "5             4.0        20.0                      1.0   \n",
       "7             6.6        31.0                      3.0   \n",
       "10           31.8       102.0                      7.0   \n",
       "20            6.6        31.0                      3.0   \n",
       "...           ...         ...                      ...   \n",
       "15319         2.5         0.0                      1.0   \n",
       "15320         0.0        10.0                      1.0   \n",
       "15321         2.4         0.0                      1.0   \n",
       "15322         1.8        10.0                      1.0   \n",
       "15323         5.3         0.0                      1.0   \n",
       "\n",
       "       MILK_PURCHASE_FREQUENCY  TOTAL_BOX_COUNT  TOTAL_AMOUNT  \\\n",
       "0                          5.0             16.0        240.00   \n",
       "5                          1.0              2.0         39.96   \n",
       "7                          2.0              3.0         71.94   \n",
       "10                         8.0             27.0        405.00   \n",
       "20                         2.0              3.0         71.94   \n",
       "...                        ...              ...           ...   \n",
       "15319                      1.0              1.0         11.96   \n",
       "15320                      1.0              1.0         12.18   \n",
       "15321                      1.0              1.0         11.96   \n",
       "15322                      1.0              1.0         12.98   \n",
       "15323                      2.0              2.0         31.92   \n",
       "\n",
       "       MAGIC_KEY_ENCODED  DELIVERY_ENCODED  QUALITY_ENCODED  MEAT_PURCHASE  \n",
       "0                   1334               0.0              0.0            0.0  \n",
       "5                   4064               0.0              0.0            0.0  \n",
       "7                   4428               0.0              0.0            0.0  \n",
       "10                  4453               0.0              0.0            0.0  \n",
       "20                  4398               0.0              0.0            0.0  \n",
       "...                  ...               ...              ...            ...  \n",
       "15319               3853               0.0              0.0            0.0  \n",
       "15320               3854               1.0              0.0            0.0  \n",
       "15321               3855               1.0              0.0            0.0  \n",
       "15322               3856               1.0              0.0            0.0  \n",
       "15323               3858               1.0              0.0            1.0  \n",
       "\n",
       "[5379 rows x 31 columns]"
      ]
     },
     "execution_count": 79,
     "metadata": {},
     "output_type": "execute_result"
    }
   ],
   "source": [
    "test_df"
   ]
  },
  {
   "cell_type": "code",
   "execution_count": 76,
   "id": "2cc60536-33e0-44a5-8791-058608b9be12",
   "metadata": {},
   "outputs": [],
   "source": [
    "#columns_to_keep = ['MAGIC_KEY', 'X']\n",
    "#sub = sub_df[columns_to_keep]\n"
   ]
  },
  {
   "cell_type": "code",
   "execution_count": 77,
   "id": "647b60b1-07ba-40f5-880a-e0d04a550bc7",
   "metadata": {},
   "outputs": [],
   "source": [
    "#sub = sub.rename(columns={'X': 'MEAT'})\n"
   ]
  },
  {
   "cell_type": "code",
   "execution_count": 78,
   "id": "28f19a8c-2d1f-455d-9442-dd56f9235ccc",
   "metadata": {},
   "outputs": [],
   "source": [
    "#sub.to_csv('Submission.csv', index=None)"
   ]
  },
  {
   "cell_type": "code",
   "execution_count": null,
   "id": "9f8f1dbb-1183-4d48-bca6-87e831eb1b08",
   "metadata": {},
   "outputs": [],
   "source": []
  }
 ],
 "metadata": {
  "kernelspec": {
   "display_name": "Python 3 (ipykernel)",
   "language": "python",
   "name": "python3"
  },
  "language_info": {
   "codemirror_mode": {
    "name": "ipython",
    "version": 3
   },
   "file_extension": ".py",
   "mimetype": "text/x-python",
   "name": "python",
   "nbconvert_exporter": "python",
   "pygments_lexer": "ipython3",
   "version": "3.11.4"
  }
 },
 "nbformat": 4,
 "nbformat_minor": 5
}
