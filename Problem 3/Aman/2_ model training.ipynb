{
 "cells": [
  {
   "cell_type": "code",
   "execution_count": 1,
   "id": "04db7bdc-60ad-472c-8a1f-380d7fe589be",
   "metadata": {},
   "outputs": [],
   "source": [
    "import os\n",
    "#import jovian\n",
    "import matplotlib\n",
    "import opendatasets as od\n",
    "import numpy as np\n",
    "import pandas as pd\n",
    "import matplotlib.pyplot as plt\n",
    "import seaborn as sns\n",
    "import plotly.express as px\n",
    "%matplotlib inline\n",
    "sns.set_style('darkgrid')\n",
    "matplotlib.rcParams['font.size'] = 14\n",
    "matplotlib.rcParams['figure.figsize'] = (10, 6)\n",
    "matplotlib.rcParams['figure.facecolor'] = '#00000000'"
   ]
  },
  {
   "cell_type": "code",
   "execution_count": 2,
   "id": "bee91789-9ea5-49ee-9a94-3db04b64eda7",
   "metadata": {},
   "outputs": [],
   "source": [
    "merged_df = pd.read_csv('merged_data_2.csv')"
   ]
  },
  {
   "cell_type": "code",
   "execution_count": 3,
   "id": "44e0f8dc-8ff1-4bba-a02a-8cad1091ca6d",
   "metadata": {},
   "outputs": [],
   "source": [
    "submission_df = pd.read_csv('sample submission 3.csv')"
   ]
  },
  {
   "cell_type": "code",
   "execution_count": 4,
   "id": "e406859e-e2c5-43ae-bc20-f31341a914bc",
   "metadata": {},
   "outputs": [
    {
     "data": {
      "text/plain": [
       "MAGIC_KEY    5379\n",
       "MEAT            1\n",
       "dtype: int64"
      ]
     },
     "execution_count": 4,
     "metadata": {},
     "output_type": "execute_result"
    }
   ],
   "source": [
    "submission_df.nunique()"
   ]
  },
  {
   "cell_type": "code",
   "execution_count": 5,
   "id": "860dd55b-b65d-4387-a3f9-2cfab43a937d",
   "metadata": {},
   "outputs": [],
   "source": [
    "merged_df['PURCHASE_DATE'] = pd.to_datetime(merged_df['PURCHASE_DATE'])\n",
    "#merged_df['LAST_PURCHASE_DATE'] = pd.to_datetime(merged_df['LAST_PURCHASE_DATE'])"
   ]
  },
  {
   "cell_type": "markdown",
   "id": "cfcb792a-8db8-499a-b043-c932bb38e878",
   "metadata": {},
   "source": [
    "### Encoding Categorical Data"
   ]
  },
  {
   "cell_type": "code",
   "execution_count": 6,
   "id": "a86dfce8-5c52-456f-95de-a79fbc1322fa",
   "metadata": {},
   "outputs": [],
   "source": [
    "from sklearn.preprocessing import LabelEncoder\n",
    "import pickle"
   ]
  },
  {
   "cell_type": "code",
   "execution_count": null,
   "id": "6931339e-5d4d-411b-9efa-2b4444a67122",
   "metadata": {},
   "outputs": [],
   "source": []
  },
  {
   "cell_type": "code",
   "execution_count": 7,
   "id": "85bf785e-c2dd-4bc0-85ca-31d695f82309",
   "metadata": {},
   "outputs": [],
   "source": [
    "le = LabelEncoder() #creating an instance of LabelEncoder\n",
    "merged_df['MAGIC_KEY_ENCODED'] = le.fit_transform(merged_df['MAGIC_KEY'])\n",
    "merged_df['DELIVERY_ENCODED'] = le.fit_transform(merged_df['DELIVERY_OPTION'])\n",
    "merged_df['QUALITY_ENCODED'] = le.fit_transform(merged_df['QUALITY'])"
   ]
  },
  {
   "cell_type": "code",
   "execution_count": 8,
   "id": "7a03557b-fbb5-4a4e-8489-b4825b8b7b6f",
   "metadata": {},
   "outputs": [],
   "source": [
    "prb_df_without_encode = pd.read_csv('problem 3.csv')\n",
    "prb_df_encode = prb_df_without_encode.copy()"
   ]
  },
  {
   "cell_type": "code",
   "execution_count": 9,
   "id": "6b1c5aaa-6cde-4803-b851-a0d63d6dd5d1",
   "metadata": {},
   "outputs": [],
   "source": [
    "prb_df_encode = prb_df_encode.merge(merged_df, on='MAGIC_KEY', how='left').drop_duplicates(subset=['MAGIC_KEY'])\n"
   ]
  },
  {
   "cell_type": "code",
   "execution_count": 10,
   "id": "ee196d75-6717-41e2-9307-44ecbcf26193",
   "metadata": {},
   "outputs": [],
   "source": [
    "#prb_df_encode.MAGIC_KEY.value_counts()"
   ]
  },
  {
   "cell_type": "code",
   "execution_count": 11,
   "id": "7a2dc82b-6911-436f-83f3-3c54c749183d",
   "metadata": {},
   "outputs": [],
   "source": [
    "#prb_df_encode"
   ]
  },
  {
   "cell_type": "markdown",
   "id": "652944ab-aa7a-4f53-9e80-66ea13e5167a",
   "metadata": {},
   "source": [
    "## Added magic key encode in the submission df"
   ]
  },
  {
   "cell_type": "code",
   "execution_count": 12,
   "id": "a975fd3d-7cdc-4984-a109-032127bdfb18",
   "metadata": {},
   "outputs": [],
   "source": [
    "prb_df_encode['MAGIC_KEY_ENCODED'] = le.fit_transform(prb_df_encode['MAGIC_KEY'])\n"
   ]
  },
  {
   "cell_type": "code",
   "execution_count": 13,
   "id": "79f93f3c-4ffd-4abb-9f71-3fdfbafd6cf3",
   "metadata": {},
   "outputs": [],
   "source": [
    "### drop purchase date and last purchase date column\n",
    "#prb_df_encode = prb_df_encode.drop(columns=['MAGIC_KEY'])"
   ]
  },
  {
   "cell_type": "code",
   "execution_count": 14,
   "id": "0db48ebc-6bd8-4549-8045-80be176a782a",
   "metadata": {},
   "outputs": [
    {
     "data": {
      "text/plain": [
       "0"
      ]
     },
     "execution_count": 14,
     "metadata": {},
     "output_type": "execute_result"
    }
   ],
   "source": [
    "prb_df_encode.duplicated().sum()"
   ]
  },
  {
   "cell_type": "code",
   "execution_count": 15,
   "id": "40af2487-6a56-4c43-bcdc-7a48a171b7e2",
   "metadata": {},
   "outputs": [],
   "source": [
    "#prb_df_encode.info()"
   ]
  },
  {
   "cell_type": "code",
   "execution_count": null,
   "id": "a83dbada-ac07-4bdf-a153-2befede2f104",
   "metadata": {},
   "outputs": [],
   "source": []
  },
  {
   "cell_type": "code",
   "execution_count": 16,
   "id": "5c066275-11ef-462c-a67a-16b6545d556d",
   "metadata": {},
   "outputs": [],
   "source": [
    "merged_df['MAGIC_KEY_ENCODED'] = le.fit_transform(merged_df['MAGIC_KEY'])\n"
   ]
  },
  {
   "cell_type": "code",
   "execution_count": null,
   "id": "f8b2ff03-6c3f-4f10-88e0-259d57495dfe",
   "metadata": {},
   "outputs": [],
   "source": []
  },
  {
   "cell_type": "code",
   "execution_count": null,
   "id": "039cde31-7408-46d8-a4f7-1acf81229648",
   "metadata": {},
   "outputs": [],
   "source": []
  },
  {
   "cell_type": "code",
   "execution_count": null,
   "id": "52d3d908-d477-423d-a4d9-376574abe4d2",
   "metadata": {},
   "outputs": [],
   "source": []
  },
  {
   "cell_type": "code",
   "execution_count": null,
   "id": "43caf647-5149-41b8-82d9-97de9bca7101",
   "metadata": {},
   "outputs": [],
   "source": []
  },
  {
   "cell_type": "code",
   "execution_count": null,
   "id": "34f95197-486e-460c-b18a-768daf0f3619",
   "metadata": {},
   "outputs": [],
   "source": []
  },
  {
   "cell_type": "code",
   "execution_count": null,
   "id": "739f2ce3-0c57-4a8d-8857-28d21a6ca7f6",
   "metadata": {},
   "outputs": [],
   "source": []
  },
  {
   "cell_type": "code",
   "execution_count": null,
   "id": "dae085e5-0dd4-495c-8783-229a68d4d418",
   "metadata": {},
   "outputs": [],
   "source": []
  },
  {
   "cell_type": "code",
   "execution_count": null,
   "id": "d253f305-58af-45bb-9bf9-8b30674971eb",
   "metadata": {},
   "outputs": [],
   "source": []
  },
  {
   "cell_type": "code",
   "execution_count": null,
   "id": "368cafdb-1ab7-40a5-8837-310b4a7cabcc",
   "metadata": {},
   "outputs": [],
   "source": []
  },
  {
   "cell_type": "markdown",
   "id": "bfc6c7f1-6a57-4605-94d2-d57b401b2e67",
   "metadata": {},
   "source": [
    "## splitting dataset for training and val set"
   ]
  },
  {
   "cell_type": "code",
   "execution_count": 17,
   "id": "3282d7b7-3ec3-47df-ab9d-d64855f650f8",
   "metadata": {},
   "outputs": [
    {
     "data": {
      "text/plain": [
       "2455770"
      ]
     },
     "execution_count": 17,
     "metadata": {},
     "output_type": "execute_result"
    }
   ],
   "source": [
    "len(merged_df)"
   ]
  },
  {
   "cell_type": "code",
   "execution_count": 18,
   "id": "9d3fa2c0-e3cf-497b-84d5-02d159e1dc00",
   "metadata": {},
   "outputs": [
    {
     "data": {
      "text/plain": [
       "1841827"
      ]
     },
     "execution_count": 18,
     "metadata": {},
     "output_type": "execute_result"
    }
   ],
   "source": [
    "train_size = int(.75 * len(merged_df))\n",
    "train_size"
   ]
  },
  {
   "cell_type": "code",
   "execution_count": 19,
   "id": "9af6ed18-7fff-485c-bb91-d77eb9166efd",
   "metadata": {},
   "outputs": [],
   "source": [
    "sorted_df = merged_df.sort_values('PURCHASE_DATE')\n",
    "train_df, val_df = sorted_df[:train_size], sorted_df[train_size:]"
   ]
  },
  {
   "cell_type": "code",
   "execution_count": 20,
   "id": "8806c202-9b06-4bb3-8d9e-c5269aecb2d8",
   "metadata": {},
   "outputs": [
    {
     "data": {
      "text/plain": [
       "(1841827, 613943)"
      ]
     },
     "execution_count": 20,
     "metadata": {},
     "output_type": "execute_result"
    }
   ],
   "source": [
    "len(train_df), len(val_df)"
   ]
  },
  {
   "cell_type": "code",
   "execution_count": 21,
   "id": "21e87e69-1177-4a29-aaf7-9545d18067d3",
   "metadata": {},
   "outputs": [
    {
     "data": {
      "text/plain": [
       "(Timestamp('2019-01-30 00:00:00'), Timestamp('2019-02-28 00:00:00'))"
      ]
     },
     "execution_count": 21,
     "metadata": {},
     "output_type": "execute_result"
    }
   ],
   "source": [
    "val_df.PURCHASE_DATE.min(), val_df.PURCHASE_DATE.max()"
   ]
  },
  {
   "cell_type": "code",
   "execution_count": 22,
   "id": "1a878afe-461e-4434-a0f2-464b3e34510a",
   "metadata": {},
   "outputs": [
    {
     "data": {
      "text/html": [
       "<div>\n",
       "<style scoped>\n",
       "    .dataframe tbody tr th:only-of-type {\n",
       "        vertical-align: middle;\n",
       "    }\n",
       "\n",
       "    .dataframe tbody tr th {\n",
       "        vertical-align: top;\n",
       "    }\n",
       "\n",
       "    .dataframe thead th {\n",
       "        text-align: right;\n",
       "    }\n",
       "</style>\n",
       "<table border=\"1\" class=\"dataframe\">\n",
       "  <thead>\n",
       "    <tr style=\"text-align: right;\">\n",
       "      <th></th>\n",
       "      <th>BOX_ID</th>\n",
       "      <th>QUALITY</th>\n",
       "      <th>DELIVERY_OPTION</th>\n",
       "      <th>MILK</th>\n",
       "      <th>MEAT</th>\n",
       "      <th>UNIT_PRICE</th>\n",
       "      <th>PURCHASE_DATE</th>\n",
       "      <th>MAGIC_KEY</th>\n",
       "      <th>BOX_COUNT</th>\n",
       "      <th>TOTAL_MEAT</th>\n",
       "      <th>...</th>\n",
       "      <th>02_LAST_PURCHASE_2019</th>\n",
       "      <th>PURCHASE_DURATION</th>\n",
       "      <th>AVG_MEAT_PURCHASE</th>\n",
       "      <th>PURCHASE_DAY_OF_WEEK</th>\n",
       "      <th>PREVIOUS_MEAT_QUANTITY</th>\n",
       "      <th>MEAT_MEAN</th>\n",
       "      <th>MEAT_MEDIAN</th>\n",
       "      <th>MAGIC_KEY_ENCODED</th>\n",
       "      <th>DELIVERY_ENCODED</th>\n",
       "      <th>QUALITY_ENCODED</th>\n",
       "    </tr>\n",
       "  </thead>\n",
       "  <tbody>\n",
       "    <tr>\n",
       "      <th>2333195</th>\n",
       "      <td>260</td>\n",
       "      <td>Standard</td>\n",
       "      <td>Delivery from Collection Point</td>\n",
       "      <td>10.0</td>\n",
       "      <td>1.8</td>\n",
       "      <td>17.98</td>\n",
       "      <td>2018-10-01</td>\n",
       "      <td>29339036B48</td>\n",
       "      <td>1.0</td>\n",
       "      <td>4.0</td>\n",
       "      <td>...</td>\n",
       "      <td>0.0</td>\n",
       "      <td>25.0</td>\n",
       "      <td>2.000</td>\n",
       "      <td>0</td>\n",
       "      <td>2.2</td>\n",
       "      <td>2.000</td>\n",
       "      <td>2.00</td>\n",
       "      <td>236134</td>\n",
       "      <td>0</td>\n",
       "      <td>1</td>\n",
       "    </tr>\n",
       "    <tr>\n",
       "      <th>736244</th>\n",
       "      <td>118</td>\n",
       "      <td>Premium</td>\n",
       "      <td>Delivery from Collection Point</td>\n",
       "      <td>8.0</td>\n",
       "      <td>1.3</td>\n",
       "      <td>15.98</td>\n",
       "      <td>2018-10-01</td>\n",
       "      <td>2CA943107B8</td>\n",
       "      <td>1.0</td>\n",
       "      <td>3.8</td>\n",
       "      <td>...</td>\n",
       "      <td>0.0</td>\n",
       "      <td>81.0</td>\n",
       "      <td>1.900</td>\n",
       "      <td>0</td>\n",
       "      <td>2.5</td>\n",
       "      <td>1.900</td>\n",
       "      <td>1.90</td>\n",
       "      <td>1004944</td>\n",
       "      <td>0</td>\n",
       "      <td>0</td>\n",
       "    </tr>\n",
       "    <tr>\n",
       "      <th>736245</th>\n",
       "      <td>118</td>\n",
       "      <td>Premium</td>\n",
       "      <td>Delivery from Collection Point</td>\n",
       "      <td>8.0</td>\n",
       "      <td>1.3</td>\n",
       "      <td>15.98</td>\n",
       "      <td>2018-10-01</td>\n",
       "      <td>2C00FF1E2DC</td>\n",
       "      <td>1.0</td>\n",
       "      <td>3.1</td>\n",
       "      <td>...</td>\n",
       "      <td>0.0</td>\n",
       "      <td>0.0</td>\n",
       "      <td>1.550</td>\n",
       "      <td>0</td>\n",
       "      <td>2.5</td>\n",
       "      <td>1.550</td>\n",
       "      <td>1.55</td>\n",
       "      <td>562284</td>\n",
       "      <td>0</td>\n",
       "      <td>0</td>\n",
       "    </tr>\n",
       "    <tr>\n",
       "      <th>736246</th>\n",
       "      <td>118</td>\n",
       "      <td>Premium</td>\n",
       "      <td>Delivery from Collection Point</td>\n",
       "      <td>8.0</td>\n",
       "      <td>1.3</td>\n",
       "      <td>15.98</td>\n",
       "      <td>2018-10-01</td>\n",
       "      <td>2C1A276B78F</td>\n",
       "      <td>1.0</td>\n",
       "      <td>8.5</td>\n",
       "      <td>...</td>\n",
       "      <td>0.0</td>\n",
       "      <td>0.0</td>\n",
       "      <td>1.700</td>\n",
       "      <td>0</td>\n",
       "      <td>2.5</td>\n",
       "      <td>1.700</td>\n",
       "      <td>1.80</td>\n",
       "      <td>636285</td>\n",
       "      <td>0</td>\n",
       "      <td>0</td>\n",
       "    </tr>\n",
       "    <tr>\n",
       "      <th>736247</th>\n",
       "      <td>118</td>\n",
       "      <td>Premium</td>\n",
       "      <td>Delivery from Collection Point</td>\n",
       "      <td>8.0</td>\n",
       "      <td>1.3</td>\n",
       "      <td>15.98</td>\n",
       "      <td>2018-10-01</td>\n",
       "      <td>2BD8A103BA3</td>\n",
       "      <td>1.0</td>\n",
       "      <td>5.7</td>\n",
       "      <td>...</td>\n",
       "      <td>0.0</td>\n",
       "      <td>114.0</td>\n",
       "      <td>1.425</td>\n",
       "      <td>0</td>\n",
       "      <td>1.3</td>\n",
       "      <td>1.425</td>\n",
       "      <td>1.30</td>\n",
       "      <td>421096</td>\n",
       "      <td>0</td>\n",
       "      <td>0</td>\n",
       "    </tr>\n",
       "  </tbody>\n",
       "</table>\n",
       "<p>5 rows × 38 columns</p>\n",
       "</div>"
      ],
      "text/plain": [
       "         BOX_ID   QUALITY                 DELIVERY_OPTION  MILK  MEAT  \\\n",
       "2333195     260  Standard  Delivery from Collection Point  10.0   1.8   \n",
       "736244      118   Premium  Delivery from Collection Point   8.0   1.3   \n",
       "736245      118   Premium  Delivery from Collection Point   8.0   1.3   \n",
       "736246      118   Premium  Delivery from Collection Point   8.0   1.3   \n",
       "736247      118   Premium  Delivery from Collection Point   8.0   1.3   \n",
       "\n",
       "         UNIT_PRICE PURCHASE_DATE    MAGIC_KEY  BOX_COUNT  TOTAL_MEAT  ...  \\\n",
       "2333195       17.98    2018-10-01  29339036B48        1.0         4.0  ...   \n",
       "736244        15.98    2018-10-01  2CA943107B8        1.0         3.8  ...   \n",
       "736245        15.98    2018-10-01  2C00FF1E2DC        1.0         3.1  ...   \n",
       "736246        15.98    2018-10-01  2C1A276B78F        1.0         8.5  ...   \n",
       "736247        15.98    2018-10-01  2BD8A103BA3        1.0         5.7  ...   \n",
       "\n",
       "         02_LAST_PURCHASE_2019  PURCHASE_DURATION  AVG_MEAT_PURCHASE  \\\n",
       "2333195                    0.0               25.0              2.000   \n",
       "736244                     0.0               81.0              1.900   \n",
       "736245                     0.0                0.0              1.550   \n",
       "736246                     0.0                0.0              1.700   \n",
       "736247                     0.0              114.0              1.425   \n",
       "\n",
       "         PURCHASE_DAY_OF_WEEK  PREVIOUS_MEAT_QUANTITY  MEAT_MEAN  MEAT_MEDIAN  \\\n",
       "2333195                     0                     2.2      2.000         2.00   \n",
       "736244                      0                     2.5      1.900         1.90   \n",
       "736245                      0                     2.5      1.550         1.55   \n",
       "736246                      0                     2.5      1.700         1.80   \n",
       "736247                      0                     1.3      1.425         1.30   \n",
       "\n",
       "         MAGIC_KEY_ENCODED  DELIVERY_ENCODED  QUALITY_ENCODED  \n",
       "2333195             236134                 0                1  \n",
       "736244             1004944                 0                0  \n",
       "736245              562284                 0                0  \n",
       "736246              636285                 0                0  \n",
       "736247              421096                 0                0  \n",
       "\n",
       "[5 rows x 38 columns]"
      ]
     },
     "execution_count": 22,
     "metadata": {},
     "output_type": "execute_result"
    }
   ],
   "source": [
    "train_df.head()"
   ]
  },
  {
   "cell_type": "code",
   "execution_count": null,
   "id": "035ca3c7-9963-4c05-8e37-ca1c0549d741",
   "metadata": {},
   "outputs": [],
   "source": []
  },
  {
   "cell_type": "code",
   "execution_count": null,
   "id": "dda46f0b-04de-422a-9d8c-6e79489be2d2",
   "metadata": {},
   "outputs": [],
   "source": []
  },
  {
   "cell_type": "code",
   "execution_count": null,
   "id": "a8bebdb5-df74-49cd-8269-0c1b96641369",
   "metadata": {},
   "outputs": [],
   "source": []
  },
  {
   "cell_type": "code",
   "execution_count": null,
   "id": "c0421b27-1cf9-4c6f-b4d8-306e800c1989",
   "metadata": {},
   "outputs": [],
   "source": []
  },
  {
   "cell_type": "markdown",
   "id": "c38e622a-a8ec-4998-a96f-d86ffb1caf89",
   "metadata": {},
   "source": [
    "# train, test, val split"
   ]
  },
  {
   "cell_type": "code",
   "execution_count": 23,
   "id": "abf4763d-bafd-4fbb-99de-c6d347f835f7",
   "metadata": {},
   "outputs": [],
   "source": [
    "#train_df.info()"
   ]
  },
  {
   "cell_type": "code",
   "execution_count": 24,
   "id": "8e524c2f-e601-4f88-b0f2-ba6662e9952f",
   "metadata": {},
   "outputs": [],
   "source": [
    "### drop purchase date and last purchase date column\n",
    "train_df = train_df.drop(columns=['PURCHASE_DATE', 'MAGIC_KEY', 'QUALITY', 'DELIVERY_OPTION'])\n",
    "val_df = val_df.drop(columns=['PURCHASE_DATE', 'MAGIC_KEY', 'QUALITY'])\n",
    "test_df = prb_df_encode.drop(columns=['PURCHASE_DATE', 'MAGIC_KEY', 'QUALITY'])"
   ]
  },
  {
   "cell_type": "code",
   "execution_count": 25,
   "id": "3daa9bc0-cafa-4c48-933b-c1325b476708",
   "metadata": {},
   "outputs": [
    {
     "name": "stdout",
     "output_type": "stream",
     "text": [
      "<class 'pandas.core.frame.DataFrame'>\n",
      "Index: 1841827 entries, 2333195 to 815824\n",
      "Data columns (total 34 columns):\n",
      " #   Column                  Dtype  \n",
      "---  ------                  -----  \n",
      " 0   BOX_ID                  int64  \n",
      " 1   MILK                    float64\n",
      " 2   MEAT                    float64\n",
      " 3   UNIT_PRICE              float64\n",
      " 4   BOX_COUNT               float64\n",
      " 5   TOTAL_MEAT              float64\n",
      " 6   PURCHASE_FREEQUENCY     int64  \n",
      " 7   DAY                     int64  \n",
      " 8   MONTH                   int64  \n",
      " 9   YEAR                    int64  \n",
      " 10  OCT_MEAT                float64\n",
      " 11  NOV_MEAT                float64\n",
      " 12  DEC_MEAT                float64\n",
      " 13  JAN_MEAT                float64\n",
      " 14  FEB_MEAT                float64\n",
      " 15  10_FIRST_PURCHASE_2018  float64\n",
      " 16  10_LAST_PURCHASE_2018   float64\n",
      " 17  11_FIRST_PURCHASE_2018  float64\n",
      " 18  11_LAST_PURCHASE_2018   float64\n",
      " 19  12_FIRST_PURCHASE_2018  float64\n",
      " 20  12_LAST_PURCHASE_2018   float64\n",
      " 21  01_FIRST_PURCHASE_2019  float64\n",
      " 22  01_LAST_PURCHASE_2019   float64\n",
      " 23  02_FIRST_PURCHASE_2019  float64\n",
      " 24  02_LAST_PURCHASE_2019   float64\n",
      " 25  PURCHASE_DURATION       float64\n",
      " 26  AVG_MEAT_PURCHASE       float64\n",
      " 27  PURCHASE_DAY_OF_WEEK    int64  \n",
      " 28  PREVIOUS_MEAT_QUANTITY  float64\n",
      " 29  MEAT_MEAN               float64\n",
      " 30  MEAT_MEDIAN             float64\n",
      " 31  MAGIC_KEY_ENCODED       int32  \n",
      " 32  DELIVERY_ENCODED        int32  \n",
      " 33  QUALITY_ENCODED         int32  \n",
      "dtypes: float64(25), int32(3), int64(6)\n",
      "memory usage: 470.7 MB\n"
     ]
    }
   ],
   "source": [
    "train_df.info()"
   ]
  },
  {
   "cell_type": "code",
   "execution_count": 26,
   "id": "5c8831d1-392d-40a5-9855-9ccadf705e99",
   "metadata": {},
   "outputs": [
    {
     "data": {
      "text/plain": [
       "((1841827, 34), (613943, 35), (5379, 35))"
      ]
     },
     "execution_count": 26,
     "metadata": {},
     "output_type": "execute_result"
    }
   ],
   "source": [
    "train_df.shape, val_df.shape, test_df.shape"
   ]
  },
  {
   "cell_type": "code",
   "execution_count": 27,
   "id": "43b8e283-ab23-4074-931c-7e32313e9a4f",
   "metadata": {},
   "outputs": [
    {
     "data": {
      "text/plain": [
       "Index(['BOX_ID', 'MILK', 'MEAT', 'UNIT_PRICE', 'BOX_COUNT', 'TOTAL_MEAT',\n",
       "       'PURCHASE_FREEQUENCY', 'DAY', 'MONTH', 'YEAR', 'OCT_MEAT', 'NOV_MEAT',\n",
       "       'DEC_MEAT', 'JAN_MEAT', 'FEB_MEAT', '10_FIRST_PURCHASE_2018',\n",
       "       '10_LAST_PURCHASE_2018', '11_FIRST_PURCHASE_2018',\n",
       "       '11_LAST_PURCHASE_2018', '12_FIRST_PURCHASE_2018',\n",
       "       '12_LAST_PURCHASE_2018', '01_FIRST_PURCHASE_2019',\n",
       "       '01_LAST_PURCHASE_2019', '02_FIRST_PURCHASE_2019',\n",
       "       '02_LAST_PURCHASE_2019', 'PURCHASE_DURATION', 'AVG_MEAT_PURCHASE',\n",
       "       'PURCHASE_DAY_OF_WEEK', 'PREVIOUS_MEAT_QUANTITY', 'MEAT_MEAN',\n",
       "       'MEAT_MEDIAN', 'MAGIC_KEY_ENCODED', 'DELIVERY_ENCODED',\n",
       "       'QUALITY_ENCODED'],\n",
       "      dtype='object')"
      ]
     },
     "execution_count": 27,
     "metadata": {},
     "output_type": "execute_result"
    }
   ],
   "source": [
    "train_df.columns"
   ]
  },
  {
   "cell_type": "markdown",
   "id": "e3104c48-3581-41f8-81fe-1fbfd24f3c9c",
   "metadata": {},
   "source": [
    "### declaring input and target cols for train, val, test set"
   ]
  },
  {
   "cell_type": "code",
   "execution_count": 28,
   "id": "7b2b6593-4599-4e55-9eb8-484b9ae8b886",
   "metadata": {},
   "outputs": [
    {
     "name": "stdout",
     "output_type": "stream",
     "text": [
      "['BOX_ID', 'MILK', 'MEAT', 'UNIT_PRICE', 'BOX_COUNT', 'TOTAL_MEAT', 'PURCHASE_FREEQUENCY', 'DAY', 'MONTH', 'YEAR', 'OCT_MEAT', 'NOV_MEAT', 'DEC_MEAT', 'JAN_MEAT', '10_FIRST_PURCHASE_2018', '10_LAST_PURCHASE_2018', '11_FIRST_PURCHASE_2018', '11_LAST_PURCHASE_2018', '12_FIRST_PURCHASE_2018', '12_LAST_PURCHASE_2018', '01_FIRST_PURCHASE_2019', '01_LAST_PURCHASE_2019', '02_FIRST_PURCHASE_2019', '02_LAST_PURCHASE_2019', 'PURCHASE_DURATION', 'AVG_MEAT_PURCHASE', 'PURCHASE_DAY_OF_WEEK', 'PREVIOUS_MEAT_QUANTITY', 'MEAT_MEAN', 'MEAT_MEDIAN', 'MAGIC_KEY_ENCODED', 'DELIVERY_ENCODED', 'QUALITY_ENCODED']\n"
     ]
    }
   ],
   "source": [
    "input_cols = [col for col in train_df.columns if col != 'FEB_MEAT']\n",
    "\n",
    "print(input_cols)\n"
   ]
  },
  {
   "cell_type": "code",
   "execution_count": 29,
   "id": "c115d4c5-0cba-4511-8c04-c740dedec7f8",
   "metadata": {},
   "outputs": [],
   "source": [
    "\n",
    "target_col = 'FEB_MEAT'"
   ]
  },
  {
   "cell_type": "code",
   "execution_count": 30,
   "id": "5810ba5f-eb16-49fa-9caa-8f9b239df448",
   "metadata": {},
   "outputs": [],
   "source": [
    "train_inputs = train_df[input_cols].copy()\n",
    "train_targets = train_df[target_col].copy()"
   ]
  },
  {
   "cell_type": "code",
   "execution_count": 31,
   "id": "0a25cc6f-42ac-4934-b493-538c2729cb8a",
   "metadata": {},
   "outputs": [],
   "source": [
    "val_inputs = val_df[input_cols].copy()\n",
    "val_targets = val_df[target_col].copy()"
   ]
  },
  {
   "cell_type": "code",
   "execution_count": 32,
   "id": "17c98bd6-8488-48d1-b489-20d4fc6fe3ed",
   "metadata": {},
   "outputs": [],
   "source": [
    "test_inputs = test_df[input_cols].copy()\n",
    "# Test data does not have targets"
   ]
  },
  {
   "cell_type": "code",
   "execution_count": null,
   "id": "4272199b-3d04-4164-bc73-4343aea54b1a",
   "metadata": {},
   "outputs": [],
   "source": []
  },
  {
   "cell_type": "markdown",
   "id": "209eeba0-c957-46b6-b70d-c2babc5a182f",
   "metadata": {},
   "source": [
    "### Imputing missing numeric values"
   ]
  },
  {
   "cell_type": "code",
   "execution_count": 33,
   "id": "f6eef741-e170-44cb-b2bf-4026f1e1c9a7",
   "metadata": {},
   "outputs": [],
   "source": [
    "from sklearn.impute import SimpleImputer"
   ]
  },
  {
   "cell_type": "code",
   "execution_count": 34,
   "id": "b9a08bff-29b9-4ed8-b821-6c6162d06c76",
   "metadata": {},
   "outputs": [],
   "source": [
    "imputer = SimpleImputer(strategy = 'mean').fit(merged_df[input_cols])"
   ]
  },
  {
   "cell_type": "code",
   "execution_count": 35,
   "id": "4fc1fed9-1778-460d-86ac-46a0654b0304",
   "metadata": {},
   "outputs": [],
   "source": [
    "train_inputs[input_cols] = imputer.transform(train_inputs[input_cols])\n",
    "val_inputs[input_cols] = imputer.transform(val_inputs[input_cols])\n",
    "test_inputs[input_cols] = imputer.transform(test_inputs[input_cols])"
   ]
  },
  {
   "cell_type": "markdown",
   "id": "a7a63048-0333-4282-92d4-b8290640a0ea",
   "metadata": {},
   "source": [
    "### checking the null values"
   ]
  },
  {
   "cell_type": "code",
   "execution_count": 36,
   "id": "da54be04-2cc1-4b8b-815f-6ee879d3a599",
   "metadata": {},
   "outputs": [
    {
     "data": {
      "text/plain": [
       "BOX_ID                    0\n",
       "MILK                      0\n",
       "MEAT                      0\n",
       "UNIT_PRICE                0\n",
       "BOX_COUNT                 0\n",
       "TOTAL_MEAT                0\n",
       "PURCHASE_FREEQUENCY       0\n",
       "DAY                       0\n",
       "MONTH                     0\n",
       "YEAR                      0\n",
       "OCT_MEAT                  0\n",
       "NOV_MEAT                  0\n",
       "DEC_MEAT                  0\n",
       "JAN_MEAT                  0\n",
       "10_FIRST_PURCHASE_2018    0\n",
       "10_LAST_PURCHASE_2018     0\n",
       "11_FIRST_PURCHASE_2018    0\n",
       "11_LAST_PURCHASE_2018     0\n",
       "12_FIRST_PURCHASE_2018    0\n",
       "12_LAST_PURCHASE_2018     0\n",
       "01_FIRST_PURCHASE_2019    0\n",
       "01_LAST_PURCHASE_2019     0\n",
       "02_FIRST_PURCHASE_2019    0\n",
       "02_LAST_PURCHASE_2019     0\n",
       "PURCHASE_DURATION         0\n",
       "AVG_MEAT_PURCHASE         0\n",
       "PURCHASE_DAY_OF_WEEK      0\n",
       "PREVIOUS_MEAT_QUANTITY    0\n",
       "MEAT_MEAN                 0\n",
       "MEAT_MEDIAN               0\n",
       "MAGIC_KEY_ENCODED         0\n",
       "DELIVERY_ENCODED          0\n",
       "QUALITY_ENCODED           0\n",
       "dtype: int64"
      ]
     },
     "execution_count": 36,
     "metadata": {},
     "output_type": "execute_result"
    }
   ],
   "source": [
    "test_inputs[input_cols].isna().sum()"
   ]
  },
  {
   "cell_type": "markdown",
   "id": "f4f5bd83-0aa5-48af-afb3-2a1dee32fa22",
   "metadata": {},
   "source": [
    "# Scaling Numeric Features"
   ]
  },
  {
   "cell_type": "code",
   "execution_count": 37,
   "id": "1aa834dc-e7ad-4040-b1b4-9059aee5138e",
   "metadata": {},
   "outputs": [],
   "source": [
    "#from sklearn.preprocessing import MinMaxScaler"
   ]
  },
  {
   "cell_type": "code",
   "execution_count": 38,
   "id": "c12ff6ee-105f-40ee-8004-1ad833c48e19",
   "metadata": {},
   "outputs": [],
   "source": [
    "#scaler = MinMaxScaler().fit(merged_df[input_cols])"
   ]
  },
  {
   "cell_type": "code",
   "execution_count": 39,
   "id": "9297322e-7b6d-42ba-aabf-d225352987d7",
   "metadata": {},
   "outputs": [],
   "source": [
    "# train_inputs[input_cols] = scaler.transform(train_inputs[input_cols])\n",
    "# val_inputs[input_cols] = scaler.transform(val_inputs[input_cols])\n",
    "# test_inputs[input_cols] = scaler.transform(test_inputs[input_cols])"
   ]
  },
  {
   "cell_type": "code",
   "execution_count": 40,
   "id": "983b2770-207f-4a0a-aa77-71a1d0689907",
   "metadata": {},
   "outputs": [],
   "source": [
    "#val_inputs.describe().loc[['min', 'max']]"
   ]
  },
  {
   "cell_type": "code",
   "execution_count": 41,
   "id": "e55c94ec-fd7f-4bff-b706-a9e6dba9d8a1",
   "metadata": {},
   "outputs": [],
   "source": [
    "#test_inputs.head()"
   ]
  },
  {
   "cell_type": "markdown",
   "id": "bb85c441-0608-4847-8d67-48e6b48e9ad5",
   "metadata": {},
   "source": [
    "## X_train, X_val, X_test"
   ]
  },
  {
   "cell_type": "code",
   "execution_count": 42,
   "id": "5a5e5cf9-17d6-45a0-9995-38714f6b9883",
   "metadata": {},
   "outputs": [],
   "source": [
    "X_train = train_inputs\n",
    "X_val = val_inputs\n",
    "X_test = test_inputs"
   ]
  },
  {
   "cell_type": "code",
   "execution_count": 43,
   "id": "831fec51-a77c-41c8-a40a-3f0e0843f0b3",
   "metadata": {},
   "outputs": [
    {
     "data": {
      "text/html": [
       "<div>\n",
       "<style scoped>\n",
       "    .dataframe tbody tr th:only-of-type {\n",
       "        vertical-align: middle;\n",
       "    }\n",
       "\n",
       "    .dataframe tbody tr th {\n",
       "        vertical-align: top;\n",
       "    }\n",
       "\n",
       "    .dataframe thead th {\n",
       "        text-align: right;\n",
       "    }\n",
       "</style>\n",
       "<table border=\"1\" class=\"dataframe\">\n",
       "  <thead>\n",
       "    <tr style=\"text-align: right;\">\n",
       "      <th></th>\n",
       "      <th>BOX_ID</th>\n",
       "      <th>MILK</th>\n",
       "      <th>MEAT</th>\n",
       "      <th>UNIT_PRICE</th>\n",
       "      <th>BOX_COUNT</th>\n",
       "      <th>TOTAL_MEAT</th>\n",
       "      <th>PURCHASE_FREEQUENCY</th>\n",
       "      <th>DAY</th>\n",
       "      <th>MONTH</th>\n",
       "      <th>YEAR</th>\n",
       "      <th>...</th>\n",
       "      <th>02_LAST_PURCHASE_2019</th>\n",
       "      <th>PURCHASE_DURATION</th>\n",
       "      <th>AVG_MEAT_PURCHASE</th>\n",
       "      <th>PURCHASE_DAY_OF_WEEK</th>\n",
       "      <th>PREVIOUS_MEAT_QUANTITY</th>\n",
       "      <th>MEAT_MEAN</th>\n",
       "      <th>MEAT_MEDIAN</th>\n",
       "      <th>MAGIC_KEY_ENCODED</th>\n",
       "      <th>DELIVERY_ENCODED</th>\n",
       "      <th>QUALITY_ENCODED</th>\n",
       "    </tr>\n",
       "  </thead>\n",
       "  <tbody>\n",
       "    <tr>\n",
       "      <th>2333195</th>\n",
       "      <td>260.0</td>\n",
       "      <td>10.0</td>\n",
       "      <td>1.8</td>\n",
       "      <td>17.98</td>\n",
       "      <td>1.0</td>\n",
       "      <td>4.0</td>\n",
       "      <td>2.0</td>\n",
       "      <td>1.0</td>\n",
       "      <td>10.0</td>\n",
       "      <td>2018.0</td>\n",
       "      <td>...</td>\n",
       "      <td>0.0</td>\n",
       "      <td>25.0</td>\n",
       "      <td>2.000</td>\n",
       "      <td>0.0</td>\n",
       "      <td>2.2</td>\n",
       "      <td>2.000</td>\n",
       "      <td>2.00</td>\n",
       "      <td>236134.0</td>\n",
       "      <td>0.0</td>\n",
       "      <td>1.0</td>\n",
       "    </tr>\n",
       "    <tr>\n",
       "      <th>736244</th>\n",
       "      <td>118.0</td>\n",
       "      <td>8.0</td>\n",
       "      <td>1.3</td>\n",
       "      <td>15.98</td>\n",
       "      <td>1.0</td>\n",
       "      <td>3.8</td>\n",
       "      <td>2.0</td>\n",
       "      <td>1.0</td>\n",
       "      <td>10.0</td>\n",
       "      <td>2018.0</td>\n",
       "      <td>...</td>\n",
       "      <td>0.0</td>\n",
       "      <td>81.0</td>\n",
       "      <td>1.900</td>\n",
       "      <td>0.0</td>\n",
       "      <td>2.5</td>\n",
       "      <td>1.900</td>\n",
       "      <td>1.90</td>\n",
       "      <td>1004944.0</td>\n",
       "      <td>0.0</td>\n",
       "      <td>0.0</td>\n",
       "    </tr>\n",
       "    <tr>\n",
       "      <th>736245</th>\n",
       "      <td>118.0</td>\n",
       "      <td>8.0</td>\n",
       "      <td>1.3</td>\n",
       "      <td>15.98</td>\n",
       "      <td>1.0</td>\n",
       "      <td>3.1</td>\n",
       "      <td>2.0</td>\n",
       "      <td>1.0</td>\n",
       "      <td>10.0</td>\n",
       "      <td>2018.0</td>\n",
       "      <td>...</td>\n",
       "      <td>0.0</td>\n",
       "      <td>0.0</td>\n",
       "      <td>1.550</td>\n",
       "      <td>0.0</td>\n",
       "      <td>2.5</td>\n",
       "      <td>1.550</td>\n",
       "      <td>1.55</td>\n",
       "      <td>562284.0</td>\n",
       "      <td>0.0</td>\n",
       "      <td>0.0</td>\n",
       "    </tr>\n",
       "    <tr>\n",
       "      <th>736246</th>\n",
       "      <td>118.0</td>\n",
       "      <td>8.0</td>\n",
       "      <td>1.3</td>\n",
       "      <td>15.98</td>\n",
       "      <td>1.0</td>\n",
       "      <td>8.5</td>\n",
       "      <td>5.0</td>\n",
       "      <td>1.0</td>\n",
       "      <td>10.0</td>\n",
       "      <td>2018.0</td>\n",
       "      <td>...</td>\n",
       "      <td>0.0</td>\n",
       "      <td>0.0</td>\n",
       "      <td>1.700</td>\n",
       "      <td>0.0</td>\n",
       "      <td>2.5</td>\n",
       "      <td>1.700</td>\n",
       "      <td>1.80</td>\n",
       "      <td>636285.0</td>\n",
       "      <td>0.0</td>\n",
       "      <td>0.0</td>\n",
       "    </tr>\n",
       "    <tr>\n",
       "      <th>736247</th>\n",
       "      <td>118.0</td>\n",
       "      <td>8.0</td>\n",
       "      <td>1.3</td>\n",
       "      <td>15.98</td>\n",
       "      <td>1.0</td>\n",
       "      <td>5.7</td>\n",
       "      <td>4.0</td>\n",
       "      <td>1.0</td>\n",
       "      <td>10.0</td>\n",
       "      <td>2018.0</td>\n",
       "      <td>...</td>\n",
       "      <td>0.0</td>\n",
       "      <td>114.0</td>\n",
       "      <td>1.425</td>\n",
       "      <td>0.0</td>\n",
       "      <td>1.3</td>\n",
       "      <td>1.425</td>\n",
       "      <td>1.30</td>\n",
       "      <td>421096.0</td>\n",
       "      <td>0.0</td>\n",
       "      <td>0.0</td>\n",
       "    </tr>\n",
       "  </tbody>\n",
       "</table>\n",
       "<p>5 rows × 33 columns</p>\n",
       "</div>"
      ],
      "text/plain": [
       "         BOX_ID  MILK  MEAT  UNIT_PRICE  BOX_COUNT  TOTAL_MEAT  \\\n",
       "2333195   260.0  10.0   1.8       17.98        1.0         4.0   \n",
       "736244    118.0   8.0   1.3       15.98        1.0         3.8   \n",
       "736245    118.0   8.0   1.3       15.98        1.0         3.1   \n",
       "736246    118.0   8.0   1.3       15.98        1.0         8.5   \n",
       "736247    118.0   8.0   1.3       15.98        1.0         5.7   \n",
       "\n",
       "         PURCHASE_FREEQUENCY  DAY  MONTH    YEAR  ...  02_LAST_PURCHASE_2019  \\\n",
       "2333195                  2.0  1.0   10.0  2018.0  ...                    0.0   \n",
       "736244                   2.0  1.0   10.0  2018.0  ...                    0.0   \n",
       "736245                   2.0  1.0   10.0  2018.0  ...                    0.0   \n",
       "736246                   5.0  1.0   10.0  2018.0  ...                    0.0   \n",
       "736247                   4.0  1.0   10.0  2018.0  ...                    0.0   \n",
       "\n",
       "         PURCHASE_DURATION  AVG_MEAT_PURCHASE  PURCHASE_DAY_OF_WEEK  \\\n",
       "2333195               25.0              2.000                   0.0   \n",
       "736244                81.0              1.900                   0.0   \n",
       "736245                 0.0              1.550                   0.0   \n",
       "736246                 0.0              1.700                   0.0   \n",
       "736247               114.0              1.425                   0.0   \n",
       "\n",
       "         PREVIOUS_MEAT_QUANTITY  MEAT_MEAN  MEAT_MEDIAN  MAGIC_KEY_ENCODED  \\\n",
       "2333195                     2.2      2.000         2.00           236134.0   \n",
       "736244                      2.5      1.900         1.90          1004944.0   \n",
       "736245                      2.5      1.550         1.55           562284.0   \n",
       "736246                      2.5      1.700         1.80           636285.0   \n",
       "736247                      1.3      1.425         1.30           421096.0   \n",
       "\n",
       "         DELIVERY_ENCODED  QUALITY_ENCODED  \n",
       "2333195               0.0              1.0  \n",
       "736244                0.0              0.0  \n",
       "736245                0.0              0.0  \n",
       "736246                0.0              0.0  \n",
       "736247                0.0              0.0  \n",
       "\n",
       "[5 rows x 33 columns]"
      ]
     },
     "execution_count": 43,
     "metadata": {},
     "output_type": "execute_result"
    }
   ],
   "source": [
    "X_train.head()"
   ]
  },
  {
   "cell_type": "markdown",
   "id": "cf413532-333a-4e1b-b9fe-f4c8db6474be",
   "metadata": {},
   "source": [
    "## model training"
   ]
  },
  {
   "cell_type": "code",
   "execution_count": 44,
   "id": "54fb2537-cb1e-4ec0-b22e-0546deb56f3d",
   "metadata": {},
   "outputs": [],
   "source": [
    "#from sklearn.tree import DecisionTreeRegressor\n"
   ]
  },
  {
   "cell_type": "code",
   "execution_count": 45,
   "id": "715f26e7-847a-4091-8fb9-a9105b22652c",
   "metadata": {},
   "outputs": [],
   "source": [
    "# Assuming model is DecisionTreeRegressor\n",
    "#model = DecisionTreeRegressor(random_state=42)"
   ]
  },
  {
   "cell_type": "code",
   "execution_count": 46,
   "id": "725872bc-2bf1-4f6c-b452-f310d0400e9d",
   "metadata": {},
   "outputs": [],
   "source": [
    "# %%time\n",
    "# # Fit the model\n",
    "# model.fit(X_val, val_targets)"
   ]
  },
  {
   "cell_type": "markdown",
   "id": "62276adf-a17f-49d1-9d51-8afe7d14843a",
   "metadata": {},
   "source": [
    "### Evaluation\n",
    "\n",
    "Let's evaluate the decision tree using the accuracy score."
   ]
  },
  {
   "cell_type": "code",
   "execution_count": 47,
   "id": "2ba30b38-7c06-48bc-844f-0bbb2624c468",
   "metadata": {},
   "outputs": [],
   "source": [
    "from sklearn.metrics import mean_squared_error\n",
    "from math import sqrt\n",
    "\n",
    "# Calculate RMSE\n",
    "#rmse = sqrt(mean_squared_error(true_values, predicted_values))\n"
   ]
  },
  {
   "cell_type": "code",
   "execution_count": 48,
   "id": "30306e0a-c7d1-4060-9e08-e78f639d4862",
   "metadata": {},
   "outputs": [],
   "source": [
    "# val_preds = model.predict(X_val)\n",
    "# val_preds"
   ]
  },
  {
   "cell_type": "code",
   "execution_count": 49,
   "id": "a8258840-0483-4fa4-b69e-80c1a0a36085",
   "metadata": {},
   "outputs": [],
   "source": [
    "#train_preds"
   ]
  },
  {
   "cell_type": "code",
   "execution_count": 50,
   "id": "9d0cb15b-6f06-4a22-846d-17e52d4c8645",
   "metadata": {},
   "outputs": [],
   "source": [
    "# Calculate RMSE\n",
    "#rmse = sqrt(mean_squared_error(train_preds, train_targets )) "
   ]
  },
  {
   "cell_type": "code",
   "execution_count": 51,
   "id": "b7d6b538-e7f4-4d90-b602-88df69960972",
   "metadata": {},
   "outputs": [],
   "source": [
    "#round(rmse)"
   ]
  },
  {
   "cell_type": "markdown",
   "id": "1f2cf448-8f2f-4969-aff0-167fbaa4ada0",
   "metadata": {},
   "source": [
    "### Baseline ML model\n",
    "\n",
    "Let's train a simple `LinearRegression` model, with no customization."
   ]
  },
  {
   "cell_type": "code",
   "execution_count": 52,
   "id": "8e1bf3cd-718d-4d74-a3ba-8a7a6a52daae",
   "metadata": {},
   "outputs": [],
   "source": [
    "from sklearn.linear_model import LinearRegression"
   ]
  },
  {
   "cell_type": "code",
   "execution_count": 53,
   "id": "2b6f3972-9849-4746-8cc6-b0eaa08dce93",
   "metadata": {},
   "outputs": [],
   "source": [
    "linreg = LinearRegression()"
   ]
  },
  {
   "cell_type": "code",
   "execution_count": 54,
   "id": "dac0b597-5b6b-44ee-8144-5b8a468c886c",
   "metadata": {},
   "outputs": [
    {
     "data": {
      "text/html": [
       "<style>#sk-container-id-1 {color: black;}#sk-container-id-1 pre{padding: 0;}#sk-container-id-1 div.sk-toggleable {background-color: white;}#sk-container-id-1 label.sk-toggleable__label {cursor: pointer;display: block;width: 100%;margin-bottom: 0;padding: 0.3em;box-sizing: border-box;text-align: center;}#sk-container-id-1 label.sk-toggleable__label-arrow:before {content: \"▸\";float: left;margin-right: 0.25em;color: #696969;}#sk-container-id-1 label.sk-toggleable__label-arrow:hover:before {color: black;}#sk-container-id-1 div.sk-estimator:hover label.sk-toggleable__label-arrow:before {color: black;}#sk-container-id-1 div.sk-toggleable__content {max-height: 0;max-width: 0;overflow: hidden;text-align: left;background-color: #f0f8ff;}#sk-container-id-1 div.sk-toggleable__content pre {margin: 0.2em;color: black;border-radius: 0.25em;background-color: #f0f8ff;}#sk-container-id-1 input.sk-toggleable__control:checked~div.sk-toggleable__content {max-height: 200px;max-width: 100%;overflow: auto;}#sk-container-id-1 input.sk-toggleable__control:checked~label.sk-toggleable__label-arrow:before {content: \"▾\";}#sk-container-id-1 div.sk-estimator input.sk-toggleable__control:checked~label.sk-toggleable__label {background-color: #d4ebff;}#sk-container-id-1 div.sk-label input.sk-toggleable__control:checked~label.sk-toggleable__label {background-color: #d4ebff;}#sk-container-id-1 input.sk-hidden--visually {border: 0;clip: rect(1px 1px 1px 1px);clip: rect(1px, 1px, 1px, 1px);height: 1px;margin: -1px;overflow: hidden;padding: 0;position: absolute;width: 1px;}#sk-container-id-1 div.sk-estimator {font-family: monospace;background-color: #f0f8ff;border: 1px dotted black;border-radius: 0.25em;box-sizing: border-box;margin-bottom: 0.5em;}#sk-container-id-1 div.sk-estimator:hover {background-color: #d4ebff;}#sk-container-id-1 div.sk-parallel-item::after {content: \"\";width: 100%;border-bottom: 1px solid gray;flex-grow: 1;}#sk-container-id-1 div.sk-label:hover label.sk-toggleable__label {background-color: #d4ebff;}#sk-container-id-1 div.sk-serial::before {content: \"\";position: absolute;border-left: 1px solid gray;box-sizing: border-box;top: 0;bottom: 0;left: 50%;z-index: 0;}#sk-container-id-1 div.sk-serial {display: flex;flex-direction: column;align-items: center;background-color: white;padding-right: 0.2em;padding-left: 0.2em;position: relative;}#sk-container-id-1 div.sk-item {position: relative;z-index: 1;}#sk-container-id-1 div.sk-parallel {display: flex;align-items: stretch;justify-content: center;background-color: white;position: relative;}#sk-container-id-1 div.sk-item::before, #sk-container-id-1 div.sk-parallel-item::before {content: \"\";position: absolute;border-left: 1px solid gray;box-sizing: border-box;top: 0;bottom: 0;left: 50%;z-index: -1;}#sk-container-id-1 div.sk-parallel-item {display: flex;flex-direction: column;z-index: 1;position: relative;background-color: white;}#sk-container-id-1 div.sk-parallel-item:first-child::after {align-self: flex-end;width: 50%;}#sk-container-id-1 div.sk-parallel-item:last-child::after {align-self: flex-start;width: 50%;}#sk-container-id-1 div.sk-parallel-item:only-child::after {width: 0;}#sk-container-id-1 div.sk-dashed-wrapped {border: 1px dashed gray;margin: 0 0.4em 0.5em 0.4em;box-sizing: border-box;padding-bottom: 0.4em;background-color: white;}#sk-container-id-1 div.sk-label label {font-family: monospace;font-weight: bold;display: inline-block;line-height: 1.2em;}#sk-container-id-1 div.sk-label-container {text-align: center;}#sk-container-id-1 div.sk-container {/* jupyter's `normalize.less` sets `[hidden] { display: none; }` but bootstrap.min.css set `[hidden] { display: none !important; }` so we also need the `!important` here to be able to override the default hidden behavior on the sphinx rendered scikit-learn.org. See: https://github.com/scikit-learn/scikit-learn/issues/21755 */display: inline-block !important;position: relative;}#sk-container-id-1 div.sk-text-repr-fallback {display: none;}</style><div id=\"sk-container-id-1\" class=\"sk-top-container\"><div class=\"sk-text-repr-fallback\"><pre>LinearRegression()</pre><b>In a Jupyter environment, please rerun this cell to show the HTML representation or trust the notebook. <br />On GitHub, the HTML representation is unable to render, please try loading this page with nbviewer.org.</b></div><div class=\"sk-container\" hidden><div class=\"sk-item\"><div class=\"sk-estimator sk-toggleable\"><input class=\"sk-toggleable__control sk-hidden--visually\" id=\"sk-estimator-id-1\" type=\"checkbox\" checked><label for=\"sk-estimator-id-1\" class=\"sk-toggleable__label sk-toggleable__label-arrow\">LinearRegression</label><div class=\"sk-toggleable__content\"><pre>LinearRegression()</pre></div></div></div></div></div>"
      ],
      "text/plain": [
       "LinearRegression()"
      ]
     },
     "execution_count": 54,
     "metadata": {},
     "output_type": "execute_result"
    }
   ],
   "source": [
    "linreg.fit(X_train, train_targets)"
   ]
  },
  {
   "cell_type": "code",
   "execution_count": 55,
   "id": "8ef2e80b-c0b5-463e-b99e-cf40c45fa5e7",
   "metadata": {},
   "outputs": [
    {
     "data": {
      "text/plain": [
       "array([-1.82613779e-12,  2.50000000e+00, -2.36954127e-13, ...,\n",
       "       -2.10244683e-12,  4.20000000e+00, -3.37908888e-13])"
      ]
     },
     "execution_count": 55,
     "metadata": {},
     "output_type": "execute_result"
    }
   ],
   "source": [
    "train_preds = linreg.predict(X_train)\n",
    "train_preds"
   ]
  },
  {
   "cell_type": "code",
   "execution_count": 56,
   "id": "8e4ab38a-0370-4222-a3de-6e4d45887132",
   "metadata": {},
   "outputs": [
    {
     "data": {
      "text/plain": [
       "3.0421678106425786e-12"
      ]
     },
     "execution_count": 56,
     "metadata": {},
     "output_type": "execute_result"
    }
   ],
   "source": [
    "mean_squared_error(train_preds, train_targets, squared=False)"
   ]
  },
  {
   "cell_type": "code",
   "execution_count": 57,
   "id": "ddeeacdc-6b45-4cb4-b552-f3b2c4b3d3cf",
   "metadata": {},
   "outputs": [
    {
     "data": {
      "text/html": [
       "<style>#sk-container-id-2 {color: black;}#sk-container-id-2 pre{padding: 0;}#sk-container-id-2 div.sk-toggleable {background-color: white;}#sk-container-id-2 label.sk-toggleable__label {cursor: pointer;display: block;width: 100%;margin-bottom: 0;padding: 0.3em;box-sizing: border-box;text-align: center;}#sk-container-id-2 label.sk-toggleable__label-arrow:before {content: \"▸\";float: left;margin-right: 0.25em;color: #696969;}#sk-container-id-2 label.sk-toggleable__label-arrow:hover:before {color: black;}#sk-container-id-2 div.sk-estimator:hover label.sk-toggleable__label-arrow:before {color: black;}#sk-container-id-2 div.sk-toggleable__content {max-height: 0;max-width: 0;overflow: hidden;text-align: left;background-color: #f0f8ff;}#sk-container-id-2 div.sk-toggleable__content pre {margin: 0.2em;color: black;border-radius: 0.25em;background-color: #f0f8ff;}#sk-container-id-2 input.sk-toggleable__control:checked~div.sk-toggleable__content {max-height: 200px;max-width: 100%;overflow: auto;}#sk-container-id-2 input.sk-toggleable__control:checked~label.sk-toggleable__label-arrow:before {content: \"▾\";}#sk-container-id-2 div.sk-estimator input.sk-toggleable__control:checked~label.sk-toggleable__label {background-color: #d4ebff;}#sk-container-id-2 div.sk-label input.sk-toggleable__control:checked~label.sk-toggleable__label {background-color: #d4ebff;}#sk-container-id-2 input.sk-hidden--visually {border: 0;clip: rect(1px 1px 1px 1px);clip: rect(1px, 1px, 1px, 1px);height: 1px;margin: -1px;overflow: hidden;padding: 0;position: absolute;width: 1px;}#sk-container-id-2 div.sk-estimator {font-family: monospace;background-color: #f0f8ff;border: 1px dotted black;border-radius: 0.25em;box-sizing: border-box;margin-bottom: 0.5em;}#sk-container-id-2 div.sk-estimator:hover {background-color: #d4ebff;}#sk-container-id-2 div.sk-parallel-item::after {content: \"\";width: 100%;border-bottom: 1px solid gray;flex-grow: 1;}#sk-container-id-2 div.sk-label:hover label.sk-toggleable__label {background-color: #d4ebff;}#sk-container-id-2 div.sk-serial::before {content: \"\";position: absolute;border-left: 1px solid gray;box-sizing: border-box;top: 0;bottom: 0;left: 50%;z-index: 0;}#sk-container-id-2 div.sk-serial {display: flex;flex-direction: column;align-items: center;background-color: white;padding-right: 0.2em;padding-left: 0.2em;position: relative;}#sk-container-id-2 div.sk-item {position: relative;z-index: 1;}#sk-container-id-2 div.sk-parallel {display: flex;align-items: stretch;justify-content: center;background-color: white;position: relative;}#sk-container-id-2 div.sk-item::before, #sk-container-id-2 div.sk-parallel-item::before {content: \"\";position: absolute;border-left: 1px solid gray;box-sizing: border-box;top: 0;bottom: 0;left: 50%;z-index: -1;}#sk-container-id-2 div.sk-parallel-item {display: flex;flex-direction: column;z-index: 1;position: relative;background-color: white;}#sk-container-id-2 div.sk-parallel-item:first-child::after {align-self: flex-end;width: 50%;}#sk-container-id-2 div.sk-parallel-item:last-child::after {align-self: flex-start;width: 50%;}#sk-container-id-2 div.sk-parallel-item:only-child::after {width: 0;}#sk-container-id-2 div.sk-dashed-wrapped {border: 1px dashed gray;margin: 0 0.4em 0.5em 0.4em;box-sizing: border-box;padding-bottom: 0.4em;background-color: white;}#sk-container-id-2 div.sk-label label {font-family: monospace;font-weight: bold;display: inline-block;line-height: 1.2em;}#sk-container-id-2 div.sk-label-container {text-align: center;}#sk-container-id-2 div.sk-container {/* jupyter's `normalize.less` sets `[hidden] { display: none; }` but bootstrap.min.css set `[hidden] { display: none !important; }` so we also need the `!important` here to be able to override the default hidden behavior on the sphinx rendered scikit-learn.org. See: https://github.com/scikit-learn/scikit-learn/issues/21755 */display: inline-block !important;position: relative;}#sk-container-id-2 div.sk-text-repr-fallback {display: none;}</style><div id=\"sk-container-id-2\" class=\"sk-top-container\"><div class=\"sk-text-repr-fallback\"><pre>LinearRegression()</pre><b>In a Jupyter environment, please rerun this cell to show the HTML representation or trust the notebook. <br />On GitHub, the HTML representation is unable to render, please try loading this page with nbviewer.org.</b></div><div class=\"sk-container\" hidden><div class=\"sk-item\"><div class=\"sk-estimator sk-toggleable\"><input class=\"sk-toggleable__control sk-hidden--visually\" id=\"sk-estimator-id-2\" type=\"checkbox\" checked><label for=\"sk-estimator-id-2\" class=\"sk-toggleable__label sk-toggleable__label-arrow\">LinearRegression</label><div class=\"sk-toggleable__content\"><pre>LinearRegression()</pre></div></div></div></div></div>"
      ],
      "text/plain": [
       "LinearRegression()"
      ]
     },
     "execution_count": 57,
     "metadata": {},
     "output_type": "execute_result"
    }
   ],
   "source": [
    "linreg.fit(X_val, val_targets)"
   ]
  },
  {
   "cell_type": "code",
   "execution_count": 58,
   "id": "b4674115-bfd8-4709-89cb-87a9f26624be",
   "metadata": {},
   "outputs": [
    {
     "data": {
      "text/plain": [
       "array([-5.51591199e-13,  1.80000000e+00,  1.80000000e+00, ...,\n",
       "        2.52548261e-13,  8.07389648e-13,  1.47518194e-13])"
      ]
     },
     "execution_count": 58,
     "metadata": {},
     "output_type": "execute_result"
    }
   ],
   "source": [
    "val_preds = linreg.predict(X_val)\n",
    "val_preds"
   ]
  },
  {
   "cell_type": "code",
   "execution_count": 59,
   "id": "551d2b31-9a3b-4a30-803b-c178e870b83e",
   "metadata": {},
   "outputs": [
    {
     "data": {
      "text/plain": [
       "5.017904499423005e-13"
      ]
     },
     "execution_count": 59,
     "metadata": {},
     "output_type": "execute_result"
    }
   ],
   "source": [
    "mean_squared_error(val_preds, val_targets, squared=False)"
   ]
  },
  {
   "cell_type": "code",
   "execution_count": null,
   "id": "c35919fb-4b79-4441-bb2d-518d99c12dc3",
   "metadata": {},
   "outputs": [],
   "source": []
  },
  {
   "cell_type": "code",
   "execution_count": null,
   "id": "a15d7f8a-6399-4cac-8b7d-b9a00317ea09",
   "metadata": {},
   "outputs": [],
   "source": []
  },
  {
   "cell_type": "markdown",
   "id": "7bc5e6d0-9759-498c-a149-dfa3661a8deb",
   "metadata": {},
   "source": [
    "## Step 6 - Pick a strategy, train a model & tune hyperparameters\n",
    "\n",
    "<img src=\"https://i.imgur.com/aRuE5mw.png\" width=\"640\">\n"
   ]
  },
  {
   "cell_type": "markdown",
   "id": "a66549d9-0c8d-455f-b134-3df3ed2722e1",
   "metadata": {},
   "source": [
    "### Systematically Exploring Modeling Strategies\n",
    "\n",
    "Scikit-learn offers the following cheatsheet to decide which model to pick.\n",
    "\n",
    "![](https://scikit-learn.org/stable/_static/ml_map.png)\n",
    "\n",
    "\n",
    "Here's the general strategy to follow:\n",
    "\n",
    "- Find out which models are applicable to the problem you're solving.\n",
    "- Train a basic version for each type of model that's applicable\n",
    "- Identify the modeling approaches that work well and tune their hypeparameters\n",
    "- [Use a spreadsheet](https://docs.google.com/spreadsheets/d/1S42lnklqdj4hS3BohffyvZVJOFBZJ61VDiHLMuf2zBw/edit?usp=sharing) to keep track of your experiments and results."
   ]
  },
  {
   "cell_type": "markdown",
   "id": "1c221a70-a614-45b3-94c1-587ce25a209f",
   "metadata": {},
   "source": [
    "Let's define a function `try_model`, which takes a model, then performs training and evaluation."
   ]
  },
  {
   "cell_type": "code",
   "execution_count": 60,
   "id": "c466e67f-7cb8-43cb-8540-c6d81dd163da",
   "metadata": {},
   "outputs": [],
   "source": [
    "def try_model(model):\n",
    "    # Fit the model\n",
    "    model.fit(X_train, train_targets)\n",
    "    \n",
    "    # Generate predictions\n",
    "    train_preds = model.predict(X_train)\n",
    "    val_preds = model.predict(X_val)\n",
    "    #test_preds = model.predict(X_test)\n",
    "    \n",
    "    # Compute RMSE\n",
    "    train_rmse = sqrt(mean_squared_error(train_targets, train_preds, squared=False))\n",
    "    val_rmse = sqrt(mean_squared_error(val_targets, val_preds, squared=False))\n",
    "    #test_rmse = sqrt(mean_squared_error(test_targets, test_preds, squared=False))\n",
    "    return train_rmse, val_rmse #, test_rmse"
   ]
  },
  {
   "cell_type": "markdown",
   "id": "6b8f7269-3e37-4794-98b6-93b5ec703a21",
   "metadata": {},
   "source": [
    "### Linear Models\n",
    "\n",
    "Read about linear models here: https://scikit-learn.org/stable/modules/linear_model.html"
   ]
  },
  {
   "cell_type": "code",
   "execution_count": 61,
   "id": "e329e7f6-2d06-4581-a955-81446d35e08e",
   "metadata": {},
   "outputs": [],
   "source": [
    "from sklearn.linear_model import LinearRegression, Ridge, Lasso, ElasticNet, SGDRegressor"
   ]
  },
  {
   "cell_type": "code",
   "execution_count": 62,
   "id": "20b8a730-c975-4096-84d8-67cf7f2049f0",
   "metadata": {},
   "outputs": [
    {
     "data": {
      "text/plain": [
       "(1.7441811289664209e-06, 1.7144658572770988e-06)"
      ]
     },
     "execution_count": 62,
     "metadata": {},
     "output_type": "execute_result"
    }
   ],
   "source": [
    "try_model(LinearRegression())"
   ]
  },
  {
   "cell_type": "code",
   "execution_count": 63,
   "id": "533ffe95-3996-48c3-b5c5-b315efe45464",
   "metadata": {},
   "outputs": [
    {
     "name": "stderr",
     "output_type": "stream",
     "text": [
      "C:\\Users\\USER\\AppData\\Local\\Programs\\Python\\Python311\\Lib\\site-packages\\sklearn\\linear_model\\_ridge.py:200: LinAlgWarning: Ill-conditioned matrix (rcond=4.07094e-18): result may not be accurate.\n",
      "  return linalg.solve(A, Xy, assume_a=\"pos\", overwrite_a=True).T\n"
     ]
    },
    {
     "data": {
      "text/plain": [
       "(0.0016549885541950644, 0.0018440203178470144)"
      ]
     },
     "execution_count": 63,
     "metadata": {},
     "output_type": "execute_result"
    }
   ],
   "source": [
    "try_model(Ridge())"
   ]
  },
  {
   "cell_type": "code",
   "execution_count": 64,
   "id": "8c1fda90-2596-4c45-99f7-51edc6edb721",
   "metadata": {},
   "outputs": [
    {
     "data": {
      "text/plain": [
       "(1.0499326743226387, 0.9851628658903655)"
      ]
     },
     "execution_count": 64,
     "metadata": {},
     "output_type": "execute_result"
    }
   ],
   "source": [
    "try_model(Lasso())"
   ]
  },
  {
   "cell_type": "code",
   "execution_count": 65,
   "id": "0e689f43-c863-4d39-9146-321fb77a2c39",
   "metadata": {},
   "outputs": [
    {
     "data": {
      "text/plain": [
       "(1.0315741461318344, 0.9583879093595981)"
      ]
     },
     "execution_count": 65,
     "metadata": {},
     "output_type": "execute_result"
    }
   ],
   "source": [
    "try_model(ElasticNet())"
   ]
  },
  {
   "cell_type": "code",
   "execution_count": 66,
   "id": "d0398315-f40d-4d44-b1de-e37d57e36355",
   "metadata": {},
   "outputs": [
    {
     "name": "stderr",
     "output_type": "stream",
     "text": [
      "C:\\Users\\USER\\AppData\\Local\\Programs\\Python\\Python311\\Lib\\site-packages\\sklearn\\linear_model\\_stochastic_gradient.py:1561: ConvergenceWarning: Maximum number of iteration reached before convergence. Consider increasing max_iter to improve the fit.\n",
      "  warnings.warn(\n"
     ]
    },
    {
     "data": {
      "text/plain": [
       "(2073046491.1189682, 2111886758.6066625)"
      ]
     },
     "execution_count": 66,
     "metadata": {},
     "output_type": "execute_result"
    }
   ],
   "source": [
    "try_model(SGDRegressor())"
   ]
  },
  {
   "cell_type": "markdown",
   "id": "d1706939-7e2e-4103-8417-adea3ee9a9bd",
   "metadata": {},
   "source": [
    "### Tree Based Models\n",
    "\n",
    "* Decision trees: https://scikit-learn.org/stable/modules/tree.html\n",
    "* Random forests and gradient boosting: https://scikit-learn.org/stable/modules/ensemble.html"
   ]
  },
  {
   "cell_type": "code",
   "execution_count": 67,
   "id": "eab252a4-8d15-4735-94f7-a41c5f04bdf8",
   "metadata": {},
   "outputs": [],
   "source": [
    "from sklearn.tree import DecisionTreeRegressor, plot_tree"
   ]
  },
  {
   "cell_type": "code",
   "execution_count": 68,
   "id": "0127412d-2e1d-4c02-9719-c9664d6a2ade",
   "metadata": {},
   "outputs": [
    {
     "data": {
      "text/plain": [
       "(3.3088516627623164e-07, 0.715812266095497)"
      ]
     },
     "execution_count": 68,
     "metadata": {},
     "output_type": "execute_result"
    }
   ],
   "source": [
    "tree = DecisionTreeRegressor(random_state=42)\n",
    "try_model(tree)"
   ]
  },
  {
   "cell_type": "code",
   "execution_count": 69,
   "id": "db094668-1553-479c-bbe5-fd48644bf2ff",
   "metadata": {},
   "outputs": [],
   "source": [
    "# plt.figure(figsize=(40, 20))\n",
    "# plot_tree(tree, max_depth=10, filled=True, feature_names=input_cols);"
   ]
  },
  {
   "cell_type": "code",
   "execution_count": null,
   "id": "35a74331-2dd1-4bb7-bd0f-55e28871f7dd",
   "metadata": {},
   "outputs": [],
   "source": []
  },
  {
   "cell_type": "code",
   "execution_count": 70,
   "id": "27fcad9d-7330-4319-a86a-8b368f177684",
   "metadata": {},
   "outputs": [],
   "source": [
    "from sklearn.ensemble import RandomForestRegressor"
   ]
  },
  {
   "cell_type": "code",
   "execution_count": 71,
   "id": "fa760a32-2ad1-4691-b228-382686bb673b",
   "metadata": {},
   "outputs": [
    {
     "name": "stdout",
     "output_type": "stream",
     "text": [
      "CPU times: total: 4h 1min 3s\n",
      "Wall time: 23min 6s\n"
     ]
    },
    {
     "data": {
      "text/plain": [
       "(0.1828920953315025, 0.707713176792743)"
      ]
     },
     "execution_count": 71,
     "metadata": {},
     "output_type": "execute_result"
    }
   ],
   "source": [
    " %%time\n",
    "rf = RandomForestRegressor(random_state=42, n_jobs=-1, n_estimators= 500,    max_features=45) # removed this : max_leaf_nodes = 2**20,\n",
    " try_model(rf)"
   ]
  },
  {
   "cell_type": "code",
   "execution_count": 72,
   "id": "3e348a57-b42b-4038-b69e-d378d39459ba",
   "metadata": {},
   "outputs": [
    {
     "data": {
      "text/plain": [
       "array([9.09873307e-04, 2.92395172e-03, 9.47325279e-02, 3.06598602e-04,\n",
       "       5.36123617e-06, 4.56056972e-01, 1.57908682e-02, 2.39612561e-03,\n",
       "       1.53015179e-01, 4.76729731e-06, 7.79005984e-02, 5.58988184e-02,\n",
       "       5.36678348e-02, 6.64710092e-02, 0.00000000e+00, 0.00000000e+00,\n",
       "       0.00000000e+00, 0.00000000e+00, 0.00000000e+00, 0.00000000e+00,\n",
       "       0.00000000e+00, 0.00000000e+00, 0.00000000e+00, 0.00000000e+00,\n",
       "       2.25264935e-03, 4.70780424e-03, 2.02564311e-04, 7.49200568e-04,\n",
       "       4.69881260e-03, 4.55223019e-03, 2.50769553e-03, 1.12414704e-04,\n",
       "       1.36142873e-04])"
      ]
     },
     "execution_count": 72,
     "metadata": {},
     "output_type": "execute_result"
    }
   ],
   "source": [
    "rf.feature_importances_"
   ]
  },
  {
   "cell_type": "code",
   "execution_count": 73,
   "id": "02897370-1803-4210-95f3-f803012bb429",
   "metadata": {},
   "outputs": [
    {
     "data": {
      "text/html": [
       "<div>\n",
       "<style scoped>\n",
       "    .dataframe tbody tr th:only-of-type {\n",
       "        vertical-align: middle;\n",
       "    }\n",
       "\n",
       "    .dataframe tbody tr th {\n",
       "        vertical-align: top;\n",
       "    }\n",
       "\n",
       "    .dataframe thead th {\n",
       "        text-align: right;\n",
       "    }\n",
       "</style>\n",
       "<table border=\"1\" class=\"dataframe\">\n",
       "  <thead>\n",
       "    <tr style=\"text-align: right;\">\n",
       "      <th></th>\n",
       "      <th>feature</th>\n",
       "      <th>importance</th>\n",
       "    </tr>\n",
       "  </thead>\n",
       "  <tbody>\n",
       "    <tr>\n",
       "      <th>5</th>\n",
       "      <td>TOTAL_MEAT</td>\n",
       "      <td>0.456057</td>\n",
       "    </tr>\n",
       "    <tr>\n",
       "      <th>8</th>\n",
       "      <td>MONTH</td>\n",
       "      <td>0.153015</td>\n",
       "    </tr>\n",
       "    <tr>\n",
       "      <th>2</th>\n",
       "      <td>MEAT</td>\n",
       "      <td>0.094733</td>\n",
       "    </tr>\n",
       "    <tr>\n",
       "      <th>10</th>\n",
       "      <td>OCT_MEAT</td>\n",
       "      <td>0.077901</td>\n",
       "    </tr>\n",
       "    <tr>\n",
       "      <th>13</th>\n",
       "      <td>JAN_MEAT</td>\n",
       "      <td>0.066471</td>\n",
       "    </tr>\n",
       "    <tr>\n",
       "      <th>11</th>\n",
       "      <td>NOV_MEAT</td>\n",
       "      <td>0.055899</td>\n",
       "    </tr>\n",
       "    <tr>\n",
       "      <th>12</th>\n",
       "      <td>DEC_MEAT</td>\n",
       "      <td>0.053668</td>\n",
       "    </tr>\n",
       "    <tr>\n",
       "      <th>6</th>\n",
       "      <td>PURCHASE_FREEQUENCY</td>\n",
       "      <td>0.015791</td>\n",
       "    </tr>\n",
       "    <tr>\n",
       "      <th>25</th>\n",
       "      <td>AVG_MEAT_PURCHASE</td>\n",
       "      <td>0.004708</td>\n",
       "    </tr>\n",
       "    <tr>\n",
       "      <th>28</th>\n",
       "      <td>MEAT_MEAN</td>\n",
       "      <td>0.004699</td>\n",
       "    </tr>\n",
       "  </tbody>\n",
       "</table>\n",
       "</div>"
      ],
      "text/plain": [
       "                feature  importance\n",
       "5            TOTAL_MEAT    0.456057\n",
       "8                 MONTH    0.153015\n",
       "2                  MEAT    0.094733\n",
       "10             OCT_MEAT    0.077901\n",
       "13             JAN_MEAT    0.066471\n",
       "11             NOV_MEAT    0.055899\n",
       "12             DEC_MEAT    0.053668\n",
       "6   PURCHASE_FREEQUENCY    0.015791\n",
       "25    AVG_MEAT_PURCHASE    0.004708\n",
       "28            MEAT_MEAN    0.004699"
      ]
     },
     "execution_count": 73,
     "metadata": {},
     "output_type": "execute_result"
    }
   ],
   "source": [
    "importance_df = pd.DataFrame({ \n",
    "    'feature': input_cols, \n",
    "    'importance': rf.feature_importances_\n",
    "}).sort_values('importance', ascending=False)\n",
    "importance_df.head(10)"
   ]
  },
  {
   "cell_type": "markdown",
   "id": "ae9dff20-6053-492f-b8d0-4502d1e0ca66",
   "metadata": {},
   "source": [
    "### Making a submission on Kaggle\n",
    "\n",
    "If you're participating in a Kaggle competition, you can generate a submission CSV file and make a submission to check your score on the test set."
   ]
  },
  {
   "cell_type": "code",
   "execution_count": 74,
   "id": "2aee9fb3-a0b3-4842-842d-6ef06a5a9cc8",
   "metadata": {},
   "outputs": [
    {
     "data": {
      "text/plain": [
       "array([1.4052, 2.2   , 2.2   , ..., 0.    , 0.    , 0.    ])"
      ]
     },
     "execution_count": 74,
     "metadata": {},
     "output_type": "execute_result"
    }
   ],
   "source": [
    "test_preds = rf.predict(X_test)\n",
    "test_preds"
   ]
  },
  {
   "cell_type": "code",
   "execution_count": 75,
   "id": "e8c15438-b834-4960-bdd2-b153969b6323",
   "metadata": {},
   "outputs": [],
   "source": [
    "test_df['MEAT_PURCHASE'] = test_preds"
   ]
  },
  {
   "cell_type": "code",
   "execution_count": 76,
   "id": "bc26caa7-23cc-4d6b-9b42-2883d286253a",
   "metadata": {},
   "outputs": [
    {
     "data": {
      "text/plain": [
       "(0.0, 20.950399999999835)"
      ]
     },
     "execution_count": 76,
     "metadata": {},
     "output_type": "execute_result"
    }
   ],
   "source": [
    "test_df.MEAT_PURCHASE.min(), test_df.MEAT_PURCHASE.max()"
   ]
  },
  {
   "cell_type": "code",
   "execution_count": 81,
   "id": "51e1fa59-f2bd-46f4-8ad2-5a7a0b3b2835",
   "metadata": {},
   "outputs": [
    {
     "name": "stdout",
     "output_type": "stream",
     "text": [
      "<class 'pandas.core.frame.DataFrame'>\n",
      "Index: 5379 entries, 0 to 15326\n",
      "Data columns (total 36 columns):\n",
      " #   Column                  Non-Null Count  Dtype  \n",
      "---  ------                  --------------  -----  \n",
      " 0   BOX_ID                  5379 non-null   int64  \n",
      " 1   DELIVERY_OPTION         5379 non-null   object \n",
      " 2   MILK                    5379 non-null   float64\n",
      " 3   MEAT                    5379 non-null   float64\n",
      " 4   UNIT_PRICE              5379 non-null   float64\n",
      " 5   BOX_COUNT               5379 non-null   float64\n",
      " 6   TOTAL_MEAT              5379 non-null   float64\n",
      " 7   PURCHASE_FREEQUENCY     5379 non-null   int64  \n",
      " 8   DAY                     5379 non-null   int64  \n",
      " 9   MONTH                   5379 non-null   int64  \n",
      " 10  YEAR                    5379 non-null   int64  \n",
      " 11  OCT_MEAT                5379 non-null   float64\n",
      " 12  NOV_MEAT                5379 non-null   float64\n",
      " 13  DEC_MEAT                5379 non-null   float64\n",
      " 14  JAN_MEAT                5379 non-null   float64\n",
      " 15  FEB_MEAT                5379 non-null   float64\n",
      " 16  10_FIRST_PURCHASE_2018  5379 non-null   float64\n",
      " 17  10_LAST_PURCHASE_2018   5379 non-null   float64\n",
      " 18  11_FIRST_PURCHASE_2018  5379 non-null   float64\n",
      " 19  11_LAST_PURCHASE_2018   5379 non-null   float64\n",
      " 20  12_FIRST_PURCHASE_2018  5379 non-null   float64\n",
      " 21  12_LAST_PURCHASE_2018   5379 non-null   float64\n",
      " 22  01_FIRST_PURCHASE_2019  5379 non-null   float64\n",
      " 23  01_LAST_PURCHASE_2019   5379 non-null   float64\n",
      " 24  02_FIRST_PURCHASE_2019  5379 non-null   float64\n",
      " 25  02_LAST_PURCHASE_2019   5379 non-null   float64\n",
      " 26  PURCHASE_DURATION       5379 non-null   float64\n",
      " 27  AVG_MEAT_PURCHASE       5379 non-null   float64\n",
      " 28  PURCHASE_DAY_OF_WEEK    5379 non-null   int64  \n",
      " 29  PREVIOUS_MEAT_QUANTITY  5376 non-null   float64\n",
      " 30  MEAT_MEAN               5379 non-null   float64\n",
      " 31  MEAT_MEDIAN             5379 non-null   float64\n",
      " 32  MAGIC_KEY_ENCODED       5379 non-null   int32  \n",
      " 33  DELIVERY_ENCODED        5379 non-null   int32  \n",
      " 34  QUALITY_ENCODED         5379 non-null   int32  \n",
      " 35  MEAT_PURCHASE           5379 non-null   float64\n",
      "dtypes: float64(26), int32(3), int64(6), object(1)\n",
      "memory usage: 1.5+ MB\n"
     ]
    }
   ],
   "source": [
    "test_df.info()"
   ]
  },
  {
   "cell_type": "code",
   "execution_count": 85,
   "id": "cfe28aca-ec45-44c0-a175-6b7cc05cc70f",
   "metadata": {},
   "outputs": [
    {
     "data": {
      "text/html": [
       "<div>\n",
       "<style scoped>\n",
       "    .dataframe tbody tr th:only-of-type {\n",
       "        vertical-align: middle;\n",
       "    }\n",
       "\n",
       "    .dataframe tbody tr th {\n",
       "        vertical-align: top;\n",
       "    }\n",
       "\n",
       "    .dataframe thead th {\n",
       "        text-align: right;\n",
       "    }\n",
       "</style>\n",
       "<table border=\"1\" class=\"dataframe\">\n",
       "  <thead>\n",
       "    <tr style=\"text-align: right;\">\n",
       "      <th></th>\n",
       "      <th>BOX_ID</th>\n",
       "      <th>DELIVERY_OPTION</th>\n",
       "      <th>MILK</th>\n",
       "      <th>MEAT</th>\n",
       "      <th>UNIT_PRICE</th>\n",
       "      <th>BOX_COUNT</th>\n",
       "      <th>TOTAL_MEAT</th>\n",
       "      <th>PURCHASE_FREEQUENCY</th>\n",
       "      <th>DAY</th>\n",
       "      <th>MONTH</th>\n",
       "      <th>...</th>\n",
       "      <th>PURCHASE_DURATION</th>\n",
       "      <th>AVG_MEAT_PURCHASE</th>\n",
       "      <th>PURCHASE_DAY_OF_WEEK</th>\n",
       "      <th>PREVIOUS_MEAT_QUANTITY</th>\n",
       "      <th>MEAT_MEAN</th>\n",
       "      <th>MEAT_MEDIAN</th>\n",
       "      <th>MAGIC_KEY_ENCODED</th>\n",
       "      <th>DELIVERY_ENCODED</th>\n",
       "      <th>QUALITY_ENCODED</th>\n",
       "      <th>MEAT_PURCHASE</th>\n",
       "    </tr>\n",
       "  </thead>\n",
       "  <tbody>\n",
       "    <tr>\n",
       "      <th>0</th>\n",
       "      <td>56</td>\n",
       "      <td>Delivery from Collection Point</td>\n",
       "      <td>10.0</td>\n",
       "      <td>3.6</td>\n",
       "      <td>15.00</td>\n",
       "      <td>1.0</td>\n",
       "      <td>18.0</td>\n",
       "      <td>5</td>\n",
       "      <td>23</td>\n",
       "      <td>2</td>\n",
       "      <td>...</td>\n",
       "      <td>0.0</td>\n",
       "      <td>3.60</td>\n",
       "      <td>5</td>\n",
       "      <td>2.2</td>\n",
       "      <td>3.60</td>\n",
       "      <td>3.6</td>\n",
       "      <td>1334</td>\n",
       "      <td>0</td>\n",
       "      <td>0</td>\n",
       "      <td>1.4052</td>\n",
       "    </tr>\n",
       "    <tr>\n",
       "      <th>5</th>\n",
       "      <td>132</td>\n",
       "      <td>Delivery from Collection Point</td>\n",
       "      <td>9.0</td>\n",
       "      <td>1.8</td>\n",
       "      <td>19.98</td>\n",
       "      <td>1.0</td>\n",
       "      <td>4.0</td>\n",
       "      <td>2</td>\n",
       "      <td>1</td>\n",
       "      <td>10</td>\n",
       "      <td>...</td>\n",
       "      <td>0.0</td>\n",
       "      <td>2.00</td>\n",
       "      <td>0</td>\n",
       "      <td>1.6</td>\n",
       "      <td>2.00</td>\n",
       "      <td>2.0</td>\n",
       "      <td>4064</td>\n",
       "      <td>0</td>\n",
       "      <td>0</td>\n",
       "      <td>2.2000</td>\n",
       "    </tr>\n",
       "    <tr>\n",
       "      <th>7</th>\n",
       "      <td>162</td>\n",
       "      <td>Delivery from Collection Point</td>\n",
       "      <td>10.0</td>\n",
       "      <td>2.2</td>\n",
       "      <td>23.98</td>\n",
       "      <td>1.0</td>\n",
       "      <td>6.6</td>\n",
       "      <td>3</td>\n",
       "      <td>28</td>\n",
       "      <td>2</td>\n",
       "      <td>...</td>\n",
       "      <td>0.0</td>\n",
       "      <td>2.20</td>\n",
       "      <td>3</td>\n",
       "      <td>1.6</td>\n",
       "      <td>2.20</td>\n",
       "      <td>2.2</td>\n",
       "      <td>4428</td>\n",
       "      <td>0</td>\n",
       "      <td>0</td>\n",
       "      <td>2.2000</td>\n",
       "    </tr>\n",
       "    <tr>\n",
       "      <th>10</th>\n",
       "      <td>56</td>\n",
       "      <td>Delivery from Collection Point</td>\n",
       "      <td>10.0</td>\n",
       "      <td>3.6</td>\n",
       "      <td>15.00</td>\n",
       "      <td>1.0</td>\n",
       "      <td>31.8</td>\n",
       "      <td>10</td>\n",
       "      <td>23</td>\n",
       "      <td>2</td>\n",
       "      <td>...</td>\n",
       "      <td>0.0</td>\n",
       "      <td>3.18</td>\n",
       "      <td>5</td>\n",
       "      <td>2.2</td>\n",
       "      <td>3.18</td>\n",
       "      <td>3.6</td>\n",
       "      <td>4453</td>\n",
       "      <td>0</td>\n",
       "      <td>0</td>\n",
       "      <td>1.3252</td>\n",
       "    </tr>\n",
       "    <tr>\n",
       "      <th>20</th>\n",
       "      <td>162</td>\n",
       "      <td>Delivery from Collection Point</td>\n",
       "      <td>10.0</td>\n",
       "      <td>2.2</td>\n",
       "      <td>23.98</td>\n",
       "      <td>1.0</td>\n",
       "      <td>6.6</td>\n",
       "      <td>3</td>\n",
       "      <td>4</td>\n",
       "      <td>2</td>\n",
       "      <td>...</td>\n",
       "      <td>0.0</td>\n",
       "      <td>2.20</td>\n",
       "      <td>0</td>\n",
       "      <td>3.6</td>\n",
       "      <td>2.20</td>\n",
       "      <td>2.2</td>\n",
       "      <td>4398</td>\n",
       "      <td>0</td>\n",
       "      <td>0</td>\n",
       "      <td>2.2000</td>\n",
       "    </tr>\n",
       "  </tbody>\n",
       "</table>\n",
       "<p>5 rows × 36 columns</p>\n",
       "</div>"
      ],
      "text/plain": [
       "    BOX_ID                 DELIVERY_OPTION  MILK  MEAT  UNIT_PRICE  BOX_COUNT  \\\n",
       "0       56  Delivery from Collection Point  10.0   3.6       15.00        1.0   \n",
       "5      132  Delivery from Collection Point   9.0   1.8       19.98        1.0   \n",
       "7      162  Delivery from Collection Point  10.0   2.2       23.98        1.0   \n",
       "10      56  Delivery from Collection Point  10.0   3.6       15.00        1.0   \n",
       "20     162  Delivery from Collection Point  10.0   2.2       23.98        1.0   \n",
       "\n",
       "    TOTAL_MEAT  PURCHASE_FREEQUENCY  DAY  MONTH  ...  PURCHASE_DURATION  \\\n",
       "0         18.0                    5   23      2  ...                0.0   \n",
       "5          4.0                    2    1     10  ...                0.0   \n",
       "7          6.6                    3   28      2  ...                0.0   \n",
       "10        31.8                   10   23      2  ...                0.0   \n",
       "20         6.6                    3    4      2  ...                0.0   \n",
       "\n",
       "    AVG_MEAT_PURCHASE  PURCHASE_DAY_OF_WEEK  PREVIOUS_MEAT_QUANTITY  \\\n",
       "0                3.60                     5                     2.2   \n",
       "5                2.00                     0                     1.6   \n",
       "7                2.20                     3                     1.6   \n",
       "10               3.18                     5                     2.2   \n",
       "20               2.20                     0                     3.6   \n",
       "\n",
       "    MEAT_MEAN  MEAT_MEDIAN  MAGIC_KEY_ENCODED  DELIVERY_ENCODED  \\\n",
       "0        3.60          3.6               1334                 0   \n",
       "5        2.00          2.0               4064                 0   \n",
       "7        2.20          2.2               4428                 0   \n",
       "10       3.18          3.6               4453                 0   \n",
       "20       2.20          2.2               4398                 0   \n",
       "\n",
       "    QUALITY_ENCODED  MEAT_PURCHASE  \n",
       "0                 0         1.4052  \n",
       "5                 0         2.2000  \n",
       "7                 0         2.2000  \n",
       "10                0         1.3252  \n",
       "20                0         2.2000  \n",
       "\n",
       "[5 rows x 36 columns]"
      ]
     },
     "execution_count": 85,
     "metadata": {},
     "output_type": "execute_result"
    }
   ],
   "source": [
    "test_df.head()"
   ]
  },
  {
   "cell_type": "code",
   "execution_count": 93,
   "id": "5e51bc43-ef14-4c96-a484-a6829896d885",
   "metadata": {},
   "outputs": [],
   "source": [
    "sub_df = pd.merge( prb_df_encode, test_df, on='MAGIC_KEY_ENCODED')\n"
   ]
  },
  {
   "cell_type": "code",
   "execution_count": 95,
   "id": "00827c84-0d50-4e88-8989-92aecf4f9875",
   "metadata": {},
   "outputs": [
    {
     "data": {
      "text/html": [
       "<div>\n",
       "<style scoped>\n",
       "    .dataframe tbody tr th:only-of-type {\n",
       "        vertical-align: middle;\n",
       "    }\n",
       "\n",
       "    .dataframe tbody tr th {\n",
       "        vertical-align: top;\n",
       "    }\n",
       "\n",
       "    .dataframe thead th {\n",
       "        text-align: right;\n",
       "    }\n",
       "</style>\n",
       "<table border=\"1\" class=\"dataframe\">\n",
       "  <thead>\n",
       "    <tr style=\"text-align: right;\">\n",
       "      <th></th>\n",
       "      <th>MAGIC_KEY</th>\n",
       "      <th>BOX_ID_x</th>\n",
       "      <th>QUALITY</th>\n",
       "      <th>DELIVERY_OPTION_x</th>\n",
       "      <th>MILK_x</th>\n",
       "      <th>MEAT_x</th>\n",
       "      <th>UNIT_PRICE_x</th>\n",
       "      <th>PURCHASE_DATE</th>\n",
       "      <th>BOX_COUNT_x</th>\n",
       "      <th>TOTAL_MEAT_x</th>\n",
       "      <th>...</th>\n",
       "      <th>02_LAST_PURCHASE_2019_y</th>\n",
       "      <th>PURCHASE_DURATION_y</th>\n",
       "      <th>AVG_MEAT_PURCHASE_y</th>\n",
       "      <th>PURCHASE_DAY_OF_WEEK_y</th>\n",
       "      <th>PREVIOUS_MEAT_QUANTITY_y</th>\n",
       "      <th>MEAT_MEAN_y</th>\n",
       "      <th>MEAT_MEDIAN_y</th>\n",
       "      <th>DELIVERY_ENCODED_y</th>\n",
       "      <th>QUALITY_ENCODED_y</th>\n",
       "      <th>MEAT_PURCHASE</th>\n",
       "    </tr>\n",
       "  </thead>\n",
       "  <tbody>\n",
       "    <tr>\n",
       "      <th>0</th>\n",
       "      <td>2BCFE9C06A7</td>\n",
       "      <td>56</td>\n",
       "      <td>Premium</td>\n",
       "      <td>Delivery from Collection Point</td>\n",
       "      <td>10.0</td>\n",
       "      <td>3.6</td>\n",
       "      <td>15.00</td>\n",
       "      <td>2019-02-23</td>\n",
       "      <td>1.0</td>\n",
       "      <td>18.0</td>\n",
       "      <td>...</td>\n",
       "      <td>0.0</td>\n",
       "      <td>0.0</td>\n",
       "      <td>3.60</td>\n",
       "      <td>5</td>\n",
       "      <td>2.2</td>\n",
       "      <td>3.60</td>\n",
       "      <td>3.6</td>\n",
       "      <td>0</td>\n",
       "      <td>0</td>\n",
       "      <td>1.4052</td>\n",
       "    </tr>\n",
       "    <tr>\n",
       "      <th>1</th>\n",
       "      <td>2C2A872B5A2</td>\n",
       "      <td>132</td>\n",
       "      <td>Premium</td>\n",
       "      <td>Delivery from Collection Point</td>\n",
       "      <td>9.0</td>\n",
       "      <td>1.8</td>\n",
       "      <td>19.98</td>\n",
       "      <td>2018-10-01</td>\n",
       "      <td>1.0</td>\n",
       "      <td>4.0</td>\n",
       "      <td>...</td>\n",
       "      <td>0.0</td>\n",
       "      <td>0.0</td>\n",
       "      <td>2.00</td>\n",
       "      <td>0</td>\n",
       "      <td>1.6</td>\n",
       "      <td>2.00</td>\n",
       "      <td>2.0</td>\n",
       "      <td>0</td>\n",
       "      <td>0</td>\n",
       "      <td>2.2000</td>\n",
       "    </tr>\n",
       "    <tr>\n",
       "      <th>2</th>\n",
       "      <td>2C6A897671B</td>\n",
       "      <td>162</td>\n",
       "      <td>Premium</td>\n",
       "      <td>Delivery from Collection Point</td>\n",
       "      <td>10.0</td>\n",
       "      <td>2.2</td>\n",
       "      <td>23.98</td>\n",
       "      <td>2019-02-28</td>\n",
       "      <td>1.0</td>\n",
       "      <td>6.6</td>\n",
       "      <td>...</td>\n",
       "      <td>0.0</td>\n",
       "      <td>0.0</td>\n",
       "      <td>2.20</td>\n",
       "      <td>3</td>\n",
       "      <td>1.6</td>\n",
       "      <td>2.20</td>\n",
       "      <td>2.2</td>\n",
       "      <td>0</td>\n",
       "      <td>0</td>\n",
       "      <td>2.2000</td>\n",
       "    </tr>\n",
       "    <tr>\n",
       "      <th>3</th>\n",
       "      <td>2C6F1287F53</td>\n",
       "      <td>56</td>\n",
       "      <td>Premium</td>\n",
       "      <td>Delivery from Collection Point</td>\n",
       "      <td>10.0</td>\n",
       "      <td>3.6</td>\n",
       "      <td>15.00</td>\n",
       "      <td>2019-02-23</td>\n",
       "      <td>1.0</td>\n",
       "      <td>31.8</td>\n",
       "      <td>...</td>\n",
       "      <td>0.0</td>\n",
       "      <td>0.0</td>\n",
       "      <td>3.18</td>\n",
       "      <td>5</td>\n",
       "      <td>2.2</td>\n",
       "      <td>3.18</td>\n",
       "      <td>3.6</td>\n",
       "      <td>0</td>\n",
       "      <td>0</td>\n",
       "      <td>1.3252</td>\n",
       "    </tr>\n",
       "    <tr>\n",
       "      <th>4</th>\n",
       "      <td>2C658198CC9</td>\n",
       "      <td>162</td>\n",
       "      <td>Premium</td>\n",
       "      <td>Delivery from Collection Point</td>\n",
       "      <td>10.0</td>\n",
       "      <td>2.2</td>\n",
       "      <td>23.98</td>\n",
       "      <td>2019-02-04</td>\n",
       "      <td>1.0</td>\n",
       "      <td>6.6</td>\n",
       "      <td>...</td>\n",
       "      <td>0.0</td>\n",
       "      <td>0.0</td>\n",
       "      <td>2.20</td>\n",
       "      <td>0</td>\n",
       "      <td>3.6</td>\n",
       "      <td>2.20</td>\n",
       "      <td>2.2</td>\n",
       "      <td>0</td>\n",
       "      <td>0</td>\n",
       "      <td>2.2000</td>\n",
       "    </tr>\n",
       "  </tbody>\n",
       "</table>\n",
       "<p>5 rows × 73 columns</p>\n",
       "</div>"
      ],
      "text/plain": [
       "     MAGIC_KEY  BOX_ID_x  QUALITY               DELIVERY_OPTION_x  MILK_x  \\\n",
       "0  2BCFE9C06A7        56  Premium  Delivery from Collection Point    10.0   \n",
       "1  2C2A872B5A2       132  Premium  Delivery from Collection Point     9.0   \n",
       "2  2C6A897671B       162  Premium  Delivery from Collection Point    10.0   \n",
       "3  2C6F1287F53        56  Premium  Delivery from Collection Point    10.0   \n",
       "4  2C658198CC9       162  Premium  Delivery from Collection Point    10.0   \n",
       "\n",
       "   MEAT_x  UNIT_PRICE_x PURCHASE_DATE  BOX_COUNT_x  TOTAL_MEAT_x  ...  \\\n",
       "0     3.6         15.00    2019-02-23          1.0          18.0  ...   \n",
       "1     1.8         19.98    2018-10-01          1.0           4.0  ...   \n",
       "2     2.2         23.98    2019-02-28          1.0           6.6  ...   \n",
       "3     3.6         15.00    2019-02-23          1.0          31.8  ...   \n",
       "4     2.2         23.98    2019-02-04          1.0           6.6  ...   \n",
       "\n",
       "   02_LAST_PURCHASE_2019_y  PURCHASE_DURATION_y  AVG_MEAT_PURCHASE_y  \\\n",
       "0                      0.0                  0.0                 3.60   \n",
       "1                      0.0                  0.0                 2.00   \n",
       "2                      0.0                  0.0                 2.20   \n",
       "3                      0.0                  0.0                 3.18   \n",
       "4                      0.0                  0.0                 2.20   \n",
       "\n",
       "   PURCHASE_DAY_OF_WEEK_y  PREVIOUS_MEAT_QUANTITY_y  MEAT_MEAN_y  \\\n",
       "0                       5                       2.2         3.60   \n",
       "1                       0                       1.6         2.00   \n",
       "2                       3                       1.6         2.20   \n",
       "3                       5                       2.2         3.18   \n",
       "4                       0                       3.6         2.20   \n",
       "\n",
       "   MEAT_MEDIAN_y  DELIVERY_ENCODED_y  QUALITY_ENCODED_y  MEAT_PURCHASE  \n",
       "0            3.6                   0                  0         1.4052  \n",
       "1            2.0                   0                  0         2.2000  \n",
       "2            2.2                   0                  0         2.2000  \n",
       "3            3.6                   0                  0         1.3252  \n",
       "4            2.2                   0                  0         2.2000  \n",
       "\n",
       "[5 rows x 73 columns]"
      ]
     },
     "execution_count": 95,
     "metadata": {},
     "output_type": "execute_result"
    }
   ],
   "source": [
    "sub_df.head()"
   ]
  },
  {
   "cell_type": "code",
   "execution_count": 96,
   "id": "4c04d277-f0ca-407c-bc7f-13c68c5c2017",
   "metadata": {},
   "outputs": [],
   "source": [
    "sub_df = sub_df[['MAGIC_KEY', 'MEAT_PURCHASE']]\n"
   ]
  },
  {
   "cell_type": "code",
   "execution_count": 97,
   "id": "fc56872d-2f85-471e-b9be-7897c7c155e8",
   "metadata": {},
   "outputs": [],
   "source": [
    "sub_df = sub_df.rename(columns={'MEAT_PURCHASE': 'MEAT'})\n"
   ]
  },
  {
   "cell_type": "code",
   "execution_count": 102,
   "id": "d8f25f65-8a5b-43cd-8626-488cb13a8d3f",
   "metadata": {},
   "outputs": [
    {
     "data": {
      "text/plain": [
       "(0.0, 20.950399999999835)"
      ]
     },
     "execution_count": 102,
     "metadata": {},
     "output_type": "execute_result"
    }
   ],
   "source": [
    "sub_df.MEAT.min(), sub_df.MEAT.max()"
   ]
  },
  {
   "cell_type": "code",
   "execution_count": 103,
   "id": "28f19a8c-2d1f-455d-9442-dd56f9235ccc",
   "metadata": {},
   "outputs": [],
   "source": [
    "sub_df.to_csv('Submission2.csv', index=None)"
   ]
  },
  {
   "cell_type": "code",
   "execution_count": 79,
   "id": "647b60b1-07ba-40f5-880a-e0d04a550bc7",
   "metadata": {},
   "outputs": [],
   "source": [
    "#sub = sub.rename(columns={'X': 'MEAT'})\n"
   ]
  },
  {
   "cell_type": "code",
   "execution_count": 78,
   "id": "2cc60536-33e0-44a5-8791-058608b9be12",
   "metadata": {},
   "outputs": [],
   "source": [
    "#columns_to_keep = ['MAGIC_KEY', 'X']\n",
    "#sub = sub_df[columns_to_keep]\n"
   ]
  },
  {
   "cell_type": "code",
   "execution_count": null,
   "id": "9f8f1dbb-1183-4d48-bca6-87e831eb1b08",
   "metadata": {},
   "outputs": [],
   "source": []
  }
 ],
 "metadata": {
  "kernelspec": {
   "display_name": "Python 3 (ipykernel)",
   "language": "python",
   "name": "python3"
  },
  "language_info": {
   "codemirror_mode": {
    "name": "ipython",
    "version": 3
   },
   "file_extension": ".py",
   "mimetype": "text/x-python",
   "name": "python",
   "nbconvert_exporter": "python",
   "pygments_lexer": "ipython3",
   "version": "3.11.4"
  }
 },
 "nbformat": 4,
 "nbformat_minor": 5
}
